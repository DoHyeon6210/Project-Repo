{
  "cells": [
    {
      "cell_type": "markdown",
      "id": "e291d328",
      "metadata": {
        "id": "e291d328"
      },
      "source": [
        "## 라이브러리 로드"
      ]
    },
    {
      "cell_type": "code",
      "execution_count": 2,
      "id": "e20112ed",
      "metadata": {
        "id": "e20112ed"
      },
      "outputs": [],
      "source": [
        "import pandas as pd\n",
        "import numpy as np\n",
        "import matplotlib.pyplot as plt\n",
        "import seaborn as sns"
      ]
    },
    {
      "cell_type": "code",
      "execution_count": 3,
      "id": "4f082eeb",
      "metadata": {
        "id": "4f082eeb",
        "colab": {
          "base_uri": "https://localhost:8080/"
        },
        "outputId": "c2427cc5-72f3-4184-c589-ccade68433ce"
      },
      "outputs": [
        {
          "output_type": "stream",
          "name": "stdout",
          "text": [
            "Requirement already satisfied: koreanize-matplotlib in /usr/local/lib/python3.10/dist-packages (0.1.1)\n",
            "Requirement already satisfied: matplotlib in /usr/local/lib/python3.10/dist-packages (from koreanize-matplotlib) (3.7.1)\n",
            "Requirement already satisfied: contourpy>=1.0.1 in /usr/local/lib/python3.10/dist-packages (from matplotlib->koreanize-matplotlib) (1.2.0)\n",
            "Requirement already satisfied: cycler>=0.10 in /usr/local/lib/python3.10/dist-packages (from matplotlib->koreanize-matplotlib) (0.12.1)\n",
            "Requirement already satisfied: fonttools>=4.22.0 in /usr/local/lib/python3.10/dist-packages (from matplotlib->koreanize-matplotlib) (4.47.2)\n",
            "Requirement already satisfied: kiwisolver>=1.0.1 in /usr/local/lib/python3.10/dist-packages (from matplotlib->koreanize-matplotlib) (1.4.5)\n",
            "Requirement already satisfied: numpy>=1.20 in /usr/local/lib/python3.10/dist-packages (from matplotlib->koreanize-matplotlib) (1.23.5)\n",
            "Requirement already satisfied: packaging>=20.0 in /usr/local/lib/python3.10/dist-packages (from matplotlib->koreanize-matplotlib) (23.2)\n",
            "Requirement already satisfied: pillow>=6.2.0 in /usr/local/lib/python3.10/dist-packages (from matplotlib->koreanize-matplotlib) (9.4.0)\n",
            "Requirement already satisfied: pyparsing>=2.3.1 in /usr/local/lib/python3.10/dist-packages (from matplotlib->koreanize-matplotlib) (3.1.1)\n",
            "Requirement already satisfied: python-dateutil>=2.7 in /usr/local/lib/python3.10/dist-packages (from matplotlib->koreanize-matplotlib) (2.8.2)\n",
            "Requirement already satisfied: six>=1.5 in /usr/local/lib/python3.10/dist-packages (from python-dateutil>=2.7->matplotlib->koreanize-matplotlib) (1.16.0)\n"
          ]
        }
      ],
      "source": [
        "!pip install koreanize-matplotlib\n",
        "\n",
        "import koreanize_matplotlib\n",
        "\n",
        "%config InlineBackend.figure_format = 'retina'"
      ]
    },
    {
      "cell_type": "markdown",
      "id": "7ed3b0b0",
      "metadata": {
        "id": "7ed3b0b0"
      },
      "source": [
        "## 데이터 로드\n",
        "* parquet 형식 로드를 위한 라이브러리가 설치되어 있어야 합니다."
      ]
    },
    {
      "cell_type": "code",
      "execution_count": 4,
      "id": "c97514e9",
      "metadata": {
        "id": "c97514e9",
        "colab": {
          "base_uri": "https://localhost:8080/"
        },
        "outputId": "6b30767a-ebcf-47b6-d61e-7ebbbf0ca6e4"
      },
      "outputs": [
        {
          "output_type": "execute_result",
          "data": {
            "text/plain": [
              "(541909, 8)"
            ]
          },
          "metadata": {},
          "execution_count": 4
        }
      ],
      "source": [
        "df = pd.read_parquet(\"https://github.com/corazzon/KaggleStruggle/raw/master/online-retail/data/online_retail.gzip\")\n",
        "df.shape"
      ]
    },
    {
      "cell_type": "code",
      "source": [
        "df"
      ],
      "metadata": {
        "colab": {
          "base_uri": "https://localhost:8080/",
          "height": 423
        },
        "id": "zGKVabGVI_Fn",
        "outputId": "86d2bd7e-09a8-4590-ae1a-7de62355bedb"
      },
      "id": "zGKVabGVI_Fn",
      "execution_count": 5,
      "outputs": [
        {
          "output_type": "execute_result",
          "data": {
            "text/plain": [
              "       InvoiceNo StockCode                          Description  Quantity  \\\n",
              "0         536365    85123A   WHITE HANGING HEART T-LIGHT HOLDER         6   \n",
              "1         536365     71053                  WHITE METAL LANTERN         6   \n",
              "2         536365    84406B       CREAM CUPID HEARTS COAT HANGER         8   \n",
              "3         536365    84029G  KNITTED UNION FLAG HOT WATER BOTTLE         6   \n",
              "4         536365    84029E       RED WOOLLY HOTTIE WHITE HEART.         6   \n",
              "...          ...       ...                                  ...       ...   \n",
              "541904    581587     22613          PACK OF 20 SPACEBOY NAPKINS        12   \n",
              "541905    581587     22899         CHILDREN'S APRON DOLLY GIRL          6   \n",
              "541906    581587     23254        CHILDRENS CUTLERY DOLLY GIRL          4   \n",
              "541907    581587     23255      CHILDRENS CUTLERY CIRCUS PARADE         4   \n",
              "541908    581587     22138        BAKING SET 9 PIECE RETROSPOT          3   \n",
              "\n",
              "                InvoiceDate  UnitPrice  CustomerID         Country  \n",
              "0       2010-12-01 08:26:00       2.55     17850.0  United Kingdom  \n",
              "1       2010-12-01 08:26:00       3.39     17850.0  United Kingdom  \n",
              "2       2010-12-01 08:26:00       2.75     17850.0  United Kingdom  \n",
              "3       2010-12-01 08:26:00       3.39     17850.0  United Kingdom  \n",
              "4       2010-12-01 08:26:00       3.39     17850.0  United Kingdom  \n",
              "...                     ...        ...         ...             ...  \n",
              "541904  2011-12-09 12:50:00       0.85     12680.0          France  \n",
              "541905  2011-12-09 12:50:00       2.10     12680.0          France  \n",
              "541906  2011-12-09 12:50:00       4.15     12680.0          France  \n",
              "541907  2011-12-09 12:50:00       4.15     12680.0          France  \n",
              "541908  2011-12-09 12:50:00       4.95     12680.0          France  \n",
              "\n",
              "[541909 rows x 8 columns]"
            ],
            "text/html": [
              "\n",
              "  <div id=\"df-b21bb8d3-4f0c-44d7-a8cf-44d884728e0b\" class=\"colab-df-container\">\n",
              "    <div>\n",
              "<style scoped>\n",
              "    .dataframe tbody tr th:only-of-type {\n",
              "        vertical-align: middle;\n",
              "    }\n",
              "\n",
              "    .dataframe tbody tr th {\n",
              "        vertical-align: top;\n",
              "    }\n",
              "\n",
              "    .dataframe thead th {\n",
              "        text-align: right;\n",
              "    }\n",
              "</style>\n",
              "<table border=\"1\" class=\"dataframe\">\n",
              "  <thead>\n",
              "    <tr style=\"text-align: right;\">\n",
              "      <th></th>\n",
              "      <th>InvoiceNo</th>\n",
              "      <th>StockCode</th>\n",
              "      <th>Description</th>\n",
              "      <th>Quantity</th>\n",
              "      <th>InvoiceDate</th>\n",
              "      <th>UnitPrice</th>\n",
              "      <th>CustomerID</th>\n",
              "      <th>Country</th>\n",
              "    </tr>\n",
              "  </thead>\n",
              "  <tbody>\n",
              "    <tr>\n",
              "      <th>0</th>\n",
              "      <td>536365</td>\n",
              "      <td>85123A</td>\n",
              "      <td>WHITE HANGING HEART T-LIGHT HOLDER</td>\n",
              "      <td>6</td>\n",
              "      <td>2010-12-01 08:26:00</td>\n",
              "      <td>2.55</td>\n",
              "      <td>17850.0</td>\n",
              "      <td>United Kingdom</td>\n",
              "    </tr>\n",
              "    <tr>\n",
              "      <th>1</th>\n",
              "      <td>536365</td>\n",
              "      <td>71053</td>\n",
              "      <td>WHITE METAL LANTERN</td>\n",
              "      <td>6</td>\n",
              "      <td>2010-12-01 08:26:00</td>\n",
              "      <td>3.39</td>\n",
              "      <td>17850.0</td>\n",
              "      <td>United Kingdom</td>\n",
              "    </tr>\n",
              "    <tr>\n",
              "      <th>2</th>\n",
              "      <td>536365</td>\n",
              "      <td>84406B</td>\n",
              "      <td>CREAM CUPID HEARTS COAT HANGER</td>\n",
              "      <td>8</td>\n",
              "      <td>2010-12-01 08:26:00</td>\n",
              "      <td>2.75</td>\n",
              "      <td>17850.0</td>\n",
              "      <td>United Kingdom</td>\n",
              "    </tr>\n",
              "    <tr>\n",
              "      <th>3</th>\n",
              "      <td>536365</td>\n",
              "      <td>84029G</td>\n",
              "      <td>KNITTED UNION FLAG HOT WATER BOTTLE</td>\n",
              "      <td>6</td>\n",
              "      <td>2010-12-01 08:26:00</td>\n",
              "      <td>3.39</td>\n",
              "      <td>17850.0</td>\n",
              "      <td>United Kingdom</td>\n",
              "    </tr>\n",
              "    <tr>\n",
              "      <th>4</th>\n",
              "      <td>536365</td>\n",
              "      <td>84029E</td>\n",
              "      <td>RED WOOLLY HOTTIE WHITE HEART.</td>\n",
              "      <td>6</td>\n",
              "      <td>2010-12-01 08:26:00</td>\n",
              "      <td>3.39</td>\n",
              "      <td>17850.0</td>\n",
              "      <td>United Kingdom</td>\n",
              "    </tr>\n",
              "    <tr>\n",
              "      <th>...</th>\n",
              "      <td>...</td>\n",
              "      <td>...</td>\n",
              "      <td>...</td>\n",
              "      <td>...</td>\n",
              "      <td>...</td>\n",
              "      <td>...</td>\n",
              "      <td>...</td>\n",
              "      <td>...</td>\n",
              "    </tr>\n",
              "    <tr>\n",
              "      <th>541904</th>\n",
              "      <td>581587</td>\n",
              "      <td>22613</td>\n",
              "      <td>PACK OF 20 SPACEBOY NAPKINS</td>\n",
              "      <td>12</td>\n",
              "      <td>2011-12-09 12:50:00</td>\n",
              "      <td>0.85</td>\n",
              "      <td>12680.0</td>\n",
              "      <td>France</td>\n",
              "    </tr>\n",
              "    <tr>\n",
              "      <th>541905</th>\n",
              "      <td>581587</td>\n",
              "      <td>22899</td>\n",
              "      <td>CHILDREN'S APRON DOLLY GIRL</td>\n",
              "      <td>6</td>\n",
              "      <td>2011-12-09 12:50:00</td>\n",
              "      <td>2.10</td>\n",
              "      <td>12680.0</td>\n",
              "      <td>France</td>\n",
              "    </tr>\n",
              "    <tr>\n",
              "      <th>541906</th>\n",
              "      <td>581587</td>\n",
              "      <td>23254</td>\n",
              "      <td>CHILDRENS CUTLERY DOLLY GIRL</td>\n",
              "      <td>4</td>\n",
              "      <td>2011-12-09 12:50:00</td>\n",
              "      <td>4.15</td>\n",
              "      <td>12680.0</td>\n",
              "      <td>France</td>\n",
              "    </tr>\n",
              "    <tr>\n",
              "      <th>541907</th>\n",
              "      <td>581587</td>\n",
              "      <td>23255</td>\n",
              "      <td>CHILDRENS CUTLERY CIRCUS PARADE</td>\n",
              "      <td>4</td>\n",
              "      <td>2011-12-09 12:50:00</td>\n",
              "      <td>4.15</td>\n",
              "      <td>12680.0</td>\n",
              "      <td>France</td>\n",
              "    </tr>\n",
              "    <tr>\n",
              "      <th>541908</th>\n",
              "      <td>581587</td>\n",
              "      <td>22138</td>\n",
              "      <td>BAKING SET 9 PIECE RETROSPOT</td>\n",
              "      <td>3</td>\n",
              "      <td>2011-12-09 12:50:00</td>\n",
              "      <td>4.95</td>\n",
              "      <td>12680.0</td>\n",
              "      <td>France</td>\n",
              "    </tr>\n",
              "  </tbody>\n",
              "</table>\n",
              "<p>541909 rows × 8 columns</p>\n",
              "</div>\n",
              "    <div class=\"colab-df-buttons\">\n",
              "\n",
              "  <div class=\"colab-df-container\">\n",
              "    <button class=\"colab-df-convert\" onclick=\"convertToInteractive('df-b21bb8d3-4f0c-44d7-a8cf-44d884728e0b')\"\n",
              "            title=\"Convert this dataframe to an interactive table.\"\n",
              "            style=\"display:none;\">\n",
              "\n",
              "  <svg xmlns=\"http://www.w3.org/2000/svg\" height=\"24px\" viewBox=\"0 -960 960 960\">\n",
              "    <path d=\"M120-120v-720h720v720H120Zm60-500h600v-160H180v160Zm220 220h160v-160H400v160Zm0 220h160v-160H400v160ZM180-400h160v-160H180v160Zm440 0h160v-160H620v160ZM180-180h160v-160H180v160Zm440 0h160v-160H620v160Z\"/>\n",
              "  </svg>\n",
              "    </button>\n",
              "\n",
              "  <style>\n",
              "    .colab-df-container {\n",
              "      display:flex;\n",
              "      gap: 12px;\n",
              "    }\n",
              "\n",
              "    .colab-df-convert {\n",
              "      background-color: #E8F0FE;\n",
              "      border: none;\n",
              "      border-radius: 50%;\n",
              "      cursor: pointer;\n",
              "      display: none;\n",
              "      fill: #1967D2;\n",
              "      height: 32px;\n",
              "      padding: 0 0 0 0;\n",
              "      width: 32px;\n",
              "    }\n",
              "\n",
              "    .colab-df-convert:hover {\n",
              "      background-color: #E2EBFA;\n",
              "      box-shadow: 0px 1px 2px rgba(60, 64, 67, 0.3), 0px 1px 3px 1px rgba(60, 64, 67, 0.15);\n",
              "      fill: #174EA6;\n",
              "    }\n",
              "\n",
              "    .colab-df-buttons div {\n",
              "      margin-bottom: 4px;\n",
              "    }\n",
              "\n",
              "    [theme=dark] .colab-df-convert {\n",
              "      background-color: #3B4455;\n",
              "      fill: #D2E3FC;\n",
              "    }\n",
              "\n",
              "    [theme=dark] .colab-df-convert:hover {\n",
              "      background-color: #434B5C;\n",
              "      box-shadow: 0px 1px 3px 1px rgba(0, 0, 0, 0.15);\n",
              "      filter: drop-shadow(0px 1px 2px rgba(0, 0, 0, 0.3));\n",
              "      fill: #FFFFFF;\n",
              "    }\n",
              "  </style>\n",
              "\n",
              "    <script>\n",
              "      const buttonEl =\n",
              "        document.querySelector('#df-b21bb8d3-4f0c-44d7-a8cf-44d884728e0b button.colab-df-convert');\n",
              "      buttonEl.style.display =\n",
              "        google.colab.kernel.accessAllowed ? 'block' : 'none';\n",
              "\n",
              "      async function convertToInteractive(key) {\n",
              "        const element = document.querySelector('#df-b21bb8d3-4f0c-44d7-a8cf-44d884728e0b');\n",
              "        const dataTable =\n",
              "          await google.colab.kernel.invokeFunction('convertToInteractive',\n",
              "                                                    [key], {});\n",
              "        if (!dataTable) return;\n",
              "\n",
              "        const docLinkHtml = 'Like what you see? Visit the ' +\n",
              "          '<a target=\"_blank\" href=https://colab.research.google.com/notebooks/data_table.ipynb>data table notebook</a>'\n",
              "          + ' to learn more about interactive tables.';\n",
              "        element.innerHTML = '';\n",
              "        dataTable['output_type'] = 'display_data';\n",
              "        await google.colab.output.renderOutput(dataTable, element);\n",
              "        const docLink = document.createElement('div');\n",
              "        docLink.innerHTML = docLinkHtml;\n",
              "        element.appendChild(docLink);\n",
              "      }\n",
              "    </script>\n",
              "  </div>\n",
              "\n",
              "\n",
              "<div id=\"df-5aaae65b-5636-4fcb-a7bc-0fd29c5b44e3\">\n",
              "  <button class=\"colab-df-quickchart\" onclick=\"quickchart('df-5aaae65b-5636-4fcb-a7bc-0fd29c5b44e3')\"\n",
              "            title=\"Suggest charts\"\n",
              "            style=\"display:none;\">\n",
              "\n",
              "<svg xmlns=\"http://www.w3.org/2000/svg\" height=\"24px\"viewBox=\"0 0 24 24\"\n",
              "     width=\"24px\">\n",
              "    <g>\n",
              "        <path d=\"M19 3H5c-1.1 0-2 .9-2 2v14c0 1.1.9 2 2 2h14c1.1 0 2-.9 2-2V5c0-1.1-.9-2-2-2zM9 17H7v-7h2v7zm4 0h-2V7h2v10zm4 0h-2v-4h2v4z\"/>\n",
              "    </g>\n",
              "</svg>\n",
              "  </button>\n",
              "\n",
              "<style>\n",
              "  .colab-df-quickchart {\n",
              "      --bg-color: #E8F0FE;\n",
              "      --fill-color: #1967D2;\n",
              "      --hover-bg-color: #E2EBFA;\n",
              "      --hover-fill-color: #174EA6;\n",
              "      --disabled-fill-color: #AAA;\n",
              "      --disabled-bg-color: #DDD;\n",
              "  }\n",
              "\n",
              "  [theme=dark] .colab-df-quickchart {\n",
              "      --bg-color: #3B4455;\n",
              "      --fill-color: #D2E3FC;\n",
              "      --hover-bg-color: #434B5C;\n",
              "      --hover-fill-color: #FFFFFF;\n",
              "      --disabled-bg-color: #3B4455;\n",
              "      --disabled-fill-color: #666;\n",
              "  }\n",
              "\n",
              "  .colab-df-quickchart {\n",
              "    background-color: var(--bg-color);\n",
              "    border: none;\n",
              "    border-radius: 50%;\n",
              "    cursor: pointer;\n",
              "    display: none;\n",
              "    fill: var(--fill-color);\n",
              "    height: 32px;\n",
              "    padding: 0;\n",
              "    width: 32px;\n",
              "  }\n",
              "\n",
              "  .colab-df-quickchart:hover {\n",
              "    background-color: var(--hover-bg-color);\n",
              "    box-shadow: 0 1px 2px rgba(60, 64, 67, 0.3), 0 1px 3px 1px rgba(60, 64, 67, 0.15);\n",
              "    fill: var(--button-hover-fill-color);\n",
              "  }\n",
              "\n",
              "  .colab-df-quickchart-complete:disabled,\n",
              "  .colab-df-quickchart-complete:disabled:hover {\n",
              "    background-color: var(--disabled-bg-color);\n",
              "    fill: var(--disabled-fill-color);\n",
              "    box-shadow: none;\n",
              "  }\n",
              "\n",
              "  .colab-df-spinner {\n",
              "    border: 2px solid var(--fill-color);\n",
              "    border-color: transparent;\n",
              "    border-bottom-color: var(--fill-color);\n",
              "    animation:\n",
              "      spin 1s steps(1) infinite;\n",
              "  }\n",
              "\n",
              "  @keyframes spin {\n",
              "    0% {\n",
              "      border-color: transparent;\n",
              "      border-bottom-color: var(--fill-color);\n",
              "      border-left-color: var(--fill-color);\n",
              "    }\n",
              "    20% {\n",
              "      border-color: transparent;\n",
              "      border-left-color: var(--fill-color);\n",
              "      border-top-color: var(--fill-color);\n",
              "    }\n",
              "    30% {\n",
              "      border-color: transparent;\n",
              "      border-left-color: var(--fill-color);\n",
              "      border-top-color: var(--fill-color);\n",
              "      border-right-color: var(--fill-color);\n",
              "    }\n",
              "    40% {\n",
              "      border-color: transparent;\n",
              "      border-right-color: var(--fill-color);\n",
              "      border-top-color: var(--fill-color);\n",
              "    }\n",
              "    60% {\n",
              "      border-color: transparent;\n",
              "      border-right-color: var(--fill-color);\n",
              "    }\n",
              "    80% {\n",
              "      border-color: transparent;\n",
              "      border-right-color: var(--fill-color);\n",
              "      border-bottom-color: var(--fill-color);\n",
              "    }\n",
              "    90% {\n",
              "      border-color: transparent;\n",
              "      border-bottom-color: var(--fill-color);\n",
              "    }\n",
              "  }\n",
              "</style>\n",
              "\n",
              "  <script>\n",
              "    async function quickchart(key) {\n",
              "      const quickchartButtonEl =\n",
              "        document.querySelector('#' + key + ' button');\n",
              "      quickchartButtonEl.disabled = true;  // To prevent multiple clicks.\n",
              "      quickchartButtonEl.classList.add('colab-df-spinner');\n",
              "      try {\n",
              "        const charts = await google.colab.kernel.invokeFunction(\n",
              "            'suggestCharts', [key], {});\n",
              "      } catch (error) {\n",
              "        console.error('Error during call to suggestCharts:', error);\n",
              "      }\n",
              "      quickchartButtonEl.classList.remove('colab-df-spinner');\n",
              "      quickchartButtonEl.classList.add('colab-df-quickchart-complete');\n",
              "    }\n",
              "    (() => {\n",
              "      let quickchartButtonEl =\n",
              "        document.querySelector('#df-5aaae65b-5636-4fcb-a7bc-0fd29c5b44e3 button');\n",
              "      quickchartButtonEl.style.display =\n",
              "        google.colab.kernel.accessAllowed ? 'block' : 'none';\n",
              "    })();\n",
              "  </script>\n",
              "</div>\n",
              "\n",
              "  <div id=\"id_346e6359-449f-40c9-84c5-cb3b6a56f737\">\n",
              "    <style>\n",
              "      .colab-df-generate {\n",
              "        background-color: #E8F0FE;\n",
              "        border: none;\n",
              "        border-radius: 50%;\n",
              "        cursor: pointer;\n",
              "        display: none;\n",
              "        fill: #1967D2;\n",
              "        height: 32px;\n",
              "        padding: 0 0 0 0;\n",
              "        width: 32px;\n",
              "      }\n",
              "\n",
              "      .colab-df-generate:hover {\n",
              "        background-color: #E2EBFA;\n",
              "        box-shadow: 0px 1px 2px rgba(60, 64, 67, 0.3), 0px 1px 3px 1px rgba(60, 64, 67, 0.15);\n",
              "        fill: #174EA6;\n",
              "      }\n",
              "\n",
              "      [theme=dark] .colab-df-generate {\n",
              "        background-color: #3B4455;\n",
              "        fill: #D2E3FC;\n",
              "      }\n",
              "\n",
              "      [theme=dark] .colab-df-generate:hover {\n",
              "        background-color: #434B5C;\n",
              "        box-shadow: 0px 1px 3px 1px rgba(0, 0, 0, 0.15);\n",
              "        filter: drop-shadow(0px 1px 2px rgba(0, 0, 0, 0.3));\n",
              "        fill: #FFFFFF;\n",
              "      }\n",
              "    </style>\n",
              "    <button class=\"colab-df-generate\" onclick=\"generateWithVariable('df')\"\n",
              "            title=\"Generate code using this dataframe.\"\n",
              "            style=\"display:none;\">\n",
              "\n",
              "  <svg xmlns=\"http://www.w3.org/2000/svg\" height=\"24px\"viewBox=\"0 0 24 24\"\n",
              "       width=\"24px\">\n",
              "    <path d=\"M7,19H8.4L18.45,9,17,7.55,7,17.6ZM5,21V16.75L18.45,3.32a2,2,0,0,1,2.83,0l1.4,1.43a1.91,1.91,0,0,1,.58,1.4,1.91,1.91,0,0,1-.58,1.4L9.25,21ZM18.45,9,17,7.55Zm-12,3A5.31,5.31,0,0,0,4.9,8.1,5.31,5.31,0,0,0,1,6.5,5.31,5.31,0,0,0,4.9,4.9,5.31,5.31,0,0,0,6.5,1,5.31,5.31,0,0,0,8.1,4.9,5.31,5.31,0,0,0,12,6.5,5.46,5.46,0,0,0,6.5,12Z\"/>\n",
              "  </svg>\n",
              "    </button>\n",
              "    <script>\n",
              "      (() => {\n",
              "      const buttonEl =\n",
              "        document.querySelector('#id_346e6359-449f-40c9-84c5-cb3b6a56f737 button.colab-df-generate');\n",
              "      buttonEl.style.display =\n",
              "        google.colab.kernel.accessAllowed ? 'block' : 'none';\n",
              "\n",
              "      buttonEl.onclick = () => {\n",
              "        google.colab.notebook.generateWithVariable('df');\n",
              "      }\n",
              "      })();\n",
              "    </script>\n",
              "  </div>\n",
              "\n",
              "    </div>\n",
              "  </div>\n"
            ]
          },
          "metadata": {},
          "execution_count": 5
        }
      ]
    },
    {
      "cell_type": "code",
      "execution_count": 6,
      "id": "d15eac16",
      "metadata": {
        "id": "d15eac16",
        "colab": {
          "base_uri": "https://localhost:8080/",
          "height": 206
        },
        "outputId": "a6930287-c3fa-4399-de43-fa7f6e8c5af3"
      },
      "outputs": [
        {
          "output_type": "execute_result",
          "data": {
            "text/plain": [
              "  InvoiceNo StockCode                          Description  Quantity  \\\n",
              "0    536365    85123A   WHITE HANGING HEART T-LIGHT HOLDER         6   \n",
              "1    536365     71053                  WHITE METAL LANTERN         6   \n",
              "2    536365    84406B       CREAM CUPID HEARTS COAT HANGER         8   \n",
              "3    536365    84029G  KNITTED UNION FLAG HOT WATER BOTTLE         6   \n",
              "4    536365    84029E       RED WOOLLY HOTTIE WHITE HEART.         6   \n",
              "\n",
              "           InvoiceDate  UnitPrice  CustomerID         Country  TotalPrice  \n",
              "0  2010-12-01 08:26:00       2.55     17850.0  United Kingdom       15.30  \n",
              "1  2010-12-01 08:26:00       3.39     17850.0  United Kingdom       20.34  \n",
              "2  2010-12-01 08:26:00       2.75     17850.0  United Kingdom       22.00  \n",
              "3  2010-12-01 08:26:00       3.39     17850.0  United Kingdom       20.34  \n",
              "4  2010-12-01 08:26:00       3.39     17850.0  United Kingdom       20.34  "
            ],
            "text/html": [
              "\n",
              "  <div id=\"df-2896e99a-4d95-476d-9e89-5402a5c107eb\" class=\"colab-df-container\">\n",
              "    <div>\n",
              "<style scoped>\n",
              "    .dataframe tbody tr th:only-of-type {\n",
              "        vertical-align: middle;\n",
              "    }\n",
              "\n",
              "    .dataframe tbody tr th {\n",
              "        vertical-align: top;\n",
              "    }\n",
              "\n",
              "    .dataframe thead th {\n",
              "        text-align: right;\n",
              "    }\n",
              "</style>\n",
              "<table border=\"1\" class=\"dataframe\">\n",
              "  <thead>\n",
              "    <tr style=\"text-align: right;\">\n",
              "      <th></th>\n",
              "      <th>InvoiceNo</th>\n",
              "      <th>StockCode</th>\n",
              "      <th>Description</th>\n",
              "      <th>Quantity</th>\n",
              "      <th>InvoiceDate</th>\n",
              "      <th>UnitPrice</th>\n",
              "      <th>CustomerID</th>\n",
              "      <th>Country</th>\n",
              "      <th>TotalPrice</th>\n",
              "    </tr>\n",
              "  </thead>\n",
              "  <tbody>\n",
              "    <tr>\n",
              "      <th>0</th>\n",
              "      <td>536365</td>\n",
              "      <td>85123A</td>\n",
              "      <td>WHITE HANGING HEART T-LIGHT HOLDER</td>\n",
              "      <td>6</td>\n",
              "      <td>2010-12-01 08:26:00</td>\n",
              "      <td>2.55</td>\n",
              "      <td>17850.0</td>\n",
              "      <td>United Kingdom</td>\n",
              "      <td>15.30</td>\n",
              "    </tr>\n",
              "    <tr>\n",
              "      <th>1</th>\n",
              "      <td>536365</td>\n",
              "      <td>71053</td>\n",
              "      <td>WHITE METAL LANTERN</td>\n",
              "      <td>6</td>\n",
              "      <td>2010-12-01 08:26:00</td>\n",
              "      <td>3.39</td>\n",
              "      <td>17850.0</td>\n",
              "      <td>United Kingdom</td>\n",
              "      <td>20.34</td>\n",
              "    </tr>\n",
              "    <tr>\n",
              "      <th>2</th>\n",
              "      <td>536365</td>\n",
              "      <td>84406B</td>\n",
              "      <td>CREAM CUPID HEARTS COAT HANGER</td>\n",
              "      <td>8</td>\n",
              "      <td>2010-12-01 08:26:00</td>\n",
              "      <td>2.75</td>\n",
              "      <td>17850.0</td>\n",
              "      <td>United Kingdom</td>\n",
              "      <td>22.00</td>\n",
              "    </tr>\n",
              "    <tr>\n",
              "      <th>3</th>\n",
              "      <td>536365</td>\n",
              "      <td>84029G</td>\n",
              "      <td>KNITTED UNION FLAG HOT WATER BOTTLE</td>\n",
              "      <td>6</td>\n",
              "      <td>2010-12-01 08:26:00</td>\n",
              "      <td>3.39</td>\n",
              "      <td>17850.0</td>\n",
              "      <td>United Kingdom</td>\n",
              "      <td>20.34</td>\n",
              "    </tr>\n",
              "    <tr>\n",
              "      <th>4</th>\n",
              "      <td>536365</td>\n",
              "      <td>84029E</td>\n",
              "      <td>RED WOOLLY HOTTIE WHITE HEART.</td>\n",
              "      <td>6</td>\n",
              "      <td>2010-12-01 08:26:00</td>\n",
              "      <td>3.39</td>\n",
              "      <td>17850.0</td>\n",
              "      <td>United Kingdom</td>\n",
              "      <td>20.34</td>\n",
              "    </tr>\n",
              "  </tbody>\n",
              "</table>\n",
              "</div>\n",
              "    <div class=\"colab-df-buttons\">\n",
              "\n",
              "  <div class=\"colab-df-container\">\n",
              "    <button class=\"colab-df-convert\" onclick=\"convertToInteractive('df-2896e99a-4d95-476d-9e89-5402a5c107eb')\"\n",
              "            title=\"Convert this dataframe to an interactive table.\"\n",
              "            style=\"display:none;\">\n",
              "\n",
              "  <svg xmlns=\"http://www.w3.org/2000/svg\" height=\"24px\" viewBox=\"0 -960 960 960\">\n",
              "    <path d=\"M120-120v-720h720v720H120Zm60-500h600v-160H180v160Zm220 220h160v-160H400v160Zm0 220h160v-160H400v160ZM180-400h160v-160H180v160Zm440 0h160v-160H620v160ZM180-180h160v-160H180v160Zm440 0h160v-160H620v160Z\"/>\n",
              "  </svg>\n",
              "    </button>\n",
              "\n",
              "  <style>\n",
              "    .colab-df-container {\n",
              "      display:flex;\n",
              "      gap: 12px;\n",
              "    }\n",
              "\n",
              "    .colab-df-convert {\n",
              "      background-color: #E8F0FE;\n",
              "      border: none;\n",
              "      border-radius: 50%;\n",
              "      cursor: pointer;\n",
              "      display: none;\n",
              "      fill: #1967D2;\n",
              "      height: 32px;\n",
              "      padding: 0 0 0 0;\n",
              "      width: 32px;\n",
              "    }\n",
              "\n",
              "    .colab-df-convert:hover {\n",
              "      background-color: #E2EBFA;\n",
              "      box-shadow: 0px 1px 2px rgba(60, 64, 67, 0.3), 0px 1px 3px 1px rgba(60, 64, 67, 0.15);\n",
              "      fill: #174EA6;\n",
              "    }\n",
              "\n",
              "    .colab-df-buttons div {\n",
              "      margin-bottom: 4px;\n",
              "    }\n",
              "\n",
              "    [theme=dark] .colab-df-convert {\n",
              "      background-color: #3B4455;\n",
              "      fill: #D2E3FC;\n",
              "    }\n",
              "\n",
              "    [theme=dark] .colab-df-convert:hover {\n",
              "      background-color: #434B5C;\n",
              "      box-shadow: 0px 1px 3px 1px rgba(0, 0, 0, 0.15);\n",
              "      filter: drop-shadow(0px 1px 2px rgba(0, 0, 0, 0.3));\n",
              "      fill: #FFFFFF;\n",
              "    }\n",
              "  </style>\n",
              "\n",
              "    <script>\n",
              "      const buttonEl =\n",
              "        document.querySelector('#df-2896e99a-4d95-476d-9e89-5402a5c107eb button.colab-df-convert');\n",
              "      buttonEl.style.display =\n",
              "        google.colab.kernel.accessAllowed ? 'block' : 'none';\n",
              "\n",
              "      async function convertToInteractive(key) {\n",
              "        const element = document.querySelector('#df-2896e99a-4d95-476d-9e89-5402a5c107eb');\n",
              "        const dataTable =\n",
              "          await google.colab.kernel.invokeFunction('convertToInteractive',\n",
              "                                                    [key], {});\n",
              "        if (!dataTable) return;\n",
              "\n",
              "        const docLinkHtml = 'Like what you see? Visit the ' +\n",
              "          '<a target=\"_blank\" href=https://colab.research.google.com/notebooks/data_table.ipynb>data table notebook</a>'\n",
              "          + ' to learn more about interactive tables.';\n",
              "        element.innerHTML = '';\n",
              "        dataTable['output_type'] = 'display_data';\n",
              "        await google.colab.output.renderOutput(dataTable, element);\n",
              "        const docLink = document.createElement('div');\n",
              "        docLink.innerHTML = docLinkHtml;\n",
              "        element.appendChild(docLink);\n",
              "      }\n",
              "    </script>\n",
              "  </div>\n",
              "\n",
              "\n",
              "<div id=\"df-af4e3a07-7365-42dd-82b5-b622c84edbee\">\n",
              "  <button class=\"colab-df-quickchart\" onclick=\"quickchart('df-af4e3a07-7365-42dd-82b5-b622c84edbee')\"\n",
              "            title=\"Suggest charts\"\n",
              "            style=\"display:none;\">\n",
              "\n",
              "<svg xmlns=\"http://www.w3.org/2000/svg\" height=\"24px\"viewBox=\"0 0 24 24\"\n",
              "     width=\"24px\">\n",
              "    <g>\n",
              "        <path d=\"M19 3H5c-1.1 0-2 .9-2 2v14c0 1.1.9 2 2 2h14c1.1 0 2-.9 2-2V5c0-1.1-.9-2-2-2zM9 17H7v-7h2v7zm4 0h-2V7h2v10zm4 0h-2v-4h2v4z\"/>\n",
              "    </g>\n",
              "</svg>\n",
              "  </button>\n",
              "\n",
              "<style>\n",
              "  .colab-df-quickchart {\n",
              "      --bg-color: #E8F0FE;\n",
              "      --fill-color: #1967D2;\n",
              "      --hover-bg-color: #E2EBFA;\n",
              "      --hover-fill-color: #174EA6;\n",
              "      --disabled-fill-color: #AAA;\n",
              "      --disabled-bg-color: #DDD;\n",
              "  }\n",
              "\n",
              "  [theme=dark] .colab-df-quickchart {\n",
              "      --bg-color: #3B4455;\n",
              "      --fill-color: #D2E3FC;\n",
              "      --hover-bg-color: #434B5C;\n",
              "      --hover-fill-color: #FFFFFF;\n",
              "      --disabled-bg-color: #3B4455;\n",
              "      --disabled-fill-color: #666;\n",
              "  }\n",
              "\n",
              "  .colab-df-quickchart {\n",
              "    background-color: var(--bg-color);\n",
              "    border: none;\n",
              "    border-radius: 50%;\n",
              "    cursor: pointer;\n",
              "    display: none;\n",
              "    fill: var(--fill-color);\n",
              "    height: 32px;\n",
              "    padding: 0;\n",
              "    width: 32px;\n",
              "  }\n",
              "\n",
              "  .colab-df-quickchart:hover {\n",
              "    background-color: var(--hover-bg-color);\n",
              "    box-shadow: 0 1px 2px rgba(60, 64, 67, 0.3), 0 1px 3px 1px rgba(60, 64, 67, 0.15);\n",
              "    fill: var(--button-hover-fill-color);\n",
              "  }\n",
              "\n",
              "  .colab-df-quickchart-complete:disabled,\n",
              "  .colab-df-quickchart-complete:disabled:hover {\n",
              "    background-color: var(--disabled-bg-color);\n",
              "    fill: var(--disabled-fill-color);\n",
              "    box-shadow: none;\n",
              "  }\n",
              "\n",
              "  .colab-df-spinner {\n",
              "    border: 2px solid var(--fill-color);\n",
              "    border-color: transparent;\n",
              "    border-bottom-color: var(--fill-color);\n",
              "    animation:\n",
              "      spin 1s steps(1) infinite;\n",
              "  }\n",
              "\n",
              "  @keyframes spin {\n",
              "    0% {\n",
              "      border-color: transparent;\n",
              "      border-bottom-color: var(--fill-color);\n",
              "      border-left-color: var(--fill-color);\n",
              "    }\n",
              "    20% {\n",
              "      border-color: transparent;\n",
              "      border-left-color: var(--fill-color);\n",
              "      border-top-color: var(--fill-color);\n",
              "    }\n",
              "    30% {\n",
              "      border-color: transparent;\n",
              "      border-left-color: var(--fill-color);\n",
              "      border-top-color: var(--fill-color);\n",
              "      border-right-color: var(--fill-color);\n",
              "    }\n",
              "    40% {\n",
              "      border-color: transparent;\n",
              "      border-right-color: var(--fill-color);\n",
              "      border-top-color: var(--fill-color);\n",
              "    }\n",
              "    60% {\n",
              "      border-color: transparent;\n",
              "      border-right-color: var(--fill-color);\n",
              "    }\n",
              "    80% {\n",
              "      border-color: transparent;\n",
              "      border-right-color: var(--fill-color);\n",
              "      border-bottom-color: var(--fill-color);\n",
              "    }\n",
              "    90% {\n",
              "      border-color: transparent;\n",
              "      border-bottom-color: var(--fill-color);\n",
              "    }\n",
              "  }\n",
              "</style>\n",
              "\n",
              "  <script>\n",
              "    async function quickchart(key) {\n",
              "      const quickchartButtonEl =\n",
              "        document.querySelector('#' + key + ' button');\n",
              "      quickchartButtonEl.disabled = true;  // To prevent multiple clicks.\n",
              "      quickchartButtonEl.classList.add('colab-df-spinner');\n",
              "      try {\n",
              "        const charts = await google.colab.kernel.invokeFunction(\n",
              "            'suggestCharts', [key], {});\n",
              "      } catch (error) {\n",
              "        console.error('Error during call to suggestCharts:', error);\n",
              "      }\n",
              "      quickchartButtonEl.classList.remove('colab-df-spinner');\n",
              "      quickchartButtonEl.classList.add('colab-df-quickchart-complete');\n",
              "    }\n",
              "    (() => {\n",
              "      let quickchartButtonEl =\n",
              "        document.querySelector('#df-af4e3a07-7365-42dd-82b5-b622c84edbee button');\n",
              "      quickchartButtonEl.style.display =\n",
              "        google.colab.kernel.accessAllowed ? 'block' : 'none';\n",
              "    })();\n",
              "  </script>\n",
              "</div>\n",
              "\n",
              "    </div>\n",
              "  </div>\n"
            ]
          },
          "metadata": {},
          "execution_count": 6
        }
      ],
      "source": [
        "# 주문 가격\n",
        "df[\"TotalPrice\"] = df[\"Quantity\"] * df[\"UnitPrice\"]\n",
        "df.head()"
      ]
    },
    {
      "cell_type": "code",
      "execution_count": 7,
      "id": "5f288c34",
      "metadata": {
        "id": "5f288c34",
        "colab": {
          "base_uri": "https://localhost:8080/"
        },
        "outputId": "546d38f8-081a-4893-d4cb-4d4f289def28"
      },
      "outputs": [
        {
          "output_type": "stream",
          "name": "stdout",
          "text": [
            "<class 'pandas.core.frame.DataFrame'>\n",
            "RangeIndex: 541909 entries, 0 to 541908\n",
            "Data columns (total 9 columns):\n",
            " #   Column       Non-Null Count   Dtype   \n",
            "---  ------       --------------   -----   \n",
            " 0   InvoiceNo    541909 non-null  category\n",
            " 1   StockCode    541909 non-null  category\n",
            " 2   Description  540455 non-null  category\n",
            " 3   Quantity     541909 non-null  int32   \n",
            " 4   InvoiceDate  541909 non-null  category\n",
            " 5   UnitPrice    541909 non-null  float64 \n",
            " 6   CustomerID   406829 non-null  float32 \n",
            " 7   Country      541909 non-null  category\n",
            " 8   TotalPrice   541909 non-null  float64 \n",
            "dtypes: category(5), float32(1), float64(2), int32(1)\n",
            "memory usage: 19.3 MB\n"
          ]
        }
      ],
      "source": [
        "df.info()"
      ]
    },
    {
      "cell_type": "code",
      "source": [
        "df.describe()"
      ],
      "metadata": {
        "colab": {
          "base_uri": "https://localhost:8080/",
          "height": 300
        },
        "id": "FSeQW6gKJVZD",
        "outputId": "2b8bde26-79f0-487c-e978-c3f67eaf73dd"
      },
      "id": "FSeQW6gKJVZD",
      "execution_count": 8,
      "outputs": [
        {
          "output_type": "execute_result",
          "data": {
            "text/plain": [
              "            Quantity      UnitPrice     CustomerID     TotalPrice\n",
              "count  541909.000000  541909.000000  406829.000000  541909.000000\n",
              "mean        9.552250       4.611114   15287.689453      17.987795\n",
              "std       218.081158      96.759853    1713.600342     378.810824\n",
              "min    -80995.000000  -11062.060000   12346.000000 -168469.600000\n",
              "25%         1.000000       1.250000   13953.000000       3.400000\n",
              "50%         3.000000       2.080000   15152.000000       9.750000\n",
              "75%        10.000000       4.130000   16791.000000      17.400000\n",
              "max     80995.000000   38970.000000   18287.000000  168469.600000"
            ],
            "text/html": [
              "\n",
              "  <div id=\"df-e073ce3e-49c8-4409-adb4-43f17c79d1a1\" class=\"colab-df-container\">\n",
              "    <div>\n",
              "<style scoped>\n",
              "    .dataframe tbody tr th:only-of-type {\n",
              "        vertical-align: middle;\n",
              "    }\n",
              "\n",
              "    .dataframe tbody tr th {\n",
              "        vertical-align: top;\n",
              "    }\n",
              "\n",
              "    .dataframe thead th {\n",
              "        text-align: right;\n",
              "    }\n",
              "</style>\n",
              "<table border=\"1\" class=\"dataframe\">\n",
              "  <thead>\n",
              "    <tr style=\"text-align: right;\">\n",
              "      <th></th>\n",
              "      <th>Quantity</th>\n",
              "      <th>UnitPrice</th>\n",
              "      <th>CustomerID</th>\n",
              "      <th>TotalPrice</th>\n",
              "    </tr>\n",
              "  </thead>\n",
              "  <tbody>\n",
              "    <tr>\n",
              "      <th>count</th>\n",
              "      <td>541909.000000</td>\n",
              "      <td>541909.000000</td>\n",
              "      <td>406829.000000</td>\n",
              "      <td>541909.000000</td>\n",
              "    </tr>\n",
              "    <tr>\n",
              "      <th>mean</th>\n",
              "      <td>9.552250</td>\n",
              "      <td>4.611114</td>\n",
              "      <td>15287.689453</td>\n",
              "      <td>17.987795</td>\n",
              "    </tr>\n",
              "    <tr>\n",
              "      <th>std</th>\n",
              "      <td>218.081158</td>\n",
              "      <td>96.759853</td>\n",
              "      <td>1713.600342</td>\n",
              "      <td>378.810824</td>\n",
              "    </tr>\n",
              "    <tr>\n",
              "      <th>min</th>\n",
              "      <td>-80995.000000</td>\n",
              "      <td>-11062.060000</td>\n",
              "      <td>12346.000000</td>\n",
              "      <td>-168469.600000</td>\n",
              "    </tr>\n",
              "    <tr>\n",
              "      <th>25%</th>\n",
              "      <td>1.000000</td>\n",
              "      <td>1.250000</td>\n",
              "      <td>13953.000000</td>\n",
              "      <td>3.400000</td>\n",
              "    </tr>\n",
              "    <tr>\n",
              "      <th>50%</th>\n",
              "      <td>3.000000</td>\n",
              "      <td>2.080000</td>\n",
              "      <td>15152.000000</td>\n",
              "      <td>9.750000</td>\n",
              "    </tr>\n",
              "    <tr>\n",
              "      <th>75%</th>\n",
              "      <td>10.000000</td>\n",
              "      <td>4.130000</td>\n",
              "      <td>16791.000000</td>\n",
              "      <td>17.400000</td>\n",
              "    </tr>\n",
              "    <tr>\n",
              "      <th>max</th>\n",
              "      <td>80995.000000</td>\n",
              "      <td>38970.000000</td>\n",
              "      <td>18287.000000</td>\n",
              "      <td>168469.600000</td>\n",
              "    </tr>\n",
              "  </tbody>\n",
              "</table>\n",
              "</div>\n",
              "    <div class=\"colab-df-buttons\">\n",
              "\n",
              "  <div class=\"colab-df-container\">\n",
              "    <button class=\"colab-df-convert\" onclick=\"convertToInteractive('df-e073ce3e-49c8-4409-adb4-43f17c79d1a1')\"\n",
              "            title=\"Convert this dataframe to an interactive table.\"\n",
              "            style=\"display:none;\">\n",
              "\n",
              "  <svg xmlns=\"http://www.w3.org/2000/svg\" height=\"24px\" viewBox=\"0 -960 960 960\">\n",
              "    <path d=\"M120-120v-720h720v720H120Zm60-500h600v-160H180v160Zm220 220h160v-160H400v160Zm0 220h160v-160H400v160ZM180-400h160v-160H180v160Zm440 0h160v-160H620v160ZM180-180h160v-160H180v160Zm440 0h160v-160H620v160Z\"/>\n",
              "  </svg>\n",
              "    </button>\n",
              "\n",
              "  <style>\n",
              "    .colab-df-container {\n",
              "      display:flex;\n",
              "      gap: 12px;\n",
              "    }\n",
              "\n",
              "    .colab-df-convert {\n",
              "      background-color: #E8F0FE;\n",
              "      border: none;\n",
              "      border-radius: 50%;\n",
              "      cursor: pointer;\n",
              "      display: none;\n",
              "      fill: #1967D2;\n",
              "      height: 32px;\n",
              "      padding: 0 0 0 0;\n",
              "      width: 32px;\n",
              "    }\n",
              "\n",
              "    .colab-df-convert:hover {\n",
              "      background-color: #E2EBFA;\n",
              "      box-shadow: 0px 1px 2px rgba(60, 64, 67, 0.3), 0px 1px 3px 1px rgba(60, 64, 67, 0.15);\n",
              "      fill: #174EA6;\n",
              "    }\n",
              "\n",
              "    .colab-df-buttons div {\n",
              "      margin-bottom: 4px;\n",
              "    }\n",
              "\n",
              "    [theme=dark] .colab-df-convert {\n",
              "      background-color: #3B4455;\n",
              "      fill: #D2E3FC;\n",
              "    }\n",
              "\n",
              "    [theme=dark] .colab-df-convert:hover {\n",
              "      background-color: #434B5C;\n",
              "      box-shadow: 0px 1px 3px 1px rgba(0, 0, 0, 0.15);\n",
              "      filter: drop-shadow(0px 1px 2px rgba(0, 0, 0, 0.3));\n",
              "      fill: #FFFFFF;\n",
              "    }\n",
              "  </style>\n",
              "\n",
              "    <script>\n",
              "      const buttonEl =\n",
              "        document.querySelector('#df-e073ce3e-49c8-4409-adb4-43f17c79d1a1 button.colab-df-convert');\n",
              "      buttonEl.style.display =\n",
              "        google.colab.kernel.accessAllowed ? 'block' : 'none';\n",
              "\n",
              "      async function convertToInteractive(key) {\n",
              "        const element = document.querySelector('#df-e073ce3e-49c8-4409-adb4-43f17c79d1a1');\n",
              "        const dataTable =\n",
              "          await google.colab.kernel.invokeFunction('convertToInteractive',\n",
              "                                                    [key], {});\n",
              "        if (!dataTable) return;\n",
              "\n",
              "        const docLinkHtml = 'Like what you see? Visit the ' +\n",
              "          '<a target=\"_blank\" href=https://colab.research.google.com/notebooks/data_table.ipynb>data table notebook</a>'\n",
              "          + ' to learn more about interactive tables.';\n",
              "        element.innerHTML = '';\n",
              "        dataTable['output_type'] = 'display_data';\n",
              "        await google.colab.output.renderOutput(dataTable, element);\n",
              "        const docLink = document.createElement('div');\n",
              "        docLink.innerHTML = docLinkHtml;\n",
              "        element.appendChild(docLink);\n",
              "      }\n",
              "    </script>\n",
              "  </div>\n",
              "\n",
              "\n",
              "<div id=\"df-bc4d716a-a37a-44b9-b3c0-a6e9f0470530\">\n",
              "  <button class=\"colab-df-quickchart\" onclick=\"quickchart('df-bc4d716a-a37a-44b9-b3c0-a6e9f0470530')\"\n",
              "            title=\"Suggest charts\"\n",
              "            style=\"display:none;\">\n",
              "\n",
              "<svg xmlns=\"http://www.w3.org/2000/svg\" height=\"24px\"viewBox=\"0 0 24 24\"\n",
              "     width=\"24px\">\n",
              "    <g>\n",
              "        <path d=\"M19 3H5c-1.1 0-2 .9-2 2v14c0 1.1.9 2 2 2h14c1.1 0 2-.9 2-2V5c0-1.1-.9-2-2-2zM9 17H7v-7h2v7zm4 0h-2V7h2v10zm4 0h-2v-4h2v4z\"/>\n",
              "    </g>\n",
              "</svg>\n",
              "  </button>\n",
              "\n",
              "<style>\n",
              "  .colab-df-quickchart {\n",
              "      --bg-color: #E8F0FE;\n",
              "      --fill-color: #1967D2;\n",
              "      --hover-bg-color: #E2EBFA;\n",
              "      --hover-fill-color: #174EA6;\n",
              "      --disabled-fill-color: #AAA;\n",
              "      --disabled-bg-color: #DDD;\n",
              "  }\n",
              "\n",
              "  [theme=dark] .colab-df-quickchart {\n",
              "      --bg-color: #3B4455;\n",
              "      --fill-color: #D2E3FC;\n",
              "      --hover-bg-color: #434B5C;\n",
              "      --hover-fill-color: #FFFFFF;\n",
              "      --disabled-bg-color: #3B4455;\n",
              "      --disabled-fill-color: #666;\n",
              "  }\n",
              "\n",
              "  .colab-df-quickchart {\n",
              "    background-color: var(--bg-color);\n",
              "    border: none;\n",
              "    border-radius: 50%;\n",
              "    cursor: pointer;\n",
              "    display: none;\n",
              "    fill: var(--fill-color);\n",
              "    height: 32px;\n",
              "    padding: 0;\n",
              "    width: 32px;\n",
              "  }\n",
              "\n",
              "  .colab-df-quickchart:hover {\n",
              "    background-color: var(--hover-bg-color);\n",
              "    box-shadow: 0 1px 2px rgba(60, 64, 67, 0.3), 0 1px 3px 1px rgba(60, 64, 67, 0.15);\n",
              "    fill: var(--button-hover-fill-color);\n",
              "  }\n",
              "\n",
              "  .colab-df-quickchart-complete:disabled,\n",
              "  .colab-df-quickchart-complete:disabled:hover {\n",
              "    background-color: var(--disabled-bg-color);\n",
              "    fill: var(--disabled-fill-color);\n",
              "    box-shadow: none;\n",
              "  }\n",
              "\n",
              "  .colab-df-spinner {\n",
              "    border: 2px solid var(--fill-color);\n",
              "    border-color: transparent;\n",
              "    border-bottom-color: var(--fill-color);\n",
              "    animation:\n",
              "      spin 1s steps(1) infinite;\n",
              "  }\n",
              "\n",
              "  @keyframes spin {\n",
              "    0% {\n",
              "      border-color: transparent;\n",
              "      border-bottom-color: var(--fill-color);\n",
              "      border-left-color: var(--fill-color);\n",
              "    }\n",
              "    20% {\n",
              "      border-color: transparent;\n",
              "      border-left-color: var(--fill-color);\n",
              "      border-top-color: var(--fill-color);\n",
              "    }\n",
              "    30% {\n",
              "      border-color: transparent;\n",
              "      border-left-color: var(--fill-color);\n",
              "      border-top-color: var(--fill-color);\n",
              "      border-right-color: var(--fill-color);\n",
              "    }\n",
              "    40% {\n",
              "      border-color: transparent;\n",
              "      border-right-color: var(--fill-color);\n",
              "      border-top-color: var(--fill-color);\n",
              "    }\n",
              "    60% {\n",
              "      border-color: transparent;\n",
              "      border-right-color: var(--fill-color);\n",
              "    }\n",
              "    80% {\n",
              "      border-color: transparent;\n",
              "      border-right-color: var(--fill-color);\n",
              "      border-bottom-color: var(--fill-color);\n",
              "    }\n",
              "    90% {\n",
              "      border-color: transparent;\n",
              "      border-bottom-color: var(--fill-color);\n",
              "    }\n",
              "  }\n",
              "</style>\n",
              "\n",
              "  <script>\n",
              "    async function quickchart(key) {\n",
              "      const quickchartButtonEl =\n",
              "        document.querySelector('#' + key + ' button');\n",
              "      quickchartButtonEl.disabled = true;  // To prevent multiple clicks.\n",
              "      quickchartButtonEl.classList.add('colab-df-spinner');\n",
              "      try {\n",
              "        const charts = await google.colab.kernel.invokeFunction(\n",
              "            'suggestCharts', [key], {});\n",
              "      } catch (error) {\n",
              "        console.error('Error during call to suggestCharts:', error);\n",
              "      }\n",
              "      quickchartButtonEl.classList.remove('colab-df-spinner');\n",
              "      quickchartButtonEl.classList.add('colab-df-quickchart-complete');\n",
              "    }\n",
              "    (() => {\n",
              "      let quickchartButtonEl =\n",
              "        document.querySelector('#df-bc4d716a-a37a-44b9-b3c0-a6e9f0470530 button');\n",
              "      quickchartButtonEl.style.display =\n",
              "        google.colab.kernel.accessAllowed ? 'block' : 'none';\n",
              "    })();\n",
              "  </script>\n",
              "</div>\n",
              "\n",
              "    </div>\n",
              "  </div>\n"
            ]
          },
          "metadata": {},
          "execution_count": 8
        }
      ]
    },
    {
      "cell_type": "markdown",
      "id": "1a4839d1",
      "metadata": {
        "id": "1a4839d1"
      },
      "source": [
        "## 미션 1) 모집단과 표본 추출을 하고 TotalPrice에 대해 비교해 주세요.\n",
        "데이터셋에서 무작위로 1000개의 표본을 추출하고, 추출된 표본과 전체 데이터셋의 'TotalPrice'에 대해 평균과 표준편차를 비교하세요. 이를 통해 모집단과 표본의 차이를 설명하고, 중심극한정리가 어떻게 적용되는지 설명하세요.\n",
        "\n",
        "* pandas 의 sample 을 활용할 수 있으며, pandas 의 기술 통계 기능을 활용해 볼 수 있습니다.\n",
        "* 참고 : 슬라이드에서 중심극한정리를 찾아보세요."
      ]
    },
    {
      "cell_type": "code",
      "execution_count": 46,
      "id": "433bcfd1",
      "metadata": {
        "id": "433bcfd1",
        "colab": {
          "base_uri": "https://localhost:8080/"
        },
        "outputId": "04fee712-dcf9-4605-f536-98121226e048"
      },
      "outputs": [
        {
          "output_type": "execute_result",
          "data": {
            "text/plain": [
              "1000"
            ]
          },
          "metadata": {},
          "execution_count": 46
        }
      ],
      "source": [
        "# 1. 표본분포의 통계량과 모집단의 통계량 비교를 위한 샘플링 준비.\n",
        "sample_means = [] # 1000개 표본의 평균값들\n",
        "n_samples = 1000  # 추출한 표본의 개수\n",
        "sample_size = 50  # 각 표본의 크기\n",
        "\n",
        "# 2. 부트스트랩 방식으로 1000번의 표본 추출 시행.\n",
        "for _ in range(n_samples):\n",
        "\n",
        "    # 3. 크기가 50인 하나의 표본 추출 후 평균값을 저장. 복원추출.\n",
        "    sample_mean_50 = np.mean(df['TotalPrice'].sample(n = sample_size, replace = True))\n",
        "\n",
        "    # 4. 하나의 표본 평균을 리스트에 저장.\n",
        "    sample_means.append(sample_mean_50)\n",
        "\n",
        "# 5. sample_means 리스트 안에는 1000 개의 표본의 평균이 들어있음\n",
        "len(sample_means)"
      ]
    },
    {
      "cell_type": "code",
      "source": [
        "# 6. 표본분포의 통계량 구하기\n",
        "mean_sampling_dist = sum(sample_means) / len(sample_means) # 표본분포의 평균\n",
        "std_sampling_dist = (sum((sample_means - mean_sampling_dist) ** 2) / (sample_size - 1)) ** 0.5 # 표본분포의 표준편차(표준오차), 자유도: 50 - 1\n",
        "mean_sampling_dist, std_sampling_dist"
      ],
      "metadata": {
        "colab": {
          "base_uri": "https://localhost:8080/"
        },
        "id": "IbQRkbWXLUBf",
        "outputId": "61fad1b8-8fb7-47ac-c2bf-443620f2d738"
      },
      "id": "IbQRkbWXLUBf",
      "execution_count": 48,
      "outputs": [
        {
          "output_type": "execute_result",
          "data": {
            "text/plain": [
              "(18.047160400000006, 48.27833378812258)"
            ]
          },
          "metadata": {},
          "execution_count": 48
        }
      ]
    },
    {
      "cell_type": "code",
      "source": [
        "# 7. 모집단의 평균과 표준편차\n",
        "mean_population, std_population = df.describe().iloc[1:3, 3]\n",
        "mean_population, std_population"
      ],
      "metadata": {
        "colab": {
          "base_uri": "https://localhost:8080/"
        },
        "id": "oDVqWCXiOq0o",
        "outputId": "5918681f-4dd4-4fd6-9a29-500596231144"
      },
      "id": "oDVqWCXiOq0o",
      "execution_count": 49,
      "outputs": [
        {
          "output_type": "execute_result",
          "data": {
            "text/plain": [
              "(17.98779487699964, 378.8108235059747)"
            ]
          },
          "metadata": {},
          "execution_count": 49
        }
      ]
    },
    {
      "cell_type": "code",
      "source": [
        "# 8. 표본분포와 모집단의 분포 비교 시각화\n",
        "plt.figure(figsize=(12, 5))\n",
        "\n",
        "# 표본분포\n",
        "plt.subplot(1, 2, 1)\n",
        "plt.hist(sample_means, bins=1000, edgecolor='blue')\n",
        "plt.title('Sampling Distirbution of Means')\n",
        "plt.xlabel('Sample Mean of TotalPrice')\n",
        "plt.ylabel('Frequency')\n",
        "plt.axvline(mean_sampling_dist, color='green', linestyle='-', linewidth=2.5)\n",
        "plt.axvline(mean_population, color='red', linestyle='--', linewidth=1)\n",
        "plt.xlim(-300, 300)\n",
        "\n",
        "# 모집단의 TotalPrice 분포\n",
        "plt.subplot(1, 2, 2)\n",
        "plt.hist(df['TotalPrice'], bins=5000, edgecolor='blue')\n",
        "plt.title('Distirbution of Population(TotalPrice)')\n",
        "plt.xlabel('TotalPrice')\n",
        "plt.ylabel('Frequency')\n",
        "plt.axvline(mean_sampling_dist, color='green', linestyle='-', linewidth=2.5)\n",
        "plt.axvline(mean_population, color='red', linestyle='--', linewidth=1)\n",
        "plt.xlim(-2000, 2000)\n",
        "\n",
        "# 전체 그래프에 대한 제목\n",
        "plt.suptitle('Comparison Between Sampling Distribution and Population Distribution')\n",
        "\n",
        "plt.show()"
      ],
      "metadata": {
        "colab": {
          "base_uri": "https://localhost:8080/",
          "height": 513
        },
        "id": "tkDlgBOhLaR1",
        "outputId": "1c7cddba-0752-4fb8-a396-9b7e00dccd4b"
      },
      "id": "tkDlgBOhLaR1",
      "execution_count": 50,
      "outputs": [
        {
          "output_type": "display_data",
          "data": {
            "text/plain": [
              "<Figure size 1200x500 with 2 Axes>"
            ],
            "image/png": "[encoded data removed]"
          },
          "metadata": {
            "image/png": {
              "width": 1012,
              "height": 496
            }
          }
        }
      ]
    },
    {
      "cell_type": "markdown",
      "source": [
        "# 미션 1) 해석\n",
        "\n",
        "1. 중심극한정리에 의하면 표본이 독립적으로 추출되고 크기가 충분히 크면, 표본분포(Sampling Distribution)는 모집단의 평균(μ)과 모집단의 표준편차를 표본크기의 제곱근으로 나눈 값(σ/sqrt(n))을 각각 평균과 표준오차(standard error)로 가지는 정규분포를 따르게 된다.\n",
        "\n",
        "2. 이에 따라 위 표본분포의 평균 18.04 이 모집단의 평균 18 에 근사함을 알 수 있다.\n",
        "\n",
        "3. 위 그래프에서 초록색 선은 표본분포의 평균, 빨간색 점선은 모집단의 평균이다. 두 평균의 차이가 눈에 잘 보이지 않을 정도로 근사함을 알 수 있다.\n",
        "\n",
        "4. 또한 모집단의 표준편차인 378.8 을 표본의 크기 50의 제곱근으로 나누면 53.6 값이 나오는데, 이는 표본분포의 표준편차인 48.3 과 비교적 근사함을 알 수 있다.\n",
        "\n",
        "5. 한편 표본분포는 약 -100 ~ 100 사이에 데이터가 주로 분포해 있있는 반면, 모집단의 분포는 -500 ~ -500 사이에 좀더 넓게 분포해 있다. 이 차이는 표본분포가 표본의 평균들로 이루어져 있는 값들의 분포이므로, 모집단의 분포에 비해 변동성이 비교적 작게 나온 것으로 설명할 수 있다."
      ],
      "metadata": {
        "id": "NgBQ2jSoPb4g"
      },
      "id": "NgBQ2jSoPb4g"
    },
    {
      "cell_type": "markdown",
      "id": "771d0d54",
      "metadata": {
        "id": "771d0d54"
      },
      "source": [
        "## 미션2) 'Country' 변수를 바탕으로 가장 빈도가 높은 두 개의 국가를 선택하고, 각 국가의 'TotalPrice' 평균에 차이가 있는지 검증하세요. 독립표본 t-검정을 사용하여 가설을 설정하고 검정하며, 1종 오류와 2종 오류에 대해 설명하세요.\n",
        "\n",
        "\n",
        "* 미션 진행 방법\n",
        "    <br>1) 데이터 로드 후 'TotalPrice'와 'Country' 컬럼을 찾아주세요.\n",
        "    <br>2) 데이터셋에서 주문이 가장 많은 상위 두 국가를 찾아주세요.\n",
        "    <br>3) 통계적 검증 수행하기\n",
        "    <br>4) 각 국가의 'TotalPrice' 평균을 계산하세요.\n",
        "    <br>5) 독립표본 t-검정을 사용하여 두 국가 간 'TotalPrice' 평균의 차이가 통계적으로 유의미한지 검증하세요. 이 때, scipy.stats 라이브러리의 ttest_ind 함수를 사용할 수 있습니다. equal_var=False 파라미터를 설정하여 두 집단의 분산이 다르다고 가정하세요.\n",
        "    <br>6) t-통계량과 p-값을 해석하여 결과를 설명하세요. 1종 오류와 2종 오류의 개념을 설명하고, 해당 데이터셋에 적용하여 설명해 주세요."
      ]
    },
    {
      "cell_type": "code",
      "execution_count": 13,
      "id": "c1dd5c1e",
      "metadata": {
        "id": "c1dd5c1e"
      },
      "outputs": [],
      "source": [
        "from scipy import stats"
      ]
    },
    {
      "cell_type": "markdown",
      "source": [
        "# 문제 해결 회고\n",
        "\n",
        "국가별 주문 수가 가장 많은 데이터를 계산하면 session 이 파괴되는 현상이 발생하여 TotalPrice 가 가장 많은 두 국가를 기준으로 과제를 수행함.\n",
        "\n"
      ],
      "metadata": {
        "id": "xMaVwlF-pRVm"
      },
      "id": "xMaVwlF-pRVm"
    },
    {
      "cell_type": "code",
      "source": [
        "# 0. 국가별 주문 수가 가장 많은 데이터를 계산\n",
        "\n",
        "# 아래 두 코드 모두 계산이 불가능하거나 session이 파괴되는 결과가 나타남\n",
        "# df.groupby('Country').value_counts()\n",
        "# df.groupby('Country')[['InvoiceNo', 'StockCode']].value_counts()"
      ],
      "metadata": {
        "id": "Yv42Esemn6r6"
      },
      "id": "Yv42Esemn6r6",
      "execution_count": 14,
      "outputs": []
    },
    {
      "cell_type": "code",
      "source": [
        "# 1.  TotalPrice 가 가장 많은 두 국가\n",
        "df.groupby('Country')['TotalPrice'].sum().sort_values(ascending=False).head(2)"
      ],
      "metadata": {
        "colab": {
          "base_uri": "https://localhost:8080/"
        },
        "id": "_x_fSUy8SiyL",
        "outputId": "f06d1f23-2d64-4760-e123-762a7a97a714"
      },
      "id": "_x_fSUy8SiyL",
      "execution_count": 15,
      "outputs": [
        {
          "output_type": "execute_result",
          "data": {
            "text/plain": [
              "Country\n",
              "United Kingdom    8187806.364\n",
              "Netherlands        284661.540\n",
              "Name: TotalPrice, dtype: float64"
            ]
          },
          "metadata": {},
          "execution_count": 15
        }
      ]
    },
    {
      "cell_type": "code",
      "source": [
        "# 2. 두 국가의 평균 TotalPrice\n",
        "\n",
        "uk = df[df['Country'] == 'United Kingdom']['TotalPrice']\n",
        "nl = df[df['Country'] == 'Netherlands']['TotalPrice']\n",
        "\n",
        "total_mean_uk = uk.mean()\n",
        "total_mean_nl = nl.mean()\n",
        "\n",
        "print('UK  ', total_mean_uk, '\\n', 'Netherlands  ', total_mean_nl)"
      ],
      "metadata": {
        "colab": {
          "base_uri": "https://localhost:8080/"
        },
        "id": "mzxUYxyRTEra",
        "outputId": "4db7dcbc-da9c-45df-add8-5f733e653a37"
      },
      "id": "mzxUYxyRTEra",
      "execution_count": 16,
      "outputs": [
        {
          "output_type": "stream",
          "name": "stdout",
          "text": [
            "UK   16.525065419655366 \n",
            " Netherlands   120.05969633066216\n"
          ]
        }
      ]
    },
    {
      "cell_type": "code",
      "source": [
        "# 3. t-test 를 통한 두 국가 간의 평균의 차이 가설검정\n",
        "t_statistic, p_value = stats.ttest_ind(uk, nl, equal_var = False, alternative='two-sided')\n",
        "t_statistic, p_value"
      ],
      "metadata": {
        "colab": {
          "base_uri": "https://localhost:8080/"
        },
        "id": "fmyFKMNdT24t",
        "outputId": "01df54b9-fc03-4f94-fc53-9d35af4892d4"
      },
      "id": "fmyFKMNdT24t",
      "execution_count": 17,
      "outputs": [
        {
          "output_type": "execute_result",
          "data": {
            "text/plain": [
              "(-30.271869389677317, 8.462075644260513e-172)"
            ]
          },
          "metadata": {},
          "execution_count": 17
        }
      ]
    },
    {
      "cell_type": "markdown",
      "source": [
        "# 미션 2) 해석\n",
        "1. p값이 0 에 근사하므로 영국과 네덜란드의 TotalPrice 평균이 같다는 귀무가설을 기각한다.\n",
        "2. t 통계량이 약 -30 으로 영국의 평균 TotalPrice 값이 네덜란드의 평균 TotalPrice 값보다 작다는 것을 의미한다.\n",
        "3. 따라서 대립 가설인 두 국가의 TotalPrice 평균값이 차이가 있음으로 결론을 내린다.\n",
        "4. 1종 오류는 귀무가설이 참임에도 불구하고 귀무가설을 잘못 기각하는 경우를 의미하고, 2종 오류는 대립가설이 참인데 귀무가설을 기각하는데 실패하는 경우를 의미한다. 1종 오류의 확률은 유의수준과 같고, 2종 오류의 경우 검정력과 반비례 관계에 있다.\n",
        "5. 위 사례의 경우, 1종 오류는 영국과 네덜란드의 TotalPrice 평균이 모집단에서는 같은데, 표본을 추출하는 과정에서 자연스럽게 발생할 수 있는 변이에 의하여 관측된 데이터와 같은 평균의 차이가 귀무가설을 잘못 기각하는 근거로 사용된 것을 의미한다.\n",
        "6. 위 사례에서는 귀무가설을 기각하고 대립가설을 채택했으므로, 2종 오류는 해당하지 않는다."
      ],
      "metadata": {
        "id": "U48qvDTsUfyG"
      },
      "id": "U48qvDTsUfyG"
    },
    {
      "cell_type": "markdown",
      "id": "d05d88d5",
      "metadata": {
        "id": "d05d88d5"
      },
      "source": [
        "## 미션 3) 주중, 주말에 따른 기술통계와 분위수 분석\n",
        "\n",
        "'UnitPrice'의 분포를 분석하기 위해 상자수염그림과 히스토그램을 그리세요. 데이터의 분위수, 중심경향치(평균, 중간값), 변산성(표준편차, 분산)을 계산하고, 이들이 데이터 분포에 대해 설명해 주세요. 다음의 주어진 코드를 활용해 주세요.\n",
        "\n",
        "\n",
        "```python\n",
        "# 'InvoiceDate' 컬럼을 이용하여 주중과 주말을 구분\n",
        "df['InvoiceDate'] = pd.to_datetime(df['InvoiceDate'])\n",
        "df['DayOfWeek'] = df['InvoiceDate'].dt.dayofweek\n",
        "\n",
        "\n",
        "df.loc[df['DayOfWeek'] <= 4, \"WeekEnd\"] = \"주중\"\n",
        "df.loc[df['DayOfWeek'] > 4, \"WeekEnd\"] = \"주말\"\n",
        "\n",
        "# 주중(월요일=0, 화요일=1, ..., 금요일=4)과 주말(토요일=5, 일요일=6)으로 데이터를 분리\n",
        "weekday_data = df[df['DayOfWeek'] <= 4]  # 주중\n",
        "weekend_data = df[df['DayOfWeek'] > 4]   # 주말\n",
        "```\n",
        "\n",
        "* 참고 : [pandas.DataFrame.describe — pandas documentation](https://pandas.pydata.org/docs/reference/api/pandas.DataFrame.describe.html)\n",
        "* 참고 : 슬라이드의 \"기술 통계\" 부분을 찾아보세요."
      ]
    },
    {
      "cell_type": "code",
      "execution_count": 18,
      "id": "e365a76e",
      "metadata": {
        "id": "e365a76e"
      },
      "outputs": [],
      "source": [
        "# 'InvoiceDate' 컬럼을 이용하여 주중과 주말을 구분\n",
        "df['InvoiceDate'] = pd.to_datetime(df['InvoiceDate'])\n",
        "df['DayOfWeek'] = df['InvoiceDate'].dt.dayofweek\n",
        "\n",
        "\n",
        "df.loc[df['DayOfWeek'] <= 4, \"WeekEnd\"] = \"주중\"\n",
        "df.loc[df['DayOfWeek'] > 4, \"WeekEnd\"] = \"주말\"\n",
        "\n",
        "# 주중(월요일=0, 화요일=1, ..., 금요일=4)과 주말(토요일=5, 일요일=6)으로 데이터를 분리\n",
        "weekday_data = df[df['DayOfWeek'] <= 4]  # 주중\n",
        "weekend_data = df[df['DayOfWeek'] > 4]   # 주말"
      ]
    },
    {
      "cell_type": "code",
      "execution_count": 19,
      "id": "29071bf7",
      "metadata": {
        "id": "29071bf7",
        "colab": {
          "base_uri": "https://localhost:8080/",
          "height": 513
        },
        "outputId": "09b286e3-60b2-4944-ec49-903455a38fdf"
      },
      "outputs": [
        {
          "output_type": "display_data",
          "data": {
            "text/plain": [
              "<Figure size 1200x500 with 2 Axes>"
            ],
            "image/png": "[encoded data removed]"
          },
          "metadata": {
            "image/png": {
              "width": 1041,
              "height": 496
            }
          }
        }
      ],
      "source": [
        "# 1. 주중, 주말 데이터의 UnitPrice 의 분포 시각화\n",
        "plt.figure(figsize=(12, 5))\n",
        "\n",
        "# 주중\n",
        "plt.subplot(1, 2, 1)\n",
        "plt.hist(weekday_data['UnitPrice'], bins=3000, edgecolor='black')\n",
        "plt.title('UnitPrice Distirbution of Weekday')\n",
        "plt.xlabel('UnitPrice')\n",
        "plt.ylabel('Frequency')\n",
        "plt.xlim(-300, 800)\n",
        "\n",
        "# 주말\n",
        "plt.subplot(1, 2, 2)\n",
        "plt.hist(weekend_data['UnitPrice'], bins=100, edgecolor='blue')\n",
        "plt.title('UnitPrice Distirbution of Weekend')\n",
        "plt.xlabel('UnitPrice')\n",
        "plt.ylabel('Frequency')\n",
        "plt.xlim(-300, 300)\n",
        "\n",
        "# 전체 그래프에 대한 제목\n",
        "plt.suptitle('Comparison of UnitPrice Distributions between Weekday and Weekend')\n",
        "\n",
        "plt.show()"
      ]
    },
    {
      "cell_type": "code",
      "source": [
        "# 2. 상자수염그림으로 주중, 주말 데이터의 UnitPrice 의 분포 시각화\n",
        "plt.figure(figsize=(12, 5))\n",
        "\n",
        "# 주중\n",
        "plt.subplot(1, 2, 1)\n",
        "plt.boxplot(weekday_data['UnitPrice'])\n",
        "plt.title('Boxplot of Weekday UnitPrice')\n",
        "plt.xlabel('UnitPrice')\n",
        "plt.ylabel('Outcome')\n",
        "\n",
        "# 주말\n",
        "plt.subplot(1, 2, 2)\n",
        "plt.boxplot(weekend_data['UnitPrice'])\n",
        "plt.title('Boxplot of Weekend UnitPrice')\n",
        "plt.xlabel('UnitPrice')\n",
        "plt.ylabel('Outcome')\n",
        "\n",
        "# 전체 그래프에 대한 제목\n",
        "plt.suptitle('Comparison of UnitPrice Boxplot between Weekday and Weekend')\n",
        "\n",
        "plt.show()"
      ],
      "metadata": {
        "colab": {
          "base_uri": "https://localhost:8080/",
          "height": 513
        },
        "id": "yfgY536fYreP",
        "outputId": "4c3cd9e1-25c7-4797-9174-28a1afb724bb"
      },
      "id": "yfgY536fYreP",
      "execution_count": 20,
      "outputs": [
        {
          "output_type": "display_data",
          "data": {
            "text/plain": [
              "<Figure size 1200x500 with 2 Axes>"
            ],
            "image/png": "[encoded data removed]"
          },
          "metadata": {
            "image/png": {
              "width": 1025,
              "height": 496
            }
          }
        }
      ]
    },
    {
      "cell_type": "code",
      "execution_count": 21,
      "id": "b67acaaa",
      "metadata": {
        "id": "b67acaaa",
        "colab": {
          "base_uri": "https://localhost:8080/"
        },
        "outputId": "fd16fdd8-916e-4b09-af24-045831f0b779"
      },
      "outputs": [
        {
          "output_type": "execute_result",
          "data": {
            "text/plain": [
              "(count    477534.000000\n",
              " mean          4.843425\n",
              " std         103.032058\n",
              " min      -11062.060000\n",
              " 25%           1.250000\n",
              " 50%           2.100000\n",
              " 75%           4.130000\n",
              " max       38970.000000\n",
              " Name: UnitPrice, dtype: float64,\n",
              " count    64375.000000\n",
              " mean         2.887824\n",
              " std          7.959497\n",
              " min          0.000000\n",
              " 25%          1.250000\n",
              " 50%          1.850000\n",
              " 75%          3.750000\n",
              " max       1236.750000\n",
              " Name: UnitPrice, dtype: float64)"
            ]
          },
          "metadata": {},
          "execution_count": 21
        }
      ],
      "source": [
        "# 3. 주중, 주말 데이터의 UnitPrice 통계량\n",
        "weekday_data.describe()['UnitPrice'], weekend_data.describe()['UnitPrice']"
      ]
    },
    {
      "cell_type": "code",
      "source": [
        "7.96 ** 2"
      ],
      "metadata": {
        "colab": {
          "base_uri": "https://localhost:8080/"
        },
        "id": "HtFqVbBXgpXw",
        "outputId": "13f4ddf7-9cd3-41dc-eb27-3542bc031f29"
      },
      "id": "HtFqVbBXgpXw",
      "execution_count": 51,
      "outputs": [
        {
          "output_type": "execute_result",
          "data": {
            "text/plain": [
              "63.3616"
            ]
          },
          "metadata": {},
          "execution_count": 51
        }
      ]
    },
    {
      "cell_type": "markdown",
      "source": [
        "# 미션 3) 해석\n",
        "1. 주중 데이터의 UnitPrice 통계량\n",
        "- 평균 : 4.84, 표준편차 : 103.03, 분산 : 10615.6\n",
        "- Q1 : 1.25, 중앙값 : 2.1, Q3 : 4.1\n",
        "\n",
        "\n",
        "2. 주말 데이터의 UnitPrice 통계량\n",
        "- 평균 : 2.89, 표준편차 : 7.96, 분산 : 63.36\n",
        "- Q1 : 1.25, 중앙값 : 1.85, Q3 : 3.75\n",
        "\n",
        "\n",
        "3. 주중, 주말 데이터 모두 히스토그램보다 상자수염그림이 데이터의 분포를 확인하는데 상대적으로 유용하게 보인다.\n",
        "\n",
        "\n",
        "4. 주중 데이터의 상자수염그림의 경우 음수값을 확인할 수 있는데, 이는 이벤트성 판매 데이터로 이상치로 분류할 수 있다.\n",
        "\n",
        "\n",
        "5. 두 데이터 모두 상자수염그림을 보면 0 에 근접한 중간값을 가지고 있고, 범위가 매우 큰 이상치를 확인할 수 있다. 데이터의 분산의 경우 주중 데이터가 주말 데이터보다 상대적으로 더 큰 변동성을 보인다.\n",
        "\n",
        "\n",
        "6. 두 데이터 모두 상자수염그림을 보면 IQR 이 데이터의 분산에 비해 눈으로 식별되지 않을 정도로 작음을 알 수 있다.\n",
        "\n",
        "\n",
        "7. 두 데이터 모두 히스토그램을 보면 대부분의 값들이 0보다 살짝 큰 값을 가질 것으로 볼 수 있지만, 상자수염그림을 보면 Q3 + 1.5*IQR 범위를 넘어가는 이상치들이 실제 데이터에 많이 포함되어 있음을 확인할 수 있다."
      ],
      "metadata": {
        "id": "djtycbw7dJIy"
      },
      "id": "djtycbw7dJIy"
    },
    {
      "cell_type": "markdown",
      "id": "2f63e2de",
      "metadata": {
        "id": "2f63e2de"
      },
      "source": [
        "## 미션4)  'TotalPrice'의 중간값이 특정 값과 다른지 검증하기 위해 비모수 검정 (예: 맨-휘트니 U-검정)을 사용하세요. 검증 결과에 대해 비즈니스 관점에서 분석해 주세요.\n",
        "\n",
        "* 비모수 검정은 데이터가 정규 분포를 따르지 않거나, 정규 분포에 대한 가정을 할 수 없을 때 사용됩니다. 특히, 작은 표본 크기, 이상치의 존재, 순위나 순서와 같은 비정량적 데이터에 적합합니다. 또한, 두 그룹 간의 중앙값이나 분포의 형태가 다를 때 비모수 검정을 사용할 수 있습니다.\n",
        "\n",
        "* 맨-휘트니 U-검정은 두 독립적인 표본 간에 중앙값의 차이를 비교하는 데 사용됩니다. 이 검정은 두 그룹의 데이터가 서로 독립적이며, 최소한 서열 척도로 측정되어야 합니다. 데이터의 분포 형태에 대한 가정이 필요 없으며, 크기가 다른 두 표본에 대해서도 사용할 수 있습니다. 이 검정은 데이터의 중앙값이 특정 값과 다른지 여부를 검증하는 데 유용합니다.\n",
        "\n",
        "다음의 주어진 코드를 활용해 주세요.\n",
        "\n",
        "```python\n",
        "from scipy.stats import mannwhitneyu\n",
        "# 'TotalPrice' 컬럼을 생성합니다. 이는 'Quantity'와 'UnitPrice'의 곱으로 정의됩니다.\n",
        "df['TotalPrice'] = df['Quantity'] * df['UnitPrice']\n",
        "```\n",
        "\n",
        "* 참고 : https://www.ibm.com/docs/ko/spss-statistics/beta?topic=tests-mann-whitney-u-test"
      ]
    },
    {
      "cell_type": "code",
      "execution_count": 23,
      "id": "87a7c568",
      "metadata": {
        "id": "87a7c568"
      },
      "outputs": [],
      "source": [
        "from scipy.stats import mannwhitneyu\n",
        "\n",
        "# 'TotalPrice' 컬럼을 생성합니다. 이는 'Quantity'와 'UnitPrice'의 곱으로 정의됩니다.\n",
        "# df['TotalPrice'] = df['Quantity'] * df['UnitPrice']"
      ]
    },
    {
      "cell_type": "code",
      "execution_count": 24,
      "id": "af80439b",
      "metadata": {
        "id": "af80439b",
        "colab": {
          "base_uri": "https://localhost:8080/"
        },
        "outputId": "be42a714-0832-4f12-d1dc-2c027567c05d"
      },
      "outputs": [
        {
          "output_type": "execute_result",
          "data": {
            "text/plain": [
              "Country\n",
              "United Kingdom    8187806.364\n",
              "Netherlands        284661.540\n",
              "EIRE               263276.820\n",
              "Germany            221698.210\n",
              "France             197403.900\n",
              "Australia          137077.270\n",
              "Switzerland         56385.350\n",
              "Spain               54774.580\n",
              "Belgium             40910.960\n",
              "Sweden              36595.910\n",
              "Name: TotalPrice, dtype: float64"
            ]
          },
          "metadata": {},
          "execution_count": 24
        }
      ],
      "source": [
        "# 1.  TotalPrice 를 비교하기 위한 국가 선정\n",
        "df.groupby('Country')['TotalPrice'].sum().sort_values(ascending=False).head(10)"
      ]
    },
    {
      "cell_type": "code",
      "source": [
        "# 2. 비슷해보이는 Netherlands, EIRE 두 국가 사이의 TotalPrice 의 중간값이 같은지 다른지 검정하기로 결정\n",
        "nl = df[df['Country'] == 'Netherlands']['TotalPrice']\n",
        "eire = df[df['Country'] == 'EIRE']['TotalPrice']"
      ],
      "metadata": {
        "id": "g1lZ6Y_LZvTR"
      },
      "id": "g1lZ6Y_LZvTR",
      "execution_count": 25,
      "outputs": []
    },
    {
      "cell_type": "code",
      "source": [
        "# 3. 두 국가의 중앙값 확인\n",
        "median_nl = nl.median()\n",
        "median_eire = eire.median()\n",
        "\n",
        "print('Netherlands  ', median_nl, '\\n', 'EIRE  ', median_eire)"
      ],
      "metadata": {
        "colab": {
          "base_uri": "https://localhost:8080/"
        },
        "id": "N9FHfxk8aNYY",
        "outputId": "f922e599-a660-4377-8db7-8c49fcf4372a"
      },
      "id": "N9FHfxk8aNYY",
      "execution_count": 26,
      "outputs": [
        {
          "output_type": "stream",
          "name": "stdout",
          "text": [
            "Netherlands   91.8 \n",
            " EIRE   17.34\n"
          ]
        }
      ]
    },
    {
      "cell_type": "code",
      "source": [
        "# 4. 맨-휘트니 U-검정을 통한 두 국가 간의 중\n",
        "u_statistic, p_value = stats.mannwhitneyu(nl, eire)\n",
        "u_statistic, p_value"
      ],
      "metadata": {
        "colab": {
          "base_uri": "https://localhost:8080/"
        },
        "id": "MckJg9wYZ_rZ",
        "outputId": "e51340ac-2cbc-47f8-b813-7fdd398644d4"
      },
      "id": "MckJg9wYZ_rZ",
      "execution_count": 27,
      "outputs": [
        {
          "output_type": "execute_result",
          "data": {
            "text/plain": [
              "(15385371.0, 0.0)"
            ]
          },
          "metadata": {},
          "execution_count": 27
        }
      ]
    },
    {
      "cell_type": "markdown",
      "source": [
        "# 미션 4) 해석\n",
        "1. 0 에 근사한 p값 : stats.mannwhitneyu의 설명에 따라 두 표본이 서로 같은 분포에서 추출되었다는 귀무가설을 기각한다.\n",
        "2. 따라서 대립가설에 의해 두 표본의 중앙값의 차이가 통계적으로 유의미하다고 결론내릴 수 있다.\n",
        "3. 맨휘트니U 검정은 t-test와 달리 중앙값의 차이를 검정하는 것으로 이상치에 robust하다.\n",
        "4. 따라서 맨휘트니U 검정에 따른 결과는 네덜란드와 에이레의 TotalPrice 데이터에 이상치가 포함되었을지라도 t-test에 비해 상대적으로 두 그룹의 대다수의 데이터 간에 대표성의 차이를 잘 설명할 수 있다."
      ],
      "metadata": {
        "id": "Lnjp-gbDa184"
      },
      "id": "Lnjp-gbDa184"
    },
    {
      "cell_type": "markdown",
      "id": "2e9df6ec",
      "metadata": {
        "id": "2e9df6ec"
      },
      "source": [
        "## 미션5) UnitPrice 컬럼에 대한 95% 신뢰구간을 구하고  seaborn 으로 신뢰구간을 시각화 해주세요. 그리고 이 신뢰구간이 비즈니스 결정에 어떻게 활용될 수 있는지 설명하세요."
      ]
    },
    {
      "cell_type": "code",
      "execution_count": 28,
      "id": "380e6a99",
      "metadata": {
        "id": "380e6a99"
      },
      "outputs": [],
      "source": [
        "from scipy import stats"
      ]
    },
    {
      "cell_type": "code",
      "source": [
        "df['UnitPrice'].std(ddof=1)"
      ],
      "metadata": {
        "colab": {
          "base_uri": "https://localhost:8080/"
        },
        "id": "DjhEwTPEekK9",
        "outputId": "6da9d357-8745-4186-b556-344b2adc4861"
      },
      "id": "DjhEwTPEekK9",
      "execution_count": 29,
      "outputs": [
        {
          "output_type": "execute_result",
          "data": {
            "text/plain": [
              "96.75985306117938"
            ]
          },
          "metadata": {},
          "execution_count": 29
        }
      ]
    },
    {
      "cell_type": "code",
      "source": [
        "# 1. 95% 신뢰수준 설정\n",
        "confidence_level = 0.95\n",
        "alpha = 1 - confidence_level\n",
        "\n",
        "# 2. t-분포의 임계값 및 표준오차 설정\n",
        "t_critical = stats.t.ppf(1 - alpha/2, df=sample_size-1)  # t-분포의 임계값\n",
        "margin_of_error = t_critical * (df['UnitPrice'].std(ddof=1) / np.sqrt(len(df)))  # UnitPrice 의 표준편차로 모집단 표준편차를 대체, 표본의 크기 설정\n",
        "\n",
        "# 3. UnitPrice 의 평균을 기준으로 신뢰구간 구하기\n",
        "mean_estimate = df['UnitPrice'].mean()\n",
        "confidence_interval = (mean_estimate - margin_of_error, mean_estimate + margin_of_error)\n",
        "\n",
        "# 4. 결과확인\n",
        "mean_estimate, confidence_interval"
      ],
      "metadata": {
        "colab": {
          "base_uri": "https://localhost:8080/"
        },
        "id": "0-3rI6zIdwhR",
        "outputId": "f0608b53-bc42-4608-ab67-e02f1264c9ee"
      },
      "id": "0-3rI6zIdwhR",
      "execution_count": 30,
      "outputs": [
        {
          "output_type": "execute_result",
          "data": {
            "text/plain": [
              "(4.611113626088513, (4.346972339906626, 4.8752549122704005))"
            ]
          },
          "metadata": {},
          "execution_count": 30
        }
      ]
    },
    {
      "cell_type": "code",
      "execution_count": 31,
      "id": "e008a91c",
      "metadata": {
        "id": "e008a91c",
        "colab": {
          "base_uri": "https://localhost:8080/",
          "height": 232
        },
        "outputId": "4093e9ad-a625-4ed5-be61-85686b00dee0"
      },
      "outputs": [
        {
          "output_type": "display_data",
          "data": {
            "text/plain": [
              "<Figure size 500x200 with 1 Axes>"
            ],
            "image/png": "[encoded data removed]"
          },
          "metadata": {
            "image/png": {
              "width": 412,
              "height": 215
            }
          }
        }
      ],
      "source": [
        "# 5. sns.barplot 으로 UnitPrice 신뢰 구간 확인하기\n",
        "plt.figure(figsize=(5, 2))\n",
        "sns.barplot(data=df, x='UnitPrice');"
      ]
    },
    {
      "cell_type": "markdown",
      "source": [
        "# 미션 5) 해석 및 비즈니스 인사이트 도출\n",
        "1. UnitPrice 는 판매된 개별 제품 가격이다.\n",
        "2. 표본 UnitPrice 은 평균 4.61 을 기준으로 95% 신뢰구간 4.35 ~ 4.88 을 가진다.\n",
        "3. 이는 또 다른 표본을 100번 추출했을 때 약 95개의 표본의 신뢰구간이 모집단의 UnitPrice 의 평균값 포함할 것임을 의미한다.\n",
        "4. 따라서 이 결과를 통해 우리는 95% 신뢰수준에서, 표본 데이터의 고객들과 유사한 그룹의 전체 소비자들은 4.35 ~ 4.88 사이의 비교적 값이 싼 제품을 평균적으로 주로 구매한다는 소비 패턴을 통계적으로 추론할 수 있다.\n",
        "5. 이러한 통계적 추론을 바탕으로 생각할 수 있는 비즈니스 전략은 대부분의 대중적 소비자들을 대상으로 값비싼 제품보다 약 4.6 파운드의 가격에 해당하는 제품을 주력으로 판매하여 대중을 공략하는 전략을 세우는 것이다.\n",
        "6. 또 다른 전략으로 4.6 파운드보다 살짝 비싼 제품을 적당히 할인해서 4.35 ~ 4.88 파운드로 프로모션하여 신규 소비자를 끌어모으는 전략을 생각할 수 있다."
      ],
      "metadata": {
        "id": "eLp6kFN-fFIi"
      },
      "id": "eLp6kFN-fFIi"
    }
  ],
  "metadata": {
    "kernelspec": {
      "display_name": "Python 3 (ipykernel)",
      "language": "python",
      "name": "python3"
    },
    "language_info": {
      "codemirror_mode": {
        "name": "ipython",
        "version": 3
      },
      "file_extension": ".py",
      "mimetype": "text/x-python",
      "name": "python",
      "nbconvert_exporter": "python",
      "pygments_lexer": "ipython3",
      "version": "3.11.4"
    },
    "toc": {
      "base_numbering": 1,
      "nav_menu": {},
      "number_sections": false,
      "sideBar": true,
      "skip_h1_title": false,
      "title_cell": "Table of Contents",
      "title_sidebar": "Contents",
      "toc_cell": false,
      "toc_position": {},
      "toc_section_display": true,
      "toc_window_display": true
    },
    "varInspector": {
      "cols": {
        "lenName": 16,
        "lenType": 16,
        "lenVar": 40
      },
      "kernels_config": {
        "python": {
          "delete_cmd_postfix": "",
          "delete_cmd_prefix": "del ",
          "library": "var_list.py",
          "varRefreshCmd": "print(var_dic_list())"
        },
        "r": {
          "delete_cmd_postfix": ") ",
          "delete_cmd_prefix": "rm(",
          "library": "var_list.r",
          "varRefreshCmd": "cat(var_dic_list()) "
        }
      },
      "types_to_exclude": [
        "module",
        "function",
        "builtin_function_or_method",
        "instance",
        "_Feature"
      ],
      "window_display": false
    },
    "colab": {
      "provenance": []
    }
  },
  "nbformat": 4,
  "nbformat_minor": 5
}
