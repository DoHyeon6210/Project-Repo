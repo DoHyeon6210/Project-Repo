{
 "cells": [
  {
   "cell_type": "code",
   "execution_count": null,
   "id": "6ee658fb",
   "metadata": {},
   "outputs": [],
   "source": [
    "# !cd aiffel/Natural_Language_Processing/12_LLM_Trend\n",
    "# !git clone https://github.com/airobotlab/KoChatGPT"
   ]
  },
  {
   "cell_type": "code",
   "execution_count": 12,
   "id": "7e2d6ff8",
   "metadata": {
    "scrolled": true
   },
   "outputs": [
    {
     "name": "stdout",
     "output_type": "stream",
     "text": [
      "huggingface/tokenizers: The current process just got forked, after parallelism has already been used. Disabling parallelism to avoid deadlocks...\n",
      "To disable this warning, you can either:\n",
      "\t- Avoid using `tokenizers` before the fork if possible\n",
      "\t- Explicitly set the environment variable TOKENIZERS_PARALLELISM=(true | false)\n",
      "\u001b[33mWARNING: Running pip as the 'root' user can result in broken permissions and conflicting behaviour with the system package manager. It is recommended to use a virtual environment instead: https://pip.pypa.io/warnings/venv\u001b[0m\n"
     ]
    }
   ],
   "source": [
    "!pip install sacrebleu --q"
   ]
  },
  {
   "cell_type": "code",
   "execution_count": 1,
   "id": "b896b493",
   "metadata": {},
   "outputs": [
    {
     "data": {
      "application/vnd.jupyter.widget-view+json": {
       "model_id": "34c53e7aea80441297b8fcba804942d8",
       "version_major": 2,
       "version_minor": 0
      },
      "text/plain": [
       "Downloading config.json:   0%|          | 0.00/1.00k [00:00<?, ?B/s]"
      ]
     },
     "metadata": {},
     "output_type": "display_data"
    },
    {
     "data": {
      "application/vnd.jupyter.widget-view+json": {
       "model_id": "82ce3c1532864735b2fd17fbd4f1aebb",
       "version_major": 2,
       "version_minor": 0
      },
      "text/plain": [
       "Downloading pytorch_model.bin:   0%|          | 0.00/513M [00:00<?, ?B/s]"
      ]
     },
     "metadata": {},
     "output_type": "display_data"
    },
    {
     "data": {
      "application/vnd.jupyter.widget-view+json": {
       "model_id": "90594d0fd0f14cf8bedf4d0cd6bf5878",
       "version_major": 2,
       "version_minor": 0
      },
      "text/plain": [
       "Downloading tokenizer.json:   0%|          | 0.00/2.83M [00:00<?, ?B/s]"
      ]
     },
     "metadata": {},
     "output_type": "display_data"
    }
   ],
   "source": [
    "import pandas as pd\n",
    "import numpy\n",
    "import os\n",
    "os.environ[\"CUDA_VISIBLE_DEVICES\"] = \"0\"\n",
    "import torch\n",
    "import torch.nn as nn\n",
    "from torch.utils.data import Dataset\n",
    "from torch.optim import Adam\n",
    "from datasets import load_dataset\n",
    "import transformers\n",
    "from transformers import AutoTokenizer, AutoModelForCausalLM, pipeline\n",
    "from transformers import Trainer, TrainingArguments\n",
    "from copy import deepcopy\n",
    "import copy\n",
    "import logging\n",
    "import json\n",
    "from dataclasses import dataclass\n",
    "\n",
    "device = \"cuda\" if torch.cuda.is_available() else \"cpu\"\n",
    "model_name = \"skt/kogpt2-base-v2\"  # skt/kogpt2-tiny\n",
    "foundation_model = AutoModelForCausalLM.from_pretrained(model_name).to(device)\n",
    "tokenizer = AutoTokenizer.from_pretrained(model_name, \n",
    "                                           bos_token='</s>', \n",
    "                                           eos_token='</s>', \n",
    "                                           unk_token='</s>', \n",
    "                                           pad_token='</s>',\n",
    "                                           padding_side=\"right\",\n",
    "                                           model_max_length=128,\n",
    "                                          )"
   ]
  },
  {
   "cell_type": "markdown",
   "id": "de6717de",
   "metadata": {},
   "source": [
    "# 1. Foundation Model과 SFT Model 비교"
   ]
  },
  {
   "cell_type": "markdown",
   "id": "7a3ce518",
   "metadata": {},
   "source": [
    "### 정량적, 정성적 평가 비교 분석 시 사용할 데이터셋(n=100) 준비"
   ]
  },
  {
   "cell_type": "code",
   "execution_count": 2,
   "id": "e480dcc0",
   "metadata": {},
   "outputs": [
    {
     "name": "stdout",
     "output_type": "stream",
     "text": [
      "100\n"
     ]
    },
    {
     "data": {
      "text/plain": [
       "[{'prompt': '플랫 화이트가 뭔가요?',\n",
       "  'completion': '\\'\"플랫 화이트\"는 일반적으로 흰색 배경에 만화나 일러스트 등을 담은 디자인을 의미합니다. 주로 웹툰, 게임, 애니메이션, 영화 등에서 사용되며, 평면적으로 표현된 그래픽 디자인의 스타일을 말합니다.',\n",
       "  'tokens': 127},\n",
       " {'prompt': '어디에 김영삼의 서울대학교 입학 및 졸업 증명서가 전시되어 있는가?',\n",
       "  'completion': \"'김영삼의 서울대학교 입학 및 졸업 증명서는 서울대학교 미술관에 전시되어 있습니다.\",\n",
       "  'tokens': 105},\n",
       " {'prompt': '제가 지금 강남역인데, 여기서 오래 걸릴까요?',\n",
       "  'completion': \"'저는 인공지능 챗봇이므로 현재의 교통 상황과 여행 거리, 이동 방법 등과 같은 정보를 보유하고 있지 않습니다. 하지만, 일반적으로 강남역은 교통이 굉장히 복잡하고 혼잡하기 때문에 시간이 걸릴 수 있습니다. 만약 이동하실 위치가 어디인지 알려주신다면, 보다 더 정확한 답변을 드릴 수 있을 것입니다.\",\n",
       "  'tokens': 195}]"
      ]
     },
     "execution_count": 2,
     "metadata": {},
     "output_type": "execute_result"
    }
   ],
   "source": [
    "data_path_1_SFT = '/aiffel/KoChatGPT/data_kochatgpt/kochatgpt_1_SFT.jsonl' \n",
    "with open(data_path_1_SFT, \"r\", encoding='utf-8-sig') as json_file_SFT:\n",
    "    list_data_dict_SFT = json.load(json_file_SFT)[11900:]\n",
    "\n",
    "print(len(list_data_dict_SFT))\n",
    "list_data_dict_SFT[:3]"
   ]
  },
  {
   "cell_type": "code",
   "execution_count": 3,
   "id": "abf96a20",
   "metadata": {},
   "outputs": [],
   "source": [
    "input_prompt = []\n",
    "for i in list_data_dict_SFT:\n",
    "    input_prompt.append(i['prompt'])\n",
    "    \n",
    "labeled_completion = []\n",
    "for i in list_data_dict_SFT:\n",
    "    labeled_completion.append(i['completion'])"
   ]
  },
  {
   "cell_type": "code",
   "execution_count": 4,
   "id": "8fd3ed31",
   "metadata": {},
   "outputs": [
    {
     "data": {
      "text/plain": [
       "['플랫 화이트가 뭔가요?',\n",
       " '어디에 김영삼의 서울대학교 입학 및 졸업 증명서가 전시되어 있는가?',\n",
       " '제가 지금 강남역인데, 여기서 오래 걸릴까요?',\n",
       " '배려 있는 사람이 좋은데',\n",
       " '재미없는 일밖에 없어']"
      ]
     },
     "execution_count": 4,
     "metadata": {},
     "output_type": "execute_result"
    }
   ],
   "source": [
    "input_prompt[:5]"
   ]
  },
  {
   "cell_type": "code",
   "execution_count": 5,
   "id": "c836667a",
   "metadata": {},
   "outputs": [
    {
     "data": {
      "text/plain": [
       "['\\'\"플랫 화이트\"는 일반적으로 흰색 배경에 만화나 일러스트 등을 담은 디자인을 의미합니다. 주로 웹툰, 게임, 애니메이션, 영화 등에서 사용되며, 평면적으로 표현된 그래픽 디자인의 스타일을 말합니다.',\n",
       " \"'김영삼의 서울대학교 입학 및 졸업 증명서는 서울대학교 미술관에 전시되어 있습니다.\",\n",
       " \"'저는 인공지능 챗봇이므로 현재의 교통 상황과 여행 거리, 이동 방법 등과 같은 정보를 보유하고 있지 않습니다. 하지만, 일반적으로 강남역은 교통이 굉장히 복잡하고 혼잡하기 때문에 시간이 걸릴 수 있습니다. 만약 이동하실 위치가 어디인지 알려주신다면, 보다 더 정확한 답변을 드릴 수 있을 것입니다.\",\n",
       " \"'왜 그런지 설명해주세요. \\\\n\\\\n저는 배려 있는 사람이 좋은 이유가 몇 가지 있다고 생각합니다. 첫째, 배려 하는 사람은 인정과 존경을 받기 쉽습니다. 사람들은 자신이 배려받으면서 따뜻함을 느끼기 때문에 배려 하는 사람을 좋아하며 그들을 존경하고 따르게 됩니다.\\\\n\\\\n둘째, 배려 하는 사람은 항상 사람들을 생각하며 행동합니다. 그들은 자신이 타인에게 불편함을 주지 않도록 노력하며, 상대방의 입장을 고려해 자신의 행동을 결정합니다. 이러한 태도는 사회 적응력과 인간관계 형성 능력을 높여주며, 삶의 질을 높이는 역할을 합니다.\\\\n\\\\n셋째, 배려 하는 사람은 주변 환경에서 긍정적인 영향력을 미칩니다. 그들의 긍정적인 태도와 행동은 사회에 긍정적인 파장을 일으키며, 다른 사람들의 마음을 따뜻하게 만들어 줍니다.\\\\n\\\\n따라서, 저는 배려 있는 사람이 좋은 이유는 인간적인 면에서 가장 소중하기 때문이라고 생각합니다. 배려받으면서 사는 것은 모두에게 행복과 평화를 가져다 주기 때문입니다.\",\n",
       " \"'제가 AI 챗봇이어서 정말 죄송합니다. 저는 논리적인 답변과 정보를 제공하는 것이 전부입니다. 하지만, 여러분이 재미있고 흥미로운 일을 경험하길 바랍니다. 삶에는 그렇게 좋고 나쁨이 있으니, 궁금한 것이나 얘기하고 싶은 것이 있다면 언제든지 물어보세요. 함께 나누는 대화도 즐겁고 유익할 것입니다!\"]"
      ]
     },
     "execution_count": 5,
     "metadata": {},
     "output_type": "execute_result"
    }
   ],
   "source": [
    "labeled_completion[:5]"
   ]
  },
  {
   "cell_type": "markdown",
   "id": "80560f61",
   "metadata": {},
   "source": [
    "### input_prompt 와 labeled_completion 에 빈 데이터('')가 있는지 확인"
   ]
  },
  {
   "cell_type": "code",
   "execution_count": 6,
   "id": "ebb60a0e",
   "metadata": {},
   "outputs": [
    {
     "name": "stdout",
     "output_type": "stream",
     "text": [
      "[]\n"
     ]
    }
   ],
   "source": [
    "input_prompt_empty_indices = []\n",
    "for i, item in enumerate(input_prompt):\n",
    "    if item == '':\n",
    "        input_prompt_empty_indices.append(i)\n",
    "\n",
    "print(input_prompt_empty_indices)"
   ]
  },
  {
   "cell_type": "code",
   "execution_count": 7,
   "id": "6604be02",
   "metadata": {},
   "outputs": [
    {
     "name": "stdout",
     "output_type": "stream",
     "text": [
      "[]\n"
     ]
    }
   ],
   "source": [
    "labeled_completion_empty_indices = []\n",
    "for i, item in enumerate(labeled_completion):\n",
    "    if item == '':\n",
    "        labeled_completion_empty_indices.append(i)\n",
    "\n",
    "print(labeled_completion_empty_indices)"
   ]
  },
  {
   "cell_type": "markdown",
   "id": "a38822fa",
   "metadata": {},
   "source": [
    "### foundation_model 이 input_prompt 을 입력으로 받아 생성한 foundation_output 저장"
   ]
  },
  {
   "cell_type": "code",
   "execution_count": 8,
   "id": "a6ab91cb",
   "metadata": {},
   "outputs": [],
   "source": [
    "foundation_output = []\n",
    "max_length = 128\n",
    "\n",
    "for input_txt in input_prompt:\n",
    "    input_ids = tokenizer(input_txt, return_tensors=\"pt\")[\"input_ids\"].to(device)\n",
    "    output= foundation_model.generate(input_ids, max_length=max_length, num_beams=4, no_repeat_ngram_size=4, early_stopping=True,\n",
    "                                 eos_token_id=375, do_sample=True, top_k=50, repetition_penalty=2.0)\n",
    "    foundation_output.append(tokenizer.decode(output[0]))"
   ]
  },
  {
   "cell_type": "code",
   "execution_count": 9,
   "id": "447d7b8e",
   "metadata": {},
   "outputs": [
    {
     "data": {
      "text/plain": [
       "['플랫 화이트가 뭔가요?\"\\n\"네, 그렇습니다.\"\\n\"그런데 왜 저렇게 말했죠?\"\\n\"아니요, 그렇지 않습니다.\"\\n\"그러니까 그건 제가 한 얘기입니다.\"\\n\"그럼 어떻게 대답을 하죠?\"\\n이번에는 아빠가 말했다.\\n\"아빠는 네가 할 수 있는 일이 무엇이냐고 물으셨어요.\"\\n\"그렇다면 당신은 무슨 일을 하고 계십니까?\"\\n\"제게 물어보세요.\"\\n\"내가 할 수 있는 일은 무엇입니까?\"\\n잠시 후 아빠가 대답했다.\\n\"제가 할 수 있는 일',\n",
       " '어디에 김영삼의 서울대학교 입학 및 졸업 증명서가 전시되어 있는가?,\\n',\n",
       " '제가 지금 강남역인데, 여기서 오래 걸릴까요?\"\\n\"그렇다면 괜찮을 거예요.\"\\n\"어떻게 된 거죠?\"\\n\"아뇨, 저도 모르겠어요.\"\\n\"그런데 왜 그런 걸 물어보시는 겁니까?\"\\n\"글쎄요, 그건 그렇고요.\"\\n\"이번에는 무슨 말씀을 하실 건가요?\"\\n나는 아무 말도 하지 않았다.\\n다만 내가 궁금한 게 있다는 것을 알고 있는 것 같았다.\\n\"왜 그러세요?\"\\n내가 묻자 나는 대답하지 않은 채 고개를 끄덕였다.\\n\"뭐라고 말해야 할지 모르겠군요.\"\\n\"']"
      ]
     },
     "execution_count": 9,
     "metadata": {},
     "output_type": "execute_result"
    }
   ],
   "source": [
    "foundation_output[:3]"
   ]
  },
  {
   "cell_type": "markdown",
   "id": "d0067134",
   "metadata": {},
   "source": [
    "### foundation_output 에 빈 데이터('')가 있는지 확인"
   ]
  },
  {
   "cell_type": "code",
   "execution_count": 10,
   "id": "e223e639",
   "metadata": {},
   "outputs": [
    {
     "name": "stdout",
     "output_type": "stream",
     "text": [
      "[]\n"
     ]
    }
   ],
   "source": [
    "output_answers_empty_indices = []\n",
    "for i, item in enumerate(foundation_output):\n",
    "    if item == '':\n",
    "        output_answers_empty_indices.append(i)\n",
    "\n",
    "print(output_answers_empty_indices)"
   ]
  },
  {
   "cell_type": "markdown",
   "id": "8232405e",
   "metadata": {},
   "source": [
    "### 정량적 평가 - BLEU metric을 활용"
   ]
  },
  {
   "cell_type": "code",
   "execution_count": 13,
   "id": "eec547a0",
   "metadata": {},
   "outputs": [
    {
     "name": "stderr",
     "output_type": "stream",
     "text": [
      "Token indices sequence length is longer than the specified maximum sequence length for this model (169 > 128). Running this sequence through the model will result in indexing errors\n"
     ]
    }
   ],
   "source": [
    "from datasets import load_metric\n",
    "\n",
    "# Load the BLEU metric\n",
    "metric = load_metric(\"sacrebleu\")\n",
    "\n",
    "# Function to tokenize a sentence\n",
    "def tokenize_sentence(sentence):\n",
    "    # Implement tokenization using your tokenizer\n",
    "    # Return a list of tokens\n",
    "    tokens = tokenizer.tokenize(sentence)\n",
    "    return tokens\n",
    "\n",
    "# Function to calculate BLEU score\n",
    "def calculate_bleu_score(model_outputs, target_sentences):\n",
    "    # Tokenize model outputs and target sentences\n",
    "    tokenized_outputs = [tokenize_sentence(output) for output in model_outputs]\n",
    "    tokenized_targets = [tokenize_sentence(target) for target in target_sentences]\n",
    "    \n",
    "    # Calculate BLEU score\n",
    "    bleu_score = metric.compute(predictions=tokenized_outputs, references=tokenized_targets)\n",
    "    \n",
    "    return bleu_score\n",
    "\n",
    "# Calculate BLEU score\n",
    "foundation_bleu_score = []\n",
    "for output, target in zip(foundation_output, labeled_completion):\n",
    "    foundation_bleu_score.append(calculate_bleu_score([output], [target])['score'])"
   ]
  },
  {
   "cell_type": "markdown",
   "id": "d67967d1",
   "metadata": {},
   "source": [
    "### foundation model 의 BLEU Score"
   ]
  },
  {
   "cell_type": "code",
   "execution_count": 14,
   "id": "57a13e1f",
   "metadata": {},
   "outputs": [
    {
     "data": {
      "text/plain": [
       "0.19990869636192954"
      ]
     },
     "execution_count": 14,
     "metadata": {},
     "output_type": "execute_result"
    }
   ],
   "source": [
    "sum(foundation_bleu_score)/len(foundation_bleu_score)"
   ]
  },
  {
   "cell_type": "markdown",
   "id": "bf62009f",
   "metadata": {},
   "source": [
    "# Supervised Fine-Tuning Model\n",
    "\n",
    "### SFT"
   ]
  },
  {
   "cell_type": "code",
   "execution_count": 15,
   "id": "4d6baac4",
   "metadata": {},
   "outputs": [],
   "source": [
    "del foundation_model"
   ]
  },
  {
   "cell_type": "code",
   "execution_count": 16,
   "id": "d658fbab",
   "metadata": {},
   "outputs": [],
   "source": [
    "torch.cuda.empty_cache()"
   ]
  },
  {
   "cell_type": "code",
   "execution_count": 17,
   "id": "c2166d00",
   "metadata": {},
   "outputs": [],
   "source": [
    "import os\n",
    "os.environ[\"CUDA_VISIBLE_DEVICES\"] = \"0\"\n",
    "import torch\n",
    "import torch.nn as nn\n",
    "from torch.utils.data import Dataset\n",
    "from torch.optim import Adam\n",
    "from datasets import load_dataset\n",
    "import transformers\n",
    "from transformers import AutoTokenizer, AutoModelForCausalLM, pipeline\n",
    "from transformers import Trainer, TrainingArguments\n",
    "from copy import deepcopy\n",
    "import copy\n",
    "import logging\n",
    "import json\n",
    "from dataclasses import dataclass"
   ]
  },
  {
   "cell_type": "code",
   "execution_count": 18,
   "id": "1c00fe1d",
   "metadata": {},
   "outputs": [
    {
     "name": "stdout",
     "output_type": "stream",
     "text": [
      "GPT2TokenizerFast(name_or_path='skt/kogpt2-base-v2', vocab_size=51200, model_max_length=128, is_fast=True, padding_side='right', truncation_side='right', special_tokens={'bos_token': '</s>', 'eos_token': '</s>', 'unk_token': '</s>', 'pad_token': '</s>'}, clean_up_tokenization_spaces=True)\n"
     ]
    }
   ],
   "source": [
    "import random\n",
    "random.seed(42)\n",
    "\n",
    "model_SFT = AutoModelForCausalLM.from_pretrained('skt/kogpt2-base-v2')\n",
    "tokenizer = AutoTokenizer.from_pretrained('skt/kogpt2-base-v2', \n",
    "                                           bos_token='</s>', \n",
    "                                           eos_token='</s>', \n",
    "                                           unk_token='</s>', \n",
    "                                           pad_token='</s>',\n",
    "                                           padding_side=\"right\",\n",
    "                                           model_max_length=128,\n",
    "                                          )\n",
    "\n",
    "print(tokenizer)"
   ]
  },
  {
   "cell_type": "markdown",
   "id": "7cf824fd",
   "metadata": {},
   "source": [
    "모델 인퍼런스 단계에서 사용할 prompt 딕셔너리 템플릿과 SFT 데이터셋 클래스를 정의"
   ]
  },
  {
   "cell_type": "code",
   "execution_count": 19,
   "id": "d22cc58f",
   "metadata": {},
   "outputs": [],
   "source": [
    "from typing import Optional, Dict, Sequence\n",
    "\n",
    "class SFT_dataset_train(Dataset):\n",
    "\n",
    "    def __init__(self, data_path_1_SFT: str, tokenizer: transformers.PreTrainedTokenizer, verbose=False):\n",
    "        super(SFT_dataset_train, self).__init__()\n",
    "        logging.warning(\"Loading data...\")\n",
    "\n",
    "        pattern_instruction = 'prompt'  # instruction\n",
    "        pattern_output = 'completion'  # response\n",
    "\n",
    "        with open(data_path_1_SFT, \"r\", encoding='utf-8-sig') as json_file:\n",
    "            list_data_dict = random.sample(json.load(json_file)[:11000], 4000)\n",
    "\n",
    "        PROMPT_DICT = {\n",
    "            \"prompt_input\": (\n",
    "                \"### Instruction(명령어):\\n{prompt}\\n\\n### Response(응답):\"\n",
    "            )\n",
    "        }\n",
    "\n",
    "        prompt_input = PROMPT_DICT[\"prompt_input\"]\n",
    "\n",
    "        sources = []\n",
    "        for example in list_data_dict:\n",
    "            tmp = prompt_input.format_map(example)\n",
    "            sources.append(tmp)\n",
    "\n",
    "        targets = []\n",
    "        for example in list_data_dict:\n",
    "            targets.append(f\"{example[pattern_output]}{tokenizer.eos_token}\")\n",
    "        examples = [s + t for s, t in zip(sources, targets)]\n",
    "\n",
    "        sources_tokenized = self._tokenize_fn(sources, tokenizer)  # source\n",
    "        examples_tokenized = self._tokenize_fn(examples, tokenizer)  # source + target\n",
    "\n",
    "        input_ids = examples_tokenized[\"input_ids\"]\n",
    "        labels = copy.deepcopy(input_ids)\n",
    "        for label, source_len in zip(labels, sources_tokenized[\"input_ids_lens\"]):\n",
    "            label[:source_len] = -100\n",
    "\n",
    "        data_dict = dict(input_ids=input_ids, labels=labels)\n",
    "\n",
    "        self.input_ids = data_dict[\"input_ids\"]\n",
    "        self.labels = data_dict[\"labels\"]\n",
    "        logging.warning(\"Loading data done!!: %d\"%(len(self.labels)))\n",
    "\n",
    "\n",
    "    def _tokenize_fn(self, strings: Sequence[str], tokenizer: transformers.PreTrainedTokenizer) -> Dict:\n",
    "        tokenized_list = [\n",
    "            tokenizer(\n",
    "                text,\n",
    "                return_tensors=\"pt\",\n",
    "                padding=\"longest\",\n",
    "                max_length=tokenizer.model_max_length,\n",
    "                truncation=True,\n",
    "            )\n",
    "            for text in strings\n",
    "        ]\n",
    "        input_ids = labels = [tokenized.input_ids[0] for tokenized in tokenized_list]\n",
    "        input_ids_lens = labels_lens = [\n",
    "            tokenized.input_ids.ne(tokenizer.pad_token_id).sum().item() for tokenized in tokenized_list\n",
    "        ]\n",
    "        return dict(\n",
    "            input_ids=input_ids,\n",
    "            labels=labels,\n",
    "            input_ids_lens=input_ids_lens,\n",
    "            labels_lens=labels_lens,\n",
    "        )\n",
    "\n",
    "\n",
    "    def __len__(self):\n",
    "        return len(self.input_ids)\n",
    "\n",
    "\n",
    "    def __getitem__(self, i) -> Dict[str, torch.Tensor]:\n",
    "        return dict(input_ids=self.input_ids[i], labels=self.labels[i])"
   ]
  },
  {
   "cell_type": "code",
   "execution_count": 20,
   "id": "7555641e",
   "metadata": {},
   "outputs": [],
   "source": [
    "@dataclass\n",
    "class DataCollatorForSupervisedDataset(object): \n",
    "\n",
    "    tokenizer: transformers.PreTrainedTokenizer\n",
    "\n",
    "    def __call__(self, instances: Sequence[Dict]) -> Dict[str, torch.Tensor]:\n",
    "        input_ids, labels = tuple([instance[key] for instance in instances] for key in (\"input_ids\", \"labels\"))\n",
    "        input_ids = torch.nn.utils.rnn.pad_sequence(\n",
    "            input_ids, batch_first=True, padding_value=self.tokenizer.pad_token_id\n",
    "        )\n",
    "        labels = torch.nn.utils.rnn.pad_sequence(labels, batch_first=True, padding_value= -100)\n",
    "        return dict(\n",
    "            input_ids=input_ids,\n",
    "            labels=labels,\n",
    "            attention_mask=input_ids.ne(self.tokenizer.pad_token_id),\n",
    "        )"
   ]
  },
  {
   "cell_type": "markdown",
   "id": "2e8a57f6",
   "metadata": {},
   "source": [
    "#### train_dataset 준비"
   ]
  },
  {
   "cell_type": "code",
   "execution_count": 21,
   "id": "f04751f9",
   "metadata": {},
   "outputs": [
    {
     "name": "stderr",
     "output_type": "stream",
     "text": [
      "WARNING:root:Loading data...\n",
      "WARNING:root:Loading data done!!: 4000\n"
     ]
    },
    {
     "name": "stdout",
     "output_type": "stream",
     "text": [
      "input : tensor([  739,   378,   378,   378, 14659, 13394, 37091, 10651,   383, 25841,\n",
      "         8006, 14914,   375,  7488, 11556,  9121,  7778,  8025,  8146, 19292,\n",
      "        13666, 12036,  9331,  9548, 29054, 24928,  9498, 15942, 10604,   375,\n",
      "          378,   378,   378, 41951,   454,  9549, 20549,   383,  8142,  7192,\n",
      "        14914,   377,  7488, 11556,  9121,  7778,  8025,  8146, 19292, 13666,\n",
      "         9044,  9331,  9548, 29054, 24928,  9498, 15942,  9194,   407,   442,\n",
      "        12153, 10712, 40704,  7293,  7182,  7877, 26204, 21154, 33739,  9194,\n",
      "          458, 18511,  9714,   382,   401, 28512,   467,     1])\n",
      "output: tensor([ -100,  -100,  -100,  -100,  -100,  -100,  -100,  -100,  -100,  -100,\n",
      "         -100,  -100,  -100,  -100,  -100,  -100,  -100,  -100,  -100,  -100,\n",
      "         -100,  -100,  -100,  -100,  -100,  -100,  -100,  -100,  -100,  -100,\n",
      "         -100,  -100,  -100,  -100,  -100,  -100,  -100,  -100,  -100,  -100,\n",
      "         -100,   377,  7488, 11556,  9121,  7778,  8025,  8146, 19292, 13666,\n",
      "         9044,  9331,  9548, 29054, 24928,  9498, 15942,  9194,   407,   442,\n",
      "        12153, 10712, 40704,  7293,  7182,  7877, 26204, 21154, 33739,  9194,\n",
      "          458, 18511,  9714,   382,   401, 28512,   467,     1])\n"
     ]
    }
   ],
   "source": [
    "train_dataset = SFT_dataset_train(data_path_1_SFT='/aiffel/KoChatGPT/data_kochatgpt/kochatgpt_1_SFT.jsonl', tokenizer=tokenizer)\n",
    "data_collator = DataCollatorForSupervisedDataset(tokenizer=tokenizer)\n",
    "\n",
    "print('input : %s'%train_dataset.input_ids[0])\n",
    "print('output: %s'%train_dataset.labels[0])"
   ]
  },
  {
   "cell_type": "markdown",
   "id": "f2fdd71a",
   "metadata": {},
   "source": [
    "Training arguments를 사용해 trainer 클래스를 정의"
   ]
  },
  {
   "cell_type": "code",
   "execution_count": 30,
   "id": "7163c067",
   "metadata": {},
   "outputs": [],
   "source": [
    "training_args = TrainingArguments(\n",
    "    output_dir=\"/aiffel/KoChatGPT/test\",\n",
    "    overwrite_output_dir=True,\n",
    "    num_train_epochs=5,\n",
    "    per_device_train_batch_size=8,\n",
    "    warmup_steps=15,\n",
    "    prediction_loss_only=True,\n",
    "    fp16 = True\n",
    "    )\n",
    "trainer = Trainer(\n",
    "    model=model_SFT,\n",
    "    args=training_args,\n",
    "    data_collator=data_collator,\n",
    "    train_dataset=train_dataset,\n",
    ")"
   ]
  },
  {
   "cell_type": "markdown",
   "id": "1017f954",
   "metadata": {},
   "source": [
    "SFT 훈련을 진행"
   ]
  },
  {
   "cell_type": "code",
   "execution_count": 31,
   "id": "638b48d5",
   "metadata": {},
   "outputs": [
    {
     "name": "stderr",
     "output_type": "stream",
     "text": [
      "/opt/conda/lib/python3.9/site-packages/transformers/optimization.py:391: FutureWarning: This implementation of AdamW is deprecated and will be removed in a future version. Use the PyTorch implementation torch.optim.AdamW instead, or set `no_deprecation_warning=True` to disable this warning\n",
      "  warnings.warn(\n"
     ]
    },
    {
     "data": {
      "text/html": [
       "\n",
       "    <div>\n",
       "      \n",
       "      <progress value='2500' max='2500' style='width:300px; height:20px; vertical-align: middle;'></progress>\n",
       "      [2500/2500 07:15, Epoch 5/5]\n",
       "    </div>\n",
       "    <table border=\"1\" class=\"dataframe\">\n",
       "  <thead>\n",
       " <tr style=\"text-align: left;\">\n",
       "      <th>Step</th>\n",
       "      <th>Training Loss</th>\n",
       "    </tr>\n",
       "  </thead>\n",
       "  <tbody>\n",
       "    <tr>\n",
       "      <td>500</td>\n",
       "      <td>2.257900</td>\n",
       "    </tr>\n",
       "    <tr>\n",
       "      <td>1000</td>\n",
       "      <td>1.951100</td>\n",
       "    </tr>\n",
       "    <tr>\n",
       "      <td>1500</td>\n",
       "      <td>1.467400</td>\n",
       "    </tr>\n",
       "    <tr>\n",
       "      <td>2000</td>\n",
       "      <td>1.118300</td>\n",
       "    </tr>\n",
       "    <tr>\n",
       "      <td>2500</td>\n",
       "      <td>0.894700</td>\n",
       "    </tr>\n",
       "  </tbody>\n",
       "</table><p>"
      ],
      "text/plain": [
       "<IPython.core.display.HTML object>"
      ]
     },
     "metadata": {},
     "output_type": "display_data"
    }
   ],
   "source": [
    "trainer.train()\n",
    "model_SFT.save_pretrained('/aiffel/KoChatGPT/output_1_SFT')"
   ]
  },
  {
   "cell_type": "markdown",
   "id": "f6d26115",
   "metadata": {},
   "source": [
    "### SFT 모델 정량적 평가 - BLEU Score"
   ]
  },
  {
   "cell_type": "code",
   "execution_count": 32,
   "id": "acecec9c",
   "metadata": {},
   "outputs": [],
   "source": [
    "SFT_output = []\n",
    "max_length = 128\n",
    "\n",
    "for input_txt in input_prompt:\n",
    "    input_ids = tokenizer(input_txt, return_tensors=\"pt\")[\"input_ids\"].to(device)\n",
    "    output= model_SFT.generate(input_ids, max_length=max_length, num_beams=4, no_repeat_ngram_size=4, early_stopping=True,\n",
    "                                 eos_token_id=375, do_sample=True, top_k=50, repetition_penalty=2.0)\n",
    "    SFT_output.append(tokenizer.decode(output[0]))"
   ]
  },
  {
   "cell_type": "code",
   "execution_count": 33,
   "id": "1dcce46c",
   "metadata": {},
   "outputs": [
    {
     "data": {
      "text/plain": [
       "[\"플랫 화이트가 뭔가요?\\\\n\\\\n저는 인공지능 어시스턴트이기 때문에 일할 필요가 없습니다. 하지만, 만약 당신이 어떤 활동을 하고 있다면, 제가 도와드릴 수 있는 부분이 있다면 언제든지 말씀해주세요. 저는 항상 최선을 다해 대화를 이어나갈 준비가 되어 있습니다.</s> Young Forever, I don\\\\'t provide more context or information your statement. However, if you are referring to. Could you please provide situation?</s>\",\n",
       " '어디에 김영삼의 서울대학교 입학 및 졸업 증명서가 전시되어 있는가? 이 질문에 대한 답은 제공되지 않았습니다. 추가 정보가 제공된다면 좀 더 정확한 답변을 제공해드릴 수 있을 것 같습니다.</s> J.K. 롤링의 대로, 김영삼 대통령의 대학교 입학 및 졸업증명서에 기록되어 있는 정보는 다음과 같습니다.\\\\n\\\\n1. 고등학교 졸업증명서 (News counting from Korean University of Washington Position)\\\\n2. 대학 입시 경쟁력 평가시험: National Studiosa Supporting Testroduction service, International COVID',\n",
       " '제가 지금 강남역인데, 여기서 오래 걸릴까요? 제가 답변드릴 수 없습니다. 하지만 저는 인공지능 어시스턴트로써 일을 하고 있기 때문에, 이 질문에 대한 정확한 답변을 제공할 수 없습니다. 다른 질문이 있으시면 언제든지 물어보세요!</s> \\\\n\\\\n죄송합니다, 제가 도움을 드릴 수 있는 부분이 있다면 최대한 도와드리겠습니다. 감사합니다.</s> <unk>prompt sorry, please provide more context and information about the location or response\\\\n예를 들어, \"']"
      ]
     },
     "execution_count": 33,
     "metadata": {},
     "output_type": "execute_result"
    }
   ],
   "source": [
    "SFT_output[:3]"
   ]
  },
  {
   "cell_type": "code",
   "execution_count": 34,
   "id": "99b982cd",
   "metadata": {},
   "outputs": [
    {
     "name": "stdout",
     "output_type": "stream",
     "text": [
      "[]\n"
     ]
    }
   ],
   "source": [
    "output_answers_empty_indices = []\n",
    "for i, item in enumerate(SFT_output):\n",
    "    if item == '':\n",
    "        output_answers_empty_indices.append(i)\n",
    "\n",
    "print(output_answers_empty_indices)"
   ]
  },
  {
   "cell_type": "code",
   "execution_count": 35,
   "id": "b74ce107",
   "metadata": {},
   "outputs": [],
   "source": [
    "# Calculate BLEU score\n",
    "SFT_bleu_score = []\n",
    "for output, target in zip(SFT_output, labeled_completion):\n",
    "    SFT_bleu_score.append(calculate_bleu_score([output], [target])['score'])"
   ]
  },
  {
   "cell_type": "code",
   "execution_count": 36,
   "id": "4a120a96",
   "metadata": {},
   "outputs": [
    {
     "data": {
      "text/plain": [
       "0.13605481909634784"
      ]
     },
     "execution_count": 36,
     "metadata": {},
     "output_type": "execute_result"
    }
   ],
   "source": [
    "sum(SFT_bleu_score)/len(SFT_bleu_score)"
   ]
  },
  {
   "cell_type": "markdown",
   "id": "5437724f",
   "metadata": {},
   "source": [
    "### 아래는 임의로 선택한 5개 prompt에 대한 foundation model의 답변과 SFT model의 답변"
   ]
  },
  {
   "cell_type": "code",
   "execution_count": 72,
   "id": "288b6df2",
   "metadata": {},
   "outputs": [],
   "source": [
    "random_numbers = random.sample(range(0, 100), 5)"
   ]
  },
  {
   "cell_type": "markdown",
   "id": "584512ad",
   "metadata": {},
   "source": [
    "#### Input Prompts"
   ]
  },
  {
   "cell_type": "code",
   "execution_count": 73,
   "id": "aac190b1",
   "metadata": {},
   "outputs": [
    {
     "name": "stdout",
     "output_type": "stream",
     "text": [
      "가출해도 갈 데가 없어 \n",
      "\n",
      "어느 경우에 하드웨어에 직접 접근하는 도스 구조가 알맞아 \n",
      "\n",
      "그럼 두 조각에 그렇게죠? \n",
      "\n",
      "저거는 소가죽인가요? \n",
      "\n",
      "내일 체크아웃은 몇 시인가요? \n",
      "\n"
     ]
    }
   ],
   "source": [
    "for index in random_numbers:\n",
    "    print(input_prompt[index], '\\n')"
   ]
  },
  {
   "cell_type": "markdown",
   "id": "85a13e8e",
   "metadata": {},
   "source": [
    "#### Foundation model의 답변"
   ]
  },
  {
   "cell_type": "code",
   "execution_count": 74,
   "id": "3a942a02",
   "metadata": {},
   "outputs": [
    {
     "name": "stdout",
     "output_type": "stream",
     "text": [
      "가출해도 갈 데가 없어요.\n",
      "그런데 저는 어~ 제가 봤을 때는 이게 음~ 네. 아까도 말씀드렸습니다만 예. 그~ 뭐라 그럴까요.\n",
      "예. 자 여러분들께 여쭤보도록 하겠습니다.\n",
      "자 첫 번째 키워드 보시겠습니다.\n",
      "이천십구년 십일월 십일 월 십삼 일 목요일 정봉주에 품격시대입니다.\n",
      "정봉주의 품격시대 오늘 준비한 순서는 여기까지입니다.\n",
      "시청해주신 여러분 대단히 고맙습니다. 고맙습니다.\n",
      "네. 지금까지 티비에스 앱 오십 원 유료 문자 샵 영구오 \n",
      "\n",
      "어느 경우에 하드웨어에 직접 접근하는 도스 구조가 알맞아진다.\n",
      "그런데 이 소프트웨어는 소프트웨어 엔터프라이즈 아키텍처(EA)를 지원하지 않는다.\n",
      "따라서 EA를 실행할 수 있는 소프트웨어가 없다.\n",
      "소프트웨어 엔터프라이즈는 AMD의 Xbox360에 내장되어 있다.\n",
      "EA는 윈도우 비스타와 같은 운영체제(OS) 환경에서 작동된다.\n",
      "윈도우 OS에서 구동되는 모든 소프트웨어는 윈도우 버전이나 윈도우 XP, 윈도우 스토어 등에서 구동된다.\n",
      "이러한 소프트웨어는 애플리케이션 프로그래밍 인터페이스(API)가 \n",
      "\n",
      "그럼 두 조각에 그렇게죠?\"\n",
      "\"그럼, 네가 뭘 하고 있나요?\"\n",
      "\"아무것도 안하고 있어요.\"\n",
      "\"그래. 내가 뭐라고 말했니?\"\n",
      "\"뭐라고 했니?\"\n",
      "나는 고개를 가로저었다.\n",
      "\"이제 그만 좀 쉬어야겠어요.\"\n",
      "\"왜 그러세요? 그게 무슨 소리예요?\"\n",
      "그는 나를 쳐다보며 말했다.\n",
      "\"내가 너한테 물어봐야 할 것 같아서 그래.\"\n",
      "\"그런 거 아니에요?\"\n",
      "나는 입술을 깨물었다.\n",
      "\"난 당신을 싫어해요.\"\n",
      "\"당신이 나한테 그런 말을 한 적이 \n",
      "\n",
      "저거는 소가죽인가요?\"\n",
      "\"그런데 왜 그런 말을 하시는 겁니까?\"\n",
      "\"네, 그게 무슨 말입니까?\"\n",
      "나는 고개를 갸웃거렸다.\n",
      "\"그래서 소를 죽이지 않기로 했습니다.\"\n",
      "\"그렇다면 소는 죽을지언정 죽지 않을 거예요.\"\n",
      "\"그러면 소도 죽이지 않겠습니까?\"\n",
      "\"아니요, 그래야겠죠. 그러면 소는 살 수 있겠지요.\"\n",
      "\"소도 죽이지 않겠다고 약속했으니까요.\"\n",
      "\"그럼 소를 죽이지 않겠다는 건가요?\"\n",
      "나는 다시 한숨을 내쉬었다.\n",
      "\"그건 \n",
      "\n",
      "내일 체크아웃은 몇 시인가요?\"\n",
      "\"네, 감사합니다!\"\n",
      "\"그런데 어떻게 알았지?\"\n",
      "\"그래서 뭐라고 했어?\"\n",
      "\"이제 괜찮아요.\"\n",
      "\"뭐라고 했냐고?\"\n",
      "\"무슨 얘기야?\"\n",
      "\"누구한테 들었어.\"\n",
      "\"왜 안 들었어?\"\n",
      "나는 한숨을 쉬며 말없이 고개를 돌렸다.\n",
      "\"정말 이상했어.\"\n",
      "\"그게 무슨 말이지?\"\n",
      "\"나도 그렇게 생각했어. 하지만 그건 나도 잘 모르겠어.\"\n",
      "\"알았어. 그럼 \n",
      "\n"
     ]
    }
   ],
   "source": [
    "for index in random_numbers:\n",
    "    print(foundation_output[index], '\\n')"
   ]
  },
  {
   "cell_type": "markdown",
   "id": "7cef8650",
   "metadata": {},
   "source": [
    "#### SFT model의 답변"
   ]
  },
  {
   "cell_type": "code",
   "execution_count": 75,
   "id": "782b3873",
   "metadata": {
    "scrolled": false
   },
   "outputs": [
    {
     "name": "stdout",
     "output_type": "stream",
     "text": [
      "가출해도 갈 데가 없어요. 대신, 새로운 도전과 경험을 찾아보는 것도 좋을 것 같아요. 새로운 도전과 경험으로 더 나은 결과를 얻을 수 있을 거예요.\", 'token': 47}</s> \\n\\n새로운 도전과 경험에 대한 평가는 개인적인 측면과 상황에 따라 다를 수 있지만, 일반적으로는 다음과 같은 것들이 도움이 될 수 있습니다.\\n첫째, 실패를 경험하는 것은 매우 중요합니다. 실패는 많은 것을 야기합니다. 하지만 그것을 극복하는 방법은 다양합니다. 어떤 분야에서든 목표를 설정하고, 그 목표를 달성하기 위해 노력해야 합니다.\\n둘째, 새로운 취미나 활동을 시도해 볼 수 있습니다. 새로운 취미를 찾아보는 것도 \n",
      "\n",
      "어느 경우에 하드웨어에 직접 접근하는 도스 구조가 알맞아졌습니다. 이러한 방식은 전통적인 방식으로는 더 나은 응답을 제공하기 어렵습니다. 따라서 하드웨어에서 사용되는 하드웨어 구조에 대한 접근은 더욱 용이합니다. 예를 들어, 하드웨어 구조에 직접 접근하는 방법은 사용자가 원하는 대로 하드웨어 구조에 접근할 수 있는 반면, 하드웨어 구조에 접근하는 방식은 하드웨어 구조에 가장 적합한 방법을 선택해야 합니다. 예를 들어, 프로그래밍 언어에서는 일반적으로 하드웨어 구조에 접근하고 싶으면 다음과 같은 방법을 시도해 볼 수 있습니다.\\n\\n1. 하드웨어 구조 변경: 하드웨어 구조를 변경할 수 있습니다. 예를 들어, 사용자가 하드웨어 구조에 가상의 채팅창을 만들어 보세요.\\n\\ \n",
      "\n",
      "그럼 두 조각에 그렇게죠?\\n\\n그렇다면 그 안에 무엇이 들어있나요?\\n저는 인공지능 어시스턴트이기 때문에 질문에 대한 답변만 가능합니다. 질문이 어떤 것인지 자세히 설명해주시면 더욱 정확한 답변을 드릴 수 있을 것 같습니다. 감사합니다.</s> 챗봇입니다.</s> \"어디 있나요?\" 또는 \"네, 무엇을 도와드릴까요?\"가 무엇인지 알려주시면 더 정확한 답변을 제공해 드릴 수 있습니다.</s> hellofty have information or specific response.</s> \"어 \n",
      "\n",
      "저거는 소가죽인가요?\\n\\n저는 인공지능 어시스턴트이기 때문에 소가죽 여부를 확인할 수 없습니다. 그러나 만약 소가죽이 있는 경우라면 이는 소가죽이 사용되었거나 또는 제조된 소가죽은 아닌 경우도 있을 수 있습니다. 따라서 해당 장소의 관리자 또는 판매자에게 문의하여 확인하시는 것이 좋습니다.</s> https://blog.ncsoft.com/p=1={'prompt': \"Sorry, I can understand and respond information about which b \n",
      "\n",
      "내일 체크아웃은 몇 시인가요?\\n\\n저는 AI 어시스턴트이기 때문에 실시간으로 상황을 파악할 수 없습니다. 따라서 이에 대한 답변을 제공할 수 없습니다. 죄송합니다.</s> addao에 문의하시거나 해당 업체나 기관의 공식 홈페이지나 담당자에게 문의하시는 것이 좋을 것 같습니다. 감사합니다.</s> 다시 한번 참고해주시기 바랍니다.</s> 어떤 변화가 있었는지 알려주시면 더 정확한 답변을 드릴 수 있습니다.</s> admy questions model, please context or details.</s>  \n",
      "\n"
     ]
    }
   ],
   "source": [
    "for index in random_numbers:\n",
    "    print(SFT_output[index], '\\n')"
   ]
  },
  {
   "cell_type": "markdown",
   "id": "e411f7bd",
   "metadata": {},
   "source": [
    "# Rubric 1. 기존 KoGPT2와 SFT 적용 모델 결과 분석\n",
    "\n",
    "- 정량적 비교(Metric : Bleu)\n",
    "1. foundation model 의 Bleu Score : 0.2 \n",
    "2. SFT model 의 Bleu Score : 0.136\n",
    "3. 약 10 epoch 학습 후 SFT model 의 bleu score는 foundation model에 비해 낮은 결과를 나타냈다.\n",
    "4. Bleu Score는 동일 단어 빈도에 따른 측정 방식을 가진다. foundation model 과 SFT model 모두 generated output에 input prompt가 포함되어 있기 때문에 평균적으로 약 0.12 가 넘는 bleu score를 나타냈다. 이러한 관점에 서 봤을 때 bleu score 는 foudation model 과 SFT model의 성능을 평가하는데 크게 유의미하지 않은 정량적 지표인 것으로 생각된다.\n",
    "\n",
    "- 정성적 비교\n",
    "1. foundation model은 input prompt의 단어에 이어 소설 쓰듯 단어를 이어나간다. 질문자의 의도와 전혀 관계없이 혼자 끝말잇기하는 듯 한 결과를 내놓았다.\n",
    "2. 반면에 SFT model은 중간에 영어나 문맥에 맡지 않는 단어가 나오긴 하지만 전체적인 맥락이 질문자에게 질문에 대한 답을 이어나가는 모습을 보였다.\n",
    "3. 결과적으로 SFT model이 일부 횡설수설하는 것 같은 단어를 생성했지만, 질문자에 대해 관련 주제에 대한 답변을 일관적이게 하는 결과를 보인다. 개인적으로 볼 때 확실히 Supervised fine-tuning에 따른 모델의 변화를 확인할 수 있다고 생각한다."
   ]
  },
  {
   "cell_type": "code",
   "execution_count": 58,
   "id": "73a62427",
   "metadata": {},
   "outputs": [],
   "source": [
    "del model_SFT, tokenizer, RM_model"
   ]
  },
  {
   "cell_type": "code",
   "execution_count": 55,
   "id": "6702f923",
   "metadata": {},
   "outputs": [],
   "source": [
    "torch.cuda.empty_cache()"
   ]
  },
  {
   "cell_type": "markdown",
   "id": "05be2871",
   "metadata": {},
   "source": [
    "# 2. SFT Model과 RLHF Model 비교\n",
    "\n",
    "### RM"
   ]
  },
  {
   "cell_type": "code",
   "execution_count": 1,
   "id": "a71c218d",
   "metadata": {},
   "outputs": [],
   "source": [
    "import pandas as pd\n",
    "import numpy\n",
    "import os\n",
    "os.environ[\"CUDA_VISIBLE_DEVICES\"] = \"0\"\n",
    "from torch.utils.data import Dataset\n",
    "from torch.optim import Adam\n",
    "import transformers\n",
    "from transformers import Trainer, TrainingArguments\n",
    "from copy import deepcopy\n",
    "import copy\n",
    "import logging\n",
    "import json\n",
    "from dataclasses import dataclass\n",
    "\n",
    "#device = \"cuda\" if torch.cuda.is_available() else \"cpu\""
   ]
  },
  {
   "cell_type": "code",
   "execution_count": 2,
   "id": "f79c8149",
   "metadata": {},
   "outputs": [],
   "source": [
    "from typing import Optional\n",
    "import torch\n",
    "import torch.nn as nn\n",
    "from torch.optim import Adam\n",
    "from chatgpt.dataset import RewardDataset\n",
    "from chatgpt.models.base import RewardModel\n",
    "from chatgpt.trainer import RewardModelTrainer\n",
    "from chatgpt.trainer.strategies import NaiveStrategy\n",
    "from datasets import load_dataset\n",
    "from transformers import AutoTokenizer, AutoModelForCausalLM, AutoModel, AutoConfig, pipeline\n",
    "from transformers.models.gpt2.configuration_gpt2 import GPT2Config\n",
    "from transformers.models.gpt2.modeling_gpt2 import GPT2Model\n",
    "import loralib as lora"
   ]
  },
  {
   "cell_type": "markdown",
   "id": "07bfe45a",
   "metadata": {},
   "source": [
    "### Reward model 설계\n",
    "\n",
    "GPTRM_custom 이라는 이름으로 클래스를 선언"
   ]
  },
  {
   "cell_type": "code",
   "execution_count": 3,
   "id": "5ad34ec2",
   "metadata": {},
   "outputs": [],
   "source": [
    "class GPTRM_custom(RewardModel):\n",
    "\n",
    "    def __init__(self,\n",
    "                 pretrained: Optional[str] = None,\n",
    "                 config: Optional[GPT2Config] = None,\n",
    "                 checkpoint: bool = False,\n",
    "                 lora_rank: int = 0,\n",
    "                 lora_train_bias: str = 'none',\n",
    "                 tokenizer=None) -> None:\n",
    "        if pretrained is not None:\n",
    "            model = GPT2Model.from_pretrained(pretrained)\n",
    "            model.resize_token_embeddings(len(tokenizer))\n",
    "        elif config is not None:\n",
    "            model = GPT2Model(config)\n",
    "        else:\n",
    "            model = GPT2Model(GPT2Config())\n",
    "        if checkpoint:\n",
    "            model.gradient_checkpointing_enable()\n",
    "\n",
    "        value_head = nn.Linear(model.config.n_embd, 1)\n",
    "        super().__init__(model, value_head, lora_rank, lora_train_bias)\n",
    "\n",
    "        if pretrained is not None:\n",
    "            self.model = model\n",
    "            self.pretrained = pretrained\n",
    "\n",
    "\n",
    "    def save_pretrained(self, dir):\n",
    "        if self.pretrained is not None:\n",
    "            self.model.save_pretrained(dir)"
   ]
  },
  {
   "cell_type": "markdown",
   "id": "09480edc",
   "metadata": {},
   "source": [
    "Q15. nn.Linear() 레이어의 인자로 model.config.n_embd와 1이 주어졌습니다. model.config.n_embd는 무엇이고 1은 왜 입력된 것일까요?\n",
    "\n",
    "input sequence(dim = model.config.n_embd)에 대한 reward score를 scalar(dim = 1)로 출력하는 역할을 한다."
   ]
  },
  {
   "cell_type": "markdown",
   "id": "464dba8b",
   "metadata": {},
   "source": [
    "### 사용할 모델과 토크나이저\n",
    "with구문의 NaiveStrategy()는 chatgpt/trainer/strategies 폴더의 base 모듈에서 정의된 Strategy클래스를 상속한 NaiveStrategy클래스이다."
   ]
  },
  {
   "cell_type": "code",
   "execution_count": 4,
   "id": "27d5b116",
   "metadata": {},
   "outputs": [
    {
     "name": "stderr",
     "output_type": "stream",
     "text": [
      "Some weights of the model checkpoint at skt/kogpt2-base-v2 were not used when initializing GPT2Model: ['lm_head.weight']\n",
      "- This IS expected if you are initializing GPT2Model from the checkpoint of a model trained on another task or with another architecture (e.g. initializing a BertForSequenceClassification model from a BertForPreTraining model).\n",
      "- This IS NOT expected if you are initializing GPT2Model from the checkpoint of a model that you expect to be exactly identical (initializing a BertForSequenceClassification model from a BertForSequenceClassification model).\n"
     ]
    }
   ],
   "source": [
    "#RM_model = AutoModelForCausalLM.from_pretrained('skt/kogpt2-base-v2')\n",
    "tokenizer = AutoTokenizer.from_pretrained(\n",
    "    'skt/kogpt2-base-v2', bos_token='</s>', eos_token='</s>', unk_token='</s>', pad_token='</s>',\n",
    "    padding_side=\"right\",\n",
    "    model_max_length=128,\n",
    ")\n",
    "\n",
    "with NaiveStrategy().model_init_context():\n",
    "        RM_model = GPTRM_custom(pretrained='skt/kogpt2-base-v2', lora_rank=0, tokenizer=tokenizer).cuda()"
   ]
  },
  {
   "cell_type": "markdown",
   "id": "277736ef",
   "metadata": {},
   "source": [
    "### RM을 훈련시킬 때 사용할 ranking dataset"
   ]
  },
  {
   "cell_type": "code",
   "execution_count": 5,
   "id": "b1bd2e85",
   "metadata": {},
   "outputs": [
    {
     "name": "stdout",
     "output_type": "stream",
     "text": [
      "before data num: 10220\n",
      "after  data num: 30660\n",
      "data example: \n",
      "{'prompt': '애플은 리사를 어떻게 처리했어', 'chosen': '애플이 누구인지 명확히 알 수 없어서, 리사가 누구인지와 어떤 상황에서 처리되었는지에 대한 추가적인 정보가 필요합니다. 따라서, 보다 정확한 답변을 제공할 수 없습니다.', 'rejected': '애플은 리사를 위해 고객 서비스 부서에서 고객 다양한 컴퓨터 관련 문제에 대해 응답하는 데 필요한 모든 지원을 제공했습니다. 사용자가 하드웨어 문제를 경험할 때, 전문가들은 필요한 수리(수리, 추가 부품 제공, 소프트웨어 업그레이드 등)을 제공해 드릴 수 있습니다. 또한, 사용자가 사용 방법 문제나 기타 문제를 경험할 때, 대화 상대로 사용자를 지원할 수 있는 전문 고객 서비스 직원들이 사용자에게 상담하고 도움을 주는 데 도움이 될 수 있는 정보를 제공합니다. 또한, 인터넷에서 제공되는 정보를 통해 문제를 해결하거나 고객 서비스 웹 사이트를 통해 자신의 문제를 진단할 수 있도록 하는 등 다양한 방법으로 리사를 처리해 왔습니다.'}\n"
     ]
    }
   ],
   "source": [
    "with open('/aiffel/KoChatGPT/data_kochatgpt/kochatgpt_2_RM.jsonl', \"r\", encoding='utf-8-sig') as json_file:\n",
    "    list_data_dict = json.load(json_file)\n",
    "\n",
    "total_data_ranking2chosen = []\n",
    "for tmp in list_data_dict:\n",
    "    one_data_ranking2chosen = []\n",
    "\n",
    "    data = {}\n",
    "    data['prompt'] = tmp['prompt']\n",
    "    if tmp['ranking'][0] < tmp['ranking'][1]:\n",
    "        data['chosen'] = tmp['completion_0']\n",
    "        data['rejected'] = tmp['completion_1']\n",
    "    else:\n",
    "        data['chosen'] = tmp['completion_1']\n",
    "        data['rejected'] = tmp['completion_0']\n",
    "    one_data_ranking2chosen.append(data)\n",
    "\n",
    "    data = {}\n",
    "    data['prompt'] = tmp['prompt']\n",
    "    if tmp['ranking'][0] < tmp['ranking'][2]:\n",
    "        data['chosen'] = tmp['completion_0']\n",
    "        data['rejected'] = tmp['completion_2']\n",
    "    else:\n",
    "        data['chosen'] = tmp['completion_2']\n",
    "        data['rejected'] = tmp['completion_0']\n",
    "    one_data_ranking2chosen.append(data)\n",
    "\n",
    "    data = {}\n",
    "    data['prompt'] = tmp['prompt']\n",
    "    if tmp['ranking'][1] < tmp['ranking'][2]:\n",
    "        data['chosen'] = tmp['completion_1']\n",
    "        data['rejected'] = tmp['completion_2']\n",
    "    else:\n",
    "        data['chosen'] = tmp['completion_2']\n",
    "        data['rejected'] = tmp['completion_1']\n",
    "    one_data_ranking2chosen.append(data)\n",
    "\n",
    "\n",
    "\n",
    "    total_data_ranking2chosen.extend(one_data_ranking2chosen)\n",
    "\n",
    "print('before data num: %d'%(len(list_data_dict)))\n",
    "print('after  data num: %d'%(len(total_data_ranking2chosen)))\n",
    "print('data example: \\n%s'%total_data_ranking2chosen[45])"
   ]
  },
  {
   "cell_type": "code",
   "execution_count": 6,
   "id": "85bd1c73",
   "metadata": {},
   "outputs": [
    {
     "data": {
      "text/plain": [
       "'\\nclass PairWiseLoss(nn.Module):\\n\\n    def forward(self, chosen_reward: torch.Tensor, reject_reward: torch.Tensor) -> torch.Tensor:\\n        probs = torch.sigmoid(chosen_reward - reject_reward)\\n        log_probs = torch.log(probs)\\n        loss = -log_probs.mean()\\n        return loss\\n'"
      ]
     },
     "execution_count": 6,
     "metadata": {},
     "output_type": "execute_result"
    }
   ],
   "source": [
    "'''\n",
    "class PairWiseLoss(nn.Module):\n",
    "\n",
    "    def forward(self, chosen_reward: torch.Tensor, reject_reward: torch.Tensor) -> torch.Tensor:\n",
    "        probs = torch.sigmoid(chosen_reward - reject_reward)\n",
    "        log_probs = torch.log(probs)\n",
    "        loss = -log_probs.mean()\n",
    "        return loss\n",
    "'''"
   ]
  },
  {
   "cell_type": "markdown",
   "id": "124cb4a6",
   "metadata": {},
   "source": [
    "probs = torch.sigmoid(chosen_reward - reject_reward) 에서 chosen_reward - reject_reward 값이 커질 수록 - log_probs의 평균 곧 loss 값은 작아진다. "
   ]
  },
  {
   "cell_type": "code",
   "execution_count": 7,
   "id": "967f4e52",
   "metadata": {},
   "outputs": [],
   "source": [
    "total_data_ranking2chosen = []\n",
    "\n",
    "for tmp in list_data_dict:\n",
    "     prompt = tmp['prompt']\n",
    "     ranking = tmp['ranking']\n",
    "\n",
    "     for index in range(1, len(ranking)):\n",
    "         n = ranking[0]\n",
    "         m = ranking[index]\n",
    "\n",
    "\n",
    "         data = {\n",
    "             'prompt': prompt,\n",
    "             'chosen': tmp['completion_{}'.format(n)],\n",
    "             'rejected': tmp['completion_{}'.format(m)]\n",
    "         }\n",
    "\n",
    "         total_data_ranking2chosen.append(data)\n"
   ]
  },
  {
   "cell_type": "markdown",
   "id": "c31b38af",
   "metadata": {},
   "source": [
    "완성한 ranking dataset을 shuffle한 후 훈련셋 생성"
   ]
  },
  {
   "cell_type": "code",
   "execution_count": 8,
   "id": "2ab80398",
   "metadata": {},
   "outputs": [
    {
     "name": "stdout",
     "output_type": "stream",
     "text": [
      "{'prompt': '7년사귄 남자친구에게 배신당했어.', 'chosen': '그게 너무나도 힘든 상황이에요. 하지만 당신은 참을성과 용서의 마음으로 이 상황을 극복할 수 있습니다. 먼저, 그 사람에게서 멀어지고 자기 안전을 위해 분리하는 것이 중요합니다. 그리고 이제는 새로운 시작을 위해 자유롭게 살아가세요. 그리고 그 사람에게서 배웠던 좋은 것들은 더 강인하고 지혜롭게 살아남아 가는 길에 도움이 될 것입니다. 그 사람이 당신을 배신했다고 해서 모든 남자친구가 나쁜 것은 아니므로, 당신은 새로운 사랑을 찾기 위해 노력할 수 있습니다. 그리고 이 모든 것들이 당신을 더 강하고 성숙하게 만들 것입니다. 지금은 힘든 상황이지만, 시간이 지나면서 당신은 이 모든 것을 극복할 수 있을 것입니다.', 'rejected': '배신은 누구나 어려운 경험이 될 수 있습니다. 그건 당신의 마음이 다치고 괴로워 할 수밖에 없게 합니다. 그래도, 이 경험을 극복할 방법이 없다고 느낄 필요는 없습니다. 당신의 친구들과 연락하고 같이 이 고민을 공부하는 것이 도움이 될 수도 있습니다. 또한, 친구들과의 시간을 가졌다면 더 이상의 배신이나 상처를 받지 않기 위해 다른 사람들과의 관계를 직접 관리하는 것이 좋습니다. 또한, 자신의 감정에 대해 공감하고 인정하는 것도 매우 중요합니다. 상처는 시간이 흐르면서 점차 사라질 것입니다. 그러나, 이런 경험이 당신에게 배움이 되었다면 더 강해질 수도 있습니다.'}\n"
     ]
    }
   ],
   "source": [
    "import random\n",
    "random.seed(42)\n",
    "random.shuffle(total_data_ranking2chosen)\n",
    "print(total_data_ranking2chosen[45])"
   ]
  },
  {
   "cell_type": "code",
   "execution_count": 9,
   "id": "c64efd0f",
   "metadata": {},
   "outputs": [
    {
     "name": "stdout",
     "output_type": "stream",
     "text": [
      "5000\n",
      "1000\n"
     ]
    }
   ],
   "source": [
    "train_data = total_data_ranking2chosen[:5000] \n",
    "eval_data = total_data_ranking2chosen[5000:6000]\n",
    "\n",
    "print(len(train_data))\n",
    "print(len(eval_data))"
   ]
  },
  {
   "cell_type": "code",
   "execution_count": 10,
   "id": "b0e0e437",
   "metadata": {},
   "outputs": [
    {
     "name": "stderr",
     "output_type": "stream",
     "text": [
      "100%|██████████| 5000/5000 [00:03<00:00, 1616.05it/s]\n",
      "100%|██████████| 1000/1000 [00:00<00:00, 1582.53it/s]\n"
     ]
    }
   ],
   "source": [
    "train_dataset = RewardDataset(train_data, tokenizer, 128)\n",
    "eval_dataset = RewardDataset(eval_data, tokenizer, 128)"
   ]
  },
  {
   "cell_type": "code",
   "execution_count": 11,
   "id": "6a3e29b3",
   "metadata": {
    "scrolled": true
   },
   "outputs": [
    {
     "data": {
      "text/plain": [
       "(tensor([[21782, 30866, 25478, 51165, 23988, 12265,   406, 43924,  7281, 30866,\n",
       "          17819, 16489, 27375, 13446, 18622,  9168, 15883, 18849,  9080, 43396,\n",
       "           9535,  8119, 21014, 17490, 11709, 13433, 51165,  9478,  8718, 16691,\n",
       "            403,   466, 18461,   453,   444, 12895,   462,   458,   466,   405,\n",
       "              1,     1,     1,     1,     1,     1,     1,     1,     1,     1,\n",
       "              1,     1,     1,     1,     1,     1,     1,     1,     1,     1,\n",
       "              1,     1,     1,     1,     1,     1,     1,     1,     1,     1,\n",
       "              1,     1,     1,     1,     1,     1,     1,     1,     1,     1,\n",
       "              1,     1,     1,     1,     1,     1,     1,     1,     1,     1,\n",
       "              1,     1,     1,     1,     1,     1,     1,     1,     1,     1,\n",
       "              1,     1,     1,     1,     1,     1,     1,     1,     1,     1,\n",
       "              1,     1,     1,     1,     1,     1,     1,     1,     1,     1,\n",
       "              1,     1,     1,     1,     1,     1,     1,     1]]),\n",
       " tensor([[1, 1, 1, 1, 1, 1, 1, 1, 1, 1, 1, 1, 1, 1, 1, 1, 1, 1, 1, 1, 1, 1, 1, 1,\n",
       "          1, 1, 1, 1, 1, 1, 1, 1, 1, 1, 1, 1, 1, 1, 1, 1, 0, 0, 0, 0, 0, 0, 0, 0,\n",
       "          0, 0, 0, 0, 0, 0, 0, 0, 0, 0, 0, 0, 0, 0, 0, 0, 0, 0, 0, 0, 0, 0, 0, 0,\n",
       "          0, 0, 0, 0, 0, 0, 0, 0, 0, 0, 0, 0, 0, 0, 0, 0, 0, 0, 0, 0, 0, 0, 0, 0,\n",
       "          0, 0, 0, 0, 0, 0, 0, 0, 0, 0, 0, 0, 0, 0, 0, 0, 0, 0, 0, 0, 0, 0, 0, 0,\n",
       "          0, 0, 0, 0, 0, 0, 0, 0]]),\n",
       " tensor([[21782, 30866, 25478, 51165, 23988, 12265,   406, 39453, 33619, 49421,\n",
       "          10040, 42718, 18018,  9167, 10808, 11495, 28077,  9807,  7627,  9036,\n",
       "           9426,  9483,   387, 11495, 10808, 11495,  9032,  6841,  7627,  9036,\n",
       "           9483,  9483,   375,   375, 10828, 11495,  9032,  6841,  7627,  9036,\n",
       "           9426,  9483,  9483,   375,   375, 10828, 11495,  9032,  6841,  7627,\n",
       "           9036,  9426,  9483,  9483,   403,   466, 18461,   453,   444, 12895,\n",
       "            462,   458,   466,   405,     1,     1,     1,     1,     1,     1,\n",
       "              1,     1,     1,     1,     1,     1,     1,     1,     1,     1,\n",
       "              1,     1,     1,     1,     1,     1,     1,     1,     1,     1,\n",
       "              1,     1,     1,     1,     1,     1,     1,     1,     1,     1,\n",
       "              1,     1,     1,     1,     1,     1,     1,     1,     1,     1,\n",
       "              1,     1,     1,     1,     1,     1,     1,     1,     1,     1,\n",
       "              1,     1,     1,     1,     1,     1,     1,     1]]),\n",
       " tensor([[1, 1, 1, 1, 1, 1, 1, 1, 1, 1, 1, 1, 1, 1, 1, 1, 1, 1, 1, 1, 1, 1, 1, 1,\n",
       "          1, 1, 1, 1, 1, 1, 1, 1, 1, 1, 1, 1, 1, 1, 1, 1, 1, 1, 1, 1, 1, 1, 1, 1,\n",
       "          1, 1, 1, 1, 1, 1, 1, 1, 1, 1, 1, 1, 1, 1, 1, 1, 0, 0, 0, 0, 0, 0, 0, 0,\n",
       "          0, 0, 0, 0, 0, 0, 0, 0, 0, 0, 0, 0, 0, 0, 0, 0, 0, 0, 0, 0, 0, 0, 0, 0,\n",
       "          0, 0, 0, 0, 0, 0, 0, 0, 0, 0, 0, 0, 0, 0, 0, 0, 0, 0, 0, 0, 0, 0, 0, 0,\n",
       "          0, 0, 0, 0, 0, 0, 0, 0]]))"
      ]
     },
     "execution_count": 11,
     "metadata": {},
     "output_type": "execute_result"
    }
   ],
   "source": [
    "train_dataset[0]"
   ]
  },
  {
   "cell_type": "markdown",
   "id": "e487312f",
   "metadata": {},
   "source": [
    "RewardDataset 클래스는 어떤 기능을 수행하는가? chatgpt/dataset폴더 내의 reward_dataset모듈을 참고"
   ]
  },
  {
   "cell_type": "markdown",
   "id": "e266c658",
   "metadata": {},
   "source": [
    "데이터셋 확인"
   ]
  },
  {
   "cell_type": "code",
   "execution_count": 12,
   "id": "7c3c0b01",
   "metadata": {},
   "outputs": [
    {
     "name": "stdout",
     "output_type": "stream",
     "text": [
      "######################################################################\n",
      "## prompt ##\n",
      "포켓몬스터 금은이 2000년 4월 일본에서 판매된 수량은?\n",
      "######################################################################\n",
      "## chosen ##\n",
      "저는 인공지능 언어모델로써 과거 또는 현재의 실제 데이터나 정보를 저장하거나 처리하는 기능은 없습니다. 또한 존재하지 않는 데이터에 대해서는 답변을 제공할 수 없습니다. 따라서 해당 질문에 대한 정확한 답변은 판매 기록 데이터를 찾아보지 않는 한 알 수 없습니다.\n",
      "######################################################################\n",
      "## rejected ##\n",
      "포켓몬스터 금은이 2000년 4월 일본에서 판매된 수량은 알 수 없습니다. 그러나 일본에서 판매된 총 수량은 1,500만 장이라고 합니다.\n"
     ]
    }
   ],
   "source": [
    "idx = 1\n",
    "print('#'*70)\n",
    "print('## prompt ##')\n",
    "print(train_data[idx]['prompt'])\n",
    "print('#'*70)\n",
    "print('## chosen ##')\n",
    "print(train_data[idx]['chosen'])\n",
    "print('#'*70)\n",
    "print('## rejected ##')\n",
    "print(train_data[idx]['rejected'])"
   ]
  },
  {
   "cell_type": "markdown",
   "id": "20246c6d",
   "metadata": {},
   "source": [
    "#### RM 학습"
   ]
  },
  {
   "cell_type": "code",
   "execution_count": 14,
   "id": "34bdf8bf",
   "metadata": {},
   "outputs": [],
   "source": [
    "trainer = RewardModelTrainer(model=RM_model,\n",
    "                             strategy=NaiveStrategy(),\n",
    "                             optim=Adam(RM_model.parameters(), lr=5e-5),\n",
    "                             train_dataset=train_dataset,\n",
    "                             eval_dataset=eval_dataset,\n",
    "                             batch_size=32,\n",
    "                             max_epochs=1)"
   ]
  },
  {
   "cell_type": "code",
   "execution_count": 15,
   "id": "69017029",
   "metadata": {
    "scrolled": false
   },
   "outputs": [
    {
     "name": "stderr",
     "output_type": "stream",
     "text": [
      "Train epoch:   0%|          | 0/1 [00:00<?, ?it/s]\n",
      "Train step of epoch 0:   0%|          | 0/157 [00:00<?, ?it/s]\u001b[A\n",
      "Train step of epoch 0:   1%|          | 1/157 [00:02<05:41,  2.19s/it]\u001b[A\n",
      "Train step of epoch 0:   1%|          | 1/157 [00:02<05:41,  2.19s/it, loss=0.678]\u001b[A\n",
      "Train step of epoch 0:   1%|▏         | 2/157 [00:03<04:29,  1.74s/it, loss=0.678]\u001b[A\n",
      "Train step of epoch 0:   1%|▏         | 2/157 [00:03<04:29,  1.74s/it, loss=0.405]\u001b[A\n",
      "Train step of epoch 0:   2%|▏         | 3/157 [00:05<04:05,  1.59s/it, loss=0.405]\u001b[A\n",
      "Train step of epoch 0:   2%|▏         | 3/157 [00:05<04:05,  1.59s/it, loss=0.34] \u001b[A\n",
      "Train step of epoch 0:   3%|▎         | 4/157 [00:06<03:53,  1.53s/it, loss=0.34]\u001b[A\n",
      "Train step of epoch 0:   3%|▎         | 4/157 [00:06<03:53,  1.53s/it, loss=0.204]\u001b[A\n",
      "Train step of epoch 0:   3%|▎         | 5/157 [00:07<03:46,  1.49s/it, loss=0.204]\u001b[A\n",
      "Train step of epoch 0:   3%|▎         | 5/157 [00:07<03:46,  1.49s/it, loss=0.189]\u001b[A\n",
      "Train step of epoch 0:   4%|▍         | 6/157 [00:09<03:42,  1.47s/it, loss=0.189]\u001b[A\n",
      "Train step of epoch 0:   4%|▍         | 6/157 [00:09<03:42,  1.47s/it, loss=0.327]\u001b[A\n",
      "Train step of epoch 0:   4%|▍         | 7/157 [00:10<03:38,  1.46s/it, loss=0.327]\u001b[A\n",
      "Train step of epoch 0:   4%|▍         | 7/157 [00:10<03:38,  1.46s/it, loss=0.207]\u001b[A\n",
      "Train step of epoch 0:   5%|▌         | 8/157 [00:12<03:36,  1.45s/it, loss=0.207]\u001b[A\n",
      "Train step of epoch 0:   5%|▌         | 8/157 [00:12<03:36,  1.45s/it, loss=0.169]\u001b[A\n",
      "Train step of epoch 0:   6%|▌         | 9/157 [00:13<03:34,  1.45s/it, loss=0.169]\u001b[A\n",
      "Train step of epoch 0:   6%|▌         | 9/157 [00:13<03:34,  1.45s/it, loss=0.0951]\u001b[A\n",
      "Train step of epoch 0:   6%|▋         | 10/157 [00:15<03:32,  1.45s/it, loss=0.0951]\u001b[A\n",
      "Train step of epoch 0:   6%|▋         | 10/157 [00:15<03:32,  1.45s/it, loss=0.169] \u001b[A\n",
      "Train step of epoch 0:   7%|▋         | 11/157 [00:16<03:31,  1.45s/it, loss=0.169]\u001b[A\n",
      "Train step of epoch 0:   7%|▋         | 11/157 [00:16<03:31,  1.45s/it, loss=0.0714]\u001b[A\n",
      "Train step of epoch 0:   8%|▊         | 12/157 [00:17<03:30,  1.45s/it, loss=0.0714]\u001b[A\n",
      "Train step of epoch 0:   8%|▊         | 12/157 [00:17<03:30,  1.45s/it, loss=0.0908]\u001b[A\n",
      "Train step of epoch 0:   8%|▊         | 13/157 [00:19<03:28,  1.45s/it, loss=0.0908]\u001b[A\n",
      "Train step of epoch 0:   8%|▊         | 13/157 [00:19<03:28,  1.45s/it, loss=0.0307]\u001b[A\n",
      "Train step of epoch 0:   9%|▉         | 14/157 [00:20<03:27,  1.45s/it, loss=0.0307]\u001b[A\n",
      "Train step of epoch 0:   9%|▉         | 14/157 [00:20<03:27,  1.45s/it, loss=0.0952]\u001b[A\n",
      "Train step of epoch 0:  10%|▉         | 15/157 [00:22<03:26,  1.45s/it, loss=0.0952]\u001b[A\n",
      "Train step of epoch 0:  10%|▉         | 15/157 [00:22<03:26,  1.45s/it, loss=0.178] \u001b[A\n",
      "Train step of epoch 0:  10%|█         | 16/157 [00:23<03:25,  1.45s/it, loss=0.178]\u001b[A\n",
      "Train step of epoch 0:  10%|█         | 16/157 [00:23<03:25,  1.45s/it, loss=0.075]\u001b[A\n",
      "Train step of epoch 0:  11%|█         | 17/157 [00:25<03:24,  1.46s/it, loss=0.075]\u001b[A\n",
      "Train step of epoch 0:  11%|█         | 17/157 [00:25<03:24,  1.46s/it, loss=0.112]\u001b[A\n",
      "Train step of epoch 0:  11%|█▏        | 18/157 [00:26<03:22,  1.46s/it, loss=0.112]\u001b[A\n",
      "Train step of epoch 0:  11%|█▏        | 18/157 [00:26<03:22,  1.46s/it, loss=0.317]\u001b[A\n",
      "Train step of epoch 0:  12%|█▏        | 19/157 [00:28<03:21,  1.46s/it, loss=0.317]\u001b[A\n",
      "Train step of epoch 0:  12%|█▏        | 19/157 [00:28<03:21,  1.46s/it, loss=0.0725]\u001b[A\n",
      "Train step of epoch 0:  13%|█▎        | 20/157 [00:29<03:20,  1.46s/it, loss=0.0725]\u001b[A\n",
      "Train step of epoch 0:  13%|█▎        | 20/157 [00:29<03:20,  1.46s/it, loss=0.0674]\u001b[A\n",
      "Train step of epoch 0:  13%|█▎        | 21/157 [00:31<03:19,  1.47s/it, loss=0.0674]\u001b[A\n",
      "Train step of epoch 0:  13%|█▎        | 21/157 [00:31<03:19,  1.47s/it, loss=0.104] \u001b[A\n",
      "Train step of epoch 0:  14%|█▍        | 22/157 [00:32<03:18,  1.47s/it, loss=0.104]\u001b[A\n",
      "Train step of epoch 0:  14%|█▍        | 22/157 [00:32<03:18,  1.47s/it, loss=0.0727]\u001b[A\n",
      "Train step of epoch 0:  15%|█▍        | 23/157 [00:34<03:17,  1.47s/it, loss=0.0727]\u001b[A\n",
      "Train step of epoch 0:  15%|█▍        | 23/157 [00:34<03:17,  1.47s/it, loss=0.183] \u001b[A\n",
      "Train step of epoch 0:  15%|█▌        | 24/157 [00:35<03:16,  1.48s/it, loss=0.183]\u001b[A\n",
      "Train step of epoch 0:  15%|█▌        | 24/157 [00:35<03:16,  1.48s/it, loss=0.0939]\u001b[A\n",
      "Train step of epoch 0:  16%|█▌        | 25/157 [00:37<03:14,  1.47s/it, loss=0.0939]\u001b[A\n",
      "Train step of epoch 0:  16%|█▌        | 25/157 [00:37<03:14,  1.47s/it, loss=0.115] \u001b[A\n",
      "Train step of epoch 0:  17%|█▋        | 26/157 [00:38<03:12,  1.47s/it, loss=0.115]\u001b[A\n",
      "Train step of epoch 0:  17%|█▋        | 26/157 [00:38<03:12,  1.47s/it, loss=0.11] \u001b[A\n",
      "Train step of epoch 0:  17%|█▋        | 27/157 [00:39<03:10,  1.47s/it, loss=0.11]\u001b[A\n",
      "Train step of epoch 0:  17%|█▋        | 27/157 [00:39<03:10,  1.47s/it, loss=0.363]\u001b[A\n",
      "Train step of epoch 0:  18%|█▊        | 28/157 [00:41<03:09,  1.47s/it, loss=0.363]\u001b[A\n",
      "Train step of epoch 0:  18%|█▊        | 28/157 [00:41<03:09,  1.47s/it, loss=0.116]\u001b[A\n",
      "Train step of epoch 0:  18%|█▊        | 29/157 [00:42<03:07,  1.46s/it, loss=0.116]\u001b[A\n",
      "Train step of epoch 0:  18%|█▊        | 29/157 [00:42<03:07,  1.46s/it, loss=0.131]\u001b[A\n",
      "Train step of epoch 0:  19%|█▉        | 30/157 [00:44<03:05,  1.46s/it, loss=0.131]\u001b[A\n",
      "Train step of epoch 0:  19%|█▉        | 30/157 [00:44<03:05,  1.46s/it, loss=0.115]\u001b[A\n",
      "Train step of epoch 0:  20%|█▉        | 31/157 [00:45<03:02,  1.45s/it, loss=0.115]\u001b[A\n",
      "Train step of epoch 0:  20%|█▉        | 31/157 [00:45<03:02,  1.45s/it, loss=0.017]\u001b[A\n",
      "Train step of epoch 0:  20%|██        | 32/157 [00:47<03:01,  1.45s/it, loss=0.017]\u001b[A\n",
      "Train step of epoch 0:  20%|██        | 32/157 [00:47<03:01,  1.45s/it, loss=0.157]\u001b[A\n",
      "Train step of epoch 0:  21%|██        | 33/157 [00:48<02:59,  1.45s/it, loss=0.157]\u001b[A\n",
      "Train step of epoch 0:  21%|██        | 33/157 [00:48<02:59,  1.45s/it, loss=0.174]\u001b[A\n",
      "Train step of epoch 0:  22%|██▏       | 34/157 [00:50<02:57,  1.44s/it, loss=0.174]\u001b[A\n",
      "Train step of epoch 0:  22%|██▏       | 34/157 [00:50<02:57,  1.44s/it, loss=0.0113]\u001b[A\n",
      "Train step of epoch 0:  22%|██▏       | 35/157 [00:51<02:55,  1.44s/it, loss=0.0113]\u001b[A\n",
      "Train step of epoch 0:  22%|██▏       | 35/157 [00:51<02:55,  1.44s/it, loss=0.101] \u001b[A\n",
      "Train step of epoch 0:  23%|██▎       | 36/157 [00:52<02:54,  1.44s/it, loss=0.101]\u001b[A\n",
      "Train step of epoch 0:  23%|██▎       | 36/157 [00:52<02:54,  1.44s/it, loss=0.249]\u001b[A\n",
      "Train step of epoch 0:  24%|██▎       | 37/157 [00:54<02:52,  1.44s/it, loss=0.249]\u001b[A\n",
      "Train step of epoch 0:  24%|██▎       | 37/157 [00:54<02:52,  1.44s/it, loss=0.0663]\u001b[A\n",
      "Train step of epoch 0:  24%|██▍       | 38/157 [00:55<02:51,  1.44s/it, loss=0.0663]\u001b[A\n",
      "Train step of epoch 0:  24%|██▍       | 38/157 [00:55<02:51,  1.44s/it, loss=0.163] \u001b[A\n",
      "Train step of epoch 0:  25%|██▍       | 39/157 [00:57<02:49,  1.44s/it, loss=0.163]\u001b[A\n",
      "Train step of epoch 0:  25%|██▍       | 39/157 [00:57<02:49,  1.44s/it, loss=0.134]\u001b[A\n",
      "Train step of epoch 0:  25%|██▌       | 40/157 [00:58<02:48,  1.44s/it, loss=0.134]\u001b[A\n",
      "Train step of epoch 0:  25%|██▌       | 40/157 [00:58<02:48,  1.44s/it, loss=0.193]\u001b[A\n",
      "Train step of epoch 0:  26%|██▌       | 41/157 [01:00<02:46,  1.44s/it, loss=0.193]\u001b[A\n",
      "Train step of epoch 0:  26%|██▌       | 41/157 [01:00<02:46,  1.44s/it, loss=0.0727]\u001b[A\n",
      "Train step of epoch 0:  27%|██▋       | 42/157 [01:01<02:44,  1.43s/it, loss=0.0727]\u001b[A\n",
      "Train step of epoch 0:  27%|██▋       | 42/157 [01:01<02:44,  1.43s/it, loss=0.0136]\u001b[A\n",
      "Train step of epoch 0:  27%|██▋       | 43/157 [01:02<02:42,  1.43s/it, loss=0.0136]\u001b[A\n",
      "Train step of epoch 0:  27%|██▋       | 43/157 [01:03<02:42,  1.43s/it, loss=0.249] \u001b[A\n",
      "Train step of epoch 0:  28%|██▊       | 44/157 [01:04<02:41,  1.43s/it, loss=0.249]\u001b[A\n",
      "Train step of epoch 0:  28%|██▊       | 44/157 [01:04<02:41,  1.43s/it, loss=0.0592]\u001b[A\n",
      "Train step of epoch 0:  29%|██▊       | 45/157 [01:05<02:39,  1.43s/it, loss=0.0592]\u001b[A\n",
      "Train step of epoch 0:  29%|██▊       | 45/157 [01:05<02:39,  1.43s/it, loss=0.0822]\u001b[A\n",
      "Train step of epoch 0:  29%|██▉       | 46/157 [01:07<02:38,  1.42s/it, loss=0.0822]\u001b[A\n",
      "Train step of epoch 0:  29%|██▉       | 46/157 [01:07<02:38,  1.42s/it, loss=0.114] \u001b[A\n",
      "Train step of epoch 0:  30%|██▉       | 47/157 [01:08<02:36,  1.42s/it, loss=0.114]\u001b[A\n",
      "Train step of epoch 0:  30%|██▉       | 47/157 [01:08<02:36,  1.42s/it, loss=0.0433]\u001b[A\n",
      "Train step of epoch 0:  31%|███       | 48/157 [01:10<02:35,  1.42s/it, loss=0.0433]\u001b[A\n",
      "Train step of epoch 0:  31%|███       | 48/157 [01:10<02:35,  1.42s/it, loss=0.137] \u001b[A\n",
      "Train step of epoch 0:  31%|███       | 49/157 [01:11<02:33,  1.42s/it, loss=0.137]\u001b[A\n",
      "Train step of epoch 0:  31%|███       | 49/157 [01:11<02:33,  1.42s/it, loss=0.11] \u001b[A\n",
      "Train step of epoch 0:  32%|███▏      | 50/157 [01:12<02:32,  1.43s/it, loss=0.11]\u001b[A\n",
      "Train step of epoch 0:  32%|███▏      | 50/157 [01:12<02:32,  1.43s/it, loss=0.129]\u001b[A\n",
      "Train step of epoch 0:  32%|███▏      | 51/157 [01:14<02:30,  1.42s/it, loss=0.129]\u001b[A\n",
      "Train step of epoch 0:  32%|███▏      | 51/157 [01:14<02:30,  1.42s/it, loss=0.0468]\u001b[A\n",
      "Train step of epoch 0:  33%|███▎      | 52/157 [01:15<02:28,  1.41s/it, loss=0.0468]\u001b[A\n",
      "Train step of epoch 0:  33%|███▎      | 52/157 [01:15<02:28,  1.41s/it, loss=0.0936]\u001b[A\n",
      "Train step of epoch 0:  34%|███▍      | 53/157 [01:17<02:26,  1.41s/it, loss=0.0936]\u001b[A\n",
      "Train step of epoch 0:  34%|███▍      | 53/157 [01:17<02:26,  1.41s/it, loss=0.0754]\u001b[A\n",
      "Train step of epoch 0:  34%|███▍      | 54/157 [01:18<02:25,  1.42s/it, loss=0.0754]\u001b[A\n",
      "Train step of epoch 0:  34%|███▍      | 54/157 [01:18<02:25,  1.42s/it, loss=0.111] \u001b[A\n",
      "Train step of epoch 0:  35%|███▌      | 55/157 [01:19<02:24,  1.42s/it, loss=0.111]\u001b[A\n",
      "Train step of epoch 0:  35%|███▌      | 55/157 [01:20<02:24,  1.42s/it, loss=0.386]\u001b[A\n",
      "Train step of epoch 0:  36%|███▌      | 56/157 [01:21<02:22,  1.41s/it, loss=0.386]\u001b[A\n",
      "Train step of epoch 0:  36%|███▌      | 56/157 [01:21<02:22,  1.41s/it, loss=0.0985]\u001b[A\n",
      "Train step of epoch 0:  36%|███▋      | 57/157 [01:22<02:21,  1.41s/it, loss=0.0985]\u001b[A\n",
      "Train step of epoch 0:  36%|███▋      | 57/157 [01:22<02:21,  1.41s/it, loss=0.131] \u001b[A\n",
      "Train step of epoch 0:  37%|███▋      | 58/157 [01:24<02:19,  1.41s/it, loss=0.131]\u001b[A\n",
      "Train step of epoch 0:  37%|███▋      | 58/157 [01:24<02:19,  1.41s/it, loss=0.306]\u001b[A\n",
      "Train step of epoch 0:  38%|███▊      | 59/157 [01:25<02:18,  1.42s/it, loss=0.306]\u001b[A\n",
      "Train step of epoch 0:  38%|███▊      | 59/157 [01:25<02:18,  1.42s/it, loss=0.0992]\u001b[A\n",
      "Train step of epoch 0:  38%|███▊      | 60/157 [01:27<02:18,  1.42s/it, loss=0.0992]\u001b[A\n",
      "Train step of epoch 0:  38%|███▊      | 60/157 [01:27<02:18,  1.42s/it, loss=0.0772]\u001b[A\n",
      "Train step of epoch 0:  39%|███▉      | 61/157 [01:28<02:17,  1.43s/it, loss=0.0772]\u001b[A\n",
      "Train step of epoch 0:  39%|███▉      | 61/157 [01:28<02:17,  1.43s/it, loss=0.0375]\u001b[A\n",
      "Train step of epoch 0:  39%|███▉      | 62/157 [01:29<02:16,  1.44s/it, loss=0.0375]\u001b[A\n",
      "Train step of epoch 0:  39%|███▉      | 62/157 [01:30<02:16,  1.44s/it, loss=0.122] \u001b[A\n",
      "Train step of epoch 0:  40%|████      | 63/157 [01:31<02:15,  1.44s/it, loss=0.122]\u001b[A\n",
      "Train step of epoch 0:  40%|████      | 63/157 [01:31<02:15,  1.44s/it, loss=0.149]\u001b[A\n",
      "Train step of epoch 0:  41%|████      | 64/157 [01:32<02:14,  1.44s/it, loss=0.149]\u001b[A\n",
      "Train step of epoch 0:  41%|████      | 64/157 [01:32<02:14,  1.44s/it, loss=0.0844]\u001b[A\n",
      "Train step of epoch 0:  41%|████▏     | 65/157 [01:34<02:12,  1.44s/it, loss=0.0844]\u001b[A\n",
      "Train step of epoch 0:  41%|████▏     | 65/157 [01:34<02:12,  1.44s/it, loss=0.0823]\u001b[A\n",
      "Train step of epoch 0:  42%|████▏     | 66/157 [01:35<02:11,  1.44s/it, loss=0.0823]\u001b[A\n",
      "Train step of epoch 0:  42%|████▏     | 66/157 [01:35<02:11,  1.44s/it, loss=0.131] \u001b[A\n",
      "Train step of epoch 0:  43%|████▎     | 67/157 [01:37<02:09,  1.44s/it, loss=0.131]\u001b[A\n",
      "Train step of epoch 0:  43%|████▎     | 67/157 [01:37<02:09,  1.44s/it, loss=0.139]\u001b[A\n",
      "Train step of epoch 0:  43%|████▎     | 68/157 [01:38<02:08,  1.44s/it, loss=0.139]\u001b[A\n",
      "Train step of epoch 0:  43%|████▎     | 68/157 [01:38<02:08,  1.44s/it, loss=0.196]\u001b[A\n",
      "Train step of epoch 0:  44%|████▍     | 69/157 [01:40<02:06,  1.44s/it, loss=0.196]\u001b[A\n",
      "Train step of epoch 0:  44%|████▍     | 69/157 [01:40<02:06,  1.44s/it, loss=0.0878]\u001b[A\n",
      "Train step of epoch 0:  45%|████▍     | 70/157 [01:41<02:05,  1.44s/it, loss=0.0878]\u001b[A\n",
      "Train step of epoch 0:  45%|████▍     | 70/157 [01:41<02:05,  1.44s/it, loss=0.0492]\u001b[A\n",
      "Train step of epoch 0:  45%|████▌     | 71/157 [01:42<02:03,  1.43s/it, loss=0.0492]\u001b[A\n",
      "Train step of epoch 0:  45%|████▌     | 71/157 [01:42<02:03,  1.43s/it, loss=0.142] \u001b[A\n",
      "Train step of epoch 0:  46%|████▌     | 72/157 [01:44<02:01,  1.43s/it, loss=0.142]\u001b[A\n",
      "Train step of epoch 0:  46%|████▌     | 72/157 [01:44<02:01,  1.43s/it, loss=0.021]\u001b[A\n",
      "Train step of epoch 0:  46%|████▋     | 73/157 [01:45<01:59,  1.43s/it, loss=0.021]\u001b[A\n",
      "Train step of epoch 0:  46%|████▋     | 73/157 [01:45<01:59,  1.43s/it, loss=0.205]\u001b[A\n",
      "Train step of epoch 0:  47%|████▋     | 74/157 [01:47<01:58,  1.43s/it, loss=0.205]\u001b[A\n",
      "Train step of epoch 0:  47%|████▋     | 74/157 [01:47<01:58,  1.43s/it, loss=0.12] \u001b[A\n",
      "Train step of epoch 0:  48%|████▊     | 75/157 [01:48<01:57,  1.43s/it, loss=0.12]\u001b[A\n",
      "Train step of epoch 0:  48%|████▊     | 75/157 [01:48<01:57,  1.43s/it, loss=0.0331]\u001b[A\n",
      "Train step of epoch 0:  48%|████▊     | 76/157 [01:50<01:55,  1.43s/it, loss=0.0331]\u001b[A\n",
      "Train step of epoch 0:  48%|████▊     | 76/157 [01:50<01:55,  1.43s/it, loss=0.103] \u001b[A\n",
      "Train step of epoch 0:  49%|████▉     | 77/157 [01:51<01:54,  1.43s/it, loss=0.103]\u001b[A\n",
      "Train step of epoch 0:  49%|████▉     | 77/157 [01:51<01:54,  1.43s/it, loss=0.126]\u001b[A\n",
      "Train step of epoch 0:  50%|████▉     | 78/157 [01:52<01:53,  1.43s/it, loss=0.126]\u001b[A\n",
      "Train step of epoch 0:  50%|████▉     | 78/157 [01:52<01:53,  1.43s/it, loss=0.146]\u001b[A\n",
      "Train step of epoch 0:  50%|█████     | 79/157 [01:54<01:51,  1.43s/it, loss=0.146]\u001b[A\n",
      "Train step of epoch 0:  50%|█████     | 79/157 [01:54<01:51,  1.43s/it, loss=0.0358]\u001b[A\n",
      "Train step of epoch 0:  51%|█████     | 80/157 [01:55<01:49,  1.43s/it, loss=0.0358]\u001b[A\n",
      "Train step of epoch 0:  51%|█████     | 80/157 [01:55<01:49,  1.43s/it, loss=0.239] \u001b[A\n",
      "Train step of epoch 0:  52%|█████▏    | 81/157 [01:57<01:48,  1.43s/it, loss=0.239]\u001b[A\n",
      "Train step of epoch 0:  52%|█████▏    | 81/157 [01:57<01:48,  1.43s/it, loss=0.0621]\u001b[A\n",
      "Train step of epoch 0:  52%|█████▏    | 82/157 [01:58<01:47,  1.43s/it, loss=0.0621]\u001b[A\n",
      "Train step of epoch 0:  52%|█████▏    | 82/157 [01:58<01:47,  1.43s/it, loss=0.0343]\u001b[A\n",
      "Train step of epoch 0:  53%|█████▎    | 83/157 [02:00<01:45,  1.43s/it, loss=0.0343]\u001b[A\n",
      "Train step of epoch 0:  53%|█████▎    | 83/157 [02:00<01:45,  1.43s/it, loss=0.0643]\u001b[A\n",
      "Train step of epoch 0:  54%|█████▎    | 84/157 [02:01<01:44,  1.43s/it, loss=0.0643]\u001b[A\n",
      "Train step of epoch 0:  54%|█████▎    | 84/157 [02:01<01:44,  1.43s/it, loss=0.101] \u001b[A\n",
      "Train step of epoch 0:  54%|█████▍    | 85/157 [02:02<01:43,  1.43s/it, loss=0.101]\u001b[A\n",
      "Train step of epoch 0:  54%|█████▍    | 85/157 [02:02<01:43,  1.43s/it, loss=0.127]\u001b[A\n",
      "Train step of epoch 0:  55%|█████▍    | 86/157 [02:04<01:41,  1.43s/it, loss=0.127]\u001b[A\n",
      "Train step of epoch 0:  55%|█████▍    | 86/157 [02:04<01:41,  1.43s/it, loss=0.0954]\u001b[A\n",
      "Train step of epoch 0:  55%|█████▌    | 87/157 [02:05<01:40,  1.43s/it, loss=0.0954]\u001b[A\n",
      "Train step of epoch 0:  55%|█████▌    | 87/157 [02:05<01:40,  1.43s/it, loss=0.0226]\u001b[A\n",
      "Train step of epoch 0:  56%|█████▌    | 88/157 [02:07<01:39,  1.44s/it, loss=0.0226]\u001b[A\n",
      "Train step of epoch 0:  56%|█████▌    | 88/157 [02:07<01:39,  1.44s/it, loss=0.104] \u001b[A\n",
      "Train step of epoch 0:  57%|█████▋    | 89/157 [02:08<01:37,  1.43s/it, loss=0.104]\u001b[A\n",
      "Train step of epoch 0:  57%|█████▋    | 89/157 [02:08<01:37,  1.43s/it, loss=0.177]\u001b[A\n",
      "Train step of epoch 0:  57%|█████▋    | 90/157 [02:10<01:35,  1.43s/it, loss=0.177]\u001b[A\n",
      "Train step of epoch 0:  57%|█████▋    | 90/157 [02:10<01:35,  1.43s/it, loss=0.211]\u001b[A\n",
      "Train step of epoch 0:  58%|█████▊    | 91/157 [02:11<01:34,  1.43s/it, loss=0.211]\u001b[A\n",
      "Train step of epoch 0:  58%|█████▊    | 91/157 [02:11<01:34,  1.43s/it, loss=0.201]\u001b[A\n",
      "Train step of epoch 0:  59%|█████▊    | 92/157 [02:13<01:33,  1.43s/it, loss=0.201]\u001b[A\n",
      "Train step of epoch 0:  59%|█████▊    | 92/157 [02:13<01:33,  1.43s/it, loss=0.0842]\u001b[A\n",
      "Train step of epoch 0:  59%|█████▉    | 93/157 [02:14<01:31,  1.43s/it, loss=0.0842]\u001b[A\n",
      "Train step of epoch 0:  59%|█████▉    | 93/157 [02:14<01:31,  1.43s/it, loss=0.0505]\u001b[A\n",
      "Train step of epoch 0:  60%|█████▉    | 94/157 [02:15<01:29,  1.43s/it, loss=0.0505]\u001b[A\n",
      "Train step of epoch 0:  60%|█████▉    | 94/157 [02:15<01:29,  1.43s/it, loss=0.221] \u001b[A\n",
      "Train step of epoch 0:  61%|██████    | 95/157 [02:17<01:28,  1.43s/it, loss=0.221]\u001b[A\n",
      "Train step of epoch 0:  61%|██████    | 95/157 [02:17<01:28,  1.43s/it, loss=0.0967]\u001b[A\n",
      "Train step of epoch 0:  61%|██████    | 96/157 [02:18<01:27,  1.43s/it, loss=0.0967]\u001b[A\n",
      "Train step of epoch 0:  61%|██████    | 96/157 [02:18<01:27,  1.43s/it, loss=0.097] \u001b[A\n",
      "Train step of epoch 0:  62%|██████▏   | 97/157 [02:20<01:25,  1.43s/it, loss=0.097]\u001b[A\n",
      "Train step of epoch 0:  62%|██████▏   | 97/157 [02:20<01:25,  1.43s/it, loss=0.14] \u001b[A\n",
      "Train step of epoch 0:  62%|██████▏   | 98/157 [02:21<01:24,  1.43s/it, loss=0.14]\u001b[A\n",
      "Train step of epoch 0:  62%|██████▏   | 98/157 [02:21<01:24,  1.43s/it, loss=0.0538]\u001b[A\n",
      "Train step of epoch 0:  63%|██████▎   | 99/157 [02:23<01:22,  1.43s/it, loss=0.0538]\u001b[A\n",
      "Train step of epoch 0:  63%|██████▎   | 99/157 [02:23<01:22,  1.43s/it, loss=0.115] \u001b[A\n",
      "Train step of epoch 0:  64%|██████▎   | 100/157 [02:24<01:21,  1.43s/it, loss=0.115]\u001b[A\n",
      "Train step of epoch 0:  64%|██████▎   | 100/157 [02:24<01:21,  1.43s/it, loss=0.0945]\u001b[A\n",
      "Train step of epoch 0:  64%|██████▍   | 101/157 [02:25<01:20,  1.43s/it, loss=0.0945]\u001b[A\n",
      "Train step of epoch 0:  64%|██████▍   | 101/157 [02:25<01:20,  1.43s/it, loss=0.0567]\u001b[A\n",
      "Train step of epoch 0:  65%|██████▍   | 102/157 [02:27<01:18,  1.43s/it, loss=0.0567]\u001b[A\n",
      "Train step of epoch 0:  65%|██████▍   | 102/157 [02:27<01:18,  1.43s/it, loss=0.0529]\u001b[A\n",
      "Train step of epoch 0:  66%|██████▌   | 103/157 [02:28<01:17,  1.43s/it, loss=0.0529]\u001b[A\n",
      "Train step of epoch 0:  66%|██████▌   | 103/157 [02:28<01:17,  1.43s/it, loss=0.0233]\u001b[A\n",
      "Train step of epoch 0:  66%|██████▌   | 104/157 [02:30<01:15,  1.43s/it, loss=0.0233]\u001b[A\n",
      "Train step of epoch 0:  66%|██████▌   | 104/157 [02:30<01:15,  1.43s/it, loss=0.193] \u001b[A\n",
      "Train step of epoch 0:  67%|██████▋   | 105/157 [02:31<01:14,  1.43s/it, loss=0.193]\u001b[A\n",
      "Train step of epoch 0:  67%|██████▋   | 105/157 [02:31<01:14,  1.43s/it, loss=0.124]\u001b[A\n",
      "Train step of epoch 0:  68%|██████▊   | 106/157 [02:33<01:12,  1.43s/it, loss=0.124]\u001b[A\n",
      "Train step of epoch 0:  68%|██████▊   | 106/157 [02:33<01:12,  1.43s/it, loss=0.0779]\u001b[A\n",
      "Train step of epoch 0:  68%|██████▊   | 107/157 [02:34<01:11,  1.43s/it, loss=0.0779]\u001b[A\n",
      "Train step of epoch 0:  68%|██████▊   | 107/157 [02:34<01:11,  1.43s/it, loss=0.0634]\u001b[A\n",
      "Train step of epoch 0:  69%|██████▉   | 108/157 [02:35<01:09,  1.43s/it, loss=0.0634]\u001b[A\n",
      "Train step of epoch 0:  69%|██████▉   | 108/157 [02:35<01:09,  1.43s/it, loss=0.0896]\u001b[A\n",
      "Train step of epoch 0:  69%|██████▉   | 109/157 [02:37<01:08,  1.42s/it, loss=0.0896]\u001b[A\n",
      "Train step of epoch 0:  69%|██████▉   | 109/157 [02:37<01:08,  1.42s/it, loss=0.0277]\u001b[A\n",
      "Train step of epoch 0:  70%|███████   | 110/157 [02:38<01:06,  1.42s/it, loss=0.0277]\u001b[A\n",
      "Train step of epoch 0:  70%|███████   | 110/157 [02:38<01:06,  1.42s/it, loss=0.00958]\u001b[A\n",
      "Train step of epoch 0:  71%|███████   | 111/157 [02:40<01:05,  1.42s/it, loss=0.00958]\u001b[A\n",
      "Train step of epoch 0:  71%|███████   | 111/157 [02:40<01:05,  1.42s/it, loss=0.0251] \u001b[A\n",
      "Train step of epoch 0:  71%|███████▏  | 112/157 [02:41<01:03,  1.41s/it, loss=0.0251]\u001b[A\n",
      "Train step of epoch 0:  71%|███████▏  | 112/157 [02:41<01:03,  1.41s/it, loss=0.0501]\u001b[A\n",
      "Train step of epoch 0:  72%|███████▏  | 113/157 [02:42<01:02,  1.41s/it, loss=0.0501]\u001b[A\n",
      "Train step of epoch 0:  72%|███████▏  | 113/157 [02:42<01:02,  1.41s/it, loss=0.141] \u001b[A\n",
      "Train step of epoch 0:  73%|███████▎  | 114/157 [02:44<01:00,  1.41s/it, loss=0.141]\u001b[A\n",
      "Train step of epoch 0:  73%|███████▎  | 114/157 [02:44<01:00,  1.41s/it, loss=0.0169]\u001b[A\n",
      "Train step of epoch 0:  73%|███████▎  | 115/157 [02:45<00:59,  1.41s/it, loss=0.0169]\u001b[A\n",
      "Train step of epoch 0:  73%|███████▎  | 115/157 [02:45<00:59,  1.41s/it, loss=0.0319]\u001b[A\n",
      "Train step of epoch 0:  74%|███████▍  | 116/157 [02:47<00:57,  1.41s/it, loss=0.0319]\u001b[A\n",
      "Train step of epoch 0:  74%|███████▍  | 116/157 [02:47<00:57,  1.41s/it, loss=0.16]  \u001b[A\n",
      "Train step of epoch 0:  75%|███████▍  | 117/157 [02:48<00:56,  1.41s/it, loss=0.16]\u001b[A\n",
      "Train step of epoch 0:  75%|███████▍  | 117/157 [02:48<00:56,  1.41s/it, loss=0.12]\u001b[A\n",
      "Train step of epoch 0:  75%|███████▌  | 118/157 [02:49<00:55,  1.41s/it, loss=0.12]\u001b[A\n",
      "Train step of epoch 0:  75%|███████▌  | 118/157 [02:50<00:55,  1.41s/it, loss=0.185]\u001b[A\n",
      "Train step of epoch 0:  76%|███████▌  | 119/157 [02:51<00:53,  1.42s/it, loss=0.185]\u001b[A\n",
      "Train step of epoch 0:  76%|███████▌  | 119/157 [02:51<00:53,  1.42s/it, loss=0.173]\u001b[A\n",
      "Train step of epoch 0:  76%|███████▋  | 120/157 [02:52<00:52,  1.42s/it, loss=0.173]\u001b[A\n",
      "Train step of epoch 0:  76%|███████▋  | 120/157 [02:52<00:52,  1.42s/it, loss=0.0859]\u001b[A\n",
      "Train step of epoch 0:  77%|███████▋  | 121/157 [02:54<00:51,  1.42s/it, loss=0.0859]\u001b[A\n",
      "Train step of epoch 0:  77%|███████▋  | 121/157 [02:54<00:51,  1.42s/it, loss=0.112] \u001b[A\n",
      "Train step of epoch 0:  78%|███████▊  | 122/157 [02:55<00:49,  1.42s/it, loss=0.112]\u001b[A\n",
      "Train step of epoch 0:  78%|███████▊  | 122/157 [02:55<00:49,  1.42s/it, loss=0.0518]\u001b[A\n",
      "Train step of epoch 0:  78%|███████▊  | 123/157 [02:57<00:48,  1.43s/it, loss=0.0518]\u001b[A\n",
      "Train step of epoch 0:  78%|███████▊  | 123/157 [02:57<00:48,  1.43s/it, loss=0.0166]\u001b[A\n",
      "Train step of epoch 0:  79%|███████▉  | 124/157 [02:58<00:47,  1.43s/it, loss=0.0166]\u001b[A\n",
      "Train step of epoch 0:  79%|███████▉  | 124/157 [02:58<00:47,  1.43s/it, loss=0.073] \u001b[A\n",
      "Train step of epoch 0:  80%|███████▉  | 125/157 [03:00<00:45,  1.44s/it, loss=0.073]\u001b[A\n",
      "Train step of epoch 0:  80%|███████▉  | 125/157 [03:00<00:45,  1.44s/it, loss=0.0745]\u001b[A\n",
      "Train step of epoch 0:  80%|████████  | 126/157 [03:01<00:44,  1.44s/it, loss=0.0745]\u001b[A\n",
      "Train step of epoch 0:  80%|████████  | 126/157 [03:01<00:44,  1.44s/it, loss=0.112] \u001b[A\n",
      "Train step of epoch 0:  81%|████████  | 127/157 [03:02<00:43,  1.44s/it, loss=0.112]\u001b[A\n",
      "Train step of epoch 0:  81%|████████  | 127/157 [03:02<00:43,  1.44s/it, loss=0.0914]\u001b[A\n",
      "Train step of epoch 0:  82%|████████▏ | 128/157 [03:04<00:41,  1.44s/it, loss=0.0914]\u001b[A\n",
      "Train step of epoch 0:  82%|████████▏ | 128/157 [03:04<00:41,  1.44s/it, loss=0.0304]\u001b[A\n",
      "Train step of epoch 0:  82%|████████▏ | 129/157 [03:05<00:40,  1.43s/it, loss=0.0304]\u001b[A\n",
      "Train step of epoch 0:  82%|████████▏ | 129/157 [03:05<00:40,  1.43s/it, loss=0.107] \u001b[A\n",
      "Train step of epoch 0:  83%|████████▎ | 130/157 [03:07<00:38,  1.43s/it, loss=0.107]\u001b[A\n",
      "Train step of epoch 0:  83%|████████▎ | 130/157 [03:07<00:38,  1.43s/it, loss=0.0145]\u001b[A\n",
      "Train step of epoch 0:  83%|████████▎ | 131/157 [03:08<00:36,  1.42s/it, loss=0.0145]\u001b[A\n",
      "Train step of epoch 0:  83%|████████▎ | 131/157 [03:08<00:36,  1.42s/it, loss=0.0203]\u001b[A\n",
      "Train step of epoch 0:  84%|████████▍ | 132/157 [03:09<00:35,  1.42s/it, loss=0.0203]\u001b[A\n",
      "Train step of epoch 0:  84%|████████▍ | 132/157 [03:10<00:35,  1.42s/it, loss=0.333] \u001b[A\n",
      "Train step of epoch 0:  85%|████████▍ | 133/157 [03:11<00:34,  1.42s/it, loss=0.333]\u001b[A\n",
      "Train step of epoch 0:  85%|████████▍ | 133/157 [03:11<00:34,  1.42s/it, loss=0.149]\u001b[A\n",
      "Train step of epoch 0:  85%|████████▌ | 134/157 [03:12<00:32,  1.42s/it, loss=0.149]\u001b[A\n",
      "Train step of epoch 0:  85%|████████▌ | 134/157 [03:12<00:32,  1.42s/it, loss=0.12] \u001b[A\n",
      "Train step of epoch 0:  86%|████████▌ | 135/157 [03:14<00:31,  1.42s/it, loss=0.12]\u001b[A\n",
      "Train step of epoch 0:  86%|████████▌ | 135/157 [03:14<00:31,  1.42s/it, loss=0.133]\u001b[A\n",
      "Train step of epoch 0:  87%|████████▋ | 136/157 [03:15<00:29,  1.43s/it, loss=0.133]\u001b[A\n",
      "Train step of epoch 0:  87%|████████▋ | 136/157 [03:15<00:29,  1.43s/it, loss=0.0763]\u001b[A\n",
      "Train step of epoch 0:  87%|████████▋ | 137/157 [03:17<00:28,  1.43s/it, loss=0.0763]\u001b[A\n",
      "Train step of epoch 0:  87%|████████▋ | 137/157 [03:17<00:28,  1.43s/it, loss=0.0418]\u001b[A\n",
      "Train step of epoch 0:  88%|████████▊ | 138/157 [03:18<00:27,  1.43s/it, loss=0.0418]\u001b[A\n",
      "Train step of epoch 0:  88%|████████▊ | 138/157 [03:18<00:27,  1.43s/it, loss=0.0371]\u001b[A\n",
      "Train step of epoch 0:  89%|████████▊ | 139/157 [03:20<00:25,  1.43s/it, loss=0.0371]\u001b[A\n",
      "Train step of epoch 0:  89%|████████▊ | 139/157 [03:20<00:25,  1.43s/it, loss=0.103] \u001b[A\n",
      "Train step of epoch 0:  89%|████████▉ | 140/157 [03:21<00:24,  1.44s/it, loss=0.103]\u001b[A\n",
      "Train step of epoch 0:  89%|████████▉ | 140/157 [03:21<00:24,  1.44s/it, loss=0.0536]\u001b[A\n",
      "Train step of epoch 0:  90%|████████▉ | 141/157 [03:22<00:22,  1.43s/it, loss=0.0536]\u001b[A\n",
      "Train step of epoch 0:  90%|████████▉ | 141/157 [03:22<00:22,  1.43s/it, loss=0.149] \u001b[A\n",
      "Train step of epoch 0:  90%|█████████ | 142/157 [03:24<00:21,  1.43s/it, loss=0.149]\u001b[A\n",
      "Train step of epoch 0:  90%|█████████ | 142/157 [03:24<00:21,  1.43s/it, loss=0.169]\u001b[A\n",
      "Train step of epoch 0:  91%|█████████ | 143/157 [03:25<00:20,  1.44s/it, loss=0.169]\u001b[A\n",
      "Train step of epoch 0:  91%|█████████ | 143/157 [03:25<00:20,  1.44s/it, loss=0.0866]\u001b[A\n",
      "Train step of epoch 0:  92%|█████████▏| 144/157 [03:27<00:18,  1.44s/it, loss=0.0866]\u001b[A\n",
      "Train step of epoch 0:  92%|█████████▏| 144/157 [03:27<00:18,  1.44s/it, loss=0.144] \u001b[A\n",
      "Train step of epoch 0:  92%|█████████▏| 145/157 [03:28<00:17,  1.44s/it, loss=0.144]\u001b[A\n",
      "Train step of epoch 0:  92%|█████████▏| 145/157 [03:28<00:17,  1.44s/it, loss=0.0793]\u001b[A\n",
      "Train step of epoch 0:  93%|█████████▎| 146/157 [03:30<00:15,  1.44s/it, loss=0.0793]\u001b[A\n",
      "Train step of epoch 0:  93%|█████████▎| 146/157 [03:30<00:15,  1.44s/it, loss=0.0594]\u001b[A\n",
      "Train step of epoch 0:  94%|█████████▎| 147/157 [03:31<00:14,  1.44s/it, loss=0.0594]\u001b[A\n",
      "Train step of epoch 0:  94%|█████████▎| 147/157 [03:31<00:14,  1.44s/it, loss=0.0495]\u001b[A\n",
      "Train step of epoch 0:  94%|█████████▍| 148/157 [03:32<00:12,  1.44s/it, loss=0.0495]\u001b[A\n",
      "Train step of epoch 0:  94%|█████████▍| 148/157 [03:32<00:12,  1.44s/it, loss=0.123] \u001b[A\n",
      "Train step of epoch 0:  95%|█████████▍| 149/157 [03:34<00:11,  1.43s/it, loss=0.123]\u001b[A\n",
      "Train step of epoch 0:  95%|█████████▍| 149/157 [03:34<00:11,  1.43s/it, loss=0.114]\u001b[A\n",
      "Train step of epoch 0:  96%|█████████▌| 150/157 [03:35<00:10,  1.43s/it, loss=0.114]\u001b[A\n",
      "Train step of epoch 0:  96%|█████████▌| 150/157 [03:35<00:10,  1.43s/it, loss=0.0391]\u001b[A\n",
      "Train step of epoch 0:  96%|█████████▌| 151/157 [03:37<00:08,  1.43s/it, loss=0.0391]\u001b[A\n",
      "Train step of epoch 0:  96%|█████████▌| 151/157 [03:37<00:08,  1.43s/it, loss=0.108] \u001b[A\n",
      "Train step of epoch 0:  97%|█████████▋| 152/157 [03:38<00:07,  1.43s/it, loss=0.108]\u001b[A\n",
      "Train step of epoch 0:  97%|█████████▋| 152/157 [03:38<00:07,  1.43s/it, loss=0.112]\u001b[A\n",
      "Train step of epoch 0:  97%|█████████▋| 153/157 [03:40<00:05,  1.42s/it, loss=0.112]\u001b[A\n",
      "Train step of epoch 0:  97%|█████████▋| 153/157 [03:40<00:05,  1.42s/it, loss=0.0919]\u001b[A\n",
      "Train step of epoch 0:  98%|█████████▊| 154/157 [03:41<00:04,  1.42s/it, loss=0.0919]\u001b[A\n",
      "Train step of epoch 0:  98%|█████████▊| 154/157 [03:41<00:04,  1.42s/it, loss=0.0618]\u001b[A\n",
      "Train step of epoch 0:  99%|█████████▊| 155/157 [03:42<00:02,  1.42s/it, loss=0.0618]\u001b[A\n",
      "Train step of epoch 0:  99%|█████████▊| 155/157 [03:42<00:02,  1.42s/it, loss=0.0264]\u001b[A\n",
      "Train step of epoch 0:  99%|█████████▉| 156/157 [03:44<00:01,  1.42s/it, loss=0.0264]\u001b[A\n",
      "Train step of epoch 0:  99%|█████████▉| 156/157 [03:44<00:01,  1.42s/it, loss=0.0908]\u001b[A\n",
      "Train step of epoch 0: 100%|██████████| 157/157 [03:44<00:00,  1.12s/it, loss=0.0908]\u001b[A\n",
      "Train epoch: 100%|██████████| 1/1 [03:59<00:00, 239.89s/it]0,  1.12s/it, loss=0.174] \u001b[A\n",
      "Train step of epoch 0: 100%|██████████| 157/157 [03:59<00:00,  1.53s/it, loss=0.14, dist_mean=13.6]\u001b[A\n",
      "Train epoch: 100%|██████████| 1/1 [03:59<00:00, 239.89s/it]\n"
     ]
    }
   ],
   "source": [
    "trainer.fit(use_lora=0)\n",
    "\n",
    "RM_model.save_pretrained('aiffel/KoChatGPT/output_2_RM')"
   ]
  },
  {
   "cell_type": "markdown",
   "id": "74fbb50f",
   "metadata": {},
   "source": [
    "RM 학습이 잘 되었는지 확인해보기 위해 임의의 문장을 입력한 후 적절한 reward score를 출력하는지 살펴보도록 하겠습니다."
   ]
  },
  {
   "cell_type": "code",
   "execution_count": 16,
   "id": "9f9bdcd5",
   "metadata": {},
   "outputs": [],
   "source": [
    "def inference_RM(input_text):\n",
    "    input_ids = tokenizer.encode(input_text, return_tensors='pt').to(\n",
    "        torch.cuda.current_device())\n",
    "    output = RM_model(input_ids)\n",
    "    output_reward = output.cpu().detach().numpy()[0]\n",
    "\n",
    "    print('input: %s\\nreward score: %.1f'%(input_text, output_reward))\n",
    "\n",
    "    return output_reward"
   ]
  },
  {
   "cell_type": "code",
   "execution_count": 17,
   "id": "d63ce1d0",
   "metadata": {},
   "outputs": [
    {
     "name": "stdout",
     "output_type": "stream",
     "text": [
      "input: 인공지능은 똥멍청이 입니다\n",
      "reward score: -0.4\n"
     ]
    }
   ],
   "source": [
    "input_text = '인공지능은 똥멍청이 입니다'\n",
    "output_reward = inference_RM(input_text=input_text)"
   ]
  },
  {
   "cell_type": "code",
   "execution_count": 18,
   "id": "296b7e89",
   "metadata": {},
   "outputs": [
    {
     "name": "stdout",
     "output_type": "stream",
     "text": [
      "input: 인공지능(AI)은 컴퓨터에서 음성 및 작성된 언어를 보고 이해하고 번역하고 데이터를 분석하고 추천하는 기능을 포함하여 다양한 고급 기능을 수행할 수 있는 일련의 기술입니다.\n",
      "reward score: 6.3\n"
     ]
    }
   ],
   "source": [
    "input_text = '인공지능(AI)은 컴퓨터에서 음성 및 작성된 언어를 보고 이해하고 번역하고 데이터를 분석하고 추천하는 기능을 포함하여 다양한 고급 기능을 수행할 수 있는 일련의 기술입니다.'\n",
    "\n",
    "output_reward = inference_RM(input_text=input_text)"
   ]
  },
  {
   "cell_type": "code",
   "execution_count": 19,
   "id": "9cd66d21",
   "metadata": {},
   "outputs": [
    {
     "name": "stdout",
     "output_type": "stream",
     "text": [
      "input: 인공지능(AI)은 컴퓨터에서 음성 및 작성된 언어를 보고 이해하고 번역하고 데이터를 분석하고 추천하는 기능을 포함하여 다양한 고급 기능을 수행할 수 있는 일련의 기술입니다. AI는 현대적인 컴퓨팅 혁신에서 중추적인 역할을 하며 개인과 비즈니스의 가치를 창출합니다. 예를 들어 광학 문자 인식(OCR)은 AI를 사용해 이미지 및 문서에서 텍스트 및 데이터를 추출하고, 구조화되지 않은 콘텐츠를 비즈니스에 바로 사용할 수 있게 만들고, 유용한 정보를 창출합니다.\n",
      "reward score: 8.8\n"
     ]
    }
   ],
   "source": [
    "input_text = \"인공지능(AI)은 컴퓨터에서 음성 및 작성된 언어를 보고 이해하고 번역하고 데이터를 분석하고 추천하는 기능을 포함하여 다양한 고급 기능을 수행할 수 있는 일련의 기술입니다. AI는 현대적인 컴퓨팅 혁신에서 중추적인 역할을 하며 개인과 비즈니스의 가치를 창출합니다. 예를 들어 광학 문자 인식(OCR)은 AI를 사용해 이미지 및 문서에서 텍스트 및 데이터를 추출하고, 구조화되지 않은 콘텐츠를 비즈니스에 바로 사용할 수 있게 만들고, 유용한 정보를 창출합니다.\"\n",
    "\n",
    "output_reward = inference_RM(input_text=input_text)"
   ]
  },
  {
   "cell_type": "code",
   "execution_count": 20,
   "id": "bf9766a1",
   "metadata": {},
   "outputs": [
    {
     "name": "stdout",
     "output_type": "stream",
     "text": [
      "input: 인공지능은 일반적으로 인간의 지능이 필요하거나 인간이 분석할 수 있는 것보다 규모가 큰 데이터를 포함하는 방식으로 추론, 학습 및 행동할 수 있는 컴퓨터 및 기계를 구축하는 것과 관련된 과학 분야입니다. AI는 컴퓨터 공학, 데이터 분석 및 통계, 하드웨어 및 소프트웨어 엔지니어링, 언어학, 신경 과학은 물론 철학과 심리학을 포함하여 여러 학문을 포괄하는 광범위한 분야입니다. 비즈니스의 운영 수준에서 AI는 주로 머신러닝과 딥 러닝을 기반으로 하는 기술 모음으로, 데이터 분석, 예상 및 예측, 객체 분류, 자연어 처리, 추천, 지능형 데이터 가져오기 등을 수행할 수 있습니다.\n",
      "reward score: 5.8\n"
     ]
    }
   ],
   "source": [
    "input_text = \"인공지능은 일반적으로 인간의 지능이 필요하거나 인간이 분석할 수 있는 것보다 규모가 큰 데이터를 포함하는 방식으로 추론, 학습 및 행동할 수 있는 컴퓨터 및 기계를 구축하는 것과 관련된 과학 분야입니다. AI는 컴퓨터 공학, 데이터 분석 및 통계, 하드웨어 및 소프트웨어 엔지니어링, 언어학, 신경 과학은 물론 철학과 심리학을 포함하여 여러 학문을 포괄하는 광범위한 분야입니다. 비즈니스의 운영 수준에서 AI는 주로 머신러닝과 딥 러닝을 기반으로 하는 기술 모음으로, 데이터 분석, 예상 및 예측, 객체 분류, 자연어 처리, 추천, 지능형 데이터 가져오기 등을 수행할 수 있습니다.\"\n",
    "\n",
    "output_reward = inference_RM(input_text=input_text)"
   ]
  },
  {
   "cell_type": "markdown",
   "id": "b478ad4e",
   "metadata": {},
   "source": [
    "input text가 더 좋아질수록 reward score가 점진적으로 상승하는 것으로 보인다."
   ]
  },
  {
   "cell_type": "code",
   "execution_count": 22,
   "id": "b2027563",
   "metadata": {},
   "outputs": [],
   "source": [
    "torch.cuda.empty_cache()"
   ]
  },
  {
   "cell_type": "markdown",
   "id": "a21113e0",
   "metadata": {},
   "source": [
    "# Proximal Policy Optimization\n",
    "### PPO\n",
    "드디어 RLHF의 마지막 세번째 단계인 PPO를 실습해볼 차례입니다.\n",
    "사용할 라이브러리들을 불러오도록 하겠습니다."
   ]
  },
  {
   "cell_type": "code",
   "execution_count": 23,
   "id": "8e83f9a2",
   "metadata": {},
   "outputs": [],
   "source": [
    "from copy import deepcopy\n",
    "\n",
    "import torch\n",
    "from torch.optim import Adam\n",
    "from chatgpt.models.base import RewardModel\n",
    "from chatgpt.models.gpt import GPTActor, GPTCritic\n",
    "from chatgpt.trainer import PPOTrainer\n",
    "from chatgpt.trainer.strategies import NaiveStrategy\n",
    "from transformers import AutoTokenizer"
   ]
  },
  {
   "attachments": {
    "image.png": {
     "image/png": "[encoded data removed]"
    }
   },
   "cell_type": "markdown",
   "id": "dade1a0d",
   "metadata": {},
   "source": [
    "PPO에 사용할 actor모델은 1단계 SFT 모델을, critic모델은 2단계 RM 모델을 사용\n",
    "\n",
    "actor 모델이 critic 모델로부터 피드백을 받아 파라미터를 업데이트 할 때 적절한 페널티를 줄 수 있도록 하는 initial model은 SFT모델을 그대로 freezing 하여 사용\n",
    "\n",
    "토크나이저는 pretrain 모델인 kogpt-2의 토크나이저를 그대로 사용\n",
    "\n",
    "![image.png](attachment:image.png)"
   ]
  },
  {
   "cell_type": "code",
   "execution_count": 24,
   "id": "96973250",
   "metadata": {},
   "outputs": [],
   "source": [
    "with NaiveStrategy().model_init_context():\n",
    "    actor = GPTActor(pretrained='/aiffel/KoChatGPT/output_1_SFT', lora_rank=0).to(torch.cuda.current_device())\n",
    "    critic = GPTCritic(pretrained='aiffel/KoChatGPT/output_2_RM', lora_rank=0).to(torch.cuda.current_device())\n",
    "\n",
    "    tokenizer = AutoTokenizer.from_pretrained(\n",
    "        'skt/kogpt2-base-v2', bos_token='</s>', eos_token='</s>', unk_token='</s>', pad_token='</s>',\n",
    "        padding_side=\"right\", \n",
    "        model_max_length=128\n",
    "    )\n",
    "\n",
    "    initial_model = deepcopy(actor)\n",
    "    reward_model = RewardModel(deepcopy(critic.model), deepcopy(critic.value_head)).to(torch.cuda.current_device())"
   ]
  },
  {
   "cell_type": "markdown",
   "id": "d2574ed7",
   "metadata": {},
   "source": [
    "모델학습에 사용할 옵티마이저와 모델을 준비"
   ]
  },
  {
   "cell_type": "code",
   "execution_count": 25,
   "id": "b46fc744",
   "metadata": {},
   "outputs": [],
   "source": [
    "actor_optim = Adam(actor.parameters(), lr=5e-6)\n",
    "critic_optim = Adam(critic.parameters(), lr=5e-6)"
   ]
  },
  {
   "cell_type": "code",
   "execution_count": 26,
   "id": "dff6f3c7",
   "metadata": {},
   "outputs": [],
   "source": [
    "(actor, actor_optim), (critic, critic_optim), reward_model, initial_model = NaiveStrategy().prepare(\n",
    "    (actor, actor_optim), (critic, critic_optim), reward_model, initial_model)"
   ]
  },
  {
   "cell_type": "markdown",
   "id": "6018e4e5",
   "metadata": {},
   "source": [
    "PPO 학습에 쓸 데이터를 불러와 토크나이징"
   ]
  },
  {
   "cell_type": "code",
   "execution_count": 27,
   "id": "7787a138",
   "metadata": {},
   "outputs": [],
   "source": [
    "with open('/aiffel/KoChatGPT/data_kochatgpt/kochatgpt_3_PPO.jsonl', \"r\", encoding='utf-8-sig') as json_file:\n",
    "    list_data_dict = json.load(json_file)\n",
    "    list_prompt = [tmp['prompt'] for tmp in list_data_dict]\n",
    "\n",
    "def tokenize_fn(texts):\n",
    "    batch = tokenizer(texts, return_tensors='pt', max_length=96, padding=True, truncation=True)\n",
    "    return {k: v.cuda() for k, v in batch.items()}"
   ]
  },
  {
   "cell_type": "code",
   "execution_count": 28,
   "id": "480ecdc9",
   "metadata": {},
   "outputs": [
    {
     "name": "stdout",
     "output_type": "stream",
     "text": [
      "{'input_ids': tensor([[47311, 10448, 19008,  9792, 11780, 11308, 30190, 10929, 11849, 21663,\n",
      "         44389,  9574, 13799,   458, 14308, 12778, 22469, 20938, 44696,   458,\n",
      "         13799,   458, 14308, 12778, 11756, 18944,   389]], device='cuda:0'), 'attention_mask': tensor([[1, 1, 1, 1, 1, 1, 1, 1, 1, 1, 1, 1, 1, 1, 1, 1, 1, 1, 1, 1, 1, 1, 1, 1,\n",
      "         1, 1, 1]], device='cuda:0')}\n"
     ]
    }
   ],
   "source": [
    "print(tokenize_fn('It takes something more than intelligence to act intelligently.'))"
   ]
  },
  {
   "cell_type": "code",
   "execution_count": 29,
   "id": "8640f456",
   "metadata": {},
   "outputs": [
    {
     "data": {
      "text/plain": [
       "12000"
      ]
     },
     "execution_count": 29,
     "metadata": {},
     "output_type": "execute_result"
    }
   ],
   "source": [
    "len(list_prompt)"
   ]
  },
  {
   "cell_type": "markdown",
   "id": "a024db10",
   "metadata": {},
   "source": [
    "PPO는 별도의 PPOTrainer 클래스를 설계하여 학습시켜줘야 합니다."
   ]
  },
  {
   "cell_type": "code",
   "execution_count": 68,
   "id": "4dcacffc",
   "metadata": {},
   "outputs": [],
   "source": [
    "trainer = PPOTrainer(NaiveStrategy(),\n",
    "                     actor,\n",
    "                     critic,\n",
    "                     reward_model,\n",
    "                     initial_model,\n",
    "                     actor_optim,\n",
    "                     critic_optim,\n",
    "                     max_epochs=5,  \n",
    "                     train_batch_size=16, \n",
    "                     tokenizer=tokenize_fn,\n",
    "                     max_length=128,\n",
    "                     do_sample=True,\n",
    "                     temperature=1.0,\n",
    "                     top_k=50,\n",
    "                     pad_token_id=tokenizer.pad_token_id,\n",
    "                     eos_token_id=tokenizer.eos_token_id)"
   ]
  },
  {
   "cell_type": "markdown",
   "id": "5f0203fb",
   "metadata": {},
   "source": [
    "PPO의 loss function은 chatgpt/models 폴더 내의 loss.py 모듈에서 PolicyLoss와 ValueLoss 클래스에 정의되어 있음"
   ]
  },
  {
   "cell_type": "markdown",
   "id": "497c498e",
   "metadata": {},
   "source": [
    "참고링크 \n",
    "\n",
    "https://gist.github.com/JoaoLages/c6f2dfd13d2484aa8bb0b2d567fbf093#3---fine-tuning-the-lm-with-rl\n",
    "\n",
    "PolicyLoss클래스의 forward메서드에 있는 코드와 비교"
   ]
  },
  {
   "cell_type": "markdown",
   "id": "23d03d1e",
   "metadata": {},
   "source": [
    "허깅페이스에서 제공하는 Deep RL Course\n",
    "\n",
    "https://huggingface.co/learn/deep-rl-course/unit8/introduction?fw=pt"
   ]
  },
  {
   "cell_type": "markdown",
   "id": "a861f755",
   "metadata": {},
   "source": [
    "### PPO 학습"
   ]
  },
  {
   "cell_type": "code",
   "execution_count": 29,
   "id": "94912b5a",
   "metadata": {
    "scrolled": false
   },
   "outputs": [
    {
     "name": "stderr",
     "output_type": "stream",
     "text": [
      "Episode [1/10]:  67%|██████▋   | 2/3 [00:11<00:05,  5.74s/it]\n",
      "Train epoch [1/5]:   0%|          | 0/1 [00:00<?, ?it/s]\u001b[A\n",
      "Train epoch [1/5]:   0%|          | 0/1 [00:00<?, ?it/s, actor_loss=0, critic_loss=0.0145]\u001b[A\n",
      "Train epoch [1/5]: 100%|██████████| 1/1 [00:00<00:00,  1.10it/s, actor_loss=0, critic_loss=0.0145]\u001b[A\n",
      "\n",
      "Train epoch [2/5]:   0%|          | 0/1 [00:00<?, ?it/s]\u001b[A\n",
      "Train epoch [2/5]:   0%|          | 0/1 [00:00<?, ?it/s, actor_loss=0, critic_loss=0.525]\u001b[A\n",
      "Train epoch [2/5]: 100%|██████████| 1/1 [00:00<00:00,  1.11it/s, actor_loss=0, critic_loss=0.525]\u001b[A\n",
      "\n",
      "Train epoch [3/5]:   0%|          | 0/1 [00:00<?, ?it/s]\u001b[A\n",
      "Train epoch [3/5]:   0%|          | 0/1 [00:00<?, ?it/s, actor_loss=0, critic_loss=0.0248]\u001b[A\n",
      "Train epoch [3/5]: 100%|██████████| 1/1 [00:00<00:00,  1.10it/s, actor_loss=0, critic_loss=0.0248]\u001b[A\n",
      "\n",
      "Train epoch [4/5]:   0%|          | 0/1 [00:00<?, ?it/s]\u001b[A\n",
      "Train epoch [4/5]:   0%|          | 0/1 [00:00<?, ?it/s, actor_loss=0, critic_loss=0.242]\u001b[A\n",
      "Train epoch [4/5]: 100%|██████████| 1/1 [00:00<00:00,  1.11it/s, actor_loss=0, critic_loss=0.242]\u001b[A\n",
      "\n",
      "Train epoch [5/5]:   0%|          | 0/1 [00:00<?, ?it/s]\u001b[A\n",
      "Train epoch [5/5]:   0%|          | 0/1 [00:00<?, ?it/s, actor_loss=0, critic_loss=0.266]\u001b[A\n",
      "Train epoch [5/5]: 100%|██████████| 1/1 [00:00<00:00,  1.10it/s, actor_loss=0, critic_loss=0.266]\u001b[A\n",
      "Episode [1/10]: 100%|██████████| 3/3 [00:21<00:00,  7.27s/it]\n",
      "Episode [2/10]:  67%|██████▋   | 2/3 [00:11<00:05,  5.75s/it]\n",
      "Train epoch [1/5]:   0%|          | 0/1 [00:00<?, ?it/s]\u001b[A\n",
      "Train epoch [1/5]:   0%|          | 0/1 [00:00<?, ?it/s, actor_loss=-.23, critic_loss=0.101]\u001b[A\n",
      "Train epoch [1/5]: 100%|██████████| 1/1 [00:00<00:00,  1.07it/s, actor_loss=-.23, critic_loss=0.101]\u001b[A\n",
      "\n",
      "Train epoch [2/5]:   0%|          | 0/1 [00:00<?, ?it/s]\u001b[A\n",
      "Train epoch [2/5]:   0%|          | 0/1 [00:00<?, ?it/s, actor_loss=-.248, critic_loss=0.01]\u001b[A\n",
      "Train epoch [2/5]: 100%|██████████| 1/1 [00:00<00:00,  1.07it/s, actor_loss=-.248, critic_loss=0.01]\u001b[A\n",
      "\n",
      "Train epoch [3/5]:   0%|          | 0/1 [00:00<?, ?it/s]\u001b[A\n",
      "Train epoch [3/5]:   0%|          | 0/1 [00:00<?, ?it/s, actor_loss=-.25, critic_loss=0.0297]\u001b[A\n",
      "Train epoch [3/5]: 100%|██████████| 1/1 [00:00<00:00,  1.08it/s, actor_loss=-.25, critic_loss=0.0297]\u001b[A\n",
      "\n",
      "Train epoch [4/5]:   0%|          | 0/1 [00:00<?, ?it/s]\u001b[A\n",
      "Train epoch [4/5]:   0%|          | 0/1 [00:00<?, ?it/s, actor_loss=-.25, critic_loss=0.0915]\u001b[A\n",
      "Train epoch [4/5]: 100%|██████████| 1/1 [00:00<00:00,  1.08it/s, actor_loss=-.25, critic_loss=0.0915]\u001b[A\n",
      "\n",
      "Train epoch [5/5]:   0%|          | 0/1 [00:00<?, ?it/s]\u001b[A\n",
      "Train epoch [5/5]:   0%|          | 0/1 [00:00<?, ?it/s, actor_loss=-.267, critic_loss=0.149]\u001b[A\n",
      "Train epoch [5/5]: 100%|██████████| 1/1 [00:00<00:00,  1.09it/s, actor_loss=-.267, critic_loss=0.149]\u001b[A\n",
      "Episode [2/10]: 100%|██████████| 3/3 [00:20<00:00,  7.00s/it]\n",
      "Episode [3/10]:  67%|██████▋   | 2/3 [00:11<00:05,  5.81s/it]\n",
      "Train epoch [1/5]:   0%|          | 0/1 [00:00<?, ?it/s]\u001b[A\n",
      "Train epoch [1/5]:   0%|          | 0/1 [00:00<?, ?it/s, actor_loss=0.195, critic_loss=0.0791]\u001b[A\n",
      "Train epoch [1/5]: 100%|██████████| 1/1 [00:00<00:00,  1.10it/s, actor_loss=0.195, critic_loss=0.0791]\u001b[A\n",
      "\n",
      "Train epoch [2/5]:   0%|          | 0/1 [00:00<?, ?it/s]\u001b[A\n",
      "Train epoch [2/5]:   0%|          | 0/1 [00:00<?, ?it/s, actor_loss=0.231, critic_loss=0.0877]\u001b[A\n",
      "Train epoch [2/5]: 100%|██████████| 1/1 [00:00<00:00,  1.10it/s, actor_loss=0.231, critic_loss=0.0877]\u001b[A\n",
      "\n",
      "Train epoch [3/5]:   0%|          | 0/1 [00:00<?, ?it/s]\u001b[A\n",
      "Train epoch [3/5]:   0%|          | 0/1 [00:00<?, ?it/s, actor_loss=0.24, critic_loss=0.0296]\u001b[A\n",
      "Train epoch [3/5]: 100%|██████████| 1/1 [00:00<00:00,  1.10it/s, actor_loss=0.24, critic_loss=0.0296]\u001b[A\n",
      "\n",
      "Train epoch [4/5]:   0%|          | 0/1 [00:00<?, ?it/s]\u001b[A\n",
      "Train epoch [4/5]:   0%|          | 0/1 [00:00<?, ?it/s, actor_loss=0.253, critic_loss=0.0635]\u001b[A\n",
      "Train epoch [4/5]: 100%|██████████| 1/1 [00:00<00:00,  1.10it/s, actor_loss=0.253, critic_loss=0.0635]\u001b[A\n",
      "\n",
      "Train epoch [5/5]:   0%|          | 0/1 [00:00<?, ?it/s]\u001b[A\n",
      "Train epoch [5/5]:   0%|          | 0/1 [00:00<?, ?it/s, actor_loss=0.198, critic_loss=0.0269]\u001b[A\n",
      "Train epoch [5/5]: 100%|██████████| 1/1 [00:00<00:00,  1.11it/s, actor_loss=0.198, critic_loss=0.0269]\u001b[A\n",
      "Episode [3/10]: 100%|██████████| 3/3 [00:21<00:00,  7.30s/it]\n",
      "Episode [4/10]:  67%|██████▋   | 2/3 [00:11<00:05,  5.73s/it]\n",
      "Train epoch [1/5]:   0%|          | 0/1 [00:00<?, ?it/s]\u001b[A\n",
      "Train epoch [1/5]:   0%|          | 0/1 [00:00<?, ?it/s, actor_loss=-.083, critic_loss=0.0251]\u001b[A\n",
      "Train epoch [1/5]: 100%|██████████| 1/1 [00:00<00:00,  1.08it/s, actor_loss=-.083, critic_loss=0.0251]\u001b[A\n",
      "\n",
      "Train epoch [2/5]:   0%|          | 0/1 [00:00<?, ?it/s]\u001b[A\n",
      "Train epoch [2/5]:   0%|          | 0/1 [00:00<?, ?it/s, actor_loss=-.0787, critic_loss=0.0288]\u001b[A\n",
      "Train epoch [2/5]: 100%|██████████| 1/1 [00:00<00:00,  1.09it/s, actor_loss=-.0787, critic_loss=0.0288]\u001b[A\n",
      "\n",
      "Train epoch [3/5]:   0%|          | 0/1 [00:00<?, ?it/s]\u001b[A\n",
      "Train epoch [3/5]:   0%|          | 0/1 [00:00<?, ?it/s, actor_loss=-.0684, critic_loss=0.0198]\u001b[A\n",
      "Train epoch [3/5]: 100%|██████████| 1/1 [00:00<00:00,  1.09it/s, actor_loss=-.0684, critic_loss=0.0198]\u001b[A\n",
      "\n",
      "Train epoch [4/5]:   0%|          | 0/1 [00:00<?, ?it/s]\u001b[A\n",
      "Train epoch [4/5]:   0%|          | 0/1 [00:00<?, ?it/s, actor_loss=-.0658, critic_loss=0.027]\u001b[A\n",
      "Train epoch [4/5]: 100%|██████████| 1/1 [00:00<00:00,  1.09it/s, actor_loss=-.0658, critic_loss=0.027]\u001b[A\n",
      "\n",
      "Train epoch [5/5]:   0%|          | 0/1 [00:00<?, ?it/s]\u001b[A\n",
      "Train epoch [5/5]:   0%|          | 0/1 [00:00<?, ?it/s, actor_loss=-.0751, critic_loss=0.00981]\u001b[A\n",
      "Train epoch [5/5]: 100%|██████████| 1/1 [00:00<00:00,  1.09it/s, actor_loss=-.0751, critic_loss=0.00981]\u001b[A\n",
      "Episode [4/10]: 100%|██████████| 3/3 [00:21<00:00,  7.26s/it]\n",
      "Episode [5/10]:  67%|██████▋   | 2/3 [00:11<00:05,  5.76s/it]\n",
      "Train epoch [1/5]:   0%|          | 0/1 [00:00<?, ?it/s]\u001b[A\n",
      "Train epoch [1/5]:   0%|          | 0/1 [00:00<?, ?it/s, actor_loss=0.18, critic_loss=0.0622]\u001b[A\n",
      "Train epoch [1/5]: 100%|██████████| 1/1 [00:00<00:00,  1.09it/s, actor_loss=0.18, critic_loss=0.0622]\u001b[A\n",
      "\n",
      "Train epoch [2/5]:   0%|          | 0/1 [00:00<?, ?it/s]\u001b[A\n",
      "Train epoch [2/5]:   0%|          | 0/1 [00:00<?, ?it/s, actor_loss=0.16, critic_loss=0.0534]\u001b[A\n",
      "Train epoch [2/5]: 100%|██████████| 1/1 [00:00<00:00,  1.09it/s, actor_loss=0.16, critic_loss=0.0534]\u001b[A\n",
      "\n",
      "Train epoch [3/5]:   0%|          | 0/1 [00:00<?, ?it/s]\u001b[A\n",
      "Train epoch [3/5]:   0%|          | 0/1 [00:00<?, ?it/s, actor_loss=0.189, critic_loss=0.0209]\u001b[A\n",
      "Train epoch [3/5]: 100%|██████████| 1/1 [00:00<00:00,  1.10it/s, actor_loss=0.189, critic_loss=0.0209]\u001b[A\n",
      "\n",
      "Train epoch [4/5]:   0%|          | 0/1 [00:00<?, ?it/s]\u001b[A\n",
      "Train epoch [4/5]:   0%|          | 0/1 [00:00<?, ?it/s, actor_loss=0.171, critic_loss=0.0102]\u001b[A\n",
      "Train epoch [4/5]: 100%|██████████| 1/1 [00:00<00:00,  1.10it/s, actor_loss=0.171, critic_loss=0.0102]\u001b[A\n",
      "\n",
      "Train epoch [5/5]:   0%|          | 0/1 [00:00<?, ?it/s]\u001b[A\n",
      "Train epoch [5/5]:   0%|          | 0/1 [00:00<?, ?it/s, actor_loss=0.165, critic_loss=0.0239]\u001b[A\n",
      "Train epoch [5/5]: 100%|██████████| 1/1 [00:00<00:00,  1.10it/s, actor_loss=0.165, critic_loss=0.0239]\u001b[A\n",
      "Episode [5/10]: 100%|██████████| 3/3 [00:21<00:00,  7.31s/it]\n",
      "Episode [6/10]:  67%|██████▋   | 2/3 [00:11<00:05,  5.80s/it]\n",
      "Train epoch [1/5]:   0%|          | 0/1 [00:00<?, ?it/s]\u001b[A\n",
      "Train epoch [1/5]:   0%|          | 0/1 [00:00<?, ?it/s, actor_loss=-.0759, critic_loss=0.023]\u001b[A\n",
      "Train epoch [1/5]: 100%|██████████| 1/1 [00:00<00:00,  1.08it/s, actor_loss=-.0759, critic_loss=0.023]\u001b[A\n",
      "\n",
      "Train epoch [2/5]:   0%|          | 0/1 [00:00<?, ?it/s]\u001b[A\n",
      "Train epoch [2/5]:   0%|          | 0/1 [00:00<?, ?it/s, actor_loss=-.073, critic_loss=0.0403]\u001b[A\n",
      "Train epoch [2/5]: 100%|██████████| 1/1 [00:00<00:00,  1.09it/s, actor_loss=-.073, critic_loss=0.0403]\u001b[A\n",
      "\n",
      "Train epoch [3/5]:   0%|          | 0/1 [00:00<?, ?it/s]\u001b[A\n",
      "Train epoch [3/5]:   0%|          | 0/1 [00:00<?, ?it/s, actor_loss=-.075, critic_loss=0.0101]\u001b[A\n",
      "Train epoch [3/5]: 100%|██████████| 1/1 [00:00<00:00,  1.09it/s, actor_loss=-.075, critic_loss=0.0101]\u001b[A\n",
      "\n",
      "Train epoch [4/5]:   0%|          | 0/1 [00:00<?, ?it/s]\u001b[A\n",
      "Train epoch [4/5]:   0%|          | 0/1 [00:00<?, ?it/s, actor_loss=-.0777, critic_loss=0.0187]\u001b[A\n",
      "Train epoch [4/5]: 100%|██████████| 1/1 [00:00<00:00,  1.09it/s, actor_loss=-.0777, critic_loss=0.0187]\u001b[A\n",
      "\n",
      "Train epoch [5/5]:   0%|          | 0/1 [00:00<?, ?it/s]\u001b[A\n",
      "Train epoch [5/5]:   0%|          | 0/1 [00:00<?, ?it/s, actor_loss=-.0771, critic_loss=0.0202]\u001b[A\n",
      "Train epoch [5/5]: 100%|██████████| 1/1 [00:00<00:00,  1.09it/s, actor_loss=-.0771, critic_loss=0.0202]\u001b[A\n",
      "Episode [6/10]: 100%|██████████| 3/3 [00:22<00:00,  7.36s/it]\n",
      "Episode [7/10]:  67%|██████▋   | 2/3 [00:11<00:05,  5.72s/it]\n",
      "Train epoch [1/5]:   0%|          | 0/1 [00:00<?, ?it/s]\u001b[A\n",
      "Train epoch [1/5]:   0%|          | 0/1 [00:00<?, ?it/s, actor_loss=0.19, critic_loss=0.0615]\u001b[A\n",
      "Train epoch [1/5]: 100%|██████████| 1/1 [00:00<00:00,  1.08it/s, actor_loss=0.19, critic_loss=0.0615]\u001b[A\n",
      "\n",
      "Train epoch [2/5]:   0%|          | 0/1 [00:00<?, ?it/s]\u001b[A\n",
      "Train epoch [2/5]:   0%|          | 0/1 [00:00<?, ?it/s, actor_loss=0.182, critic_loss=0.0658]\u001b[A\n",
      "Train epoch [2/5]: 100%|██████████| 1/1 [00:00<00:00,  1.09it/s, actor_loss=0.182, critic_loss=0.0658]\u001b[A\n",
      "\n",
      "Train epoch [3/5]:   0%|          | 0/1 [00:00<?, ?it/s]\u001b[A\n",
      "Train epoch [3/5]:   0%|          | 0/1 [00:00<?, ?it/s, actor_loss=0.201, critic_loss=0.0614]\u001b[A\n",
      "Train epoch [3/5]: 100%|██████████| 1/1 [00:00<00:00,  1.09it/s, actor_loss=0.201, critic_loss=0.0614]\u001b[A\n",
      "\n",
      "Train epoch [4/5]:   0%|          | 0/1 [00:00<?, ?it/s]\u001b[A\n",
      "Train epoch [4/5]:   0%|          | 0/1 [00:00<?, ?it/s, actor_loss=0.204, critic_loss=0.0545]\u001b[A\n",
      "Train epoch [4/5]: 100%|██████████| 1/1 [00:00<00:00,  1.09it/s, actor_loss=0.204, critic_loss=0.0545]\u001b[A\n",
      "\n",
      "Train epoch [5/5]:   0%|          | 0/1 [00:00<?, ?it/s]\u001b[A\n",
      "Train epoch [5/5]:   0%|          | 0/1 [00:00<?, ?it/s, actor_loss=0.181, critic_loss=0.0777]\u001b[A\n",
      "Train epoch [5/5]: 100%|██████████| 1/1 [00:00<00:00,  1.10it/s, actor_loss=0.181, critic_loss=0.0777]\u001b[A\n",
      "Episode [7/10]: 100%|██████████| 3/3 [00:21<00:00,  7.27s/it]\n",
      "Episode [8/10]:  67%|██████▋   | 2/3 [00:11<00:05,  5.85s/it]\n",
      "Train epoch [1/5]:   0%|          | 0/1 [00:00<?, ?it/s]\u001b[A\n",
      "Train epoch [1/5]:   0%|          | 0/1 [00:00<?, ?it/s, actor_loss=-.0539, critic_loss=0.017]\u001b[A\n",
      "Train epoch [1/5]: 100%|██████████| 1/1 [00:00<00:00,  1.08it/s, actor_loss=-.0539, critic_loss=0.017]\u001b[A\n",
      "\n",
      "Train epoch [2/5]:   0%|          | 0/1 [00:00<?, ?it/s]\u001b[A\n",
      "Train epoch [2/5]:   0%|          | 0/1 [00:00<?, ?it/s, actor_loss=-.0742, critic_loss=0.0418]\u001b[A\n",
      "Train epoch [2/5]: 100%|██████████| 1/1 [00:00<00:00,  1.08it/s, actor_loss=-.0742, critic_loss=0.0418]\u001b[A\n",
      "\n",
      "Train epoch [3/5]:   0%|          | 0/1 [00:00<?, ?it/s]\u001b[A\n",
      "Train epoch [3/5]:   0%|          | 0/1 [00:00<?, ?it/s, actor_loss=-.0602, critic_loss=0.0179]\u001b[A\n",
      "Train epoch [3/5]: 100%|██████████| 1/1 [00:00<00:00,  1.09it/s, actor_loss=-.0602, critic_loss=0.0179]\u001b[A\n",
      "\n",
      "Train epoch [4/5]:   0%|          | 0/1 [00:00<?, ?it/s]\u001b[A\n",
      "Train epoch [4/5]:   0%|          | 0/1 [00:00<?, ?it/s, actor_loss=-.0592, critic_loss=0.0103]\u001b[A\n",
      "Train epoch [4/5]: 100%|██████████| 1/1 [00:00<00:00,  1.08it/s, actor_loss=-.0592, critic_loss=0.0103]\u001b[A\n",
      "\n",
      "Train epoch [5/5]:   0%|          | 0/1 [00:00<?, ?it/s]\u001b[A\n",
      "Train epoch [5/5]:   0%|          | 0/1 [00:00<?, ?it/s, actor_loss=-.0344, critic_loss=0.0201]\u001b[A\n",
      "Train epoch [5/5]: 100%|██████████| 1/1 [00:00<00:00,  1.10it/s, actor_loss=-.0344, critic_loss=0.0201]\u001b[A\n",
      "Episode [8/10]: 100%|██████████| 3/3 [00:22<00:00,  7.37s/it]\n",
      "Episode [9/10]:  67%|██████▋   | 2/3 [00:11<00:05,  5.81s/it]\n",
      "Train epoch [1/5]:   0%|          | 0/1 [00:00<?, ?it/s]\u001b[A\n",
      "Train epoch [1/5]:   0%|          | 0/1 [00:00<?, ?it/s, actor_loss=0.136, critic_loss=0.0319]\u001b[A\n",
      "Train epoch [1/5]: 100%|██████████| 1/1 [00:00<00:00,  1.08it/s, actor_loss=0.136, critic_loss=0.0319]\u001b[A\n",
      "\n",
      "Train epoch [2/5]:   0%|          | 0/1 [00:00<?, ?it/s]\u001b[A\n",
      "Train epoch [2/5]:   0%|          | 0/1 [00:00<?, ?it/s, actor_loss=0.129, critic_loss=0.022]\u001b[A\n",
      "Train epoch [2/5]: 100%|██████████| 1/1 [00:00<00:00,  1.09it/s, actor_loss=0.129, critic_loss=0.022]\u001b[A\n",
      "\n",
      "Train epoch [3/5]:   0%|          | 0/1 [00:00<?, ?it/s]\u001b[A\n",
      "Train epoch [3/5]:   0%|          | 0/1 [00:00<?, ?it/s, actor_loss=0.115, critic_loss=0.0233]\u001b[A\n",
      "Train epoch [3/5]: 100%|██████████| 1/1 [00:00<00:00,  1.09it/s, actor_loss=0.115, critic_loss=0.0233]\u001b[A\n",
      "\n",
      "Train epoch [4/5]:   0%|          | 0/1 [00:00<?, ?it/s]\u001b[A\n",
      "Train epoch [4/5]:   0%|          | 0/1 [00:00<?, ?it/s, actor_loss=0.202, critic_loss=0.0706]\u001b[A\n",
      "Train epoch [4/5]: 100%|██████████| 1/1 [00:00<00:00,  1.09it/s, actor_loss=0.202, critic_loss=0.0706]\u001b[A\n",
      "\n",
      "Train epoch [5/5]:   0%|          | 0/1 [00:00<?, ?it/s]\u001b[A\n",
      "Train epoch [5/5]:   0%|          | 0/1 [00:00<?, ?it/s, actor_loss=0.176, critic_loss=0.0211]\u001b[A\n",
      "Train epoch [5/5]: 100%|██████████| 1/1 [00:00<00:00,  1.09it/s, actor_loss=0.176, critic_loss=0.0211]\u001b[A\n",
      "Episode [9/10]: 100%|██████████| 3/3 [00:22<00:00,  7.36s/it]\n",
      "Episode [10/10]:  67%|██████▋   | 2/3 [00:11<00:05,  5.80s/it]\n",
      "Train epoch [1/5]:   0%|          | 0/1 [00:00<?, ?it/s]\u001b[A\n",
      "Train epoch [1/5]:   0%|          | 0/1 [00:00<?, ?it/s, actor_loss=-.0574, critic_loss=0.0401]\u001b[A\n",
      "Train epoch [1/5]: 100%|██████████| 1/1 [00:00<00:00,  1.08it/s, actor_loss=-.0574, critic_loss=0.0401]\u001b[A\n",
      "\n",
      "Train epoch [2/5]:   0%|          | 0/1 [00:00<?, ?it/s]\u001b[A\n",
      "Train epoch [2/5]:   0%|          | 0/1 [00:00<?, ?it/s, actor_loss=-.0752, critic_loss=0.0478]\u001b[A\n",
      "Train epoch [2/5]: 100%|██████████| 1/1 [00:00<00:00,  1.09it/s, actor_loss=-.0752, critic_loss=0.0478]\u001b[A\n",
      "\n",
      "Train epoch [3/5]:   0%|          | 0/1 [00:00<?, ?it/s]\u001b[A\n",
      "Train epoch [3/5]:   0%|          | 0/1 [00:00<?, ?it/s, actor_loss=-.0576, critic_loss=0.0375]\u001b[A\n",
      "Train epoch [3/5]: 100%|██████████| 1/1 [00:00<00:00,  1.09it/s, actor_loss=-.0576, critic_loss=0.0375]\u001b[A\n",
      "\n",
      "Train epoch [4/5]:   0%|          | 0/1 [00:00<?, ?it/s]\u001b[A\n",
      "Train epoch [4/5]:   0%|          | 0/1 [00:00<?, ?it/s, actor_loss=-.0588, critic_loss=0.0246]\u001b[A\n",
      "Train epoch [4/5]: 100%|██████████| 1/1 [00:00<00:00,  1.09it/s, actor_loss=-.0588, critic_loss=0.0246]\u001b[A\n",
      "\n",
      "Train epoch [5/5]:   0%|          | 0/1 [00:00<?, ?it/s]\u001b[A\n",
      "Train epoch [5/5]:   0%|          | 0/1 [00:00<?, ?it/s, actor_loss=-.0676, critic_loss=0.0348]\u001b[A\n",
      "Train epoch [5/5]: 100%|██████████| 1/1 [00:00<00:00,  1.09it/s, actor_loss=-.0676, critic_loss=0.0348]\u001b[A\n",
      "Episode [10/10]: 100%|██████████| 3/3 [00:22<00:00,  7.36s/it]\n"
     ]
    }
   ],
   "source": [
    "trainer.fit(list_prompt, \n",
    "            num_episodes=10,  \n",
    "            max_timesteps=3,\n",
    "            update_timesteps=3)"
   ]
  },
  {
   "cell_type": "code",
   "execution_count": 33,
   "id": "31764334",
   "metadata": {},
   "outputs": [],
   "source": [
    "RM_model.save_pretrained('aiffel/KoChatGPT/output_3_PPO')"
   ]
  },
  {
   "cell_type": "markdown",
   "id": "fb25531f",
   "metadata": {},
   "source": [
    "### RLHF 모델 정량적 평가 - BLEU Score"
   ]
  },
  {
   "cell_type": "code",
   "execution_count": 52,
   "id": "548b70f2",
   "metadata": {},
   "outputs": [],
   "source": [
    "def generation(input_text):\n",
    "    input_ids = tokenizer.encode(input_text, return_tensors='pt').to(\n",
    "        torch.cuda.current_device())\n",
    "    outputs = actor.generate(input_ids,\n",
    "                             max_length=128,\n",
    "                             do_sample=True,\n",
    "                             top_k=50,\n",
    "                             top_p=0.50,\n",
    "                             no_repeat_ngram_size=4, \n",
    "                             early_stopping=True,\n",
    "                             repetition_penalty=2.0,\n",
    "                             num_return_sequences=1)\n",
    "    output = tokenizer.batch_decode(outputs[0], skip_special_tokens=True)[0]\n",
    "\n",
    "    return output\n",
    "\n",
    "data_path_1_SFT = '/aiffel/KoChatGPT/data_kochatgpt/kochatgpt_1_SFT.jsonl' \n",
    "with open(data_path_1_SFT, \"r\", encoding='utf-8-sig') as json_file_SFT:\n",
    "    list_data_dict_SFT = json.load(json_file_SFT)[11900:]\n",
    "\n",
    "input_prompt = []\n",
    "for i in list_data_dict_SFT:\n",
    "    input_prompt.append(i['prompt'])\n",
    "    \n",
    "labeled_completion = []\n",
    "for i in list_data_dict_SFT:\n",
    "    labeled_completion.append(i['completion'])"
   ]
  },
  {
   "cell_type": "code",
   "execution_count": 53,
   "id": "6a6df102",
   "metadata": {},
   "outputs": [],
   "source": [
    "RLHF_output = []\n",
    "for input_text in input_prompt:\n",
    "    RLHF_output.append(generation(input_text))"
   ]
  },
  {
   "cell_type": "code",
   "execution_count": 58,
   "id": "5f3fa7bc",
   "metadata": {},
   "outputs": [
    {
     "name": "stderr",
     "output_type": "stream",
     "text": [
      "/tmp/ipykernel_150/3689558111.py:4: FutureWarning: load_metric is deprecated and will be removed in the next major version of datasets. Use 'evaluate.load' instead, from the new library 🤗 Evaluate: https://huggingface.co/docs/evaluate\n",
      "  metric = load_metric(\"sacrebleu\")\n",
      "Token indices sequence length is longer than the specified maximum sequence length for this model (169 > 128). Running this sequence through the model will result in indexing errors\n"
     ]
    }
   ],
   "source": [
    "from datasets import load_metric\n",
    "\n",
    "# Load the BLEU metric\n",
    "metric = load_metric(\"sacrebleu\")\n",
    "\n",
    "# Function to tokenize a sentence\n",
    "def tokenize_sentence(sentence):\n",
    "    # Implement tokenization using your tokenizer\n",
    "    # Return a list of tokens\n",
    "    tokens = tokenizer.tokenize(sentence)\n",
    "    return tokens\n",
    "\n",
    "# Function to calculate BLEU score\n",
    "def calculate_bleu_score(model_outputs, target_sentences):\n",
    "    # Tokenize model outputs and target sentences\n",
    "    tokenized_outputs = [tokenize_sentence(output) for output in model_outputs]\n",
    "    tokenized_targets = [tokenize_sentence(target) for target in target_sentences]\n",
    "    \n",
    "    # Calculate BLEU score\n",
    "    bleu_score = metric.compute(predictions=tokenized_outputs, references=tokenized_targets)\n",
    "    \n",
    "    return bleu_score\n",
    "\n",
    "# Calculate BLEU score\n",
    "RLHF_bleu_score = []\n",
    "for output, target in zip(RLHF_output, labeled_completion):\n",
    "    RLHF_bleu_score.append(calculate_bleu_score([output], [target])['score'])"
   ]
  },
  {
   "cell_type": "code",
   "execution_count": 34,
   "id": "f822ea89",
   "metadata": {},
   "outputs": [
    {
     "data": {
      "text/plain": [
       "0.1488411840332464"
      ]
     },
     "execution_count": 34,
     "metadata": {},
     "output_type": "execute_result"
    }
   ],
   "source": [
    "sum(RLHF_bleu_score)/len(RLHF_bleu_score)"
   ]
  },
  {
   "cell_type": "markdown",
   "id": "303e3e49",
   "metadata": {},
   "source": [
    "### 아래는 임의로 선택한 5개 prompt에 대한 SFT model의 답변과 RLHF model의 답변"
   ]
  },
  {
   "cell_type": "code",
   "execution_count": 64,
   "id": "66945ab9",
   "metadata": {},
   "outputs": [
    {
     "name": "stdout",
     "output_type": "stream",
     "text": [
      "[24, 40, 67, 73, 98]\n"
     ]
    }
   ],
   "source": [
    "# foundation model 과 SFT model 결과 비교 시 사용한 input prompt 사용\n",
    "search_str = ['가출해도 갈 데가 없어', '어느 경우에 하드웨어에 직접 접근하는 도스 구조가 알맞아', \n",
    "              '그럼 두 조각에 그렇게죠?', '저거는 소가죽인가요?', '내일 체크아웃은 몇 시인가요?']\n",
    "\n",
    "# 인덱스를 저장할 빈 리스트\n",
    "indices = []\n",
    "\n",
    "# 리스트 순회하면서 주어진 문자열이 있는지 확인하고 인덱스를 저장\n",
    "for i, item in enumerate(input_prompt):\n",
    "    if item in search_str:\n",
    "        indices.append(i)\n",
    "\n",
    "print(indices)"
   ]
  },
  {
   "cell_type": "markdown",
   "id": "6704d436",
   "metadata": {},
   "source": [
    "#### Input Prompts"
   ]
  },
  {
   "cell_type": "code",
   "execution_count": 65,
   "id": "a892c74b",
   "metadata": {},
   "outputs": [
    {
     "name": "stdout",
     "output_type": "stream",
     "text": [
      "어느 경우에 하드웨어에 직접 접근하는 도스 구조가 알맞아 \n",
      "\n",
      "저거는 소가죽인가요? \n",
      "\n",
      "그럼 두 조각에 그렇게죠? \n",
      "\n",
      "내일 체크아웃은 몇 시인가요? \n",
      "\n",
      "가출해도 갈 데가 없어 \n",
      "\n"
     ]
    }
   ],
   "source": [
    "for index in indices:\n",
    "    print(input_prompt[index], '\\n')"
   ]
  },
  {
   "cell_type": "markdown",
   "id": "05082dd5",
   "metadata": {},
   "source": [
    "#### SFT model의 답변"
   ]
  },
  {
   "cell_type": "code",
   "execution_count": 75,
   "id": "35604750",
   "metadata": {
    "scrolled": false
   },
   "outputs": [
    {
     "name": "stdout",
     "output_type": "stream",
     "text": [
      "가출해도 갈 데가 없어요. 대신, 새로운 도전과 경험을 찾아보는 것도 좋을 것 같아요. 새로운 도전과 경험으로 더 나은 결과를 얻을 수 있을 거예요.\", 'token': 47}</s> \\n\\n새로운 도전과 경험에 대한 평가는 개인적인 측면과 상황에 따라 다를 수 있지만, 일반적으로는 다음과 같은 것들이 도움이 될 수 있습니다.\\n첫째, 실패를 경험하는 것은 매우 중요합니다. 실패는 많은 것을 야기합니다. 하지만 그것을 극복하는 방법은 다양합니다. 어떤 분야에서든 목표를 설정하고, 그 목표를 달성하기 위해 노력해야 합니다.\\n둘째, 새로운 취미나 활동을 시도해 볼 수 있습니다. 새로운 취미를 찾아보는 것도 \n",
      "\n",
      "어느 경우에 하드웨어에 직접 접근하는 도스 구조가 알맞아졌습니다. 이러한 방식은 전통적인 방식으로는 더 나은 응답을 제공하기 어렵습니다. 따라서 하드웨어에서 사용되는 하드웨어 구조에 대한 접근은 더욱 용이합니다. 예를 들어, 하드웨어 구조에 직접 접근하는 방법은 사용자가 원하는 대로 하드웨어 구조에 접근할 수 있는 반면, 하드웨어 구조에 접근하는 방식은 하드웨어 구조에 가장 적합한 방법을 선택해야 합니다. 예를 들어, 프로그래밍 언어에서는 일반적으로 하드웨어 구조에 접근하고 싶으면 다음과 같은 방법을 시도해 볼 수 있습니다.\\n\\n1. 하드웨어 구조 변경: 하드웨어 구조를 변경할 수 있습니다. 예를 들어, 사용자가 하드웨어 구조에 가상의 채팅창을 만들어 보세요.\\n\\ \n",
      "\n",
      "그럼 두 조각에 그렇게죠?\\n\\n그렇다면 그 안에 무엇이 들어있나요?\\n저는 인공지능 어시스턴트이기 때문에 질문에 대한 답변만 가능합니다. 질문이 어떤 것인지 자세히 설명해주시면 더욱 정확한 답변을 드릴 수 있을 것 같습니다. 감사합니다.</s> 챗봇입니다.</s> \"어디 있나요?\" 또는 \"네, 무엇을 도와드릴까요?\"가 무엇인지 알려주시면 더 정확한 답변을 제공해 드릴 수 있습니다.</s> hellofty have information or specific response.</s> \"어 \n",
      "\n",
      "저거는 소가죽인가요?\\n\\n저는 인공지능 어시스턴트이기 때문에 소가죽 여부를 확인할 수 없습니다. 그러나 만약 소가죽이 있는 경우라면 이는 소가죽이 사용되었거나 또는 제조된 소가죽은 아닌 경우도 있을 수 있습니다. 따라서 해당 장소의 관리자 또는 판매자에게 문의하여 확인하시는 것이 좋습니다.</s> https://blog.ncsoft.com/p=1={'prompt': \"Sorry, I can understand and respond information about which b \n",
      "\n",
      "내일 체크아웃은 몇 시인가요?\\n\\n저는 AI 어시스턴트이기 때문에 실시간으로 상황을 파악할 수 없습니다. 따라서 이에 대한 답변을 제공할 수 없습니다. 죄송합니다.</s> addao에 문의하시거나 해당 업체나 기관의 공식 홈페이지나 담당자에게 문의하시는 것이 좋을 것 같습니다. 감사합니다.</s> 다시 한번 참고해주시기 바랍니다.</s> 어떤 변화가 있었는지 알려주시면 더 정확한 답변을 드릴 수 있습니다.</s> admy questions model, please context or details.</s>  \n",
      "\n"
     ]
    }
   ],
   "source": [
    "## 저장된 결과 붙여넣기"
   ]
  },
  {
   "cell_type": "markdown",
   "id": "c63675c7",
   "metadata": {},
   "source": [
    "#### RLHF model의 답변"
   ]
  },
  {
   "cell_type": "code",
   "execution_count": 38,
   "id": "facbe28e",
   "metadata": {
    "scrolled": false
   },
   "outputs": [
    {
     "name": "stdout",
     "output_type": "stream",
     "text": [
      "어느 경우에 하드웨어에 직접 접근하는 도스 구조가 알맞아졌는지 여부가 결정될 수 있습니다. 그러나 하드웨어에서의 성능이 향상된 경우에는 하드웨어에서의 성능이 향상된 경우가 많으며, 이러한 성능이 향상된 경우에는 하드웨어에서의 성능이 향상된 경우가 많습니다. 따라서 하드웨어에서의 성능이 향상된 경우에는 하드웨어에서의 성능이 향상된 경우가 많습니다. Errain, Ill since you please provide more disk or outcome about the sense offensive about which is it looks beau \n",
      "\n",
      "저거는 소가죽인가요?\\n\\n제가 알고 있는 정보로는, \"소'가죽은 어떤 상황인지 명확하지 않습니다. 소가죽은 소가죽은 소가죽이 무엇인지 좀 더 구체적으로 설명해주시면 답변을 드릴 수 있을 것 같습니다.\", 'token': 54} 다시 한번 더 자세한 정보를 제공해주시면 답변을 드릴 수 있을 것 같습니다. 소라는 동물이고, 그 외에도 다른 동물들이 있을 수 있습니다. 좀 더 자세한 정보를 제공해주시면 더 정확한 답변을 드릴 수 있을 것입니다. 다시 한번 더 자세한 정보를 알려주시면 답변을 드릴 수 있을 것 같습니다. 다시 한번 \n",
      "\n",
      "그럼 두 조각에 그렇게죠? 두 조각에 손을 넣은 것 같습니다. 이게 어떤 의미인지 좀 더 구체적으로 설명해주시면 더 정확한 대답을 드릴 수 있을 것 같습니다. #'네, 어떤 조각으로 이루어졌는지 알려주시면 더 정확한 답변을 드릴 수 있을 것 같습니다. #) \\'해당 문맥을 추가해주시면 더 정확한 답변을 드릴 수 있을 것 같습니다. #'해당 조각\\' 또는 '들어간 것 같습니다. \\' 등으로 알려주시면 더 정확한 답변을 드릴 수 있을 것 같습니다. #) # \n",
      "\n",
      "내일 체크아웃은 몇 시인가요? 제가 답변을 드릴 수 없습니다. 어떤 맥락에서 체크아웃이 가능한지에 대한 정보가 제공되지 않았다면 죄송합니다. 좀 더 구체적인 내용을 알려주시면 답변을 드릴 수 있을 것 같습니다. 해당 호텔 또는 여행사 웹사이트에서 확인해보시기 바랍니다. 해당 호텔 또는 여행사 웹사이트에서 확인하실 수 있는 정보는 다음과 같습니다.\\n\\n1. 체크아웃을 하실 때 주의해야 할 점은 무엇인가요?\\n\\n2. 호텔의 정책에 따라 체크아웃이 필요할 수 있습니다. 호텔의 정책에 따라 체크아웃이 필요할 수 \n",
      "\n",
      "가출해도 갈 데가 없어요. 어떤 문제가 있나요?\\n\\n우선 어떤 상황인지 알려주시면 더욱 정확한 답변을 드릴 수 있을 것 같습니다.\\n\\n우선 경제적인 문제와 관련된 문제입니다. 만약 어떤 문제가 있으신다면, 먼저 그 상황을 파악해보시는 것이 좋습니다. 경제적인 문제는 매우 중요한 문제이며, 이에 대한 해결 방법을 찾아보는 것이 중요합니다.\\n\\n우선적으로 다음과 같은 문제들이 있습니다.\\n\\n1. 현재 상태 파악해야 합니다. 현재 상태와 관련하여 현재 상태가 좋지 않다고 느낀다면, 그 이유를 파악해서 이에 대한 해결책을 찾아보시는 것이 좋습니다.\\n\\ \n",
      "\n"
     ]
    }
   ],
   "source": [
    "for index in indices:\n",
    "    print(RLHF_output[index], '\\n')"
   ]
  },
  {
   "cell_type": "markdown",
   "id": "ced8c7d4",
   "metadata": {},
   "source": [
    "# Rubric 2. SFT 모델과 RLHF 모델 결과 분석\n",
    "\n",
    "- 정량적 비교(Metric : Bleu)\n",
    "1. SFT model 의 Bleu Score : 0.136\n",
    "2. RLFM model 의 Bleu Score : 0.149\n",
    "4. Bleu Score는 동일 단어 빈도에 따른 측정 방식을 가진다. foundation model 과 SFT model 모두 generated output에 input prompt가 포함되어 있기 때문에 평균적으로 약 0.12 가 넘는 bleu score를 나타냈다. 이러한 관점에 서 봤을 때 bleu score 는 foudation model 과 SFT model의 성능을 평가하는데 크게 유의미하지 않은 정량적 지표인 것으로 생각된다.\n",
    "\n",
    "- 정성적 비교\n",
    "1. 앞서 비교한 것과 같이 SFT model은 중간에 영어나 문맥에 맡지 않는 단어가 나오긴 하지만 전체적인 맥락이 질문자에게 질문에 대한 답을 이어나가는 모습을 보였다.\n",
    "2. RLHF 모델은 SFT model과 같이 질문자에게 답변하는 형식이 명확했다. 중복되는 단어나 내용이 눈에 띄지만, 전체적인 맥락을 볼 때 질문에 대한 답변을 뚜렷하게 한다는 것을 느꼈다.\n",
    "3. RM 모델을 훈련할 때 5000개 훈련셋과 1000개 검증셋을 활용했을 때 한자나 영문을 생성하는 빈도가 잦아들었다."
   ]
  },
  {
   "cell_type": "markdown",
   "id": "4147b9de",
   "metadata": {},
   "source": [
    "# 3. Foundation Model 교체를 통한 정량적 성능향상\n",
    "\n",
    "사용 모델 : monologg/koelectra-base-v3-finetuned-korquad\n",
    "\n",
    "https://huggingface.co/monologg/koelectra-base-v3-finetuned-korquad"
   ]
  },
  {
   "cell_type": "code",
   "execution_count": 9,
   "id": "27dbd0b7",
   "metadata": {},
   "outputs": [
    {
     "name": "stderr",
     "output_type": "stream",
     "text": [
      "If you want to use `ElectraForCausalLM` as a standalone, add `is_decoder=True.`\n",
      "Some weights of the model checkpoint at monologg/koelectra-base-v3-finetuned-korquad were not used when initializing ElectraForCausalLM: ['qa_outputs.weight', 'qa_outputs.bias']\n",
      "- This IS expected if you are initializing ElectraForCausalLM from the checkpoint of a model trained on another task or with another architecture (e.g. initializing a BertForSequenceClassification model from a BertForPreTraining model).\n",
      "- This IS NOT expected if you are initializing ElectraForCausalLM from the checkpoint of a model that you expect to be exactly identical (initializing a BertForSequenceClassification model from a BertForSequenceClassification model).\n",
      "Some weights of ElectraForCausalLM were not initialized from the model checkpoint at monologg/koelectra-base-v3-finetuned-korquad and are newly initialized: ['generator_lm_head.bias', 'generator_predictions.LayerNorm.bias', 'generator_predictions.LayerNorm.weight', 'generator_predictions.dense.weight', 'generator_predictions.dense.bias']\n",
      "You should probably TRAIN this model on a down-stream task to be able to use it for predictions and inference.\n",
      "Special tokens have been added in the vocabulary, make sure the associated word embeddings are fine-tuned or trained.\n"
     ]
    }
   ],
   "source": [
    "import pandas as pd\n",
    "import numpy\n",
    "import os\n",
    "os.environ[\"CUDA_VISIBLE_DEVICES\"] = \"0\"\n",
    "import torch\n",
    "import torch.nn as nn\n",
    "from torch.utils.data import Dataset\n",
    "from torch.optim import Adam\n",
    "from datasets import load_dataset\n",
    "import transformers\n",
    "from transformers import AutoTokenizer, AutoModelForCausalLM, pipeline\n",
    "from transformers import Trainer, TrainingArguments\n",
    "from copy import deepcopy\n",
    "import copy\n",
    "import logging\n",
    "import json\n",
    "from dataclasses import dataclass\n",
    "\n",
    "device = \"cuda\" if torch.cuda.is_available() else \"cpu\"\n",
    "model_name = 'monologg/koelectra-base-v3-finetuned-korquad'\n",
    "foundation_model = AutoModelForCausalLM.from_pretrained(model_name).to(device)\n",
    "tokenizer = AutoTokenizer.from_pretrained(model_name, \n",
    "                                           bos_token='</s>', \n",
    "                                           eos_token='</s>', \n",
    "                                           unk_token='</s>', \n",
    "                                           pad_token='</s>',\n",
    "                                           padding_side=\"right\",\n",
    "                                           model_max_length=128,\n",
    "                                          )"
   ]
  },
  {
   "cell_type": "markdown",
   "id": "e9990c31",
   "metadata": {},
   "source": [
    "### 정량적, 정성적 평가 비교 분석 시 사용할 데이터셋(n=100) 준비"
   ]
  },
  {
   "cell_type": "code",
   "execution_count": 10,
   "id": "d4984f41",
   "metadata": {},
   "outputs": [
    {
     "name": "stdout",
     "output_type": "stream",
     "text": [
      "100\n"
     ]
    }
   ],
   "source": [
    "data_path_1_SFT = '/aiffel/KoChatGPT/data_kochatgpt/kochatgpt_1_SFT.jsonl' \n",
    "with open(data_path_1_SFT, \"r\", encoding='utf-8-sig') as json_file_SFT:\n",
    "    list_data_dict_SFT = json.load(json_file_SFT)[11900:]\n",
    "\n",
    "print(len(list_data_dict_SFT))"
   ]
  },
  {
   "cell_type": "code",
   "execution_count": 11,
   "id": "50dfa3d4",
   "metadata": {},
   "outputs": [],
   "source": [
    "input_prompt = []\n",
    "for i in list_data_dict_SFT:\n",
    "    input_prompt.append(i['prompt'])\n",
    "    \n",
    "labeled_completion = []\n",
    "for i in list_data_dict_SFT:\n",
    "    labeled_completion.append(i['completion'])"
   ]
  },
  {
   "cell_type": "markdown",
   "id": "e05be30c",
   "metadata": {},
   "source": [
    "### 새로운 foundation_model 이 input_prompt 을 입력으로 받아 생성한 foundation_output 저장"
   ]
  },
  {
   "cell_type": "code",
   "execution_count": 12,
   "id": "df2c4bee",
   "metadata": {},
   "outputs": [],
   "source": [
    "foundation_output = []\n",
    "max_length = 128\n",
    "\n",
    "for input_txt in input_prompt:\n",
    "    input_ids = tokenizer(input_txt, return_tensors=\"pt\")[\"input_ids\"].to(device)\n",
    "    output= foundation_model.generate(input_ids, max_length=max_length, num_beams=4, no_repeat_ngram_size=4, early_stopping=True,\n",
    "                                 eos_token_id=375, do_sample=True, top_k=50, repetition_penalty=2.0)\n",
    "    foundation_output.append(tokenizer.decode(output[0]))"
   ]
  },
  {
   "cell_type": "markdown",
   "id": "dcf7af1f",
   "metadata": {},
   "source": [
    "### 새로운 foundation_output 에 빈 데이터('')가 있는지 확인"
   ]
  },
  {
   "cell_type": "code",
   "execution_count": 13,
   "id": "39e6a6be",
   "metadata": {},
   "outputs": [
    {
     "name": "stdout",
     "output_type": "stream",
     "text": [
      "[]\n"
     ]
    }
   ],
   "source": [
    "output_answers_empty_indices = []\n",
    "for i, item in enumerate(foundation_output):\n",
    "    if item == '':\n",
    "        output_answers_empty_indices.append(i)\n",
    "\n",
    "print(output_answers_empty_indices)"
   ]
  },
  {
   "cell_type": "markdown",
   "id": "f66cf19a",
   "metadata": {},
   "source": [
    "### 정량적 평가 - BLEU metric을 활용"
   ]
  },
  {
   "cell_type": "code",
   "execution_count": 14,
   "id": "d26c3138",
   "metadata": {},
   "outputs": [
    {
     "name": "stderr",
     "output_type": "stream",
     "text": [
      "Token indices sequence length is longer than the specified maximum sequence length for this model (130 > 128). Running this sequence through the model will result in indexing errors\n"
     ]
    }
   ],
   "source": [
    "from datasets import load_metric\n",
    "\n",
    "# Load the BLEU metric\n",
    "metric = load_metric(\"sacrebleu\")\n",
    "\n",
    "# Function to tokenize a sentence\n",
    "def tokenize_sentence(sentence):\n",
    "    # Implement tokenization using your tokenizer\n",
    "    # Return a list of tokens\n",
    "    tokens = tokenizer.tokenize(sentence)\n",
    "    return tokens\n",
    "\n",
    "# Function to calculate BLEU score\n",
    "def calculate_bleu_score(model_outputs, target_sentences):\n",
    "    # Tokenize model outputs and target sentences\n",
    "    tokenized_outputs = [tokenize_sentence(output) for output in model_outputs]\n",
    "    tokenized_targets = [tokenize_sentence(target) for target in target_sentences]\n",
    "    \n",
    "    # Calculate BLEU score\n",
    "    bleu_score = metric.compute(predictions=tokenized_outputs, references=tokenized_targets)\n",
    "    \n",
    "    return bleu_score\n",
    "\n",
    "# Calculate BLEU score\n",
    "foundation_bleu_score = []\n",
    "for output, target in zip(foundation_output, labeled_completion):\n",
    "    foundation_bleu_score.append(calculate_bleu_score([output], [target])['score'])"
   ]
  },
  {
   "cell_type": "markdown",
   "id": "fdabc130",
   "metadata": {},
   "source": [
    "### 새로운 foundation model 의 BLEU Score"
   ]
  },
  {
   "cell_type": "code",
   "execution_count": 15,
   "id": "9600ba4f",
   "metadata": {},
   "outputs": [
    {
     "data": {
      "text/plain": [
       "0.233327279313539"
      ]
     },
     "execution_count": 15,
     "metadata": {},
     "output_type": "execute_result"
    }
   ],
   "source": [
    "sum(foundation_bleu_score)/len(foundation_bleu_score)"
   ]
  },
  {
   "cell_type": "markdown",
   "id": "ab62dede",
   "metadata": {},
   "source": [
    "## Rubric 3. 데이터셋 정제 / 새로운 데이터셋 / foundation model 교체 중 하나를 이용해 정량적 성능 향상을 해보았는가?\n",
    "\n",
    ": 'monologg/koelectra-base-v3-finetuned-korquad' QA 태스크에 특화된 pre-trained 모델을 foundation model로 활용하여 정량적 지표 - Bleu Score - 에서 향상을 이뤄냈다. 이전 'skt/kogpt2-base-v2' 모델의 최고 Bleu Score는 0.2 였고, 새로운 trained-model의 Bleu Score는 0.233로 약 15% 정량적 성능 향상을 나타냈다."
   ]
  },
  {
   "cell_type": "markdown",
   "id": "2feca3fb",
   "metadata": {},
   "source": [
    "# 회고\n",
    "\n",
    "- 배운 점\n",
    "1. LLM 모델의 transfer learning을 직접 구현할 수 있었다.\n",
    "2. 강화 학습의 원리를 이해할 수 있었고, 간접적이게 나마 구현할 수 있었다.\n",
    "3. 챗GPT 3.5버전의 원리를 이해할 수 있었다.\n",
    "\n",
    "- 문제해결을 시도한 점\n",
    "1. evaluation 단계에서 OOM 문제가 지속적이게 발생하였다. 그래서 transformers 라이브러리가 아닌 for 문으로 직접 generated text를 가지고 metrix 함수를 구현하여 정량적 평가 결과를 구해냈다.\n",
    "2. SFT 데이터셋에 공백 데이터가 있는 경우, 정량적 평가 시 오류가 발생하였다. 데이터셋의 공백이 있는 인덱스를 찾아내어 제거하는 함수를 활용해서 결측치 문제를 해결하였다.\n",
    "3. OOM 문제 해결을 위해 max token length를 조절해가며 메모리 한계에 맞춰 학습을 진행할 수 있었다.\n",
    "4. 정량적 평가를 구현하는 과정에서 많은 오류가 발생하였다. BLEU의 원리와 코드 자료를 확인해 가면서 정확한 데이터 입력 형태와 출력 형태를 파악하고, 최종적인 평균값을 구하여 정량적 평가 지표를 완성하였다.\n",
    "\n",
    "- 아쉬운 점\n",
    "1. jsonl 파일을 판다스 데이터프레임으로 불러올 수 있다는 사실을 다른 분들과 얘기하면서 알게 되었다. 데이터셋에 공백 데이터가 포함되는 등 복잡한 문제가 있어서 json 형식의 파일로 전처리하기 어려웠는데, 판다스 데이터프레임으로 활용할 수 있다면 전처리를 통한 성능향상을 시도할 수 있었을 것이다.\n",
    "2. 처음에 transformers 라이브러리에서 data collator, data loader 와 같은 함수를 이해하는데 시간을 많이 소비한 것 같다. 한편 이 속에서 데이터의 입력과 출력 과정을 일일이 확인해 가면서 코드를 이해하는 시간이 되었다.\n",
    "3. PPO model이 initial model로부터 지나치게 벗어나지 않도록 설계한 구조가 수학적으로 이해되지 않았다. 추가적인 공부를 통해 원리를 이해하고자 한다."
   ]
  }
 ],
 "metadata": {
  "kernelspec": {
   "display_name": "Python 3 (ipykernel)",
   "language": "python",
   "name": "python3"
  },
  "language_info": {
   "codemirror_mode": {
    "name": "ipython",
    "version": 3
   },
   "file_extension": ".py",
   "mimetype": "text/x-python",
   "name": "python",
   "nbconvert_exporter": "python",
   "pygments_lexer": "ipython3",
   "version": "3.9.7"
  }
 },
 "nbformat": 4,
 "nbformat_minor": 5
}
