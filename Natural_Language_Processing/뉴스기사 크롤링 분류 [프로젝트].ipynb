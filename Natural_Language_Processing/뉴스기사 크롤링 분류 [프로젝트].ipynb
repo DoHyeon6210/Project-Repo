{
 "cells": [
  {
   "cell_type": "markdown",
   "id": "931c44a7",
   "metadata": {},
   "source": [
    "# Step 1. 형태소 분석기 변경해 보기"
   ]
  },
  {
   "cell_type": "code",
   "execution_count": 1,
   "id": "09f7fbc8",
   "metadata": {},
   "outputs": [],
   "source": [
    "# 최종적으로 [뉴스제목, 분류] 데이터 프레임 생성 :\n",
    "# make_total_data(페이지까지, code_list, 날짜)\n",
    "\n",
    "import requests\n",
    "import pandas as pd\n",
    "from bs4 import BeautifulSoup\n",
    "from newspaper import Article\n",
    "\n",
    "# 페이지 수, 카테고리, 날짜를 입력값으로 받습니다.\n",
    "def make_urllist(page_num, code, date): \n",
    "  urllist= []\n",
    "  for i in range(1, page_num + 1):\n",
    "    url = 'https://news.naver.com/main/list.nhn?mode=LSD&mid=sec&sid1='+str(code)+'&date='+str(date)+'&page='+str(i)\n",
    "    headers = {'User-Agent': 'Mozilla/5.0 (X11; Linux x86_64) AppleWebKit/537.36 (KHTML, like Gecko) Chrome/54.0.2840.90 Safari/537.36'}\n",
    "    news = requests.get(url, headers=headers)\n",
    "\n",
    "    # BeautifulSoup의 인스턴스 생성합니다. 파서는 html.parser를 사용합니다.\n",
    "    soup = BeautifulSoup(news.content, 'html.parser')\n",
    "\n",
    "    # CASE 1\n",
    "    news_list = soup.select('.newsflash_body .type06_headline li dl')\n",
    "    # CASE 2\n",
    "    news_list.extend(soup.select('.newsflash_body .type06 li dl'))\n",
    "        \n",
    "    # 각 뉴스로부터 a 태그인 <a href ='주소'> 에서 '주소'만을 가져옵니다.\n",
    "    for line in news_list:\n",
    "        urllist.append(line.a.get('href'))\n",
    "  return urllist\n",
    "\n",
    "idx2word = {'101' : '경제', '102' : '사회', '103' : '생활/문화', '105' : 'IT/과학'}\n",
    "\n",
    "#- 데이터프레임을 생성하는 함수입니다.\n",
    "def make_data(urllist, code):\n",
    "  text_list = []\n",
    "  for url in urllist:\n",
    "    article = Article(url, language='ko')\n",
    "    article.download()\n",
    "    article.parse()\n",
    "    text_list.append(article.title)\n",
    "\n",
    "  #- 데이터프레임의 'news' 키 아래 파싱한 텍스트를 밸류로 붙여줍니다.\n",
    "  df = pd.DataFrame({'news': text_list})\n",
    "\n",
    "  #- 데이터프레임의 'code' 키 아래 한글 카테고리명을 붙여줍니다.\n",
    "  df['code'] = idx2word[str(code)]\n",
    "  return df\n",
    "\n",
    "def make_total_data(page_num, code_list, date):\n",
    "  df = None\n",
    "\n",
    "  for code in code_list:\n",
    "    url_list = make_urllist(page_num, code, date)\n",
    "    df_temp = make_data(url_list, code)\n",
    "    print(str(code)+'번 코드에 대한 데이터를 만들었습니다.')\n",
    "\n",
    "    if df is not None:\n",
    "      df = pd.concat([df, df_temp])\n",
    "    else:\n",
    "      df = df_temp\n",
    "\n",
    "  return df"
   ]
  },
  {
   "cell_type": "code",
   "execution_count": 2,
   "id": "31f6e0dc",
   "metadata": {},
   "outputs": [
    {
     "name": "stdout",
     "output_type": "stream",
     "text": [
      "102번 코드에 대한 데이터를 만들었습니다.\n",
      "103번 코드에 대한 데이터를 만들었습니다.\n",
      "105번 코드에 대한 데이터를 만들었습니다.\n"
     ]
    }
   ],
   "source": [
    "# 뉴스 제목, 분류 인스턴트 생성\n",
    "# df = make_total_data(1, code_list, 20231128)\n",
    "\n",
    "# 1. 원하는 코드리스트 결정\n",
    "code_list = [102, 103, 105]\n",
    "\n",
    "# 2. 인스턴트 생성\n",
    "df = make_total_data(1, code_list, 20231128)"
   ]
  },
  {
   "cell_type": "code",
   "execution_count": 3,
   "id": "1aac7f86",
   "metadata": {},
   "outputs": [
    {
     "name": "stdout",
     "output_type": "stream",
     "text": [
      "/aiffel/aiffel/news_crawler/news_data.csv File Saved!\n"
     ]
    }
   ],
   "source": [
    "import os\n",
    "\n",
    "# 데이터프레임 파일을 csv 파일로 저장합니다.\n",
    "# 저장경로는 이번 프로젝트를 위해 만든 폴더로 지정해 주세요.\n",
    "csv_path = os.getenv(\"HOME\") + \"/aiffel/news_crawler/news_data.csv\"\n",
    "df.to_csv(csv_path, index=False)\n",
    "\n",
    "if os.path.exists(csv_path):\n",
    "  print('{} File Saved!'.format(csv_path))"
   ]
  },
  {
   "cell_type": "code",
   "execution_count": 4,
   "id": "91373ae1",
   "metadata": {},
   "outputs": [
    {
     "data": {
      "text/html": [
       "<div>\n",
       "<style scoped>\n",
       "    .dataframe tbody tr th:only-of-type {\n",
       "        vertical-align: middle;\n",
       "    }\n",
       "\n",
       "    .dataframe tbody tr th {\n",
       "        vertical-align: top;\n",
       "    }\n",
       "\n",
       "    .dataframe thead th {\n",
       "        text-align: right;\n",
       "    }\n",
       "</style>\n",
       "<table border=\"1\" class=\"dataframe\">\n",
       "  <thead>\n",
       "    <tr style=\"text-align: right;\">\n",
       "      <th></th>\n",
       "      <th>news</th>\n",
       "      <th>code</th>\n",
       "    </tr>\n",
       "  </thead>\n",
       "  <tbody>\n",
       "    <tr>\n",
       "      <th>0</th>\n",
       "      <td>돈가스 3kg으로 85명 원생 배식한 어린이집 원장 재판行</td>\n",
       "      <td>사회</td>\n",
       "    </tr>\n",
       "    <tr>\n",
       "      <th>1</th>\n",
       "      <td>[뉴스특보 LIVE] 2030 엑스포 개최지 발표 “부산의 도전”</td>\n",
       "      <td>사회</td>\n",
       "    </tr>\n",
       "    <tr>\n",
       "      <th>2</th>\n",
       "      <td>동명이인 환자 명의로 '의료용 마약류' 처방받은 의사</td>\n",
       "      <td>사회</td>\n",
       "    </tr>\n",
       "    <tr>\n",
       "      <th>3</th>\n",
       "      <td>\"만원의 가치, 만원의 효용을 체감하는 기자협회\"</td>\n",
       "      <td>사회</td>\n",
       "    </tr>\n",
       "    <tr>\n",
       "      <th>4</th>\n",
       "      <td>\"2024년 힘차고 따뜻한 기자협회 원년\"</td>\n",
       "      <td>사회</td>\n",
       "    </tr>\n",
       "  </tbody>\n",
       "</table>\n",
       "</div>"
      ],
      "text/plain": [
       "                                   news code\n",
       "0      돈가스 3kg으로 85명 원생 배식한 어린이집 원장 재판行   사회\n",
       "1  [뉴스특보 LIVE] 2030 엑스포 개최지 발표 “부산의 도전”   사회\n",
       "2         동명이인 환자 명의로 '의료용 마약류' 처방받은 의사   사회\n",
       "3           \"만원의 가치, 만원의 효용을 체감하는 기자협회\"   사회\n",
       "4               \"2024년 힘차고 따뜻한 기자협회 원년\"   사회"
      ]
     },
     "execution_count": 4,
     "metadata": {},
     "output_type": "execute_result"
    }
   ],
   "source": [
    "csv_path = os.getenv(\"HOME\") + \"/aiffel/news_crawler/news_data.csv\"\n",
    "df = pd.read_table(csv_path, sep=',')\n",
    "df.head()"
   ]
  },
  {
   "cell_type": "code",
   "execution_count": 5,
   "id": "357e3dbd",
   "metadata": {
    "scrolled": true
   },
   "outputs": [
    {
     "name": "stderr",
     "output_type": "stream",
     "text": [
      "/tmp/ipykernel_142/3649439000.py:2: FutureWarning: The default value of regex will change from True to False in a future version.\n",
      "  df['news'] = df['news'].str.replace(\"[^ㄱ-ㅎㅏ-ㅣ가-힣 ]\",\"\")\n"
     ]
    },
    {
     "data": {
      "text/plain": [
       "0                    돈가스 으로 명 원생 배식한 어린이집 원장 재판\n",
       "1                      뉴스특보   엑스포 개최지 발표 부산의 도전\n",
       "2                   동명이인 환자 명의로 의료용 마약류 처방받은 의사\n",
       "3                      만원의 가치 만원의 효용을 체감하는 기자협회\n",
       "4                             년 힘차고 따뜻한 기자협회 원년\n",
       "5                     세계일보 사건팀 장애인본부 이달의 좋은 기사상\n",
       "6                       나에게 우리에게 세상에 쓸모 있는 기자협회\n",
       "7                 유튜버 일탈 어디까지모텔서 수면제 투약하고 방송한 대\n",
       "8                        해마루촌 마을주민 동서대에 감사패쌀 전달\n",
       "9                      강릉시 옥계면연곡면 일대 지적재조사사업 추진\n",
       "10                   횡성 디피코 사모펀드 운용사와 조건부 투자 계약\n",
       "11                    핵심 비전 소개하는 나승연 부산엑스포 홍보대사\n",
       "12                        평창 국제올림픽 연구센터 컨퍼런스 개막\n",
       "13                   우리 부산은요핵심 비전 소개하는 나승연 홍보대사\n",
       "14         며느리 살해한 시아버지 아들 내외가 나 죽이려 했다피해 망상 추정\n",
       "15    전쟁 폐허 극복한 부산의 저력 공유 연대의 엑스포 역설 엑스포 개최지 선정\n",
       "16                채팅앱서 만난 또래 여학생 살해한 대 남학생 구속기소\n",
       "17                      동해 묵호항 항만대기질 관리구역 지정 요구\n",
       "18                     강릉 급발진 의심사고 민사소송 변론기일 열려\n",
       "19                           포토  장애인 먼저 실천상 시상식\n",
       "20    조수미이정재싸이 엑스포  등장공존의 도시 부산에 오세요 엑스포 개최지 발표\n",
       "21          강스템바이오텍 퓨어스템 오에이 키트주 임상 순항 기술수출에 최선\n",
       "22                      가짜 환자지만 정신병원 입원에 성공했습니다\n",
       "23                    베를린 필하모닉 년 준비한 진은숙 에디션 발매\n",
       "24                           가장 아름다운 비밀은 쓰지 않아요\n",
       "25                  여성영화인축제올해의 여성영화인상 시상식 월일 개최\n",
       "26          외국은 즐기는데 한국은 잘해야만 한다현대사회에서 평화 찾는 이곳\n",
       "27            엄마 우리집 채소는 왜 얼어 있어 싸니까냉동식재료 인기라는데\n",
       "28                             조선자유언론수호투쟁위원회 엮음\n",
       "29               동아제약 중대재해 대응 모의훈련 실시심폐소생술 등 교육\n",
       "30                  휴젤 여성소비자가 뽑은 좋은기업대상 년 연속 수상\n",
       "31                          울산 오늘 낮 최고 기온 도내일 도\n",
       "32                  나이 들어 꼬부랑 허리 안 되려면 이곳 단련 필수\n",
       "33                  이노엔고용노동부 안전문화 확산 위한 업무협약 체결\n",
       "34       온국민 염원 담아두 남자 안산서 부산까지  걸었다 엑스포 개최지 발표\n",
       "35                     전쟁과 폭력의 시대 소년들의 칼은 정의로웠네\n",
       "36                  교황 건강 문제에도 기후정상회의 예정대로 참석종합\n",
       "37                작곡계 노벨상 받은 진은숙 베를린 필 진 에디션 발매\n",
       "38                     운동 효과 확 높이려면 끝나고 이것 꼭 해야\n",
       "39                      날씨 내일 더 추워져일부 강원경북 한파특보\n",
       "40           우리 할머니 인슐린 주사 그만 맞아도 될까당뇨 완치 길 열리나\n",
       "41          강스템바이오텍 퓨어스템 오에이 키트주 임상 순항 기술수출에 최선\n",
       "42                    솔루션즈  테크니컬 센터 열어유럽 시장 잡는다\n",
       "43             대구경북과학기술원 신임 총장에 이건우 서울대 전 공대 학장\n",
       "44              울산 남구 테크노산업로 일원 자율주행차 시범운행지구 지정\n",
       "45                    유니스트 세계에서 가장 영향력 있는 연구자 명\n",
       "46                        이용훈 총장 과기부 장관 물망유니스트는\n",
       "47                        쿠쿠전자 대용량 아이편한 가습기  출시\n",
       "48                 욕설 논란에 카르텔 폭로까지스텝 꼬인 김범수 쇄신안\n",
       "49               이런 같은 욕설 회의 카카오 임원 문제점 지적하다 실수\n",
       "50                  코웨이 환경기술연구소 년 연속  공인시험기관 인정\n",
       "51           스타트업 터널 속에서도 차량의 정확한 위치 파악 돕는 씨너렉스\n",
       "52                       바이오 기술 선도포스텍 혁신연구센터 개소\n",
       "53                           카이스트 인공지능반도체대학원 개원\n",
       "54                          지하  정밀 탐사땅속 내시경  개발\n",
       "55                    부산디지털자산거래소 사업자 블록체인 큰손 파전\n",
       "56         카카오 내부 폭로전 시작김정호 경영총괄 욕설 해명에 경영실태 폭로\n",
       "57                          생성형  시대데이터센터 열을 식혀라\n",
       "58                          생성형  시대데이터센터 열을 식혀라\n",
       "59           카카오 카르텔 의혹 수면 위로치부 전면에 드러낸 김범수 최측근\n",
       "Name: news, dtype: object"
      ]
     },
     "execution_count": 5,
     "metadata": {},
     "output_type": "execute_result"
    }
   ],
   "source": [
    "# 정규 표현식을 이용해서 한글 외의 문자는 전부 제거합니다.\n",
    "df['news'] = df['news'].str.replace(\"[^ㄱ-ㅎㅏ-ㅣ가-힣 ]\",\"\")\n",
    "df['news']"
   ]
  },
  {
   "cell_type": "code",
   "execution_count": 6,
   "id": "d1643668",
   "metadata": {},
   "outputs": [
    {
     "name": "stdout",
     "output_type": "stream",
     "text": [
      "news    0\n",
      "code    0\n",
      "dtype: int64\n"
     ]
    }
   ],
   "source": [
    "# Null 값 확인\n",
    "print(df.isnull().sum())"
   ]
  },
  {
   "cell_type": "code",
   "execution_count": 7,
   "id": "53eef145",
   "metadata": {},
   "outputs": [
    {
     "name": "stdout",
     "output_type": "stream",
     "text": [
      "뉴스 기사의 개수:  58\n"
     ]
    }
   ],
   "source": [
    "# 중복된 샘플들을 제거합니다.\n",
    "df.drop_duplicates(subset=['news'], inplace=True)\n",
    "\n",
    "print('뉴스 기사의 개수: ',len(df))"
   ]
  },
  {
   "cell_type": "code",
   "execution_count": 8,
   "id": "7e2aa433",
   "metadata": {},
   "outputs": [
    {
     "data": {
      "text/plain": [
       "<AxesSubplot:>"
      ]
     },
     "execution_count": 8,
     "metadata": {},
     "output_type": "execute_result"
    },
    {
     "data": {
      "image/png": "[encoded data removed]",
      "text/plain": [
       "<Figure size 432x288 with 1 Axes>"
      ]
     },
     "metadata": {
      "needs_background": "light"
     },
     "output_type": "display_data"
    }
   ],
   "source": [
    "import matplotlib.pyplot as plt\n",
    "plt.rcParams[\"font.family\"] = \"NanumGothic\"\n",
    "\n",
    "df['code'].value_counts().plot(kind = 'bar')"
   ]
  },
  {
   "cell_type": "code",
   "execution_count": 9,
   "id": "6e72567f",
   "metadata": {},
   "outputs": [
    {
     "name": "stdout",
     "output_type": "stream",
     "text": [
      "    code  count\n",
      "0  IT/과학     18\n",
      "1     사회     20\n",
      "2  생활/문화     20\n"
     ]
    }
   ],
   "source": [
    "print(df.groupby('code').size().reset_index(name = 'count'))"
   ]
  },
  {
   "cell_type": "code",
   "execution_count": 10,
   "id": "3b277974",
   "metadata": {},
   "outputs": [
    {
     "name": "stdout",
     "output_type": "stream",
     "text": [
      "['밤', '에', '귀가', '하', '던', '여성', '에게', '범죄', '를', '시도', '한', '대', '남성', '이', '구속', '됐', '다', '서울', '제주', '경찰서', '는', '상해', '혐의', '로', '씨', '를', '구속', '해', '수사', '하', '고', '있', '다고', '일', '밝혔', '다', '씨', '는', '지난달', '일', '피해', '여성', '을', '인근', '지하철', '역', '에서부터', '따라가', '폭행', '을', '시도', '하', '려다가', '도망간', '혐의', '를', '받', '는다', '피해', '여성', '이', '저항', '하', '자', '놀란', '씨', '는', '도망갔으며', '신고', '를', '받', '고', '주변', '을', '수색', '하', '던', '경찰', '에', '체포', '됐', '다', '피해', '여성', '은', '이', '과정', '에서', '경미', '한', '부상', '을', '입', '은', '것', '으로', '전해졌', '다']\n",
      "['밤', '에', '귀가', '하', '던', '여성', '에게', '범죄', '를', '시도', '하', 'ㄴ', '대', '남성', '이', '구속됐다서울', '제주경찰', '서는', '상하', '어', '혐의', '로', '씨', '를', '구속해', '수사', '하고', '있', '다', '고', '일', '밝혔다씨', '는', '지난달', '일', '피하', '어', '여성', '을', '인근', '지하철', '역', '에서부터', '따르', '아', '가', '아', '폭행', '을', '시도', '하', '려', '다가', '도망가', 'ㄴ', '혐의', '를', '받는다피해', '여성', '이', '저항', '하', '자', '놀라', 'ㄴ', '씨', '는', '도망가', '아며', '신고', '를', '받', '고', '주변', '을', '수색', '하', '던', '경찰', '에', '체포됐다피해', '여성', '은', '이', '과정', '에서', '경미한', '부상', '을', '입', '은', '것', '으로', '전하', '어', '지', '었다']\n"
     ]
    }
   ],
   "source": [
    "from konlpy.tag import Mecab\n",
    "from konlpy.tag import Hannanum\n",
    "\n",
    "\n",
    "tokenizer = Mecab()\n",
    "tokenizer2 = Hannanum()\n",
    "\n",
    "kor_text = '밤에 귀가하던 여성에게 범죄를 시도한 대 남성이 구속됐다서울 제주경찰서는 \\\n",
    "            상해 혐의로 씨를 구속해 수사하고 있다고 일 밝혔다씨는 지난달 일 피해 여성을 \\\n",
    "            인근 지하철 역에서부터 따라가 폭행을 시도하려다가 도망간 혐의를 받는다피해 \\\n",
    "            여성이 저항하자 놀란 씨는 도망갔으며 신고를 받고 주변을 수색하던 경찰에 \\\n",
    "            체포됐다피해 여성은 이 과정에서 경미한 부상을 입은 것으로 전해졌다'\n",
    "\n",
    "#- 형태소 분석, 즉 토큰화(tokenization)를 합니다.\n",
    "\n",
    "print(tokenizer.morphs(kor_text))\n",
    "print(tokenizer2.morphs(kor_text))"
   ]
  },
  {
   "cell_type": "code",
   "execution_count": 11,
   "id": "a816cd61",
   "metadata": {},
   "outputs": [],
   "source": [
    "# 불용어 지정\n",
    "stopwords = ['에','는','은','을','했','에게','있','이','의','하','한','다','과','때문','할','수','무단','따른','및','금지','전재','경향신문','기자','는데','가','등','들','파이낸셜','저작','등','뉴스']"
   ]
  },
  {
   "cell_type": "code",
   "execution_count": 12,
   "id": "013148f0",
   "metadata": {},
   "outputs": [],
   "source": [
    "# Mecab과 Hannanum 토크나이져의 연산 속도를 비교하는 결과도 출력합니다.\n",
    "\n",
    "import time\n",
    "\n",
    "def preprocessing_comp(data): # Mecab과 Hannanum 토크나이져를 포함한 함수\n",
    "  text_data = []\n",
    "  text_data2 = []  \n",
    "  \n",
    "  start = time.time()   # 시작1\n",
    "  for sentence in data:\n",
    "    temp_data = []\n",
    "    #- 토큰화\n",
    "    temp_data = tokenizer.morphs(sentence) \n",
    "    #- 불용어 제거\n",
    "    temp_data = [word for word in temp_data if not word in stopwords] \n",
    "    text_data.append(temp_data)\n",
    "  print(\"Mecab 소요시간 :\", time.time() - start)   # 종료1\n",
    "\n",
    "  text_data = list(map(' '.join, text_data))\n",
    "    \n",
    "  start = time.time()    # 시작2\n",
    "  for sentence in data:\n",
    "    temp_data2 = []\n",
    "    #- 토큰화\n",
    "    temp_data2 = tokenizer2.morphs(sentence) \n",
    "    #- 불용어 제거\n",
    "    temp_data2 = [word for word in temp_data2 if not word in stopwords] \n",
    "    text_data2.append(temp_data2)\n",
    "\n",
    "  text_data2 = list(map(' '.join, text_data2))\n",
    "  print(\"Hannanum 소요시간 :\", time.time() - start)   # 종료2\n",
    "    \n",
    "  return text_data, text_data2"
   ]
  },
  {
   "cell_type": "code",
   "execution_count": 13,
   "id": "5808c737",
   "metadata": {},
   "outputs": [
    {
     "name": "stdout",
     "output_type": "stream",
     "text": [
      "Mecab 소요시간 : 0.012778997421264648\n",
      "Hannanum 소요시간 : 0.6596012115478516\n",
      "돈가스 으로 명 원생 배식 어린이집 원장 재판\n",
      "돈가스 으 로 명 원생 배식 ㄴ 어린이집 원장 재판\n"
     ]
    }
   ],
   "source": [
    "text_data, text_data2 = preprocessing_comp(df['news'])\n",
    "\n",
    "print(text_data[0])\n",
    "print(text_data2[0])"
   ]
  },
  {
   "cell_type": "markdown",
   "id": "78fa508f",
   "metadata": {},
   "source": [
    "Step 1. 형태소 분석기 변경해 보기 Conclusion\n",
    "\n",
    "1. Mecab 이 Hannanum 보다 약 50~60배 빠르게 테스크를 처리하였다\n",
    "2. 두 토크나이져는 명칭과 외래어 이름을 분류하는데 각기 문제가 있다. 예를 들면 Mecab 은 카이스트, 유니스트를 '카 이스트,' '유 니스트,' 로 토큰화하며, Hannanum 의 경우에는 '물망유니스트,'될까당뇨' 등으로 명사를 잘못 토큰화하는 결과를 보였다.\n",
    "3. Hannanum 은 Mecab 와 달리 'ㄴ'과 같이 동사와 형용사를 구분하기에 더 많은 수행 시간이 걸린 것으로 생각된다.\n",
    "4. 두 토크나이져 모두 명사를 처리하는데 문제를 보이지만 속도를 우선시 한다면 Hannanum 보다 Mecab 을 선택하는 것이 좋아 보인다."
   ]
  },
  {
   "cell_type": "markdown",
   "id": "a094d090",
   "metadata": {},
   "source": [
    " "
   ]
  },
  {
   "cell_type": "markdown",
   "id": "1f878597",
   "metadata": {},
   "source": [
    "# Step 2. 불용어 추가해 보기"
   ]
  },
  {
   "cell_type": "code",
   "execution_count": 60,
   "id": "44a346b1",
   "metadata": {},
   "outputs": [],
   "source": [
    "# 기존 Stopwords 에 추가하기 \n",
    "# '유', '니스트', '카', '이스트', 횡', '성', '년', '려' 추가\n",
    "\n",
    "stopwords_2 = ['에','는','은','을','했','에게','있','이','의','하','한','다','과','때문','할','수','무단','따른','및','금지','전재','경향신문','기자','는데','가','등','들','파이낸셜','저작','등','뉴스', '유', '니스트', '이스트', '카', '횡', '성', '년', '려']"
   ]
  },
  {
   "cell_type": "code",
   "execution_count": 61,
   "id": "cfff65ca",
   "metadata": {},
   "outputs": [],
   "source": [
    "# 다음 루브릭을 수행하기 위해 토크나이져를 Mecab 으로만 설정한 함수 preprocessing_2\n",
    " \n",
    "def preprocessing_2(data):\n",
    "  text_data = [] \n",
    "  \n",
    "  for sentence in data:\n",
    "    temp_data = []\n",
    "    #- 토큰화\n",
    "    temp_data = tokenizer.morphs(sentence) \n",
    "    #- stopwords_2의 불용어 제거\n",
    "    temp_data = [word for word in temp_data if not word in stopwords_2] \n",
    "    text_data.append(temp_data)\n",
    "\n",
    "  text_data = list(map(' '.join, text_data))\n",
    "    \n",
    "  return text_data"
   ]
  },
  {
   "cell_type": "code",
   "execution_count": 62,
   "id": "d0349b03",
   "metadata": {
    "scrolled": true
   },
   "outputs": [],
   "source": [
    "text_data = preprocessing_2(df['news'])"
   ]
  },
  {
   "cell_type": "code",
   "execution_count": 91,
   "id": "0ce959b3",
   "metadata": {
    "scrolled": true
   },
   "outputs": [
    {
     "data": {
      "text/plain": [
       "['돈가스 으로 명 원생 배식 어린이집 원장 재판',\n",
       " '특보 엑스포 개최지 발표 부산 도전',\n",
       " '동명이인 환자 명의 로 의료 용 마약 류 처방 받 의사',\n",
       " '만 원 가치 만 원 효용 체감 협회',\n",
       " '힘차 고 따뜻 협회 원년',\n",
       " '세계일보 사건 팀 장애 인 본부 이달 좋 기사 상',\n",
       " '나 우리 세상 쓸모 협회',\n",
       " '튜버 일탈 어디 까지 모텔 서 수면제 투약 고 방송 대',\n",
       " '해마루 촌 마을 주민 동서대 감사패 쌀 전달',\n",
       " '강릉시 옥계면 연곡면 일대 지적 재조사 사업 추진',\n",
       " '디피 코 사모 펀드 운용 사 와 조건부 투자 계약',\n",
       " '핵심 비전 소개 나승연 부산 엑스포 홍보 대사',\n",
       " '평창 국제 올림픽 연구 센터 컨퍼런스 개막',\n",
       " '우리 부산 요 핵심 비전 소개 나승연 홍보 대사',\n",
       " '며느리 살해 시아버지 아들 내외 나 죽이 피해 망상 추정',\n",
       " '전쟁 폐허 극복 부산 저력 공유 연대 엑스포 역설 엑스포 개최지 선정',\n",
       " '채팅 앱 서 만난 또래 여학생 살해 대 남학생 구속 기소',\n",
       " '동해 묵호항 항만 대기 질 관리 구역 지정 요구',\n",
       " '강릉 급발진 의심 사고 민사 소송 변론 기일 열려',\n",
       " '포토 장애 인 먼저 실천 상 시상식',\n",
       " '조수미 이정재 싸이 엑스포 장공 존 도시 부산 오 세요 엑스포 개최지 발표',\n",
       " '강 스템 바이오 텍 퓨어 스템 오에이 키트 주 임상 순항 기술 수출 최선',\n",
       " '가짜 환자 지만 정신 병원 입원 성공 습니다',\n",
       " '베를린 필하모닉 준비 진은숙 에디션 발매',\n",
       " '가장 아름다운 비밀 쓰 지 않 아요',\n",
       " '여성 영화 인 축제 올해 여성 영화 인상 시상식 월일 개최',\n",
       " '외국 즐기 한국 잘 해야 만 한다 현대 사회 에서 평화 찾 이곳',\n",
       " '엄마 우리 집 채소 왜 얼 어 어 싸 니까 냉 동식 재료 인기 라는 데',\n",
       " '조선 자유 언론 수호 투쟁 위원회 엮음',\n",
       " '동아제약 중대 재해 대응 모의 훈련 실시 심폐 소생 술 교육',\n",
       " '휴 젤 여성 소비자 뽑 좋 기업 대상 연속 수상',\n",
       " '울산 오늘 낮 최고 기온 도 내일 도',\n",
       " '나이 어 꼬부랑 허리 안 되 려면 이곳 단련 필수',\n",
       " '이노 엔 고용 노동부 안전 문화 확산 위한 업무 협약 체결',\n",
       " '온 국민 염원 담 아두 남자 안 산 서 부산 까지 걸 었 엑스포 개최지 발표',\n",
       " '전쟁 폭력 시대 소년 칼 정의 로웠 네',\n",
       " '교황 건강 문제 도 기후 정상 회의 예정 대로 참석 종합',\n",
       " '작곡계 노벨상 받 진은숙 베를린 필 진 에디션 발매',\n",
       " '운동 효과 확 높이 려면 끝나 고 이것 꼭 해야',\n",
       " '날씨 내일 더 추워져 일부 강원경 북 한파 특보',\n",
       " '우리 할머니 인슐린 주사 그만 맞 아도 될까 당뇨 완치 길 열리 나',\n",
       " '솔루션 즈 테크니컬 센터 열 어 유럽 시장 잡 는다',\n",
       " '대구경북 과학 기술원 신임 총장 이건우 서울대 전 공대 학장',\n",
       " '울산 남구 테크노 산업 로 일원 자율 주행 차 시범 운행 지구 지정',\n",
       " '세계 에서 가장 영향 력 연구자 명',\n",
       " '이용훈 총장 과기부 장관 물망',\n",
       " '쿠쿠 전자 대용량 아이 편한 가습기 출시',\n",
       " '욕설 논란 카르텔 폭로 까지 스텝 꼬인 김범수 쇄 신안',\n",
       " '이런 같 욕설 회의 카카오 임원 문제점 지적 실수',\n",
       " '코웨이 환경 기술 연구소 연속 공인 시험 기관 인정',\n",
       " '스타트업 터널 속 에서 도 차량 정확 위치 파악 돕 씨 너 렉스',\n",
       " '바이오 기술 선도 포스 텍 혁신 연구 센터 개소',\n",
       " '인공지능 반도체 대학원 개원',\n",
       " '지하 정밀 탐사 땅속 내시경 개발',\n",
       " '부산 디지털 자산 거래소 사업자 블록체인 큰손 파전',\n",
       " '카카오 내부 폭 로 전 시작 김정호 경영 총괄 욕설 해명 경영 실태 폭로',\n",
       " '생성 형 시대 데이터 센터 열 식혀라',\n",
       " '카카오 카르텔 의혹 수면 위 로 치부 전면 드러낸 김범수 최 측근']"
      ]
     },
     "execution_count": 91,
     "metadata": {},
     "output_type": "execute_result"
    }
   ],
   "source": [
    "text_data"
   ]
  },
  {
   "cell_type": "code",
   "execution_count": 92,
   "id": "c69678d5",
   "metadata": {},
   "outputs": [
    {
     "name": "stdout",
     "output_type": "stream",
     "text": [
      "훈련용 뉴스 기사의 개수 : 43\n",
      "테스트용 뉴스 기사의 개수 :  15\n",
      "훈련용 레이블의 개수 :  43\n",
      "테스트용 레이블의 개수 :  15\n",
      "              precision    recall  f1-score   support\n",
      "\n",
      "       IT/과학       1.00      0.25      0.40         4\n",
      "          사회       0.31      1.00      0.47         4\n",
      "       생활/문화       1.00      0.14      0.25         7\n",
      "\n",
      "    accuracy                           0.40        15\n",
      "   macro avg       0.77      0.46      0.37        15\n",
      "weighted avg       0.82      0.40      0.35        15\n",
      "\n"
     ]
    }
   ],
   "source": [
    "from sklearn.model_selection import train_test_split\n",
    "from sklearn.feature_extraction.text import CountVectorizer\n",
    "from sklearn.feature_extraction.text import TfidfTransformer\n",
    "from sklearn.naive_bayes import MultinomialNB\n",
    "from sklearn import metrics\n",
    "\n",
    "#- 훈련 데이터와 테스트 데이터를 분리합니다.\n",
    "X_train, X_test, y_train, y_test = train_test_split(text_data, df['code'], random_state = 0)\n",
    "\n",
    "print('훈련용 뉴스 기사의 개수 :', len(X_train))\n",
    "print('테스트용 뉴스 기사의 개수 : ', len(X_test))\n",
    "print('훈련용 레이블의 개수 : ', len(y_train))\n",
    "print('테스트용 레이블의 개수 : ', len(y_test))\n",
    "\n",
    "#- 단어의 수를 카운트하는 사이킷런의 카운트벡터라이저입니다.\n",
    "count_vect = CountVectorizer()\n",
    "X_train_counts = count_vect.fit_transform(X_train)\n",
    "\n",
    "#- 카운트벡터라이저의 결과로부터 TF-IDF 결과를 얻습니다.\n",
    "tfidf_transformer = TfidfTransformer()\n",
    "X_train_tfidf = tfidf_transformer.fit_transform(X_train_counts)\n",
    "\n",
    "#- 나이브 베이즈 분류기를 수행합니다.\n",
    "#- X_train은 TF-IDF 벡터, y_train은 레이블입니다.\n",
    "clf = MultinomialNB().fit(X_train_tfidf, y_train)\n",
    "\n",
    "def tfidf_vectorizer(data):\n",
    "  data_counts = count_vect.transform(data)\n",
    "  data_tfidf = tfidf_transformer.transform(data_counts)\n",
    "  return data_tfidf\n",
    "\n",
    "y_pred = clf.predict(tfidf_vectorizer(X_test))\n",
    "print(metrics.classification_report(y_test, y_pred))"
   ]
  },
  {
   "cell_type": "markdown",
   "id": "bfd8aba0",
   "metadata": {},
   "source": [
    "Step 2. 불용어 추가해 보기 Conclusion\n",
    "\n",
    "1. 새로 추가한 불용어 ['유', '니스트', '카', '이스트', 횡', '성', '년', '려'] 가 잘 지워졌다.\n",
    "2. 평균 f1-score 0.40 결과가 나왔다.    "
   ]
  },
  {
   "cell_type": "markdown",
   "id": "584cb3a1",
   "metadata": {},
   "source": [
    "# Step 3. 다른 날짜 데이터 추가해 보기"
   ]
  },
  {
   "cell_type": "code",
   "execution_count": 68,
   "id": "ed68f31d",
   "metadata": {},
   "outputs": [],
   "source": [
    "# 이중 for 문으로 date 기준 전후 2일을 추가한 뉴스 생성\n",
    "\n",
    "def make_urllist(page_num, code, date): \n",
    "  urllist= []\n",
    "  for i in range(1, page_num + 1):\n",
    "        for j in range(date - 2, date + 3): # 날짜 추가\n",
    "          url = 'https://news.naver.com/main/list.nhn?mode=LSD&mid=sec&sid1='+str(code)+'&date='+str(j)+'&page='+str(i)\n",
    "          headers = {'User-Agent': 'Mozilla/5.0 (X11; Linux x86_64) AppleWebKit/537.36 (KHTML, like Gecko) Chrome/54.0.2840.90 Safari/537.36'}\n",
    "          news = requests.get(url, headers=headers)\n",
    "\n",
    "          # BeautifulSoup의 인스턴스 생성합니다. 파서는 html.parser를 사용합니다.\n",
    "          soup = BeautifulSoup(news.content, 'html.parser')\n",
    "\n",
    "          # CASE 1\n",
    "          news_list = soup.select('.newsflash_body .type06_headline li dl')\n",
    "          # CASE 2\n",
    "          news_list.extend(soup.select('.newsflash_body .type06 li dl'))\n",
    "        \n",
    "          # 각 뉴스로부터 a 태그인 <a href ='주소'> 에서 '주소'만을 가져옵니다.\n",
    "          for line in news_list:\n",
    "            urllist.append(line.a.get('href'))\n",
    "  return urllist\n",
    "\n",
    "idx2word = {'101' : '경제', '102' : '사회', '103' : '생활/문화', '105' : 'IT/과학'}\n",
    "\n",
    "#- 데이터프레임을 생성하는 함수입니다.\n",
    "def make_data(urllist, code):\n",
    "  text_list = []\n",
    "  for url in urllist:\n",
    "    article = Article(url, language='ko')\n",
    "    article.download()\n",
    "    article.parse()\n",
    "    text_list.append(article.title)\n",
    "\n",
    "  #- 데이터프레임의 'news' 키 아래 파싱한 텍스트를 밸류로 붙여줍니다.\n",
    "  df = pd.DataFrame({'news': text_list})\n",
    "\n",
    "  #- 데이터프레임의 'code' 키 아래 한글 카테고리명을 붙여줍니다.\n",
    "  df['code'] = idx2word[str(code)]\n",
    "  return df\n",
    "\n",
    "def make_total_data(page_num, code_list, date):\n",
    "  df = None\n",
    "\n",
    "  for code in code_list:\n",
    "    url_list = make_urllist(page_num, code, date)\n",
    "    df_temp = make_data(url_list, code)\n",
    "    print(str(code)+'번 코드에 대한 데이터를 만들었습니다.')\n",
    "\n",
    "    if df is not None:\n",
    "      df = pd.concat([df, df_temp])\n",
    "    else:\n",
    "      df = df_temp\n",
    "\n",
    "  return df"
   ]
  },
  {
   "cell_type": "code",
   "execution_count": 70,
   "id": "8904c224",
   "metadata": {
    "scrolled": true
   },
   "outputs": [
    {
     "name": "stdout",
     "output_type": "stream",
     "text": [
      "102번 코드에 대한 데이터를 만들었습니다.\n",
      "103번 코드에 대한 데이터를 만들었습니다.\n",
      "105번 코드에 대한 데이터를 만들었습니다.\n"
     ]
    }
   ],
   "source": [
    "# 1. 원하는 코드리스트 결정\n",
    "code_list = [102, 103, 105]\n",
    "\n",
    "# 2. 2023-11-26 부터 2023-11-30 까지 뉴스 생성\n",
    "df2 = make_total_data(1, code_list, 20231128)"
   ]
  },
  {
   "cell_type": "code",
   "execution_count": 71,
   "id": "40e67a23",
   "metadata": {},
   "outputs": [
    {
     "name": "stdout",
     "output_type": "stream",
     "text": [
      "/aiffel/aiffel/news_crawler/news_data2.csv File Saved!\n"
     ]
    }
   ],
   "source": [
    "# 데이터프레임 파일을 csv 파일로 저장합니다.\n",
    "# 저장경로는 이번 프로젝트를 위해 만든 폴더로 지정해 주세요.\n",
    "csv_path2 = os.getenv(\"HOME\") + \"/aiffel/news_crawler/news_data2.csv\"\n",
    "df2.to_csv(csv_path2, index=False)\n",
    "\n",
    "if os.path.exists(csv_path2):\n",
    "  print('{} File Saved!'.format(csv_path2))"
   ]
  },
  {
   "cell_type": "code",
   "execution_count": 73,
   "id": "6685ceae",
   "metadata": {},
   "outputs": [
    {
     "name": "stdout",
     "output_type": "stream",
     "text": [
      "                                           news code\n",
      "0             중부내륙고속도로 문경새재 나들목 인근 차량 운반 화물차 화재   사회\n",
      "1     인천 영종 골든테라시티 개발사업 앵커 역할할 명문 국제학교 유치 관심 집중   사회\n",
      "2                      경남 합천 황매산서 50대 남성 추락해 사망   사회\n",
      "3       권도형 송환 어디로?…몬테네그로 법무, \"미국은 대외정책 중심 파트너\"   사회\n",
      "4  “남자 경험 있어?” 구치소서 동성 성관계 제안…거부하자 폭행한 40대男 징역형   사회\n",
      "(300, 2)\n"
     ]
    }
   ],
   "source": [
    "df2 = pd.read_table(csv_path2, sep=',')\n",
    "print(df2.head())\n",
    "print(df2.shape)"
   ]
  },
  {
   "cell_type": "code",
   "execution_count": 74,
   "id": "9f50764e",
   "metadata": {},
   "outputs": [
    {
     "name": "stderr",
     "output_type": "stream",
     "text": [
      "/tmp/ipykernel_142/2402662495.py:2: FutureWarning: The default value of regex will change from True to False in a future version.\n",
      "  df2['news'] = df2['news'].str.replace(\"[^ㄱ-ㅎㅏ-ㅣ가-힣 ]\",\"\")\n"
     ]
    },
    {
     "data": {
      "text/plain": [
       "0              중부내륙고속도로 문경새재 나들목 인근 차량 운반 화물차 화재\n",
       "1      인천 영종 골든테라시티 개발사업 앵커 역할할 명문 국제학교 유치 관심 집중\n",
       "2                         경남 합천 황매산서 대 남성 추락해 사망\n",
       "3             권도형 송환 어디로몬테네그로 법무 미국은 대외정책 중심 파트너\n",
       "4          남자 경험 있어 구치소서 동성 성관계 제안거부하자 폭행한 대 징역형\n",
       "                         ...                    \n",
       "295                            카카오페이 핀테크 페이민트 인수\n",
       "296                과기정통부 천억원 규모 반도체 첨단 패키징 사업 추진\n",
       "297                         우주항공도시 일정대로연말 밑그림 공개\n",
       "298                    와 유저가 콘텐츠 만든다아프리카 숏폼 경쟁력은\n",
       "299                    연산 는 상시 품절엔비디아만 웃는다  빅뱅 년\n",
       "Name: news, Length: 300, dtype: object"
      ]
     },
     "execution_count": 74,
     "metadata": {},
     "output_type": "execute_result"
    }
   ],
   "source": [
    "# 정규 표현식을 이용해서 한글 외의 문자는 전부 제거합니다.\n",
    "df2['news'] = df2['news'].str.replace(\"[^ㄱ-ㅎㅏ-ㅣ가-힣 ]\",\"\")\n",
    "df2['news']"
   ]
  },
  {
   "cell_type": "code",
   "execution_count": 75,
   "id": "73aa7bc6",
   "metadata": {},
   "outputs": [
    {
     "name": "stdout",
     "output_type": "stream",
     "text": [
      "news    0\n",
      "code    0\n",
      "dtype: int64\n"
     ]
    }
   ],
   "source": [
    "# Null 값 확인\n",
    "print(df.isnull().sum())"
   ]
  },
  {
   "cell_type": "code",
   "execution_count": 77,
   "id": "f93bd121",
   "metadata": {},
   "outputs": [
    {
     "name": "stdout",
     "output_type": "stream",
     "text": [
      "뉴스 기사의 개수:  277\n"
     ]
    }
   ],
   "source": [
    "# 중복된 샘플들을 제거합니다.\n",
    "df2.drop_duplicates(subset=['news'], inplace=True)\n",
    "\n",
    "print('뉴스 기사의 개수: ',len(df2))"
   ]
  },
  {
   "cell_type": "code",
   "execution_count": 78,
   "id": "7328ae3e",
   "metadata": {},
   "outputs": [
    {
     "data": {
      "text/plain": [
       "<AxesSubplot:>"
      ]
     },
     "execution_count": 78,
     "metadata": {},
     "output_type": "execute_result"
    },
    {
     "data": {
      "image/png": "[encoded data removed]",
      "text/plain": [
       "<Figure size 432x288 with 1 Axes>"
      ]
     },
     "metadata": {
      "needs_background": "light"
     },
     "output_type": "display_data"
    }
   ],
   "source": [
    "df2['code'].value_counts().plot(kind = 'bar')"
   ]
  },
  {
   "cell_type": "code",
   "execution_count": 79,
   "id": "b59e0894",
   "metadata": {},
   "outputs": [
    {
     "name": "stdout",
     "output_type": "stream",
     "text": [
      "    code  count\n",
      "0  IT/과학     91\n",
      "1     사회     96\n",
      "2  생활/문화     90\n"
     ]
    }
   ],
   "source": [
    "print(df2.groupby('code').size().reset_index(name = 'count'))"
   ]
  },
  {
   "cell_type": "code",
   "execution_count": 80,
   "id": "c026566e",
   "metadata": {},
   "outputs": [],
   "source": [
    "text_data_multi = preprocessing_2(df2['news'])"
   ]
  },
  {
   "cell_type": "code",
   "execution_count": 93,
   "id": "6e0838c7",
   "metadata": {
    "scrolled": true
   },
   "outputs": [
    {
     "data": {
      "text/plain": [
       "['중부 내륙 고속도 로 문경새재 나들목 인근 차량 운반 화물차 화재',\n",
       " '인천 영종 골든 테라 시티 개발 사업 앵커 역할 명문 국제 학교 유치 관심 집중',\n",
       " '경남 합천 황매산 서 대 남성 추락 해 사망',\n",
       " '권도형 송환 어디 로 몬테네그로 법무 미국 대외 정책 중심 파트너',\n",
       " '남자 경험 어 구치 소서 동성 관계 제안 거부 자 폭행 대 징역형',\n",
       " '중부 내륙 고속도 로 달리 던 화물차 화재 싣 고 던 차량 그을려',\n",
       " '광진구 어두운 뚝 도 변전 소구 역 골목 보안등 추가 설치',\n",
       " '경남 합천 황매산 서 대 남성 산객 추락사',\n",
       " '금천 연말 까지 치아 튼튼 교실 초등 생 여명 구강 보건 교육',\n",
       " '취약 계층 추위 떨 지 않 게 송파구 한파 종합 대책 추진',\n",
       " '경복궁 나 추워도 포기 못 해',\n",
       " '의협 논의 끝 의대 증원 반대 증원 강행 시 파업 찬반 투표',\n",
       " '네 인생 도 망가뜨려 줄게 감독관 위협 학부모 스타 강사 였',\n",
       " '담배 피우 려다 전동 휠체어 불대 도 화상',\n",
       " '북 콘서트 연 송영길 전 민주당 대표',\n",
       " '휠체어 탄 지체 장애 인 담뱃불 붙이 불나 중상',\n",
       " '담배 피우 려다 라이터 불 전동 휠체어 붙 어 대 도화 상',\n",
       " '알림 신춘문예 응모 요령',\n",
       " '엄마 욕했 다며 쇠망치 로 살림살이 깨부순 대',\n",
       " '기어 놓 고 통행권 뽑 으려던 대 운전자 끼여 숨졌 사건 수첩',\n",
       " '용인 서 도로변 누워 던 주취 자 명 승용차 깔려 다쳐',\n",
       " '이선균 마약 제공 혐의 의사 영장 기각 경찰 수사 난항',\n",
       " '휠 만 남 바퀴 로 달렸 만취 운전자 위험 천만 도 주',\n",
       " '경찰 팔 출신 대학 생 명 총격 대 백 인 남성 체포',\n",
       " '기피 일자리 외국 인력 내년 만 천 명 최대',\n",
       " '인천 기계식 지하 주차장 서 작업자 명 추락 해 부상',\n",
       " '방 성환 경기도 의원 법 조례 부재 상황 에서 농어민 기회 소득 예산 편성 절차 정당 부족',\n",
       " '내년 신규 외국인 근로자 만 천 명 역대 최대식 당서 도 일 해',\n",
       " '사법 농단 임종헌 징역 구형 사법 신뢰 붕괴',\n",
       " '속초시 글로벌 워 케이 션 수도 속초 선포',\n",
       " '속옷 만 입 고 던 남편 베란다 엔 장교 숨 어 어 징계 불복 소송 패소',\n",
       " '수능 끝 나자 논술 총력전 사교육 부담 눈덩이',\n",
       " '경기도 융합 학교 육 원 올해 연구 과제 발표회 수료식 개최',\n",
       " '홍천 금은방 절 도 대 구속 특수 절 도 혐의',\n",
       " '인생 사진 건지 려다 추락 사고 잇따라 통제 구역 증가',\n",
       " '법무부 명 허위 난민 신청 말레이시아 브로커 검거',\n",
       " '전교조 전자 칠판 논란 신경호 교육감 무 책임 태도',\n",
       " '최종구 전 금융 위원장 강원 조직 위원장 위촉',\n",
       " '배스 블루길 브라운 송어 까지 외래종 잠식 된 소양강',\n",
       " '꽈추형 갑 질 인정 권고사직 서명 뒤 퇴사 홍성우 반응',\n",
       " '돈가스 으로 명 원생 배식 어린이집 원장 재판',\n",
       " '특보 엑스포 개최지 발표 부산 도전',\n",
       " '동명이인 환자 명의 로 의료 용 마약 류 처방 받 의사',\n",
       " '만 원 가치 만 원 효용 체감 협회',\n",
       " '힘차 고 따뜻 협회 원년',\n",
       " '세계일보 사건 팀 장애 인 본부 이달 좋 기사 상',\n",
       " '나 우리 세상 쓸모 협회',\n",
       " '튜버 일탈 어디 까지 모텔 서 수면제 투약 고 방송 대',\n",
       " '해마루 촌 마을 주민 동서대 감사패 쌀 전달',\n",
       " '강릉시 옥계면 연곡면 일대 지적 재조사 사업 추진',\n",
       " '디피 코 사모 펀드 운용 사 와 조건부 투자 계약',\n",
       " '핵심 비전 소개 나승연 부산 엑스포 홍보 대사',\n",
       " '평창 국제 올림픽 연구 센터 컨퍼런스 개막',\n",
       " '우리 부산 요 핵심 비전 소개 나승연 홍보 대사',\n",
       " '며느리 살해 시아버지 아들 내외 나 죽이 피해 망상 추정',\n",
       " '전쟁 폐허 극복 부산 저력 공유 연대 엑스포 역설 엑스포 개최지 선정',\n",
       " '채팅 앱 서 만난 또래 여학생 살해 대 남학생 구속 기소',\n",
       " '동해 묵호항 항만 대기 질 관리 구역 지정 요구',\n",
       " '강릉 급발진 의심 사고 민사 소송 변론 기일 열려',\n",
       " '포토 장애 인 먼저 실천 상 시상식',\n",
       " '안성 칠 장사 화재 자승 조계종 총무원장 입적',\n",
       " '전 조계종 총무원장 자승 스님 화재 로 사망 사고 전 유서 형식 메모 남겨',\n",
       " '경찰 자승 스님 입 적 칠 장사 화재 당시 명 대피',\n",
       " '안성 칠 장사 불 조계종 전 총무원장 자승 스님 입적',\n",
       " '안성 칠 장사 화재 조계종 자승 전 총무원장 입 적 종 합보',\n",
       " '속초 해경 도루묵 불법 포획 특별 단속 시행',\n",
       " '동해 삼척 기후 위기 비상 행동 출범기 후 정치 실현 라',\n",
       " '고성 송지호 관광지 대 규모 복합 리조트 단지 추진',\n",
       " '태백 지역 택시 콜 센터 내년 부터 재통합 운영',\n",
       " '경기 안성 사찰 서 불 조계종 전 총무원장 자승 스님 숨져',\n",
       " '강릉시 커피 산업 지속 성장 플랫 폼 구축 사업 추진',\n",
       " '여대 이력서 거른다 채용 실무자 글 정부 직접 나선다',\n",
       " '상중 도 호수 정원 토지 주 춘천시 상대 로 집단 소송',\n",
       " '생태 원 긴급 생태 조사 소양강 남대천 망라',\n",
       " '경유지 에서 체류 형 관광지 로 설악동 활성 화 시동',\n",
       " '안성 칠 장사 서 화재 발생 자승 스님 숨진 채 발견',\n",
       " '강원도 교육청 공석 교권 전담 변호사 달 만 채용',\n",
       " '종합안 칠 장사 에서 화재 발생 전 총무원장 자승 스님 입적',\n",
       " '경기 안성 칠 장사 에서 불 자승 스님 숨진 채 발견',\n",
       " '강원도 아파트 스프링클러 없 어 초기 대응 사각',\n",
       " '나부코 공연 단과 기념 촬영 유인촌 장관',\n",
       " '나부코 공연 단 격려 유인촌 장관',\n",
       " '춘 필 회 송년 밤 행사',\n",
       " '시각 소방청 상황실',\n",
       " '경북 성주 야간 산불 발생',\n",
       " '속초시 하수도 정비 기본 계획 승인 하수 시설 확충',\n",
       " '강릉 옥계항 통해 러시아 수출 시작 화물선 출항',\n",
       " '제대 강릉 원주 대 총장 후보 자 순위 박덕영 교수',\n",
       " '어종 확인 도 안 고 엉터리 수매 적발',\n",
       " '간추린 코로나 다시 증가세 외',\n",
       " '무 재배 농민 가격 안정 지원 자격 요건 까다로워',\n",
       " '벼랑 끝 승부 강원 강 없',\n",
       " '경주 지진 인 적물 적 피해 접수 아직 없 어',\n",
       " '폐광 뒤 도 갱 도 유지 해야 대 정부 투쟁 불사',\n",
       " '유부녀 와 불 륜 발각 뺨 맞 자 차 로 도망 만취 운전 대 벌금형',\n",
       " '경기도 의회 청소년 의회 교실 총 회 개최 참가자 만족',\n",
       " '허리 디스크 환자 통증 완화 보다 기능 개선 우선 재발 없 치료 더 원해',\n",
       " '알림 국민 일보 종교 부문 채용 연계 형 인턴 모집',\n",
       " '대전 지대 병원 산부인과 부인 종양 로봇 수술 례 달성',\n",
       " '노원 지대 병원 윤재식 전공 대한 내과 학회 차 추계 학술 대회 서 우수 포스터 상 수상',\n",
       " '신바람 야구 김동수 라이 딩 후 먹 김밥 맛 란 이헌재 인생 홈런',\n",
       " '강동 경희대 치과 병원 치과 근관 치료 적정 평가 만점 획득',\n",
       " '박 윤주 작가 성곡 미술 관서 개인전 피몽 제로',\n",
       " '음악 으로 하나 된 한중일 아시안 클래식 밤',\n",
       " '희망 연대 그린 연극 키리',\n",
       " '톡 브레이크 걸린 수소 전기 차',\n",
       " '포르투갈 리스본 유럽 최초 민화 갤러리 마당 개관',\n",
       " '엉덩이 뻐근 고관절 도 관절염',\n",
       " '소화 안 될 때 탄산 음료 대신 차 드세요',\n",
       " '홍콩 뜨겁 게 얼어붙 겨울 왕국 실제 구현 홍콩 디즈니 랜드 보 니',\n",
       " '용인 특례시 행안 부 자전거 이용 활성 화 대회 서 우수 상 수상',\n",
       " '경기 문화 재단 경기 예술 나무 포럼 송승환 예술 감독 초청 특별 강연 개최',\n",
       " '서울시 사진 동호회 너 를 마음 그리 사진 전 개최',\n",
       " '인슐린 말 고 도 혈당 관리 돕 호르몬',\n",
       " '롯데 백화점 하이브 와 블랙 프라이데이 행사',\n",
       " '분당 서울대 병원 경기도 의료 관련 감염병 예방 관리 사업 세미나 개최',\n",
       " '흰 박혜원 한국 청년 희망 대상 표창',\n",
       " '지적 장애 와 달라요 경계선 지능 장애 대한 오해 와 진실 마음 처방',\n",
       " '초미세 먼지 고농 도 조기 예보 충청 호남 으로 확대',\n",
       " '김동연 경기 지사 스페인 카탈루냐 주지사 면담',\n",
       " '미스터 트롯 진 안성훈 국내 독거 노인 지원 사업 만 원 기부',\n",
       " '물 내리 기 전 꼭 확인 모양 대변 무시 했다간 병 키울 도',\n",
       " '치마 독특 네 신현빈 주 얼리 만 만 원 어치 걸친 겨울 패션',\n",
       " '울산 오늘 낮 최고 도 내일 도',\n",
       " '파리 총회 일 시분 엑스포 개최지 발표 투표 절차 와 예상',\n",
       " '무 운동 여주 대신 중 고 개교 주년 조형물 제막식',\n",
       " '생활 날씨 밤사이 찬바람 다시 초겨울 추위 내일 출근길 영하 권',\n",
       " '하루 개 씩 약 먹 노인 두 명 중 명 잘못 복용 고 어',\n",
       " '강해 설교 종말 맞이 성도 마리아 왜 고가 향유 를 예수 님 께 쏟 아 부 었 을까',\n",
       " '거창군 배경 웹 드라마 김치 시사회 열려',\n",
       " '야 고분군 세계유산 인증서 수령 다음 달 기념식',\n",
       " '트럼프 당선 되 면 폐기 될 도 내년 전기차 시장 최대 변수 미 대선',\n",
       " '추위 와 함께 온 미세먼지 동해안 산불 주의',\n",
       " '기록 면 기억 어 한글 그림 으로 멸 종위 기종 기록 숨탄것 진관 우 작가 차 한잔 나누 며',\n",
       " '요즘 누가 입 어요 자녀 롱 패딩 부모 입 사연',\n",
       " '전남 봉수 유적 곳 국가 지정 문화유산 지정',\n",
       " '조수미 이정재 싸이 엑스포 장공 존 도시 부산 오 세요 엑스포 개최지 발표',\n",
       " '강 스템 바이오 텍 퓨어 스템 오에이 키트 주 임상 순항 기술 수출 최선',\n",
       " '가짜 환자 지만 정신 병원 입원 성공 습니다',\n",
       " '베를린 필하모닉 준비 진은숙 에디션 발매',\n",
       " '가장 아름다운 비밀 쓰 지 않 아요',\n",
       " '여성 영화 인 축제 올해 여성 영화 인상 시상식 월일 개최',\n",
       " '외국 즐기 한국 잘 해야 만 한다 현대 사회 에서 평화 찾 이곳',\n",
       " '엄마 우리 집 채소 왜 얼 어 어 싸 니까 냉 동식 재료 인기 라는 데',\n",
       " '조선 자유 언론 수호 투쟁 위원회 엮음',\n",
       " '동아제약 중대 재해 대응 모의 훈련 실시 심폐 소생 술 교육',\n",
       " '휴 젤 여성 소비자 뽑 좋 기업 대상 연속 수상',\n",
       " '울산 오늘 낮 최고 기온 도 내일 도',\n",
       " '나이 어 꼬부랑 허리 안 되 려면 이곳 단련 필수',\n",
       " '이노 엔 고용 노동부 안전 문화 확산 위한 업무 협약 체결',\n",
       " '온 국민 염원 담 아두 남자 안 산 서 부산 까지 걸 었 엑스포 개최지 발표',\n",
       " '전쟁 폭력 시대 소년 칼 정의 로웠 네',\n",
       " '교황 건강 문제 도 기후 정상 회의 예정 대로 참석 종합',\n",
       " '작곡계 노벨상 받 진은숙 베를린 필 진 에디션 발매',\n",
       " '운동 효과 확 높이 려면 끝나 고 이것 꼭 해야',\n",
       " '날씨 내일 더 추워져 일부 강원경 북 한파 특보',\n",
       " '입 적 자승 스님 총무원장 연임 조계종 내 대표 적 행정 승',\n",
       " '음식 섭 취량 만 늘 어도 당뇨 확률 증가 한다',\n",
       " '위생 특화 된 코웨이 정수기 토탈 케어 서비스 주목',\n",
       " '테슬라 야심작 사이버 트럭 출시 임박 소재 가장 큰 문제',\n",
       " '속보 안성 칠 장사 화재 자승 전 총무원장 입적',\n",
       " '조계종 자승 전 총무원장 입 적 칠 장사 화재 현장 서 법구 확인 종합',\n",
       " '자승 전 조계종 총무원장 입 적 칠 장사 화재 현장 서 법구 발견',\n",
       " '자승 조계종 총무원장 입 적 사찰 화재 로 의문 남겨',\n",
       " '안성 칠 장사 화재 로 조계종 총무원장 지낸 자승 스님 입적',\n",
       " '뷔 지민 정국 월 육군 현역 입대',\n",
       " '세븐 틴 뉴 진스 마마 어 워즈 싹쓸이 하이브 천하 였',\n",
       " '속보 조계종 전 총무원장 자승 스님 입 적 안성 칠 장사 화재 현장 서 발견',\n",
       " '조계종 자승 전 총무원장 입 적 칠 장사 화재 현장 서 법구 확인',\n",
       " '속보 안성 칠 장사 서 화재 조계종 관계자 자승 전 총무원장 입적',\n",
       " '자승 전 총무원장 칠 장사 요사채 화재 로 입적',\n",
       " '라인 날씨 내일 도 추워 요 내일 까지 서해안 눈',\n",
       " '이재명 주호영 유인촌 자승 스님 추모 행렬 조계종 소신공양',\n",
       " '바르 고 품격 국어 를 사용 해야 건강 국어 문화 조성 우리말 화수분',\n",
       " '남편 따라 축구 빠졌 죠 이젠 축구 없인 못 살 아 요양 종구 세 시대 건강법',\n",
       " '전북 만경강 서 야생 조류 고병 원성 검출 올해 동절기 처음',\n",
       " '포토 이웃 사랑 열기 로 자선냄비 를 끓여 주 세요',\n",
       " '조계종 자승 스님 소신공양 일간 종 단장',\n",
       " '핵무기 전쟁 억지 수단 일 뿐 평화 수단 아니 야',\n",
       " '됐 겠 지 어 프라이어 열 번 열 어 본 나 투명 가전 살만 네',\n",
       " '울산 일 주일 째 건조 주의보 내일 맑 고 도',\n",
       " '시원 다고 이곳 꾹꾹 누르 기 오히려 몸 독 된다',\n",
       " '정경호 최수영 가슴 선 드러낸 컷아웃 드레스 룩 파격',\n",
       " '방탄소년단 정국 스포티파이 연말 결산 최다 스트리밍 위',\n",
       " '조계종 자승 스님 소신공양 선택 의한 분신 으로 판단',\n",
       " '전 세계 놀랐 네 대 사진 들어간 장면',\n",
       " '게임 홍보 영상 남성혐오 논란 일자 업계 사과 후 조사 착수',\n",
       " '주간 브리핑 소프트웨어 주간 행사 풍성 일 엑스포 개최지 결정',\n",
       " '국가 시스템 구멍 가게 처럼 개발 만 개 설계 부터 뜯 어 봐야',\n",
       " '공공 대 기업 열 어 주 면 행정 망 먹통 정부 해법 의문 부호',\n",
       " '김소연 피 씨 엘 대표 투자 유치 지분 매각 가능 화제 바이오',\n",
       " '텔레콤 휴대폰 소액결제 연령 세로 하향 조정',\n",
       " '어디 서 나 휴대 전화 무선 자동 충전 소리 역전 기술 연다 소리 과학 미래',\n",
       " '타일 만 바꿨 뿐 인데 에어컨 꺼도 시원 집 비밀',\n",
       " '산불 우리 잡 게 요무 인기 소방관 뜬다',\n",
       " '텔레콤 휴대전화 소액결제 연령 세로 하향 조정',\n",
       " '집게손가락 논란 발끈 넥슨 전수 조사 이후 조치 법 적 대응 시사',\n",
       " '저거 남 혐 아냐 업계 발칵 뒤집 집게 손가락 넥슨 사과',\n",
       " '의협 총파업 찬반 투표 언급 자 정부 차례 걸쳐 회의 진행 유감',\n",
       " '먹통 먹통 먹통 국민 분통 공공 전산망 사업 대 기업 문 연다',\n",
       " '공공 부문 시스템 만 천 개 클라우드 기반 재설 계 시급',\n",
       " '속보 정부 오늘 의협 총파업 언급 유감',\n",
       " '만 원 샀 난 만 원 만 원 회복 카카오 욕먹 이유 알 고 보 니',\n",
       " '남성혐오 홍보 영상 논란 임업 계 사과 진상 조사',\n",
       " '행정 망 마비 포트 불량 탓 중화 시스템 작동 안 해 재발 막 나',\n",
       " '가짜 범람 시대 웹스터 단어 진짜',\n",
       " '바이 셀 스탠다드 국제 표준 보안 인증 연속 획득',\n",
       " '벌써 다섯 번 째 회의 카카오 창업자 김범수 관리 체제 강화 주문',\n",
       " '사진 엑스포 꿈 이루어진다',\n",
       " '번가 창사 이래 첫 희망퇴직 실시',\n",
       " '스타 를 만나 암세포 를 색칠 구본경 유전 체교 정연구 단장',\n",
       " '남부 발전 안동 빛 드림 본부 취약 계층 사랑 김장 후원',\n",
       " '한전 한국 품질 경영 학회 최고품 질 경영자 상 영예',\n",
       " '인터뷰 지능 형 교통 체계 도시 상 선정 안양시 기술 고도 화 배경',\n",
       " '진위 판별 어려운 시대 출판사 올해 단어 진짜',\n",
       " '한난 가스공사 서부 발전 중기 해외 판로 활성 화 협약',\n",
       " '정체 된 주력 사업 돌파구 로 국내 대 기업 도 동분서주 빅뱅',\n",
       " '상생 안 마련 중 인데 작심 비판 후 방통 위도 카카오 모빌리티 저격',\n",
       " '예산 부터 정하 고 쓸 곳 나중 절차 뒤바뀐 글로벌',\n",
       " '박윤규 부터 이용훈 유지상 까지 통신 개혁 일선 나선 차기 과기 정통부 장관 후보 자 로 물망',\n",
       " '다음 검색 기본 값 변경 지역 언론사 풀뿌리 지역 언론 말살',\n",
       " '왜 만 아이 폰 통화 녹음 돼 소비자 원성 폭발 주 동안 억 원 몰렸',\n",
       " '연구 중복 해소 와 개선 두 마리 토끼 노리 국가 기술 연구 센터',\n",
       " '우리 할머니 인슐린 주사 그만 맞 아도 될까 당뇨 완치 길 열리 나',\n",
       " '솔루션 즈 테크니컬 센터 열 어 유럽 시장 잡 는다',\n",
       " '대구경북 과학 기술원 신임 총장 이건우 서울대 전 공대 학장',\n",
       " '울산 남구 테크노 산업 로 일원 자율 주행 차 시범 운행 지구 지정',\n",
       " '세계 에서 가장 영향 력 연구자 명',\n",
       " '이용훈 총장 과기부 장관 물망',\n",
       " '쿠쿠 전자 대용량 아이 편한 가습기 출시',\n",
       " '욕설 논란 카르텔 폭로 까지 스텝 꼬인 김범수 쇄 신안',\n",
       " '이런 같 욕설 회의 카카오 임원 문제점 지적 실수',\n",
       " '코웨이 환경 기술 연구소 연속 공인 시험 기관 인정',\n",
       " '스타트업 터널 속 에서 도 차량 정확 위치 파악 돕 씨 너 렉스',\n",
       " '바이오 기술 선도 포스 텍 혁신 연구 센터 개소',\n",
       " '인공지능 반도체 대학원 개원',\n",
       " '지하 정밀 탐사 땅속 내시경 개발',\n",
       " '부산 디지털 자산 거래소 사업자 블록체인 큰손 파전',\n",
       " '카카오 내부 폭 로 전 시작 김정호 경영 총괄 욕설 해명 경영 실태 폭로',\n",
       " '생성 형 시대 데이터 센터 열 식혀라',\n",
       " '카카오 카르텔 의혹 수면 위 로 치부 전면 드러낸 김범수 최 측근',\n",
       " '디캠프 올스타 전 스타트업 자리 포스코 어 디데이 통합 우승',\n",
       " '스타트업 혁신 기업 연구원 이미지 캡 셔 닝 선 봬 텍스트 서 이미지 로 변환 된다',\n",
       " '글로벌 생성 플랫폼 첫 토종 연구원 맞손',\n",
       " '연구원 이미지 텍스트 로 바꿔 주 서비스 내놨',\n",
       " '연구원 통해 기획 창작자 시대 연다 리 인 벤트',\n",
       " '티빙 웨이브 합병 초읽기 넷플릭스 대항마 로 떠오르 나',\n",
       " '방통 위 어도비 과징금 억 원 환불 조건 개선',\n",
       " '내 목소리 그대로 한국어 영어 번역 더빙 마법 같 일 벌써 현실 로',\n",
       " '을지 학원 연합뉴스 인수 철회 방통 위 심사 존중',\n",
       " '구글 간 접속 안 개인 계정 다음 달 부터 삭제',\n",
       " '예산 대거 삭감 이공 계 달래 기 학생 글쎄',\n",
       " '모바일 감염병 아시나 요 부고 문자 신종 스미 싱 주의보',\n",
       " '을지 학원 방통 위 사실 상 불허 연합뉴스 인수 철회',\n",
       " '여성 리더 김은영 배 순민 오순 영채 상미 인',\n",
       " '네이버 이미 공개 카카오 생성 형 깜깜무소식',\n",
       " '구글 간 접속 안 개인 계정 다음 달 부터 삭제',\n",
       " '카카오 게임즈 장애 인 스포츠 대회 서 사회 공헌 캠페인',\n",
       " '씰 국내 상륙 대만 서 흥행 돌풍 일으킨 꾀돌이 토끼 떴',\n",
       " '조성경 과기부 차관 영남 권 연구 현장 방문',\n",
       " '카카오 추천 배차 개편 최단 거리 우선 배차',\n",
       " '배민 폭언 폭행 피해 라이더 지원 한다',\n",
       " '아마존 이미지 생성 출사표 작품 여부 식별 워터 마크 적용 리 인 벤트',\n",
       " '챗 와 대화 번 나누 데 냉각수 소요 진짜 기후 빌 런 산업',\n",
       " '블록체인 으로 멸종 위기 식물 보호 한다 식물 부여 해 이력 관리',\n",
       " '토종 챗 성공 할까 한국어 특화 전문 화 로 공략',\n",
       " '챗 생활 속 스며든 생 성형',\n",
       " '우주 항공 도시 일정 대로 연말 밑그림 공개',\n",
       " '손 태승 이원덕 우리은행 고문 직서 물러나',\n",
       " '과기부 천억 원 규모 반도체 패 키 징 연구 개발 사업 추진',\n",
       " '차기 국민 은행장 으로 이재근 추천 사실 상 연임',\n",
       " '억 받 고 결국 떠났 낯익 얼굴 그 많 돈 뭐 하나 더니',\n",
       " '사법부 전산망 악 코드 감염 해 커 그룹 소행 단정 못 해',\n",
       " '카카오 페이 핀테크 페이 민트 인수',\n",
       " '과기 정통부 천억 원 규모 반도체 첨단 패 키 징 사업 추진',\n",
       " '와 유저 콘텐츠 만든다 아프리카 숏 폼 경쟁력',\n",
       " '연산 상시 품절 엔 비디아 만 웃 는다 빅뱅']"
      ]
     },
     "execution_count": 93,
     "metadata": {},
     "output_type": "execute_result"
    }
   ],
   "source": [
    "text_data_multi"
   ]
  },
  {
   "cell_type": "code",
   "execution_count": 90,
   "id": "f2e89c48",
   "metadata": {},
   "outputs": [
    {
     "name": "stdout",
     "output_type": "stream",
     "text": [
      "훈련용 뉴스 기사의 개수 : 207\n",
      "테스트용 뉴스 기사의 개수 :  70\n",
      "훈련용 레이블의 개수 :  207\n",
      "테스트용 레이블의 개수 :  70\n",
      "              precision    recall  f1-score   support\n",
      "\n",
      "       IT/과학       0.77      0.63      0.69        27\n",
      "          사회       0.46      0.59      0.52        22\n",
      "       생활/문화       0.50      0.48      0.49        21\n",
      "\n",
      "    accuracy                           0.57        70\n",
      "   macro avg       0.58      0.57      0.57        70\n",
      "weighted avg       0.59      0.57      0.58        70\n",
      "\n"
     ]
    }
   ],
   "source": [
    "#- 훈련 데이터와 테스트 데이터를 분리합니다.\n",
    "X_train, X_test, y_train, y_test = train_test_split(text_data_multi, df2['code'], random_state = 0)\n",
    "\n",
    "print('훈련용 뉴스 기사의 개수 :', len(X_train))\n",
    "print('테스트용 뉴스 기사의 개수 : ', len(X_test))\n",
    "print('훈련용 레이블의 개수 : ', len(y_train))\n",
    "print('테스트용 레이블의 개수 : ', len(y_test))\n",
    "\n",
    "#- 단어의 수를 카운트하는 사이킷런의 카운트벡터라이저입니다.\n",
    "count_vect = CountVectorizer()\n",
    "X_train_counts = count_vect.fit_transform(X_train)\n",
    "\n",
    "#- 카운트벡터라이저의 결과로부터 TF-IDF 결과를 얻습니다.\n",
    "tfidf_transformer = TfidfTransformer()\n",
    "X_train_tfidf = tfidf_transformer.fit_transform(X_train_counts)\n",
    "\n",
    "#- 나이브 베이즈 분류기를 수행합니다.\n",
    "#- X_train은 TF-IDF 벡터, y_train은 레이블입니다.\n",
    "clf = MultinomialNB().fit(X_train_tfidf, y_train)\n",
    "\n",
    "def tfidf_vectorizer(data):\n",
    "  data_counts = count_vect.transform(data)\n",
    "  data_tfidf = tfidf_transformer.transform(data_counts)\n",
    "  return data_tfidf\n",
    "\n",
    "y_pred = clf.predict(tfidf_vectorizer(X_test))\n",
    "print(metrics.classification_report(y_test, y_pred))"
   ]
  },
  {
   "cell_type": "markdown",
   "id": "beb20b9b",
   "metadata": {},
   "source": [
    "Step 3. 다른 날짜 데이터 추가해 보기 Conclusion\n",
    "\n",
    "1. 2023-11-26 부터 2023-11-30 까지 데이터를 통해 분류해보았다.\n",
    "2. 평균 f1-score 0.57 로 step2 의 0.40 보다 향상되었다."
   ]
  },
  {
   "cell_type": "markdown",
   "id": "fadf9a6e",
   "metadata": {},
   "source": [
    "# 최종 회고\n",
    "\n",
    "크롤링이 익숙하지 않았는데 앞으로 반복해서 보면 더 잘 할 수 있을 것 같다."
   ]
  }
 ],
 "metadata": {
  "kernelspec": {
   "display_name": "Python 3 (ipykernel)",
   "language": "python",
   "name": "python3"
  },
  "language_info": {
   "codemirror_mode": {
    "name": "ipython",
    "version": 3
   },
   "file_extension": ".py",
   "mimetype": "text/x-python",
   "name": "python",
   "nbconvert_exporter": "python",
   "pygments_lexer": "ipython3",
   "version": "3.9.7"
  }
 },
 "nbformat": 4,
 "nbformat_minor": 5
}
