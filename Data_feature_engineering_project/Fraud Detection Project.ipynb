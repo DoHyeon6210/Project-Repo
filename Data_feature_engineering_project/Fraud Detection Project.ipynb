{
 "cells": [
  {
   "cell_type": "markdown",
   "id": "98b8c81f",
   "metadata": {},
   "source": [
    "# 1. 데이터 불러오기 및 둘러보기\n",
    "\n",
    "- 프로젝트 목표 : 사기거래 여부를 예측하기 위한 데이터 전처리\n",
    "\n",
    "\n",
    "\n",
    "1. 사기거래 여부를 예측하는 데 불필요한 컬럼을 제거합니다.\n",
    "2. 최소 2개 이상의 새로운 피처(변수)를 생성해봅시다. [힌트] 구매 금액, 시간 등의 변수를 이용할 수 있습니다.\n",
    "\n",
    "\n",
    "옵션\n",
    "\n",
    "\n",
    "3. 데이터의 위도/경도 정보를 활용해볼 수 있을까요?\n",
    "4. 통계적 관점으로 접근하여 유용한 변수를 만들어낼 수 있을까요?\n",
    "\n",
    "\n",
    "데이터 설명 : https://www.kaggle.com/datasets/dermisfit/fraud-transactions-dataset?select=fraudTrain.csv"
   ]
  },
  {
   "cell_type": "code",
   "execution_count": 1,
   "id": "7a3599d4",
   "metadata": {
    "id": "7dc75ee2",
    "outputId": "a90ef6a5-c776-43f1-cfed-0ebd60e2be12",
    "scrolled": true
   },
   "outputs": [],
   "source": [
    "import pandas as pd\n",
    "import numpy as np\n",
    "import seaborn as sns\n",
    "import matplotlib.pylab as plt"
   ]
  },
  {
   "cell_type": "code",
   "execution_count": 2,
   "id": "f3792df0",
   "metadata": {
    "id": "aa461d09"
   },
   "outputs": [],
   "source": [
    "cc_df = pd.read_csv('fraud.csv')"
   ]
  },
  {
   "cell_type": "code",
   "execution_count": 3,
   "id": "405b8f9a",
   "metadata": {
    "id": "13199902"
   },
   "outputs": [],
   "source": [
    "pd.set_option('display.max_columns', 50)"
   ]
  },
  {
   "cell_type": "code",
   "execution_count": 4,
   "id": "ef48afa1",
   "metadata": {
    "id": "8fd17c7b",
    "outputId": "77d23082-8061-4980-d83e-b5b753bfa5ec"
   },
   "outputs": [
    {
     "data": {
      "text/html": [
       "<div>\n",
       "<style scoped>\n",
       "    .dataframe tbody tr th:only-of-type {\n",
       "        vertical-align: middle;\n",
       "    }\n",
       "\n",
       "    .dataframe tbody tr th {\n",
       "        vertical-align: top;\n",
       "    }\n",
       "\n",
       "    .dataframe thead th {\n",
       "        text-align: right;\n",
       "    }\n",
       "</style>\n",
       "<table border=\"1\" class=\"dataframe\">\n",
       "  <thead>\n",
       "    <tr style=\"text-align: right;\">\n",
       "      <th></th>\n",
       "      <th>trans_date_trans_time</th>\n",
       "      <th>cc_num</th>\n",
       "      <th>merchant</th>\n",
       "      <th>category</th>\n",
       "      <th>amt</th>\n",
       "      <th>first</th>\n",
       "      <th>last</th>\n",
       "      <th>gender</th>\n",
       "      <th>street</th>\n",
       "      <th>city</th>\n",
       "      <th>state</th>\n",
       "      <th>zip</th>\n",
       "      <th>lat</th>\n",
       "      <th>long</th>\n",
       "      <th>city_pop</th>\n",
       "      <th>job</th>\n",
       "      <th>dob</th>\n",
       "      <th>trans_num</th>\n",
       "      <th>unix_time</th>\n",
       "      <th>merch_lat</th>\n",
       "      <th>merch_long</th>\n",
       "      <th>is_fraud</th>\n",
       "    </tr>\n",
       "  </thead>\n",
       "  <tbody>\n",
       "    <tr>\n",
       "      <th>0</th>\n",
       "      <td>2019-01-01 00:00:44</td>\n",
       "      <td>630423337322</td>\n",
       "      <td>fraud_Heller, Gutmann and Zieme</td>\n",
       "      <td>grocery_pos</td>\n",
       "      <td>107.23</td>\n",
       "      <td>Stephanie</td>\n",
       "      <td>Gill</td>\n",
       "      <td>F</td>\n",
       "      <td>43039 Riley Greens Suite 393</td>\n",
       "      <td>Orient</td>\n",
       "      <td>WA</td>\n",
       "      <td>99160</td>\n",
       "      <td>48.8878</td>\n",
       "      <td>-118.2105</td>\n",
       "      <td>149</td>\n",
       "      <td>Special educational needs teacher</td>\n",
       "      <td>1978-06-21</td>\n",
       "      <td>1f76529f8574734946361c461b024d99</td>\n",
       "      <td>1325376044</td>\n",
       "      <td>49.159047</td>\n",
       "      <td>-118.186462</td>\n",
       "      <td>0</td>\n",
       "    </tr>\n",
       "    <tr>\n",
       "      <th>1</th>\n",
       "      <td>2019-01-01 00:12:34</td>\n",
       "      <td>4956828990005111019</td>\n",
       "      <td>fraud_Schultz, Simonis and Little</td>\n",
       "      <td>grocery_pos</td>\n",
       "      <td>44.71</td>\n",
       "      <td>Kenneth</td>\n",
       "      <td>Robinson</td>\n",
       "      <td>M</td>\n",
       "      <td>269 Sanchez Rapids</td>\n",
       "      <td>Elizabeth</td>\n",
       "      <td>NJ</td>\n",
       "      <td>7208</td>\n",
       "      <td>40.6747</td>\n",
       "      <td>-74.2239</td>\n",
       "      <td>124967</td>\n",
       "      <td>Operational researcher</td>\n",
       "      <td>1980-12-21</td>\n",
       "      <td>09eff9c806365e2a6be12c1bbab3d70e</td>\n",
       "      <td>1325376754</td>\n",
       "      <td>40.079588</td>\n",
       "      <td>-74.848087</td>\n",
       "      <td>0</td>\n",
       "    </tr>\n",
       "    <tr>\n",
       "      <th>2</th>\n",
       "      <td>2019-01-01 00:17:16</td>\n",
       "      <td>180048185037117</td>\n",
       "      <td>fraud_Kling-Grant</td>\n",
       "      <td>grocery_net</td>\n",
       "      <td>46.28</td>\n",
       "      <td>Mary</td>\n",
       "      <td>Wall</td>\n",
       "      <td>F</td>\n",
       "      <td>2481 Mills Lock</td>\n",
       "      <td>Plainfield</td>\n",
       "      <td>NJ</td>\n",
       "      <td>7060</td>\n",
       "      <td>40.6152</td>\n",
       "      <td>-74.4150</td>\n",
       "      <td>71485</td>\n",
       "      <td>Leisure centre manager</td>\n",
       "      <td>1974-07-19</td>\n",
       "      <td>19e23c6a300c774354417befe4f31f8c</td>\n",
       "      <td>1325377036</td>\n",
       "      <td>40.021888</td>\n",
       "      <td>-74.228188</td>\n",
       "      <td>0</td>\n",
       "    </tr>\n",
       "    <tr>\n",
       "      <th>3</th>\n",
       "      <td>2019-01-01 00:20:15</td>\n",
       "      <td>374930071163758</td>\n",
       "      <td>fraud_Deckow-O'Conner</td>\n",
       "      <td>grocery_pos</td>\n",
       "      <td>64.09</td>\n",
       "      <td>Daniel</td>\n",
       "      <td>Escobar</td>\n",
       "      <td>M</td>\n",
       "      <td>61390 Hayes Port</td>\n",
       "      <td>Romulus</td>\n",
       "      <td>MI</td>\n",
       "      <td>48174</td>\n",
       "      <td>42.2203</td>\n",
       "      <td>-83.3583</td>\n",
       "      <td>31515</td>\n",
       "      <td>Police officer</td>\n",
       "      <td>1971-11-05</td>\n",
       "      <td>6f363661ba6b55889e488dd178f2a0af</td>\n",
       "      <td>1325377215</td>\n",
       "      <td>42.360426</td>\n",
       "      <td>-83.552316</td>\n",
       "      <td>0</td>\n",
       "    </tr>\n",
       "    <tr>\n",
       "      <th>4</th>\n",
       "      <td>2019-01-01 00:23:41</td>\n",
       "      <td>2712209726293386</td>\n",
       "      <td>fraud_Balistreri-Nader</td>\n",
       "      <td>misc_pos</td>\n",
       "      <td>25.58</td>\n",
       "      <td>Jenna</td>\n",
       "      <td>Brooks</td>\n",
       "      <td>F</td>\n",
       "      <td>50872 Alex Plain Suite 088</td>\n",
       "      <td>Baton Rouge</td>\n",
       "      <td>LA</td>\n",
       "      <td>70808</td>\n",
       "      <td>30.4066</td>\n",
       "      <td>-91.1468</td>\n",
       "      <td>378909</td>\n",
       "      <td>Designer, furniture</td>\n",
       "      <td>1977-02-22</td>\n",
       "      <td>1654da2abfb9e79a5f99167fc9779558</td>\n",
       "      <td>1325377421</td>\n",
       "      <td>29.737426</td>\n",
       "      <td>-90.853194</td>\n",
       "      <td>0</td>\n",
       "    </tr>\n",
       "    <tr>\n",
       "      <th>...</th>\n",
       "      <td>...</td>\n",
       "      <td>...</td>\n",
       "      <td>...</td>\n",
       "      <td>...</td>\n",
       "      <td>...</td>\n",
       "      <td>...</td>\n",
       "      <td>...</td>\n",
       "      <td>...</td>\n",
       "      <td>...</td>\n",
       "      <td>...</td>\n",
       "      <td>...</td>\n",
       "      <td>...</td>\n",
       "      <td>...</td>\n",
       "      <td>...</td>\n",
       "      <td>...</td>\n",
       "      <td>...</td>\n",
       "      <td>...</td>\n",
       "      <td>...</td>\n",
       "      <td>...</td>\n",
       "      <td>...</td>\n",
       "      <td>...</td>\n",
       "      <td>...</td>\n",
       "    </tr>\n",
       "    <tr>\n",
       "      <th>491129</th>\n",
       "      <td>2020-12-31 23:56:48</td>\n",
       "      <td>6011109736646996</td>\n",
       "      <td>fraud_Botsford and Sons</td>\n",
       "      <td>home</td>\n",
       "      <td>134.26</td>\n",
       "      <td>Rebecca</td>\n",
       "      <td>Erickson</td>\n",
       "      <td>F</td>\n",
       "      <td>594 Berry Lights Apt. 392</td>\n",
       "      <td>Wilmington</td>\n",
       "      <td>NC</td>\n",
       "      <td>28405</td>\n",
       "      <td>34.2651</td>\n",
       "      <td>-77.8670</td>\n",
       "      <td>186140</td>\n",
       "      <td>English as a second language teacher</td>\n",
       "      <td>1983-02-08</td>\n",
       "      <td>fc860b0d1f89b0b068c9c8db27b6bcc5</td>\n",
       "      <td>1388534208</td>\n",
       "      <td>34.853497</td>\n",
       "      <td>-78.664158</td>\n",
       "      <td>0</td>\n",
       "    </tr>\n",
       "    <tr>\n",
       "      <th>491130</th>\n",
       "      <td>2020-12-31 23:56:57</td>\n",
       "      <td>213112402583773</td>\n",
       "      <td>fraud_Baumbach, Hodkiewicz and Walsh</td>\n",
       "      <td>shopping_pos</td>\n",
       "      <td>25.49</td>\n",
       "      <td>Ana</td>\n",
       "      <td>Howell</td>\n",
       "      <td>F</td>\n",
       "      <td>4664 Sanchez Common Suite 930</td>\n",
       "      <td>Bradley</td>\n",
       "      <td>SC</td>\n",
       "      <td>29819</td>\n",
       "      <td>34.0326</td>\n",
       "      <td>-82.2027</td>\n",
       "      <td>1523</td>\n",
       "      <td>Research scientist (physical sciences)</td>\n",
       "      <td>1984-06-03</td>\n",
       "      <td>0f0c38fe781b317f733b845c0d6ba448</td>\n",
       "      <td>1388534217</td>\n",
       "      <td>35.008839</td>\n",
       "      <td>-81.475156</td>\n",
       "      <td>0</td>\n",
       "    </tr>\n",
       "    <tr>\n",
       "      <th>491131</th>\n",
       "      <td>2020-12-31 23:59:09</td>\n",
       "      <td>3556613125071656</td>\n",
       "      <td>fraud_Hoppe-Parisian</td>\n",
       "      <td>kids_pets</td>\n",
       "      <td>111.84</td>\n",
       "      <td>Jose</td>\n",
       "      <td>Vasquez</td>\n",
       "      <td>M</td>\n",
       "      <td>572 Davis Mountains</td>\n",
       "      <td>Lake Jackson</td>\n",
       "      <td>TX</td>\n",
       "      <td>77566</td>\n",
       "      <td>29.0393</td>\n",
       "      <td>-95.4401</td>\n",
       "      <td>28739</td>\n",
       "      <td>Futures trader</td>\n",
       "      <td>1999-12-27</td>\n",
       "      <td>2090647dac2c89a1d86c514c427f5b91</td>\n",
       "      <td>1388534349</td>\n",
       "      <td>29.661049</td>\n",
       "      <td>-96.186633</td>\n",
       "      <td>0</td>\n",
       "    </tr>\n",
       "    <tr>\n",
       "      <th>491132</th>\n",
       "      <td>2020-12-31 23:59:15</td>\n",
       "      <td>6011724471098086</td>\n",
       "      <td>fraud_Rau-Robel</td>\n",
       "      <td>kids_pets</td>\n",
       "      <td>86.88</td>\n",
       "      <td>Ann</td>\n",
       "      <td>Lawson</td>\n",
       "      <td>F</td>\n",
       "      <td>144 Evans Islands Apt. 683</td>\n",
       "      <td>Burbank</td>\n",
       "      <td>WA</td>\n",
       "      <td>99323</td>\n",
       "      <td>46.1966</td>\n",
       "      <td>-118.9017</td>\n",
       "      <td>3684</td>\n",
       "      <td>Musician</td>\n",
       "      <td>1981-11-29</td>\n",
       "      <td>6c5b7c8add471975aa0fec023b2e8408</td>\n",
       "      <td>1388534355</td>\n",
       "      <td>46.658340</td>\n",
       "      <td>-119.715054</td>\n",
       "      <td>0</td>\n",
       "    </tr>\n",
       "    <tr>\n",
       "      <th>491133</th>\n",
       "      <td>2020-12-31 23:59:34</td>\n",
       "      <td>4170689372027579</td>\n",
       "      <td>fraud_Dare-Marvin</td>\n",
       "      <td>entertainment</td>\n",
       "      <td>38.13</td>\n",
       "      <td>Samuel</td>\n",
       "      <td>Frey</td>\n",
       "      <td>M</td>\n",
       "      <td>830 Myers Plaza Apt. 384</td>\n",
       "      <td>Edmond</td>\n",
       "      <td>OK</td>\n",
       "      <td>73034</td>\n",
       "      <td>35.6665</td>\n",
       "      <td>-97.4798</td>\n",
       "      <td>116001</td>\n",
       "      <td>Media buyer</td>\n",
       "      <td>1993-05-10</td>\n",
       "      <td>1765bb45b3aa3224b4cdcb6e7a96cee3</td>\n",
       "      <td>1388534374</td>\n",
       "      <td>36.210097</td>\n",
       "      <td>-97.036372</td>\n",
       "      <td>0</td>\n",
       "    </tr>\n",
       "  </tbody>\n",
       "</table>\n",
       "<p>491134 rows × 22 columns</p>\n",
       "</div>"
      ],
      "text/plain": [
       "       trans_date_trans_time               cc_num  \\\n",
       "0        2019-01-01 00:00:44         630423337322   \n",
       "1        2019-01-01 00:12:34  4956828990005111019   \n",
       "2        2019-01-01 00:17:16      180048185037117   \n",
       "3        2019-01-01 00:20:15      374930071163758   \n",
       "4        2019-01-01 00:23:41     2712209726293386   \n",
       "...                      ...                  ...   \n",
       "491129   2020-12-31 23:56:48     6011109736646996   \n",
       "491130   2020-12-31 23:56:57      213112402583773   \n",
       "491131   2020-12-31 23:59:09     3556613125071656   \n",
       "491132   2020-12-31 23:59:15     6011724471098086   \n",
       "491133   2020-12-31 23:59:34     4170689372027579   \n",
       "\n",
       "                                    merchant       category     amt  \\\n",
       "0            fraud_Heller, Gutmann and Zieme    grocery_pos  107.23   \n",
       "1          fraud_Schultz, Simonis and Little    grocery_pos   44.71   \n",
       "2                          fraud_Kling-Grant    grocery_net   46.28   \n",
       "3                      fraud_Deckow-O'Conner    grocery_pos   64.09   \n",
       "4                     fraud_Balistreri-Nader       misc_pos   25.58   \n",
       "...                                      ...            ...     ...   \n",
       "491129               fraud_Botsford and Sons           home  134.26   \n",
       "491130  fraud_Baumbach, Hodkiewicz and Walsh   shopping_pos   25.49   \n",
       "491131                  fraud_Hoppe-Parisian      kids_pets  111.84   \n",
       "491132                       fraud_Rau-Robel      kids_pets   86.88   \n",
       "491133                     fraud_Dare-Marvin  entertainment   38.13   \n",
       "\n",
       "            first      last gender                         street  \\\n",
       "0       Stephanie      Gill      F   43039 Riley Greens Suite 393   \n",
       "1         Kenneth  Robinson      M             269 Sanchez Rapids   \n",
       "2            Mary      Wall      F                2481 Mills Lock   \n",
       "3          Daniel   Escobar      M               61390 Hayes Port   \n",
       "4           Jenna    Brooks      F     50872 Alex Plain Suite 088   \n",
       "...           ...       ...    ...                            ...   \n",
       "491129    Rebecca  Erickson      F      594 Berry Lights Apt. 392   \n",
       "491130        Ana    Howell      F  4664 Sanchez Common Suite 930   \n",
       "491131       Jose   Vasquez      M            572 Davis Mountains   \n",
       "491132        Ann    Lawson      F     144 Evans Islands Apt. 683   \n",
       "491133     Samuel      Frey      M       830 Myers Plaza Apt. 384   \n",
       "\n",
       "                city state    zip      lat      long  city_pop  \\\n",
       "0             Orient    WA  99160  48.8878 -118.2105       149   \n",
       "1          Elizabeth    NJ   7208  40.6747  -74.2239    124967   \n",
       "2         Plainfield    NJ   7060  40.6152  -74.4150     71485   \n",
       "3            Romulus    MI  48174  42.2203  -83.3583     31515   \n",
       "4        Baton Rouge    LA  70808  30.4066  -91.1468    378909   \n",
       "...              ...   ...    ...      ...       ...       ...   \n",
       "491129    Wilmington    NC  28405  34.2651  -77.8670    186140   \n",
       "491130       Bradley    SC  29819  34.0326  -82.2027      1523   \n",
       "491131  Lake Jackson    TX  77566  29.0393  -95.4401     28739   \n",
       "491132       Burbank    WA  99323  46.1966 -118.9017      3684   \n",
       "491133        Edmond    OK  73034  35.6665  -97.4798    116001   \n",
       "\n",
       "                                           job         dob  \\\n",
       "0            Special educational needs teacher  1978-06-21   \n",
       "1                       Operational researcher  1980-12-21   \n",
       "2                       Leisure centre manager  1974-07-19   \n",
       "3                               Police officer  1971-11-05   \n",
       "4                          Designer, furniture  1977-02-22   \n",
       "...                                        ...         ...   \n",
       "491129    English as a second language teacher  1983-02-08   \n",
       "491130  Research scientist (physical sciences)  1984-06-03   \n",
       "491131                          Futures trader  1999-12-27   \n",
       "491132                                Musician  1981-11-29   \n",
       "491133                             Media buyer  1993-05-10   \n",
       "\n",
       "                               trans_num   unix_time  merch_lat  merch_long  \\\n",
       "0       1f76529f8574734946361c461b024d99  1325376044  49.159047 -118.186462   \n",
       "1       09eff9c806365e2a6be12c1bbab3d70e  1325376754  40.079588  -74.848087   \n",
       "2       19e23c6a300c774354417befe4f31f8c  1325377036  40.021888  -74.228188   \n",
       "3       6f363661ba6b55889e488dd178f2a0af  1325377215  42.360426  -83.552316   \n",
       "4       1654da2abfb9e79a5f99167fc9779558  1325377421  29.737426  -90.853194   \n",
       "...                                  ...         ...        ...         ...   \n",
       "491129  fc860b0d1f89b0b068c9c8db27b6bcc5  1388534208  34.853497  -78.664158   \n",
       "491130  0f0c38fe781b317f733b845c0d6ba448  1388534217  35.008839  -81.475156   \n",
       "491131  2090647dac2c89a1d86c514c427f5b91  1388534349  29.661049  -96.186633   \n",
       "491132  6c5b7c8add471975aa0fec023b2e8408  1388534355  46.658340 -119.715054   \n",
       "491133  1765bb45b3aa3224b4cdcb6e7a96cee3  1388534374  36.210097  -97.036372   \n",
       "\n",
       "        is_fraud  \n",
       "0              0  \n",
       "1              0  \n",
       "2              0  \n",
       "3              0  \n",
       "4              0  \n",
       "...          ...  \n",
       "491129         0  \n",
       "491130         0  \n",
       "491131         0  \n",
       "491132         0  \n",
       "491133         0  \n",
       "\n",
       "[491134 rows x 22 columns]"
      ]
     },
     "execution_count": 4,
     "metadata": {},
     "output_type": "execute_result"
    }
   ],
   "source": [
    "cc_df"
   ]
  },
  {
   "cell_type": "code",
   "execution_count": 5,
   "id": "d7641a25",
   "metadata": {
    "id": "81685035",
    "outputId": "8bd6a9a5-507a-41b4-fe95-593637bd5708"
   },
   "outputs": [
    {
     "name": "stdout",
     "output_type": "stream",
     "text": [
      "<class 'pandas.core.frame.DataFrame'>\n",
      "RangeIndex: 491134 entries, 0 to 491133\n",
      "Data columns (total 22 columns):\n",
      " #   Column                 Non-Null Count   Dtype  \n",
      "---  ------                 --------------   -----  \n",
      " 0   trans_date_trans_time  491134 non-null  object \n",
      " 1   cc_num                 491134 non-null  int64  \n",
      " 2   merchant               491134 non-null  object \n",
      " 3   category               491134 non-null  object \n",
      " 4   amt                    491134 non-null  float64\n",
      " 5   first                  491134 non-null  object \n",
      " 6   last                   491134 non-null  object \n",
      " 7   gender                 491134 non-null  object \n",
      " 8   street                 491134 non-null  object \n",
      " 9   city                   491134 non-null  object \n",
      " 10  state                  491134 non-null  object \n",
      " 11  zip                    491134 non-null  int64  \n",
      " 12  lat                    491134 non-null  float64\n",
      " 13  long                   491134 non-null  float64\n",
      " 14  city_pop               491134 non-null  int64  \n",
      " 15  job                    491134 non-null  object \n",
      " 16  dob                    491134 non-null  object \n",
      " 17  trans_num              491134 non-null  object \n",
      " 18  unix_time              491134 non-null  int64  \n",
      " 19  merch_lat              491134 non-null  float64\n",
      " 20  merch_long             491134 non-null  float64\n",
      " 21  is_fraud               491134 non-null  int64  \n",
      "dtypes: float64(5), int64(5), object(12)\n",
      "memory usage: 82.4+ MB\n"
     ]
    }
   ],
   "source": [
    "cc_df.info()"
   ]
  },
  {
   "cell_type": "code",
   "execution_count": 6,
   "id": "f7b28438",
   "metadata": {
    "id": "494d8d52",
    "outputId": "ee103383-1137-47a7-853c-d2478ef7cc91",
    "scrolled": true
   },
   "outputs": [
    {
     "data": {
      "text/html": [
       "<div>\n",
       "<style scoped>\n",
       "    .dataframe tbody tr th:only-of-type {\n",
       "        vertical-align: middle;\n",
       "    }\n",
       "\n",
       "    .dataframe tbody tr th {\n",
       "        vertical-align: top;\n",
       "    }\n",
       "\n",
       "    .dataframe thead th {\n",
       "        text-align: right;\n",
       "    }\n",
       "</style>\n",
       "<table border=\"1\" class=\"dataframe\">\n",
       "  <thead>\n",
       "    <tr style=\"text-align: right;\">\n",
       "      <th></th>\n",
       "      <th>cc_num</th>\n",
       "      <th>amt</th>\n",
       "      <th>zip</th>\n",
       "      <th>lat</th>\n",
       "      <th>long</th>\n",
       "      <th>city_pop</th>\n",
       "      <th>unix_time</th>\n",
       "      <th>merch_lat</th>\n",
       "      <th>merch_long</th>\n",
       "      <th>is_fraud</th>\n",
       "    </tr>\n",
       "  </thead>\n",
       "  <tbody>\n",
       "    <tr>\n",
       "      <th>count</th>\n",
       "      <td>4.911340e+05</td>\n",
       "      <td>491134.000000</td>\n",
       "      <td>491134.000000</td>\n",
       "      <td>491134.000000</td>\n",
       "      <td>491134.000000</td>\n",
       "      <td>4.911340e+05</td>\n",
       "      <td>4.911340e+05</td>\n",
       "      <td>491134.000000</td>\n",
       "      <td>491134.000000</td>\n",
       "      <td>491134.000000</td>\n",
       "    </tr>\n",
       "    <tr>\n",
       "      <th>mean</th>\n",
       "      <td>3.706013e+17</td>\n",
       "      <td>69.050120</td>\n",
       "      <td>50770.532384</td>\n",
       "      <td>37.931230</td>\n",
       "      <td>-90.495619</td>\n",
       "      <td>1.213922e+05</td>\n",
       "      <td>1.358730e+09</td>\n",
       "      <td>37.930272</td>\n",
       "      <td>-90.495411</td>\n",
       "      <td>0.002533</td>\n",
       "    </tr>\n",
       "    <tr>\n",
       "      <th>std</th>\n",
       "      <td>1.260229e+18</td>\n",
       "      <td>160.322867</td>\n",
       "      <td>26854.947965</td>\n",
       "      <td>5.341193</td>\n",
       "      <td>12.990732</td>\n",
       "      <td>3.725751e+05</td>\n",
       "      <td>1.819402e+07</td>\n",
       "      <td>5.372986</td>\n",
       "      <td>13.004100</td>\n",
       "      <td>0.050264</td>\n",
       "    </tr>\n",
       "    <tr>\n",
       "      <th>min</th>\n",
       "      <td>5.038744e+11</td>\n",
       "      <td>1.000000</td>\n",
       "      <td>1843.000000</td>\n",
       "      <td>24.655700</td>\n",
       "      <td>-122.345600</td>\n",
       "      <td>4.600000e+01</td>\n",
       "      <td>1.325376e+09</td>\n",
       "      <td>23.655789</td>\n",
       "      <td>-123.345106</td>\n",
       "      <td>0.000000</td>\n",
       "    </tr>\n",
       "    <tr>\n",
       "      <th>25%</th>\n",
       "      <td>2.131124e+14</td>\n",
       "      <td>8.960000</td>\n",
       "      <td>28405.000000</td>\n",
       "      <td>33.746700</td>\n",
       "      <td>-97.235100</td>\n",
       "      <td>1.228000e+03</td>\n",
       "      <td>1.343087e+09</td>\n",
       "      <td>33.781388</td>\n",
       "      <td>-96.984814</td>\n",
       "      <td>0.000000</td>\n",
       "    </tr>\n",
       "    <tr>\n",
       "      <th>50%</th>\n",
       "      <td>3.531130e+15</td>\n",
       "      <td>42.170000</td>\n",
       "      <td>49628.000000</td>\n",
       "      <td>38.507200</td>\n",
       "      <td>-87.591700</td>\n",
       "      <td>5.760000e+03</td>\n",
       "      <td>1.357257e+09</td>\n",
       "      <td>38.545124</td>\n",
       "      <td>-87.573441</td>\n",
       "      <td>0.000000</td>\n",
       "    </tr>\n",
       "    <tr>\n",
       "      <th>75%</th>\n",
       "      <td>4.653879e+15</td>\n",
       "      <td>80.330000</td>\n",
       "      <td>75048.000000</td>\n",
       "      <td>41.520500</td>\n",
       "      <td>-80.731000</td>\n",
       "      <td>5.083500e+04</td>\n",
       "      <td>1.374626e+09</td>\n",
       "      <td>41.624294</td>\n",
       "      <td>-80.685567</td>\n",
       "      <td>0.000000</td>\n",
       "    </tr>\n",
       "    <tr>\n",
       "      <th>max</th>\n",
       "      <td>4.956829e+18</td>\n",
       "      <td>25086.940000</td>\n",
       "      <td>99323.000000</td>\n",
       "      <td>48.887800</td>\n",
       "      <td>-69.965600</td>\n",
       "      <td>2.906700e+06</td>\n",
       "      <td>1.388534e+09</td>\n",
       "      <td>49.887523</td>\n",
       "      <td>-68.965624</td>\n",
       "      <td>1.000000</td>\n",
       "    </tr>\n",
       "  </tbody>\n",
       "</table>\n",
       "</div>"
      ],
      "text/plain": [
       "             cc_num            amt            zip            lat  \\\n",
       "count  4.911340e+05  491134.000000  491134.000000  491134.000000   \n",
       "mean   3.706013e+17      69.050120   50770.532384      37.931230   \n",
       "std    1.260229e+18     160.322867   26854.947965       5.341193   \n",
       "min    5.038744e+11       1.000000    1843.000000      24.655700   \n",
       "25%    2.131124e+14       8.960000   28405.000000      33.746700   \n",
       "50%    3.531130e+15      42.170000   49628.000000      38.507200   \n",
       "75%    4.653879e+15      80.330000   75048.000000      41.520500   \n",
       "max    4.956829e+18   25086.940000   99323.000000      48.887800   \n",
       "\n",
       "                long      city_pop     unix_time      merch_lat  \\\n",
       "count  491134.000000  4.911340e+05  4.911340e+05  491134.000000   \n",
       "mean      -90.495619  1.213922e+05  1.358730e+09      37.930272   \n",
       "std        12.990732  3.725751e+05  1.819402e+07       5.372986   \n",
       "min      -122.345600  4.600000e+01  1.325376e+09      23.655789   \n",
       "25%       -97.235100  1.228000e+03  1.343087e+09      33.781388   \n",
       "50%       -87.591700  5.760000e+03  1.357257e+09      38.545124   \n",
       "75%       -80.731000  5.083500e+04  1.374626e+09      41.624294   \n",
       "max       -69.965600  2.906700e+06  1.388534e+09      49.887523   \n",
       "\n",
       "          merch_long       is_fraud  \n",
       "count  491134.000000  491134.000000  \n",
       "mean      -90.495411       0.002533  \n",
       "std        13.004100       0.050264  \n",
       "min      -123.345106       0.000000  \n",
       "25%       -96.984814       0.000000  \n",
       "50%       -87.573441       0.000000  \n",
       "75%       -80.685567       0.000000  \n",
       "max       -68.965624       1.000000  "
      ]
     },
     "execution_count": 6,
     "metadata": {},
     "output_type": "execute_result"
    }
   ],
   "source": [
    "cc_df.describe()"
   ]
  },
  {
   "cell_type": "markdown",
   "id": "3c2abc76",
   "metadata": {},
   "source": [
    "- 491134 개의 레코드와 22개 컬럼. \n",
    "\n",
    "- ** 결측치 없음."
   ]
  },
  {
   "cell_type": "markdown",
   "id": "c52d0a32",
   "metadata": {},
   "source": [
    "# 2. 중복데이터 확인 및 처리"
   ]
  },
  {
   "cell_type": "code",
   "execution_count": 7,
   "id": "32cb49fd",
   "metadata": {
    "scrolled": true
   },
   "outputs": [
    {
     "data": {
      "text/html": [
       "<div>\n",
       "<style scoped>\n",
       "    .dataframe tbody tr th:only-of-type {\n",
       "        vertical-align: middle;\n",
       "    }\n",
       "\n",
       "    .dataframe tbody tr th {\n",
       "        vertical-align: top;\n",
       "    }\n",
       "\n",
       "    .dataframe thead th {\n",
       "        text-align: right;\n",
       "    }\n",
       "</style>\n",
       "<table border=\"1\" class=\"dataframe\">\n",
       "  <thead>\n",
       "    <tr style=\"text-align: right;\">\n",
       "      <th></th>\n",
       "      <th>trans_date_trans_time</th>\n",
       "      <th>cc_num</th>\n",
       "      <th>merchant</th>\n",
       "      <th>category</th>\n",
       "      <th>amt</th>\n",
       "      <th>first</th>\n",
       "      <th>last</th>\n",
       "      <th>gender</th>\n",
       "      <th>street</th>\n",
       "      <th>city</th>\n",
       "      <th>state</th>\n",
       "      <th>zip</th>\n",
       "      <th>lat</th>\n",
       "      <th>long</th>\n",
       "      <th>city_pop</th>\n",
       "      <th>job</th>\n",
       "      <th>dob</th>\n",
       "      <th>trans_num</th>\n",
       "      <th>unix_time</th>\n",
       "      <th>merch_lat</th>\n",
       "      <th>merch_long</th>\n",
       "      <th>is_fraud</th>\n",
       "    </tr>\n",
       "  </thead>\n",
       "  <tbody>\n",
       "  </tbody>\n",
       "</table>\n",
       "</div>"
      ],
      "text/plain": [
       "Empty DataFrame\n",
       "Columns: [trans_date_trans_time, cc_num, merchant, category, amt, first, last, gender, street, city, state, zip, lat, long, city_pop, job, dob, trans_num, unix_time, merch_lat, merch_long, is_fraud]\n",
       "Index: []"
      ]
     },
     "execution_count": 7,
     "metadata": {},
     "output_type": "execute_result"
    }
   ],
   "source": [
    "# 중복 데이터 확인\n",
    "\n",
    "cc_df[cc_df.duplicated()]"
   ]
  },
  {
   "cell_type": "markdown",
   "id": "7595e56e",
   "metadata": {},
   "source": [
    "# 3-0. 타깃 변수인 is_fraud 의 비율 확인"
   ]
  },
  {
   "cell_type": "code",
   "execution_count": 8,
   "id": "356963fb",
   "metadata": {},
   "outputs": [],
   "source": [
    "# 본격적인 탐색에 앞서 직관적이지 않은 컬럼의 이름을 변경하도록 한다.\n",
    "cc_df = cc_df.rename({'amt': 'paid_amount'}, axis = 1)"
   ]
  },
  {
   "cell_type": "code",
   "execution_count": 9,
   "id": "805a0dd0",
   "metadata": {},
   "outputs": [
    {
     "data": {
      "text/plain": [
       "0.25329136243876416"
      ]
     },
     "execution_count": 9,
     "metadata": {},
     "output_type": "execute_result"
    }
   ],
   "source": [
    "cc_df['is_fraud'].mean() * 100"
   ]
  },
  {
   "cell_type": "markdown",
   "id": "3b8df265",
   "metadata": {},
   "source": [
    "- 전체 데이터의 약 0.25% 가 이상 거래에 해당한다.\n",
    "- 이상 거래를 탐지하는 목표로 데이터를 분석하기 때문에 유독 튀는 이상치를 확인하는데 주의하며 데이터 탐색을 하기로 한다.\n",
    "\n",
    "\n",
    "- 이상 거래에 해당하는 데이터의 통계량과 이상 거래를 포함하지 않은 데이터의 통계량을 비교해보며 그 특성을 살펴보기로 한다."
   ]
  },
  {
   "cell_type": "code",
   "execution_count": 10,
   "id": "9b07f8a3",
   "metadata": {
    "scrolled": false
   },
   "outputs": [
    {
     "data": {
      "text/html": [
       "<div>\n",
       "<style scoped>\n",
       "    .dataframe tbody tr th:only-of-type {\n",
       "        vertical-align: middle;\n",
       "    }\n",
       "\n",
       "    .dataframe tbody tr th {\n",
       "        vertical-align: top;\n",
       "    }\n",
       "\n",
       "    .dataframe thead th {\n",
       "        text-align: right;\n",
       "    }\n",
       "</style>\n",
       "<table border=\"1\" class=\"dataframe\">\n",
       "  <thead>\n",
       "    <tr style=\"text-align: right;\">\n",
       "      <th></th>\n",
       "      <th>trans_date_trans_time</th>\n",
       "      <th>cc_num</th>\n",
       "      <th>merchant</th>\n",
       "      <th>category</th>\n",
       "      <th>paid_amount</th>\n",
       "      <th>first</th>\n",
       "      <th>last</th>\n",
       "      <th>gender</th>\n",
       "      <th>street</th>\n",
       "      <th>city</th>\n",
       "      <th>state</th>\n",
       "      <th>zip</th>\n",
       "      <th>lat</th>\n",
       "      <th>long</th>\n",
       "      <th>city_pop</th>\n",
       "      <th>job</th>\n",
       "      <th>dob</th>\n",
       "      <th>trans_num</th>\n",
       "      <th>unix_time</th>\n",
       "      <th>merch_lat</th>\n",
       "      <th>merch_long</th>\n",
       "      <th>is_fraud</th>\n",
       "    </tr>\n",
       "  </thead>\n",
       "  <tbody>\n",
       "    <tr>\n",
       "      <th>4794</th>\n",
       "      <td>2019-01-12 00:59:01</td>\n",
       "      <td>581686439828</td>\n",
       "      <td>fraud_Zieme, Bode and Dooley</td>\n",
       "      <td>gas_transport</td>\n",
       "      <td>11.73</td>\n",
       "      <td>Larry</td>\n",
       "      <td>House</td>\n",
       "      <td>M</td>\n",
       "      <td>911 Sabrina Trafficway</td>\n",
       "      <td>Cochranton</td>\n",
       "      <td>PA</td>\n",
       "      <td>16314</td>\n",
       "      <td>41.5205</td>\n",
       "      <td>-80.0573</td>\n",
       "      <td>5507</td>\n",
       "      <td>Retail merchandiser</td>\n",
       "      <td>1973-07-28</td>\n",
       "      <td>77c44b4cff9a624f54d389887605dbb2</td>\n",
       "      <td>1326329941</td>\n",
       "      <td>41.947427</td>\n",
       "      <td>-79.796264</td>\n",
       "      <td>1</td>\n",
       "    </tr>\n",
       "    <tr>\n",
       "      <th>4816</th>\n",
       "      <td>2019-01-12 03:48:07</td>\n",
       "      <td>581686439828</td>\n",
       "      <td>fraud_Koepp-Witting</td>\n",
       "      <td>grocery_pos</td>\n",
       "      <td>328.68</td>\n",
       "      <td>Larry</td>\n",
       "      <td>House</td>\n",
       "      <td>M</td>\n",
       "      <td>911 Sabrina Trafficway</td>\n",
       "      <td>Cochranton</td>\n",
       "      <td>PA</td>\n",
       "      <td>16314</td>\n",
       "      <td>41.5205</td>\n",
       "      <td>-80.0573</td>\n",
       "      <td>5507</td>\n",
       "      <td>Retail merchandiser</td>\n",
       "      <td>1973-07-28</td>\n",
       "      <td>90e7917ee506a5b1ea068bdf2fac064b</td>\n",
       "      <td>1326340087</td>\n",
       "      <td>42.148618</td>\n",
       "      <td>-79.398595</td>\n",
       "      <td>1</td>\n",
       "    </tr>\n",
       "    <tr>\n",
       "      <th>4979</th>\n",
       "      <td>2019-01-12 15:46:10</td>\n",
       "      <td>581686439828</td>\n",
       "      <td>fraud_Abernathy and Sons</td>\n",
       "      <td>food_dining</td>\n",
       "      <td>120.58</td>\n",
       "      <td>Larry</td>\n",
       "      <td>House</td>\n",
       "      <td>M</td>\n",
       "      <td>911 Sabrina Trafficway</td>\n",
       "      <td>Cochranton</td>\n",
       "      <td>PA</td>\n",
       "      <td>16314</td>\n",
       "      <td>41.5205</td>\n",
       "      <td>-80.0573</td>\n",
       "      <td>5507</td>\n",
       "      <td>Retail merchandiser</td>\n",
       "      <td>1973-07-28</td>\n",
       "      <td>aaac448ccb3f869994c4f1cad95dba18</td>\n",
       "      <td>1326383170</td>\n",
       "      <td>42.470024</td>\n",
       "      <td>-80.126576</td>\n",
       "      <td>1</td>\n",
       "    </tr>\n",
       "    <tr>\n",
       "      <th>5073</th>\n",
       "      <td>2019-01-12 19:53:59</td>\n",
       "      <td>581686439828</td>\n",
       "      <td>fraud_Boyer-Reichert</td>\n",
       "      <td>shopping_net</td>\n",
       "      <td>1081.35</td>\n",
       "      <td>Larry</td>\n",
       "      <td>House</td>\n",
       "      <td>M</td>\n",
       "      <td>911 Sabrina Trafficway</td>\n",
       "      <td>Cochranton</td>\n",
       "      <td>PA</td>\n",
       "      <td>16314</td>\n",
       "      <td>41.5205</td>\n",
       "      <td>-80.0573</td>\n",
       "      <td>5507</td>\n",
       "      <td>Retail merchandiser</td>\n",
       "      <td>1973-07-28</td>\n",
       "      <td>8545f40c91a37f8015749b0f962cff20</td>\n",
       "      <td>1326398039</td>\n",
       "      <td>42.455406</td>\n",
       "      <td>-79.521640</td>\n",
       "      <td>1</td>\n",
       "    </tr>\n",
       "    <tr>\n",
       "      <th>5124</th>\n",
       "      <td>2019-01-12 22:44:05</td>\n",
       "      <td>581686439828</td>\n",
       "      <td>fraud_Fisher-Schowalter</td>\n",
       "      <td>shopping_net</td>\n",
       "      <td>776.70</td>\n",
       "      <td>Larry</td>\n",
       "      <td>House</td>\n",
       "      <td>M</td>\n",
       "      <td>911 Sabrina Trafficway</td>\n",
       "      <td>Cochranton</td>\n",
       "      <td>PA</td>\n",
       "      <td>16314</td>\n",
       "      <td>41.5205</td>\n",
       "      <td>-80.0573</td>\n",
       "      <td>5507</td>\n",
       "      <td>Retail merchandiser</td>\n",
       "      <td>1973-07-28</td>\n",
       "      <td>3b6d88a3c7349cb3ee408bce6e4ffac2</td>\n",
       "      <td>1326408245</td>\n",
       "      <td>40.680209</td>\n",
       "      <td>-79.099101</td>\n",
       "      <td>1</td>\n",
       "    </tr>\n",
       "    <tr>\n",
       "      <th>...</th>\n",
       "      <td>...</td>\n",
       "      <td>...</td>\n",
       "      <td>...</td>\n",
       "      <td>...</td>\n",
       "      <td>...</td>\n",
       "      <td>...</td>\n",
       "      <td>...</td>\n",
       "      <td>...</td>\n",
       "      <td>...</td>\n",
       "      <td>...</td>\n",
       "      <td>...</td>\n",
       "      <td>...</td>\n",
       "      <td>...</td>\n",
       "      <td>...</td>\n",
       "      <td>...</td>\n",
       "      <td>...</td>\n",
       "      <td>...</td>\n",
       "      <td>...</td>\n",
       "      <td>...</td>\n",
       "      <td>...</td>\n",
       "      <td>...</td>\n",
       "      <td>...</td>\n",
       "    </tr>\n",
       "    <tr>\n",
       "      <th>477832</th>\n",
       "      <td>2020-12-21 02:21:41</td>\n",
       "      <td>4716561796955522</td>\n",
       "      <td>fraud_Murray-Smitham</td>\n",
       "      <td>grocery_pos</td>\n",
       "      <td>358.24</td>\n",
       "      <td>Lauren</td>\n",
       "      <td>Anderson</td>\n",
       "      <td>F</td>\n",
       "      <td>11014 Chad Lake Apt. 573</td>\n",
       "      <td>Heart Butte</td>\n",
       "      <td>MT</td>\n",
       "      <td>59448</td>\n",
       "      <td>48.2777</td>\n",
       "      <td>-112.8456</td>\n",
       "      <td>743</td>\n",
       "      <td>Water engineer</td>\n",
       "      <td>1972-05-04</td>\n",
       "      <td>8a5d80eb4f573480db90899dd8b1c34a</td>\n",
       "      <td>1387592501</td>\n",
       "      <td>47.526202</td>\n",
       "      <td>-113.643313</td>\n",
       "      <td>1</td>\n",
       "    </tr>\n",
       "    <tr>\n",
       "      <th>477847</th>\n",
       "      <td>2020-12-21 02:36:03</td>\n",
       "      <td>4716561796955522</td>\n",
       "      <td>fraud_Schmidt and Sons</td>\n",
       "      <td>shopping_net</td>\n",
       "      <td>859.12</td>\n",
       "      <td>Lauren</td>\n",
       "      <td>Anderson</td>\n",
       "      <td>F</td>\n",
       "      <td>11014 Chad Lake Apt. 573</td>\n",
       "      <td>Heart Butte</td>\n",
       "      <td>MT</td>\n",
       "      <td>59448</td>\n",
       "      <td>48.2777</td>\n",
       "      <td>-112.8456</td>\n",
       "      <td>743</td>\n",
       "      <td>Water engineer</td>\n",
       "      <td>1972-05-04</td>\n",
       "      <td>fe8464ee336fe08b2adacdd0867b1343</td>\n",
       "      <td>1387593363</td>\n",
       "      <td>48.272348</td>\n",
       "      <td>-112.328075</td>\n",
       "      <td>1</td>\n",
       "    </tr>\n",
       "    <tr>\n",
       "      <th>479296</th>\n",
       "      <td>2020-12-21 22:38:38</td>\n",
       "      <td>4716561796955522</td>\n",
       "      <td>fraud_Quitzon-Goyette</td>\n",
       "      <td>home</td>\n",
       "      <td>209.84</td>\n",
       "      <td>Lauren</td>\n",
       "      <td>Anderson</td>\n",
       "      <td>F</td>\n",
       "      <td>11014 Chad Lake Apt. 573</td>\n",
       "      <td>Heart Butte</td>\n",
       "      <td>MT</td>\n",
       "      <td>59448</td>\n",
       "      <td>48.2777</td>\n",
       "      <td>-112.8456</td>\n",
       "      <td>743</td>\n",
       "      <td>Water engineer</td>\n",
       "      <td>1972-05-04</td>\n",
       "      <td>7cde9b7604a025e251756a4bc9615888</td>\n",
       "      <td>1387665518</td>\n",
       "      <td>49.173669</td>\n",
       "      <td>-112.698767</td>\n",
       "      <td>1</td>\n",
       "    </tr>\n",
       "    <tr>\n",
       "      <th>479305</th>\n",
       "      <td>2020-12-21 22:42:11</td>\n",
       "      <td>4716561796955522</td>\n",
       "      <td>fraud_Schulist Ltd</td>\n",
       "      <td>food_dining</td>\n",
       "      <td>123.58</td>\n",
       "      <td>Lauren</td>\n",
       "      <td>Anderson</td>\n",
       "      <td>F</td>\n",
       "      <td>11014 Chad Lake Apt. 573</td>\n",
       "      <td>Heart Butte</td>\n",
       "      <td>MT</td>\n",
       "      <td>59448</td>\n",
       "      <td>48.2777</td>\n",
       "      <td>-112.8456</td>\n",
       "      <td>743</td>\n",
       "      <td>Water engineer</td>\n",
       "      <td>1972-05-04</td>\n",
       "      <td>daabc7ccf6ccf2c85c1f6186ca11193a</td>\n",
       "      <td>1387665731</td>\n",
       "      <td>48.913048</td>\n",
       "      <td>-113.214921</td>\n",
       "      <td>1</td>\n",
       "    </tr>\n",
       "    <tr>\n",
       "      <th>479341</th>\n",
       "      <td>2020-12-21 22:59:22</td>\n",
       "      <td>4716561796955522</td>\n",
       "      <td>fraud_Botsford and Sons</td>\n",
       "      <td>home</td>\n",
       "      <td>219.11</td>\n",
       "      <td>Lauren</td>\n",
       "      <td>Anderson</td>\n",
       "      <td>F</td>\n",
       "      <td>11014 Chad Lake Apt. 573</td>\n",
       "      <td>Heart Butte</td>\n",
       "      <td>MT</td>\n",
       "      <td>59448</td>\n",
       "      <td>48.2777</td>\n",
       "      <td>-112.8456</td>\n",
       "      <td>743</td>\n",
       "      <td>Water engineer</td>\n",
       "      <td>1972-05-04</td>\n",
       "      <td>4de4d5177b9b5c2054a638583ba63a3d</td>\n",
       "      <td>1387666762</td>\n",
       "      <td>47.911219</td>\n",
       "      <td>-113.691603</td>\n",
       "      <td>1</td>\n",
       "    </tr>\n",
       "  </tbody>\n",
       "</table>\n",
       "<p>1244 rows × 22 columns</p>\n",
       "</div>"
      ],
      "text/plain": [
       "       trans_date_trans_time            cc_num                      merchant  \\\n",
       "4794     2019-01-12 00:59:01      581686439828  fraud_Zieme, Bode and Dooley   \n",
       "4816     2019-01-12 03:48:07      581686439828           fraud_Koepp-Witting   \n",
       "4979     2019-01-12 15:46:10      581686439828      fraud_Abernathy and Sons   \n",
       "5073     2019-01-12 19:53:59      581686439828          fraud_Boyer-Reichert   \n",
       "5124     2019-01-12 22:44:05      581686439828       fraud_Fisher-Schowalter   \n",
       "...                      ...               ...                           ...   \n",
       "477832   2020-12-21 02:21:41  4716561796955522          fraud_Murray-Smitham   \n",
       "477847   2020-12-21 02:36:03  4716561796955522        fraud_Schmidt and Sons   \n",
       "479296   2020-12-21 22:38:38  4716561796955522         fraud_Quitzon-Goyette   \n",
       "479305   2020-12-21 22:42:11  4716561796955522            fraud_Schulist Ltd   \n",
       "479341   2020-12-21 22:59:22  4716561796955522       fraud_Botsford and Sons   \n",
       "\n",
       "             category  paid_amount   first      last gender  \\\n",
       "4794    gas_transport        11.73   Larry     House      M   \n",
       "4816      grocery_pos       328.68   Larry     House      M   \n",
       "4979      food_dining       120.58   Larry     House      M   \n",
       "5073     shopping_net      1081.35   Larry     House      M   \n",
       "5124     shopping_net       776.70   Larry     House      M   \n",
       "...               ...          ...     ...       ...    ...   \n",
       "477832    grocery_pos       358.24  Lauren  Anderson      F   \n",
       "477847   shopping_net       859.12  Lauren  Anderson      F   \n",
       "479296           home       209.84  Lauren  Anderson      F   \n",
       "479305    food_dining       123.58  Lauren  Anderson      F   \n",
       "479341           home       219.11  Lauren  Anderson      F   \n",
       "\n",
       "                          street         city state    zip      lat      long  \\\n",
       "4794      911 Sabrina Trafficway   Cochranton    PA  16314  41.5205  -80.0573   \n",
       "4816      911 Sabrina Trafficway   Cochranton    PA  16314  41.5205  -80.0573   \n",
       "4979      911 Sabrina Trafficway   Cochranton    PA  16314  41.5205  -80.0573   \n",
       "5073      911 Sabrina Trafficway   Cochranton    PA  16314  41.5205  -80.0573   \n",
       "5124      911 Sabrina Trafficway   Cochranton    PA  16314  41.5205  -80.0573   \n",
       "...                          ...          ...   ...    ...      ...       ...   \n",
       "477832  11014 Chad Lake Apt. 573  Heart Butte    MT  59448  48.2777 -112.8456   \n",
       "477847  11014 Chad Lake Apt. 573  Heart Butte    MT  59448  48.2777 -112.8456   \n",
       "479296  11014 Chad Lake Apt. 573  Heart Butte    MT  59448  48.2777 -112.8456   \n",
       "479305  11014 Chad Lake Apt. 573  Heart Butte    MT  59448  48.2777 -112.8456   \n",
       "479341  11014 Chad Lake Apt. 573  Heart Butte    MT  59448  48.2777 -112.8456   \n",
       "\n",
       "        city_pop                  job         dob  \\\n",
       "4794        5507  Retail merchandiser  1973-07-28   \n",
       "4816        5507  Retail merchandiser  1973-07-28   \n",
       "4979        5507  Retail merchandiser  1973-07-28   \n",
       "5073        5507  Retail merchandiser  1973-07-28   \n",
       "5124        5507  Retail merchandiser  1973-07-28   \n",
       "...          ...                  ...         ...   \n",
       "477832       743       Water engineer  1972-05-04   \n",
       "477847       743       Water engineer  1972-05-04   \n",
       "479296       743       Water engineer  1972-05-04   \n",
       "479305       743       Water engineer  1972-05-04   \n",
       "479341       743       Water engineer  1972-05-04   \n",
       "\n",
       "                               trans_num   unix_time  merch_lat  merch_long  \\\n",
       "4794    77c44b4cff9a624f54d389887605dbb2  1326329941  41.947427  -79.796264   \n",
       "4816    90e7917ee506a5b1ea068bdf2fac064b  1326340087  42.148618  -79.398595   \n",
       "4979    aaac448ccb3f869994c4f1cad95dba18  1326383170  42.470024  -80.126576   \n",
       "5073    8545f40c91a37f8015749b0f962cff20  1326398039  42.455406  -79.521640   \n",
       "5124    3b6d88a3c7349cb3ee408bce6e4ffac2  1326408245  40.680209  -79.099101   \n",
       "...                                  ...         ...        ...         ...   \n",
       "477832  8a5d80eb4f573480db90899dd8b1c34a  1387592501  47.526202 -113.643313   \n",
       "477847  fe8464ee336fe08b2adacdd0867b1343  1387593363  48.272348 -112.328075   \n",
       "479296  7cde9b7604a025e251756a4bc9615888  1387665518  49.173669 -112.698767   \n",
       "479305  daabc7ccf6ccf2c85c1f6186ca11193a  1387665731  48.913048 -113.214921   \n",
       "479341  4de4d5177b9b5c2054a638583ba63a3d  1387666762  47.911219 -113.691603   \n",
       "\n",
       "        is_fraud  \n",
       "4794           1  \n",
       "4816           1  \n",
       "4979           1  \n",
       "5073           1  \n",
       "5124           1  \n",
       "...          ...  \n",
       "477832         1  \n",
       "477847         1  \n",
       "479296         1  \n",
       "479305         1  \n",
       "479341         1  \n",
       "\n",
       "[1244 rows x 22 columns]"
      ]
     },
     "execution_count": 10,
     "metadata": {},
     "output_type": "execute_result"
    }
   ],
   "source": [
    "# 이상 거래 데이터를 cc_target_df 데이터프레임으로 생성\n",
    "cc_target_df = cc_df[cc_df['is_fraud'] == 1]\n",
    "cc_target_df"
   ]
  },
  {
   "cell_type": "code",
   "execution_count": 11,
   "id": "533560dc",
   "metadata": {},
   "outputs": [],
   "source": [
    "# 이상 거래 데이터를 포함하지 않은 cc_non_target_df 데이터프레임 생성\n",
    "cc_non_target_df = cc_df[cc_df['is_fraud'] == 0]"
   ]
  },
  {
   "cell_type": "code",
   "execution_count": 12,
   "id": "29db3177",
   "metadata": {
    "scrolled": true
   },
   "outputs": [
    {
     "data": {
      "text/html": [
       "<div>\n",
       "<style scoped>\n",
       "    .dataframe tbody tr th:only-of-type {\n",
       "        vertical-align: middle;\n",
       "    }\n",
       "\n",
       "    .dataframe tbody tr th {\n",
       "        vertical-align: top;\n",
       "    }\n",
       "\n",
       "    .dataframe thead th {\n",
       "        text-align: right;\n",
       "    }\n",
       "</style>\n",
       "<table border=\"1\" class=\"dataframe\">\n",
       "  <thead>\n",
       "    <tr style=\"text-align: right;\">\n",
       "      <th></th>\n",
       "      <th>cc_num</th>\n",
       "      <th>paid_amount</th>\n",
       "      <th>zip</th>\n",
       "      <th>lat</th>\n",
       "      <th>long</th>\n",
       "      <th>city_pop</th>\n",
       "      <th>unix_time</th>\n",
       "      <th>merch_lat</th>\n",
       "      <th>merch_long</th>\n",
       "      <th>is_fraud</th>\n",
       "    </tr>\n",
       "  </thead>\n",
       "  <tbody>\n",
       "    <tr>\n",
       "      <th>count</th>\n",
       "      <td>1.244000e+03</td>\n",
       "      <td>1244.000000</td>\n",
       "      <td>1244.000000</td>\n",
       "      <td>1244.000000</td>\n",
       "      <td>1244.000000</td>\n",
       "      <td>1.244000e+03</td>\n",
       "      <td>1.244000e+03</td>\n",
       "      <td>1244.000000</td>\n",
       "      <td>1244.000000</td>\n",
       "      <td>1244.0</td>\n",
       "    </tr>\n",
       "    <tr>\n",
       "      <th>mean</th>\n",
       "      <td>3.802642e+17</td>\n",
       "      <td>477.958328</td>\n",
       "      <td>49169.089228</td>\n",
       "      <td>38.018846</td>\n",
       "      <td>-89.781168</td>\n",
       "      <td>7.976371e+04</td>\n",
       "      <td>1.355786e+09</td>\n",
       "      <td>38.027885</td>\n",
       "      <td>-89.794773</td>\n",
       "      <td>1.0</td>\n",
       "    </tr>\n",
       "    <tr>\n",
       "      <th>std</th>\n",
       "      <td>1.273204e+18</td>\n",
       "      <td>398.229485</td>\n",
       "      <td>26821.464413</td>\n",
       "      <td>5.328383</td>\n",
       "      <td>12.540186</td>\n",
       "      <td>2.592555e+05</td>\n",
       "      <td>1.823747e+07</td>\n",
       "      <td>5.337767</td>\n",
       "      <td>12.573992</td>\n",
       "      <td>0.0</td>\n",
       "    </tr>\n",
       "    <tr>\n",
       "      <th>min</th>\n",
       "      <td>5.038744e+11</td>\n",
       "      <td>6.380000</td>\n",
       "      <td>1843.000000</td>\n",
       "      <td>24.655700</td>\n",
       "      <td>-122.345600</td>\n",
       "      <td>4.600000e+01</td>\n",
       "      <td>1.326330e+09</td>\n",
       "      <td>23.722663</td>\n",
       "      <td>-123.130516</td>\n",
       "      <td>1.0</td>\n",
       "    </tr>\n",
       "    <tr>\n",
       "      <th>25%</th>\n",
       "      <td>2.131124e+14</td>\n",
       "      <td>22.895000</td>\n",
       "      <td>28253.750000</td>\n",
       "      <td>34.032600</td>\n",
       "      <td>-96.601200</td>\n",
       "      <td>8.950000e+02</td>\n",
       "      <td>1.338170e+09</td>\n",
       "      <td>34.057762</td>\n",
       "      <td>-96.518615</td>\n",
       "      <td>1.0</td>\n",
       "    </tr>\n",
       "    <tr>\n",
       "      <th>50%</th>\n",
       "      <td>3.527537e+15</td>\n",
       "      <td>334.750000</td>\n",
       "      <td>48174.000000</td>\n",
       "      <td>38.893800</td>\n",
       "      <td>-86.790400</td>\n",
       "      <td>4.542000e+03</td>\n",
       "      <td>1.356657e+09</td>\n",
       "      <td>38.756641</td>\n",
       "      <td>-87.271420</td>\n",
       "      <td>1.0</td>\n",
       "    </tr>\n",
       "    <tr>\n",
       "      <th>75%</th>\n",
       "      <td>4.642255e+15</td>\n",
       "      <td>865.385000</td>\n",
       "      <td>72165.000000</td>\n",
       "      <td>41.606000</td>\n",
       "      <td>-80.307000</td>\n",
       "      <td>3.423875e+04</td>\n",
       "      <td>1.371855e+09</td>\n",
       "      <td>41.728511</td>\n",
       "      <td>-80.511924</td>\n",
       "      <td>1.0</td>\n",
       "    </tr>\n",
       "    <tr>\n",
       "      <th>max</th>\n",
       "      <td>4.956829e+18</td>\n",
       "      <td>1371.810000</td>\n",
       "      <td>99323.000000</td>\n",
       "      <td>48.887800</td>\n",
       "      <td>-69.965600</td>\n",
       "      <td>2.906700e+06</td>\n",
       "      <td>1.387667e+09</td>\n",
       "      <td>49.579889</td>\n",
       "      <td>-69.006486</td>\n",
       "      <td>1.0</td>\n",
       "    </tr>\n",
       "  </tbody>\n",
       "</table>\n",
       "</div>"
      ],
      "text/plain": [
       "             cc_num  paid_amount           zip          lat         long  \\\n",
       "count  1.244000e+03  1244.000000   1244.000000  1244.000000  1244.000000   \n",
       "mean   3.802642e+17   477.958328  49169.089228    38.018846   -89.781168   \n",
       "std    1.273204e+18   398.229485  26821.464413     5.328383    12.540186   \n",
       "min    5.038744e+11     6.380000   1843.000000    24.655700  -122.345600   \n",
       "25%    2.131124e+14    22.895000  28253.750000    34.032600   -96.601200   \n",
       "50%    3.527537e+15   334.750000  48174.000000    38.893800   -86.790400   \n",
       "75%    4.642255e+15   865.385000  72165.000000    41.606000   -80.307000   \n",
       "max    4.956829e+18  1371.810000  99323.000000    48.887800   -69.965600   \n",
       "\n",
       "           city_pop     unix_time    merch_lat   merch_long  is_fraud  \n",
       "count  1.244000e+03  1.244000e+03  1244.000000  1244.000000    1244.0  \n",
       "mean   7.976371e+04  1.355786e+09    38.027885   -89.794773       1.0  \n",
       "std    2.592555e+05  1.823747e+07     5.337767    12.573992       0.0  \n",
       "min    4.600000e+01  1.326330e+09    23.722663  -123.130516       1.0  \n",
       "25%    8.950000e+02  1.338170e+09    34.057762   -96.518615       1.0  \n",
       "50%    4.542000e+03  1.356657e+09    38.756641   -87.271420       1.0  \n",
       "75%    3.423875e+04  1.371855e+09    41.728511   -80.511924       1.0  \n",
       "max    2.906700e+06  1.387667e+09    49.579889   -69.006486       1.0  "
      ]
     },
     "execution_count": 12,
     "metadata": {},
     "output_type": "execute_result"
    }
   ],
   "source": [
    "# 이상 거래 데이터 통계량\n",
    "cc_target_df.describe()"
   ]
  },
  {
   "cell_type": "code",
   "execution_count": 13,
   "id": "c8e09dee",
   "metadata": {
    "scrolled": true
   },
   "outputs": [
    {
     "data": {
      "text/html": [
       "<div>\n",
       "<style scoped>\n",
       "    .dataframe tbody tr th:only-of-type {\n",
       "        vertical-align: middle;\n",
       "    }\n",
       "\n",
       "    .dataframe tbody tr th {\n",
       "        vertical-align: top;\n",
       "    }\n",
       "\n",
       "    .dataframe thead th {\n",
       "        text-align: right;\n",
       "    }\n",
       "</style>\n",
       "<table border=\"1\" class=\"dataframe\">\n",
       "  <thead>\n",
       "    <tr style=\"text-align: right;\">\n",
       "      <th></th>\n",
       "      <th>cc_num</th>\n",
       "      <th>paid_amount</th>\n",
       "      <th>zip</th>\n",
       "      <th>lat</th>\n",
       "      <th>long</th>\n",
       "      <th>city_pop</th>\n",
       "      <th>unix_time</th>\n",
       "      <th>merch_lat</th>\n",
       "      <th>merch_long</th>\n",
       "      <th>is_fraud</th>\n",
       "    </tr>\n",
       "  </thead>\n",
       "  <tbody>\n",
       "    <tr>\n",
       "      <th>count</th>\n",
       "      <td>4.898900e+05</td>\n",
       "      <td>489890.000000</td>\n",
       "      <td>489890.000000</td>\n",
       "      <td>489890.000000</td>\n",
       "      <td>489890.000000</td>\n",
       "      <td>4.898900e+05</td>\n",
       "      <td>4.898900e+05</td>\n",
       "      <td>489890.000000</td>\n",
       "      <td>489890.000000</td>\n",
       "      <td>489890.0</td>\n",
       "    </tr>\n",
       "    <tr>\n",
       "      <th>mean</th>\n",
       "      <td>3.705768e+17</td>\n",
       "      <td>68.011761</td>\n",
       "      <td>50774.599002</td>\n",
       "      <td>37.931007</td>\n",
       "      <td>-90.497433</td>\n",
       "      <td>1.214979e+05</td>\n",
       "      <td>1.358738e+09</td>\n",
       "      <td>37.930024</td>\n",
       "      <td>-90.497190</td>\n",
       "      <td>0.0</td>\n",
       "    </tr>\n",
       "    <tr>\n",
       "      <th>std</th>\n",
       "      <td>1.260197e+18</td>\n",
       "      <td>157.926044</td>\n",
       "      <td>26854.938719</td>\n",
       "      <td>5.341229</td>\n",
       "      <td>12.991819</td>\n",
       "      <td>3.728133e+05</td>\n",
       "      <td>1.819332e+07</td>\n",
       "      <td>5.373078</td>\n",
       "      <td>13.005139</td>\n",
       "      <td>0.0</td>\n",
       "    </tr>\n",
       "    <tr>\n",
       "      <th>min</th>\n",
       "      <td>5.038744e+11</td>\n",
       "      <td>1.000000</td>\n",
       "      <td>1843.000000</td>\n",
       "      <td>24.655700</td>\n",
       "      <td>-122.345600</td>\n",
       "      <td>4.600000e+01</td>\n",
       "      <td>1.325376e+09</td>\n",
       "      <td>23.655789</td>\n",
       "      <td>-123.345106</td>\n",
       "      <td>0.0</td>\n",
       "    </tr>\n",
       "    <tr>\n",
       "      <th>25%</th>\n",
       "      <td>2.131124e+14</td>\n",
       "      <td>8.950000</td>\n",
       "      <td>28405.000000</td>\n",
       "      <td>33.746700</td>\n",
       "      <td>-97.235100</td>\n",
       "      <td>1.228000e+03</td>\n",
       "      <td>1.343104e+09</td>\n",
       "      <td>33.780872</td>\n",
       "      <td>-96.985554</td>\n",
       "      <td>0.0</td>\n",
       "    </tr>\n",
       "    <tr>\n",
       "      <th>50%</th>\n",
       "      <td>3.531130e+15</td>\n",
       "      <td>42.080000</td>\n",
       "      <td>49628.000000</td>\n",
       "      <td>38.507200</td>\n",
       "      <td>-87.591700</td>\n",
       "      <td>5.760000e+03</td>\n",
       "      <td>1.357258e+09</td>\n",
       "      <td>38.544135</td>\n",
       "      <td>-87.574118</td>\n",
       "      <td>0.0</td>\n",
       "    </tr>\n",
       "    <tr>\n",
       "      <th>75%</th>\n",
       "      <td>4.653879e+15</td>\n",
       "      <td>80.060000</td>\n",
       "      <td>75048.000000</td>\n",
       "      <td>41.520500</td>\n",
       "      <td>-80.731000</td>\n",
       "      <td>5.083500e+04</td>\n",
       "      <td>1.374638e+09</td>\n",
       "      <td>41.624159</td>\n",
       "      <td>-80.685961</td>\n",
       "      <td>0.0</td>\n",
       "    </tr>\n",
       "    <tr>\n",
       "      <th>max</th>\n",
       "      <td>4.956829e+18</td>\n",
       "      <td>25086.940000</td>\n",
       "      <td>99323.000000</td>\n",
       "      <td>48.887800</td>\n",
       "      <td>-69.965600</td>\n",
       "      <td>2.906700e+06</td>\n",
       "      <td>1.388534e+09</td>\n",
       "      <td>49.887523</td>\n",
       "      <td>-68.965624</td>\n",
       "      <td>0.0</td>\n",
       "    </tr>\n",
       "  </tbody>\n",
       "</table>\n",
       "</div>"
      ],
      "text/plain": [
       "             cc_num    paid_amount            zip            lat  \\\n",
       "count  4.898900e+05  489890.000000  489890.000000  489890.000000   \n",
       "mean   3.705768e+17      68.011761   50774.599002      37.931007   \n",
       "std    1.260197e+18     157.926044   26854.938719       5.341229   \n",
       "min    5.038744e+11       1.000000    1843.000000      24.655700   \n",
       "25%    2.131124e+14       8.950000   28405.000000      33.746700   \n",
       "50%    3.531130e+15      42.080000   49628.000000      38.507200   \n",
       "75%    4.653879e+15      80.060000   75048.000000      41.520500   \n",
       "max    4.956829e+18   25086.940000   99323.000000      48.887800   \n",
       "\n",
       "                long      city_pop     unix_time      merch_lat  \\\n",
       "count  489890.000000  4.898900e+05  4.898900e+05  489890.000000   \n",
       "mean      -90.497433  1.214979e+05  1.358738e+09      37.930024   \n",
       "std        12.991819  3.728133e+05  1.819332e+07       5.373078   \n",
       "min      -122.345600  4.600000e+01  1.325376e+09      23.655789   \n",
       "25%       -97.235100  1.228000e+03  1.343104e+09      33.780872   \n",
       "50%       -87.591700  5.760000e+03  1.357258e+09      38.544135   \n",
       "75%       -80.731000  5.083500e+04  1.374638e+09      41.624159   \n",
       "max       -69.965600  2.906700e+06  1.388534e+09      49.887523   \n",
       "\n",
       "          merch_long  is_fraud  \n",
       "count  489890.000000  489890.0  \n",
       "mean      -90.497190       0.0  \n",
       "std        13.005139       0.0  \n",
       "min      -123.345106       0.0  \n",
       "25%       -96.985554       0.0  \n",
       "50%       -87.574118       0.0  \n",
       "75%       -80.685961       0.0  \n",
       "max       -68.965624       0.0  "
      ]
     },
     "execution_count": 13,
     "metadata": {},
     "output_type": "execute_result"
    }
   ],
   "source": [
    "# 이상 거래가 아닌 데이터 통계량\n",
    "cc_non_target_df.describe()"
   ]
  },
  {
   "cell_type": "code",
   "execution_count": 14,
   "id": "82ae3d1c",
   "metadata": {},
   "outputs": [
    {
     "data": {
      "text/plain": [
       "409.94656699999996"
      ]
     },
     "execution_count": 14,
     "metadata": {},
     "output_type": "execute_result"
    }
   ],
   "source": [
    "477.958328 - 68.011761"
   ]
  },
  {
   "cell_type": "markdown",
   "id": "40537d27",
   "metadata": {},
   "source": [
    "### 눈에 띄는 특성\n",
    "1. 이상 거래 데이터와 정상 거래 데이터의 결제 금액(paid_amount)이 평균적으로 410 만큼 큰 차이(478 vs 68)가 난다.\n",
    "2. 두 데이터의 최댓값은 1372 vs 25087 로, 이상 거래의 경우 1372 값을 넘지 않음을 알 수 있다."
   ]
  },
  {
   "cell_type": "markdown",
   "id": "6d261885",
   "metadata": {},
   "source": [
    "### 분석 전략 : \n",
    "\n",
    "\n",
    "##### 앞으로 이상 거래 데이터와 정상 거래 데이터의 컬럼별 데이터 특성을 비교확인해 가며 이상 거래 데이터의 특징을 확인해본다."
   ]
  },
  {
   "cell_type": "markdown",
   "id": "fc672156",
   "metadata": {},
   "source": [
    "# 3-1. trans_date_trans_time   컬럼"
   ]
  },
  {
   "cell_type": "code",
   "execution_count": 15,
   "id": "71d5b0e5",
   "metadata": {},
   "outputs": [
    {
     "data": {
      "text/plain": [
       "4794      2019-01-12 00:59:01\n",
       "4816      2019-01-12 03:48:07\n",
       "4979      2019-01-12 15:46:10\n",
       "5073      2019-01-12 19:53:59\n",
       "5124      2019-01-12 22:44:05\n",
       "                 ...         \n",
       "477832    2020-12-21 02:21:41\n",
       "477847    2020-12-21 02:36:03\n",
       "479296    2020-12-21 22:38:38\n",
       "479305    2020-12-21 22:42:11\n",
       "479341    2020-12-21 22:59:22\n",
       "Name: trans_date_trans_time, Length: 1244, dtype: object"
      ]
     },
     "execution_count": 15,
     "metadata": {},
     "output_type": "execute_result"
    }
   ],
   "source": [
    "# 이상 거래 데이터의 trans_date_trans_time 컬럼 확인 \n",
    "cc_target_df['trans_date_trans_time'].sort_values()"
   ]
  },
  {
   "cell_type": "code",
   "execution_count": 16,
   "id": "4526c510",
   "metadata": {},
   "outputs": [
    {
     "data": {
      "text/plain": [
       "0         2019-01-01 00:00:44\n",
       "1         2019-01-01 00:12:34\n",
       "2         2019-01-01 00:17:16\n",
       "3         2019-01-01 00:20:15\n",
       "4         2019-01-01 00:23:41\n",
       "                 ...         \n",
       "491129    2020-12-31 23:56:48\n",
       "491130    2020-12-31 23:56:57\n",
       "491131    2020-12-31 23:59:09\n",
       "491132    2020-12-31 23:59:15\n",
       "491133    2020-12-31 23:59:34\n",
       "Name: trans_date_trans_time, Length: 489890, dtype: object"
      ]
     },
     "execution_count": 16,
     "metadata": {},
     "output_type": "execute_result"
    }
   ],
   "source": [
    "# 정상 거래 데이터의 trans_date_trans_time 컬럼 확인 \n",
    "cc_non_target_df['trans_date_trans_time'].sort_values()"
   ]
  },
  {
   "cell_type": "code",
   "execution_count": 17,
   "id": "5c38b95a",
   "metadata": {},
   "outputs": [
    {
     "name": "stderr",
     "output_type": "stream",
     "text": [
      "/tmp/ipykernel_432/1171581173.py:5: SettingWithCopyWarning: \n",
      "A value is trying to be set on a copy of a slice from a DataFrame.\n",
      "Try using .loc[row_indexer,col_indexer] = value instead\n",
      "\n",
      "See the caveats in the documentation: https://pandas.pydata.org/pandas-docs/stable/user_guide/indexing.html#returning-a-view-versus-a-copy\n",
      "  cc_target_df['trans_date_trans_time'] = pd.to_datetime(cc_target_df['trans_date_trans_time']).dt.date\n",
      "/tmp/ipykernel_432/1171581173.py:8: SettingWithCopyWarning: \n",
      "A value is trying to be set on a copy of a slice from a DataFrame.\n",
      "Try using .loc[row_indexer,col_indexer] = value instead\n",
      "\n",
      "See the caveats in the documentation: https://pandas.pydata.org/pandas-docs/stable/user_guide/indexing.html#returning-a-view-versus-a-copy\n",
      "  cc_non_target_df['trans_date_trans_time'] = pd.to_datetime(cc_non_target_df['trans_date_trans_time']).dt.date\n"
     ]
    }
   ],
   "source": [
    "# trans_date_trans_time 컬럼을 히스토그램으로 그냥 확인하면 커널이 죽게 됨\n",
    "# 데이터 타입으로 변경 후 연월일로만 확인\n",
    "\n",
    "# 이상 거래 데이터\n",
    "cc_target_df['trans_date_trans_time'] = pd.to_datetime(cc_target_df['trans_date_trans_time']).dt.date\n",
    "\n",
    "# 정상 거래 데이터\n",
    "cc_non_target_df['trans_date_trans_time'] = pd.to_datetime(cc_non_target_df['trans_date_trans_time']).dt.date"
   ]
  },
  {
   "cell_type": "code",
   "execution_count": 18,
   "id": "ef8a8099",
   "metadata": {},
   "outputs": [
    {
     "data": {
      "text/plain": [
       "<seaborn.axisgrid.FacetGrid at 0x7fd63e252d30>"
      ]
     },
     "execution_count": 18,
     "metadata": {},
     "output_type": "execute_result"
    },
    {
     "data": {
      "text/plain": [
       "<Figure size 864x432 with 0 Axes>"
      ]
     },
     "metadata": {},
     "output_type": "display_data"
    },
    {
     "data": {
      "image/png": "[encoded data removed]",
      "text/plain": [
       "<Figure size 864x432 with 1 Axes>"
      ]
     },
     "metadata": {
      "needs_background": "light"
     },
     "output_type": "display_data"
    }
   ],
   "source": [
    "# 히스토그램으로 비교\n",
    "\n",
    "# 이상 거래 데이터\n",
    "plt.figure(figsize=(12, 6))  # 전체 그래프의 크기 설정\n",
    "sns.displot(cc_target_df['trans_date_trans_time'], height=6, aspect=2)"
   ]
  },
  {
   "cell_type": "code",
   "execution_count": 19,
   "id": "e8ef8c63",
   "metadata": {},
   "outputs": [
    {
     "data": {
      "text/plain": [
       "<seaborn.axisgrid.FacetGrid at 0x7fd63c3ebcd0>"
      ]
     },
     "execution_count": 19,
     "metadata": {},
     "output_type": "execute_result"
    },
    {
     "data": {
      "text/plain": [
       "<Figure size 864x432 with 0 Axes>"
      ]
     },
     "metadata": {},
     "output_type": "display_data"
    },
    {
     "data": {
      "image/png": "[encoded data removed]",
      "text/plain": [
       "<Figure size 864x432 with 1 Axes>"
      ]
     },
     "metadata": {
      "needs_background": "light"
     },
     "output_type": "display_data"
    }
   ],
   "source": [
    "# 정상 거래 데이터\n",
    "plt.figure(figsize=(12, 6))\n",
    "sns.displot(cc_non_target_df['trans_date_trans_time'], height=6, aspect=2)"
   ]
  },
  {
   "cell_type": "markdown",
   "id": "2c1d8fb8",
   "metadata": {},
   "source": [
    "### Insight\n",
    "1. 정상 거래 데이터는 연말에 고점을 찍는 계절성을 보이는 반면, 이상 거래 데이터는 비교적 전체적으로 고른 분포를 보인다.\n",
    "2. 이 경우 이상 거래 발생일은 특정한 패턴이 없이 Random 한 것으로 종속변수인 이상 거래 발생과 독립적이라고 할 수 있다.\n",
    "3. 따라서 예측 모델링에 날짜 데이터를 삭제하기로 한다."
   ]
  },
  {
   "cell_type": "code",
   "execution_count": 20,
   "id": "38b11a3c",
   "metadata": {},
   "outputs": [
    {
     "name": "stderr",
     "output_type": "stream",
     "text": [
      "/opt/conda/lib/python3.9/site-packages/pandas/core/frame.py:4906: SettingWithCopyWarning: \n",
      "A value is trying to be set on a copy of a slice from a DataFrame\n",
      "\n",
      "See the caveats in the documentation: https://pandas.pydata.org/pandas-docs/stable/user_guide/indexing.html#returning-a-view-versus-a-copy\n",
      "  return super().drop(\n"
     ]
    }
   ],
   "source": [
    "# trans_date_trans_time 컬럼 삭제\n",
    "cc_target_df.drop(['trans_date_trans_time'], axis = 1, inplace = True)\n",
    "cc_non_target_df.drop(['trans_date_trans_time'], axis = 1, inplace = True)"
   ]
  },
  {
   "cell_type": "markdown",
   "id": "7732bf01",
   "metadata": {},
   "source": [
    "# 3-2. cc_num 컬럼 (credit card number)"
   ]
  },
  {
   "cell_type": "code",
   "execution_count": 21,
   "id": "0a18e01b",
   "metadata": {
    "scrolled": true
   },
   "outputs": [
    {
     "data": {
      "text/plain": [
       "6538441737335434    18\n",
       "3589289942931264    16\n",
       "3576021480694169    16\n",
       "213112402583773     16\n",
       "3518669219150142    16\n",
       "                    ..\n",
       "4908846471916297     3\n",
       "3576431665303017     2\n",
       "6011109736646996     2\n",
       "3518234918950662     2\n",
       "6011893664860915     2\n",
       "Name: cc_num, Length: 122, dtype: int64"
      ]
     },
     "execution_count": 21,
     "metadata": {},
     "output_type": "execute_result"
    }
   ],
   "source": [
    "# 이상 거래 데이터의 cc_num 컬럼 확인 \n",
    "cc_target_df['cc_num'].value_counts()"
   ]
  },
  {
   "cell_type": "code",
   "execution_count": 22,
   "id": "90ea4a06",
   "metadata": {},
   "outputs": [
    {
     "data": {
      "text/plain": [
       "10.19672131147541"
      ]
     },
     "execution_count": 22,
     "metadata": {},
     "output_type": "execute_result"
    }
   ],
   "source": [
    "cc_target_df['cc_num'].value_counts().mean()"
   ]
  },
  {
   "cell_type": "code",
   "execution_count": 23,
   "id": "16255ab3",
   "metadata": {
    "scrolled": true
   },
   "outputs": [
    {
     "data": {
      "text/plain": [
       "3.8690109019886925"
      ]
     },
     "execution_count": 23,
     "metadata": {},
     "output_type": "execute_result"
    }
   ],
   "source": [
    "cc_target_df['cc_num'].value_counts().std()"
   ]
  },
  {
   "cell_type": "markdown",
   "id": "35bd73c5",
   "metadata": {},
   "source": [
    "- 122 개의 신용카드가 평균적으로 10 회에 걸쳐 이상 거래에 사용되었다."
   ]
  },
  {
   "cell_type": "code",
   "execution_count": 24,
   "id": "d3b6cdbc",
   "metadata": {},
   "outputs": [
    {
     "data": {
      "text/plain": [
       "3583635130604947    4380\n",
       "6011367958204270    4380\n",
       "30270432095985      4377\n",
       "36722699017270      4376\n",
       "180094419304907     4374\n",
       "                    ... \n",
       "371226440126102     3631\n",
       "3500969075198072    3631\n",
       "213157767990030     3629\n",
       "4005676619255478    3628\n",
       "3511378610369890    3617\n",
       "Name: cc_num, Length: 124, dtype: int64"
      ]
     },
     "execution_count": 24,
     "metadata": {},
     "output_type": "execute_result"
    }
   ],
   "source": [
    "# 정상 거래 데이터의 cc_num 컬럼 확인 \n",
    "cc_non_target_df['cc_num'].value_counts()"
   ]
  },
  {
   "cell_type": "code",
   "execution_count": 25,
   "id": "d2703456",
   "metadata": {},
   "outputs": [
    {
     "data": {
      "text/plain": [
       "3950.7258064516127"
      ]
     },
     "execution_count": 25,
     "metadata": {},
     "output_type": "execute_result"
    }
   ],
   "source": [
    "cc_non_target_df['cc_num'].value_counts().mean()"
   ]
  },
  {
   "cell_type": "code",
   "execution_count": 26,
   "id": "8f91d211",
   "metadata": {},
   "outputs": [
    {
     "data": {
      "text/plain": [
       "361.69082019027445"
      ]
     },
     "execution_count": 26,
     "metadata": {},
     "output_type": "execute_result"
    }
   ],
   "source": [
    "cc_non_target_df['cc_num'].value_counts().std()"
   ]
  },
  {
   "cell_type": "markdown",
   "id": "d62bd025",
   "metadata": {},
   "source": [
    "- 정상 거래 데이터의 경우 124개의 신용카드가 평균적으로 3950 회 거래에 사용되었다"
   ]
  },
  {
   "cell_type": "code",
   "execution_count": 27,
   "id": "98bba2f1",
   "metadata": {},
   "outputs": [
    {
     "data": {
      "text/html": [
       "<div>\n",
       "<style scoped>\n",
       "    .dataframe tbody tr th:only-of-type {\n",
       "        vertical-align: middle;\n",
       "    }\n",
       "\n",
       "    .dataframe tbody tr th {\n",
       "        vertical-align: top;\n",
       "    }\n",
       "\n",
       "    .dataframe thead th {\n",
       "        text-align: right;\n",
       "    }\n",
       "</style>\n",
       "<table border=\"1\" class=\"dataframe\">\n",
       "  <thead>\n",
       "    <tr style=\"text-align: right;\">\n",
       "      <th></th>\n",
       "      <th>cc_num</th>\n",
       "      <th>is_fraud_x</th>\n",
       "      <th>is_fraud_y</th>\n",
       "    </tr>\n",
       "  </thead>\n",
       "  <tbody>\n",
       "    <tr>\n",
       "      <th>0</th>\n",
       "      <td>581686439828</td>\n",
       "      <td>1</td>\n",
       "      <td>0</td>\n",
       "    </tr>\n",
       "    <tr>\n",
       "      <th>1</th>\n",
       "      <td>581686439828</td>\n",
       "      <td>1</td>\n",
       "      <td>0</td>\n",
       "    </tr>\n",
       "    <tr>\n",
       "      <th>2</th>\n",
       "      <td>581686439828</td>\n",
       "      <td>1</td>\n",
       "      <td>0</td>\n",
       "    </tr>\n",
       "    <tr>\n",
       "      <th>3</th>\n",
       "      <td>581686439828</td>\n",
       "      <td>1</td>\n",
       "      <td>0</td>\n",
       "    </tr>\n",
       "    <tr>\n",
       "      <th>4</th>\n",
       "      <td>581686439828</td>\n",
       "      <td>1</td>\n",
       "      <td>0</td>\n",
       "    </tr>\n",
       "    <tr>\n",
       "      <th>...</th>\n",
       "      <td>...</td>\n",
       "      <td>...</td>\n",
       "      <td>...</td>\n",
       "    </tr>\n",
       "    <tr>\n",
       "      <th>4889593</th>\n",
       "      <td>4716561796955522</td>\n",
       "      <td>1</td>\n",
       "      <td>0</td>\n",
       "    </tr>\n",
       "    <tr>\n",
       "      <th>4889594</th>\n",
       "      <td>4716561796955522</td>\n",
       "      <td>1</td>\n",
       "      <td>0</td>\n",
       "    </tr>\n",
       "    <tr>\n",
       "      <th>4889595</th>\n",
       "      <td>4716561796955522</td>\n",
       "      <td>1</td>\n",
       "      <td>0</td>\n",
       "    </tr>\n",
       "    <tr>\n",
       "      <th>4889596</th>\n",
       "      <td>4716561796955522</td>\n",
       "      <td>1</td>\n",
       "      <td>0</td>\n",
       "    </tr>\n",
       "    <tr>\n",
       "      <th>4889597</th>\n",
       "      <td>4716561796955522</td>\n",
       "      <td>1</td>\n",
       "      <td>0</td>\n",
       "    </tr>\n",
       "  </tbody>\n",
       "</table>\n",
       "<p>4889598 rows × 3 columns</p>\n",
       "</div>"
      ],
      "text/plain": [
       "                   cc_num  is_fraud_x  is_fraud_y\n",
       "0            581686439828           1           0\n",
       "1            581686439828           1           0\n",
       "2            581686439828           1           0\n",
       "3            581686439828           1           0\n",
       "4            581686439828           1           0\n",
       "...                   ...         ...         ...\n",
       "4889593  4716561796955522           1           0\n",
       "4889594  4716561796955522           1           0\n",
       "4889595  4716561796955522           1           0\n",
       "4889596  4716561796955522           1           0\n",
       "4889597  4716561796955522           1           0\n",
       "\n",
       "[4889598 rows x 3 columns]"
      ]
     },
     "execution_count": 27,
     "metadata": {},
     "output_type": "execute_result"
    }
   ],
   "source": [
    "# 이상 거래와 정상 거래에 중복으로 사용된 카드가 있는지 확인해본다.\n",
    "cc_target_df[['cc_num', 'is_fraud']].merge(cc_non_target_df[['cc_num', 'is_fraud']], on = 'cc_num', how = 'inner')"
   ]
  },
  {
   "cell_type": "markdown",
   "id": "0663c225",
   "metadata": {},
   "source": [
    "- 결과를 보면 대부분의 카드가 정상 거래, 이상 거래에 같이 사용되었음을 알 수 있다.\n",
    "- 해당 데이터셋은 현실을 최대한 반영하며 만든 허구 데이터이기 때문에 큰 의미를 두지 않고 탐색을 진행하기로 한다."
   ]
  },
  {
   "cell_type": "markdown",
   "id": "a450ba66",
   "metadata": {},
   "source": [
    "# 3-3. merchant 컬럼"
   ]
  },
  {
   "cell_type": "code",
   "execution_count": 28,
   "id": "a9846ed1",
   "metadata": {},
   "outputs": [
    {
     "name": "stderr",
     "output_type": "stream",
     "text": [
      "/tmp/ipykernel_432/991990541.py:2: SettingWithCopyWarning: \n",
      "A value is trying to be set on a copy of a slice from a DataFrame.\n",
      "Try using .loc[row_indexer,col_indexer] = value instead\n",
      "\n",
      "See the caveats in the documentation: https://pandas.pydata.org/pandas-docs/stable/user_guide/indexing.html#returning-a-view-versus-a-copy\n",
      "  cc_target_df['merchant'] = cc_target_df['merchant'].str.replace('fraud_', '')\n",
      "/tmp/ipykernel_432/991990541.py:3: SettingWithCopyWarning: \n",
      "A value is trying to be set on a copy of a slice from a DataFrame.\n",
      "Try using .loc[row_indexer,col_indexer] = value instead\n",
      "\n",
      "See the caveats in the documentation: https://pandas.pydata.org/pandas-docs/stable/user_guide/indexing.html#returning-a-view-versus-a-copy\n",
      "  cc_non_target_df['merchant'] = cc_non_target_df['merchant'].str.replace('fraud_', '')\n"
     ]
    }
   ],
   "source": [
    "# merchant 컬럼 안의 'fraud_' 문자열 제거\n",
    "cc_target_df['merchant'] = cc_target_df['merchant'].str.replace('fraud_', '')\n",
    "cc_non_target_df['merchant'] = cc_non_target_df['merchant'].str.replace('fraud_', '')"
   ]
  },
  {
   "cell_type": "code",
   "execution_count": 29,
   "id": "02903b04",
   "metadata": {
    "scrolled": true
   },
   "outputs": [
    {
     "data": {
      "text/plain": [
       "Moen, Reinger and Murphy           11\n",
       "Gottlieb, Considine and Schultz     9\n",
       "Kilback LLC                         9\n",
       "Hudson-Ratke                        9\n",
       "Langworth, Boehm and Gulgowski      9\n",
       "                                   ..\n",
       "Dare-Marvin                         1\n",
       "Rolfson-Kunde                       1\n",
       "Harber Inc                          1\n",
       "Hyatt, Russel and Gleichner         1\n",
       "Quitzon-Goyette                     1\n",
       "Name: merchant, Length: 497, dtype: int64"
      ]
     },
     "execution_count": 29,
     "metadata": {},
     "output_type": "execute_result"
    }
   ],
   "source": [
    "# 이상 거래 데이터의 merchant 컬럼 확인 \n",
    "cc_target_df['merchant'].value_counts()"
   ]
  },
  {
   "cell_type": "code",
   "execution_count": 30,
   "id": "a57e479d",
   "metadata": {},
   "outputs": [
    {
     "data": {
      "text/plain": [
       "2.5030181086519114"
      ]
     },
     "execution_count": 30,
     "metadata": {},
     "output_type": "execute_result"
    }
   ],
   "source": [
    "cc_target_df['merchant'].value_counts().mean()"
   ]
  },
  {
   "cell_type": "code",
   "execution_count": 31,
   "id": "75ccb4e0",
   "metadata": {
    "scrolled": true
   },
   "outputs": [
    {
     "data": {
      "text/plain": [
       "1.7894434353002493"
      ]
     },
     "execution_count": 31,
     "metadata": {},
     "output_type": "execute_result"
    }
   ],
   "source": [
    "cc_target_df['merchant'].value_counts().std()"
   ]
  },
  {
   "cell_type": "markdown",
   "id": "bd770e2f",
   "metadata": {},
   "source": [
    "- 이상 거래에 포함된 사업주는 497명이 되고, 인당 평균 2.5회의 이상 거래가 이루어졌다."
   ]
  },
  {
   "cell_type": "code",
   "execution_count": 32,
   "id": "496fbf24",
   "metadata": {},
   "outputs": [
    {
     "data": {
      "text/plain": [
       "Kilback LLC                      1593\n",
       "Cormier LLC                      1451\n",
       "Kuhn LLC                         1439\n",
       "Schumm PLC                       1387\n",
       "Boyer PLC                        1368\n",
       "                                 ... \n",
       "Douglas, DuBuque and McKenzie     228\n",
       "Little-Gleichner                  227\n",
       "Satterfield-Lowe                  226\n",
       "Reichert-Weissnat                 226\n",
       "Jerde-Hermann                     226\n",
       "Name: merchant, Length: 693, dtype: int64"
      ]
     },
     "execution_count": 32,
     "metadata": {},
     "output_type": "execute_result"
    }
   ],
   "source": [
    "# 정상 거래 데이터의 merchant 컬럼 확인 \n",
    "cc_non_target_df['merchant'].value_counts()"
   ]
  },
  {
   "cell_type": "code",
   "execution_count": 33,
   "id": "dae762c2",
   "metadata": {},
   "outputs": [
    {
     "data": {
      "text/plain": [
       "706.9119769119769"
      ]
     },
     "execution_count": 33,
     "metadata": {},
     "output_type": "execute_result"
    }
   ],
   "source": [
    "cc_non_target_df['merchant'].value_counts().mean()"
   ]
  },
  {
   "cell_type": "code",
   "execution_count": 34,
   "id": "0fb12c12",
   "metadata": {
    "scrolled": true
   },
   "outputs": [
    {
     "data": {
      "text/plain": [
       "198.50999025031123"
      ]
     },
     "execution_count": 34,
     "metadata": {},
     "output_type": "execute_result"
    }
   ],
   "source": [
    "cc_non_target_df['merchant'].value_counts().std()"
   ]
  },
  {
   "cell_type": "markdown",
   "id": "25aff4cd",
   "metadata": {},
   "source": [
    "- 정상 거래는 총 693 명의 사업주에게서 평균 706회의 정상 거래가 이루어졌다."
   ]
  },
  {
   "cell_type": "markdown",
   "id": "b292c17d",
   "metadata": {},
   "source": [
    "# 3-4. category 컬럼"
   ]
  },
  {
   "cell_type": "markdown",
   "id": "75086f39",
   "metadata": {},
   "source": [
    "- category 종류에 따른 이상 거래 비율을 찾아본다."
   ]
  },
  {
   "cell_type": "code",
   "execution_count": 35,
   "id": "e1d6d68e",
   "metadata": {},
   "outputs": [
    {
     "data": {
      "text/plain": [
       "grocery_net       0.000327\n",
       "health_fitness    0.001273\n",
       "entertainment     0.001576\n",
       "personal_care     0.001633\n",
       "home              0.001661\n",
       "kids_pets         0.001688\n",
       "food_dining       0.001723\n",
       "misc_pos          0.001759\n",
       "travel            0.001902\n",
       "gas_transport     0.002194\n",
       "shopping_pos      0.002772\n",
       "misc_net          0.004329\n",
       "grocery_pos       0.005056\n",
       "shopping_net      0.006177\n",
       "Name: FN_ratio_category, dtype: float64"
      ]
     },
     "execution_count": 35,
     "metadata": {},
     "output_type": "execute_result"
    }
   ],
   "source": [
    "# 이상 거래 데이터\n",
    "fraud_category = cc_target_df['category'].value_counts()\n",
    "fraud_category = pd.DataFrame(fraud_category)\n",
    "non_fraud_category = cc_non_target_df['category'].value_counts()\n",
    "non_fraud_category = pd.DataFrame(non_fraud_category)\n",
    "\n",
    "# join 을 사용하여 인덱스 category 을 기준으로 inner join 한다.\n",
    "category_joined_df = fraud_category.join(non_fraud_category, lsuffix = '_f', rsuffix = '_n')\n",
    "\n",
    "# 이상 거래 비율을 FN_ratio_category 컬럼에 저장\n",
    "category_joined_df['FN_ratio_category'] = category_joined_df['category_f'] / (category_joined_df['category_f'] \n",
    "                                                                              + category_joined_df['category_n'])\n",
    "\n",
    "# 이상 거래 비율을 정렬\n",
    "category_joined_df['FN_ratio_category'].sort_values()"
   ]
  },
  {
   "cell_type": "markdown",
   "id": "f097516f",
   "metadata": {},
   "source": [
    "## Insight\n",
    "- 총 14개의 카테고리별 소비 유형에서 shopping_net, grocery_pos, misc_net 의 이상 거래 비율이 높게 나오고, grocery_net, health_fitness이 낮은 이상 거래 비율을 보였다.\n",
    "- 유형별 사기 거래 비율 FN_ratio_category 컬럼을 category 컬럼과 join 하여 예측 모델링에 가중치로 활용해보기로 한다."
   ]
  },
  {
   "cell_type": "code",
   "execution_count": 36,
   "id": "ea16614a",
   "metadata": {},
   "outputs": [
    {
     "data": {
      "text/plain": [
       "0    2.194269\n",
       "1    5.055943\n",
       "2    1.723180\n",
       "3    6.176778\n",
       "4    6.176778\n",
       "Name: FN_ratio_category, dtype: float64"
      ]
     },
     "execution_count": 36,
     "metadata": {},
     "output_type": "execute_result"
    }
   ],
   "source": [
    "# 곱하기 1000 값을 추후 주별 가중치로 활용한다\n",
    "category_joined_df['FN_ratio_category'] = category_joined_df['FN_ratio_category'] * 1000\n",
    "\n",
    "# FN_ratio_category 컬럼 외 제거\n",
    "category_joined_df = pd.DataFrame(category_joined_df['FN_ratio_category'])\n",
    "\n",
    "# join 을 위한 category 컬럼 재설정\n",
    "category_joined_df.reset_index(inplace = True)\n",
    "category_joined_df = category_joined_df.rename({'index': 'category'}, axis = 1)\n",
    "\n",
    "# merge 를 사용하여 category 를 기준으로 조인\n",
    "cc_target_df = cc_target_df.merge(category_joined_df, on = 'category', how = 'left')\n",
    "cc_non_target_df = cc_non_target_df.merge(category_joined_df, on = 'category', how = 'left')\n",
    "\n",
    "# 확인\n",
    "cc_target_df['FN_ratio_category'].head()"
   ]
  },
  {
   "cell_type": "code",
   "execution_count": 37,
   "id": "b035e7b8",
   "metadata": {
    "scrolled": false
   },
   "outputs": [
    {
     "data": {
      "image/png": "[encoded data removed]",
      "text/plain": [
       "<Figure size 432x288 with 1 Axes>"
      ]
     },
     "metadata": {
      "needs_background": "light"
     },
     "output_type": "display_data"
    }
   ],
   "source": [
    "# 시각화로 확인\n",
    "\n",
    "# 시각화를 위한 정렬\n",
    "his_data = category_joined_df.sort_values(by = 'FN_ratio_category')\n",
    "\n",
    "# 선 그리기\n",
    "plt.plot(his_data['category'], his_data['FN_ratio_category'])\n",
    "\n",
    "# 그래프에 제목과 라벨 추가\n",
    "plt.title('Fraud Ratio by Categories')\n",
    "plt.xlabel('Categories')\n",
    "plt.ylabel('Adjusted_Fraud_Ratio')\n",
    "\n",
    "# x 축 눈금을 45도로 회전\n",
    "plt.xticks(rotation=45)\n",
    "\n",
    "# 그래프 표시\n",
    "plt.show()"
   ]
  },
  {
   "cell_type": "markdown",
   "id": "83a9efee",
   "metadata": {},
   "source": [
    "- 히스토그램 분포 비교는 별 의미가 없어 보인다."
   ]
  },
  {
   "cell_type": "markdown",
   "id": "15def836",
   "metadata": {},
   "source": [
    "# 3-5. paid_amount 컬럼"
   ]
  },
  {
   "cell_type": "code",
   "execution_count": 38,
   "id": "600de505",
   "metadata": {},
   "outputs": [
    {
     "data": {
      "text/plain": [
       "219       6.38\n",
       "840       6.44\n",
       "962       6.67\n",
       "389       6.69\n",
       "229       6.70\n",
       "        ...   \n",
       "836    1253.93\n",
       "263    1262.19\n",
       "856    1276.77\n",
       "49     1334.07\n",
       "407    1371.81\n",
       "Name: paid_amount, Length: 1244, dtype: float64"
      ]
     },
     "execution_count": 38,
     "metadata": {},
     "output_type": "execute_result"
    }
   ],
   "source": [
    "# 이상 거래 데이터의 paid_amount 컬럼 확인 \n",
    "cc_target_df['paid_amount'].sort_values()"
   ]
  },
  {
   "cell_type": "code",
   "execution_count": 39,
   "id": "c4547c4f",
   "metadata": {},
   "outputs": [
    {
     "data": {
      "text/plain": [
       "477.95832797427653"
      ]
     },
     "execution_count": 39,
     "metadata": {},
     "output_type": "execute_result"
    }
   ],
   "source": [
    "cc_target_df['paid_amount'].sort_values().mean()"
   ]
  },
  {
   "cell_type": "code",
   "execution_count": 40,
   "id": "495feab7",
   "metadata": {
    "scrolled": true
   },
   "outputs": [
    {
     "data": {
      "text/plain": [
       "398.22948515674693"
      ]
     },
     "execution_count": 40,
     "metadata": {},
     "output_type": "execute_result"
    }
   ],
   "source": [
    "cc_target_df['paid_amount'].sort_values().std()"
   ]
  },
  {
   "cell_type": "markdown",
   "id": "e4caf3a1",
   "metadata": {},
   "source": [
    "- 이상 거래 데이터에서 평균 478, 표준편차 398 만큼의 거래액이 발생하였다."
   ]
  },
  {
   "cell_type": "code",
   "execution_count": 41,
   "id": "2e6c8ace",
   "metadata": {},
   "outputs": [
    {
     "data": {
      "text/plain": [
       "18781         1.00\n",
       "261938        1.00\n",
       "228540        1.00\n",
       "164870        1.00\n",
       "427936        1.00\n",
       "            ...   \n",
       "43242     14630.68\n",
       "198188    15047.03\n",
       "408905    16837.08\n",
       "49266     17897.24\n",
       "92689     25086.94\n",
       "Name: paid_amount, Length: 489890, dtype: float64"
      ]
     },
     "execution_count": 41,
     "metadata": {},
     "output_type": "execute_result"
    }
   ],
   "source": [
    "# 정상 거래 데이터의 paid_amount 컬럼 확인 \n",
    "cc_non_target_df['paid_amount'].sort_values()"
   ]
  },
  {
   "cell_type": "code",
   "execution_count": 42,
   "id": "2cc32f4d",
   "metadata": {},
   "outputs": [
    {
     "data": {
      "text/plain": [
       "68.0117611300496"
      ]
     },
     "execution_count": 42,
     "metadata": {},
     "output_type": "execute_result"
    }
   ],
   "source": [
    "cc_non_target_df['paid_amount'].sort_values().mean()"
   ]
  },
  {
   "cell_type": "code",
   "execution_count": 43,
   "id": "bbad9b79",
   "metadata": {
    "scrolled": true
   },
   "outputs": [
    {
     "data": {
      "text/plain": [
       "157.92604394643888"
      ]
     },
     "execution_count": 43,
     "metadata": {},
     "output_type": "execute_result"
    }
   ],
   "source": [
    "cc_non_target_df['paid_amount'].sort_values().std()"
   ]
  },
  {
   "cell_type": "markdown",
   "id": "28fee61b",
   "metadata": {},
   "source": [
    "- 정상 거래 데이터에서 평균 68, 표준편차 158 만큼의 거래액이 발생하였다."
   ]
  },
  {
   "cell_type": "code",
   "execution_count": 44,
   "id": "58266935",
   "metadata": {},
   "outputs": [
    {
     "data": {
      "text/plain": [
       "<AxesSubplot:ylabel='paid_amount'>"
      ]
     },
     "execution_count": 44,
     "metadata": {},
     "output_type": "execute_result"
    },
    {
     "data": {
      "image/png": "[encoded data removed]",
      "text/plain": [
       "<Figure size 864x432 with 1 Axes>"
      ]
     },
     "metadata": {
      "needs_background": "light"
     },
     "output_type": "display_data"
    }
   ],
   "source": [
    "# 산점도로 확인\n",
    "\n",
    "# 이상 거래 데이터\n",
    "plt.figure(figsize=(12, 6))\n",
    "sns.scatterplot(x = cc_target_df.index, y = cc_target_df['paid_amount'])"
   ]
  },
  {
   "cell_type": "code",
   "execution_count": 45,
   "id": "a5e9f1ee",
   "metadata": {},
   "outputs": [
    {
     "data": {
      "text/plain": [
       "<AxesSubplot:ylabel='paid_amount'>"
      ]
     },
     "execution_count": 45,
     "metadata": {},
     "output_type": "execute_result"
    },
    {
     "data": {
      "image/png": "[encoded data removed]",
      "text/plain": [
       "<Figure size 864x432 with 1 Axes>"
      ]
     },
     "metadata": {
      "needs_background": "light"
     },
     "output_type": "display_data"
    }
   ],
   "source": [
    "# 정상 거래 데이터\n",
    "plt.figure(figsize=(12, 6))\n",
    "sns.scatterplot(x = cc_non_target_df.index, y = cc_non_target_df['paid_amount'])"
   ]
  },
  {
   "cell_type": "markdown",
   "id": "f16d9a86",
   "metadata": {},
   "source": [
    "- 산점도를 보면 이상 거래가 정상 거래에 비해 range 가 1400 을 넘지 않는 것으로 나타난다.\n",
    "- 매우 큰 금액으로 이상 거래가 이루어지지는 않았음을 알 수 있다."
   ]
  },
  {
   "cell_type": "markdown",
   "id": "685ac833",
   "metadata": {},
   "source": [
    "# 3-6. first, last 컬럼"
   ]
  },
  {
   "cell_type": "code",
   "execution_count": 46,
   "id": "ac9d2617",
   "metadata": {
    "scrolled": false
   },
   "outputs": [],
   "source": [
    "# first, last 컬럼을 합쳐 해당 카드의 소유자(거래의 당사자)의 전체 이름을 holder_name 의 컬럼으로 대체하기로 한다.\n",
    "cc_target_df['holder_name'] = cc_target_df['first']+ ' ' + cc_target_df['last']\n",
    "cc_non_target_df['holder_name'] = cc_non_target_df['first']+ ' ' + cc_non_target_df['last']\n",
    "\n",
    "# first, last 컬럼은 삭제\n",
    "cc_target_df.drop(['first','last'], axis = 1, inplace = True)\n",
    "cc_non_target_df.drop(['first','last'], axis = 1, inplace = True)"
   ]
  },
  {
   "cell_type": "code",
   "execution_count": 47,
   "id": "b957616c",
   "metadata": {
    "scrolled": true
   },
   "outputs": [
    {
     "data": {
      "text/plain": [
       "Gina Grimes         18\n",
       "Paula Estrada       16\n",
       "Dawn Gray           16\n",
       "Ana Howell          16\n",
       "Dorothy Thomas      16\n",
       "                    ..\n",
       "Lauren Torres        3\n",
       "Jessica Ward         2\n",
       "Rebecca Erickson     2\n",
       "Barbara Lowe         2\n",
       "Erin Chavez          2\n",
       "Name: holder_name, Length: 122, dtype: int64"
      ]
     },
     "execution_count": 47,
     "metadata": {},
     "output_type": "execute_result"
    }
   ],
   "source": [
    "# 이상 거래 데이터\n",
    "cc_target_df['holder_name'].value_counts()"
   ]
  },
  {
   "cell_type": "code",
   "execution_count": 48,
   "id": "6a96b52b",
   "metadata": {},
   "outputs": [
    {
     "data": {
      "text/plain": [
       "10.19672131147541"
      ]
     },
     "execution_count": 48,
     "metadata": {},
     "output_type": "execute_result"
    }
   ],
   "source": [
    "cc_target_df['holder_name'].value_counts().mean()"
   ]
  },
  {
   "cell_type": "code",
   "execution_count": 49,
   "id": "5d87a3af",
   "metadata": {
    "scrolled": true
   },
   "outputs": [
    {
     "data": {
      "text/plain": [
       "Crystal Gamble     4380\n",
       "Tammy Ayers        4380\n",
       "Lisa Lin           4377\n",
       "Jessica Perez      4376\n",
       "Sharon Smith       4374\n",
       "                   ... \n",
       "Stacy Lambert      3631\n",
       "Kenneth Sanchez    3631\n",
       "Tara Campbell      3629\n",
       "William Perry      3628\n",
       "James Cooper       3617\n",
       "Name: holder_name, Length: 124, dtype: int64"
      ]
     },
     "execution_count": 49,
     "metadata": {},
     "output_type": "execute_result"
    }
   ],
   "source": [
    "# 정상 거래 데이터\n",
    "cc_non_target_df['holder_name'].value_counts()"
   ]
  },
  {
   "cell_type": "code",
   "execution_count": 50,
   "id": "6f19824c",
   "metadata": {},
   "outputs": [
    {
     "data": {
      "text/plain": [
       "3950.7258064516127"
      ]
     },
     "execution_count": 50,
     "metadata": {},
     "output_type": "execute_result"
    }
   ],
   "source": [
    "cc_non_target_df['holder_name'].value_counts().mean()"
   ]
  },
  {
   "cell_type": "markdown",
   "id": "5ce31b08",
   "metadata": {},
   "source": [
    "- 이상 거래의 경우 122명의 카드 소유자가 평균 10회에 걸쳐 사기 거래를 하였고, 정상 거래의 경우 124명의 카드 소유자가 평균 3950회에 걸쳐 정상적인 거래를 하였다.\n",
    "- 앞서 신용 카드 번호에 따른 이상 거래, 정상 거래 중복 여부를 확인했을 때 대부분의 신용카드가 이에 해당함을 확인하였다. 카드 번호는 곧 카드 소유자 명과 일치하기 때문에, 대부분의 카드 소유자 또한 이상거래와 정상거래가 중복된 결과가 나올 것임을 알 수 있다."
   ]
  },
  {
   "cell_type": "markdown",
   "id": "363c84f6",
   "metadata": {},
   "source": [
    "# 3-7. gender 컬럼"
   ]
  },
  {
   "cell_type": "code",
   "execution_count": 51,
   "id": "6e5188c0",
   "metadata": {
    "scrolled": true
   },
   "outputs": [
    {
     "data": {
      "text/plain": [
       "F    848\n",
       "M    396\n",
       "Name: gender, dtype: int64"
      ]
     },
     "execution_count": 51,
     "metadata": {},
     "output_type": "execute_result"
    }
   ],
   "source": [
    "# 성별에 따른 이상 거래, 정상 거래의 비율을 비교할 수 있다.\n",
    "\n",
    "# 이상 거래 데이터의 gender 컬럼 확인 \n",
    "cc_target_df['gender'].value_counts()"
   ]
  },
  {
   "cell_type": "code",
   "execution_count": 52,
   "id": "5d298471",
   "metadata": {
    "scrolled": true
   },
   "outputs": [
    {
     "data": {
      "text/plain": [
       "F    351597\n",
       "M    138293\n",
       "Name: gender, dtype: int64"
      ]
     },
     "execution_count": 52,
     "metadata": {},
     "output_type": "execute_result"
    }
   ],
   "source": [
    "# 정상 거래 데이터의 gender 컬럼 확인 \n",
    "cc_non_target_df['gender'].value_counts()"
   ]
  },
  {
   "cell_type": "code",
   "execution_count": 53,
   "id": "e410a21a",
   "metadata": {},
   "outputs": [
    {
     "data": {
      "text/plain": [
       "0.7177060156361632"
      ]
     },
     "execution_count": 53,
     "metadata": {},
     "output_type": "execute_result"
    }
   ],
   "source": [
    "351597 / (351597 + 138293)"
   ]
  },
  {
   "cell_type": "markdown",
   "id": "55f7f8c6",
   "metadata": {},
   "source": [
    "- 이상 거래의 경우 여/남 비율이 약 68%, 정상 거래의 경우 약 72% 로 여성의 비율이 높았다."
   ]
  },
  {
   "cell_type": "code",
   "execution_count": 54,
   "id": "7765afa2",
   "metadata": {
    "scrolled": false
   },
   "outputs": [
    {
     "data": {
      "text/plain": [
       "<seaborn.axisgrid.FacetGrid at 0x7fd632601ee0>"
      ]
     },
     "execution_count": 54,
     "metadata": {},
     "output_type": "execute_result"
    },
    {
     "data": {
      "text/plain": [
       "<Figure size 432x432 with 0 Axes>"
      ]
     },
     "metadata": {},
     "output_type": "display_data"
    },
    {
     "data": {
      "image/png": "[encoded data removed]",
      "text/plain": [
       "<Figure size 864x432 with 1 Axes>"
      ]
     },
     "metadata": {
      "needs_background": "light"
     },
     "output_type": "display_data"
    }
   ],
   "source": [
    "# 히스토그램으로 비교\n",
    "\n",
    "# 이상 거래 데이터\n",
    "plt.figure(figsize=(6, 6))  \n",
    "sns.displot(cc_target_df['gender'], height=6, aspect=2)"
   ]
  },
  {
   "cell_type": "code",
   "execution_count": 55,
   "id": "a01071fc",
   "metadata": {
    "scrolled": false
   },
   "outputs": [
    {
     "data": {
      "text/plain": [
       "<seaborn.axisgrid.FacetGrid at 0x7fd6315ca250>"
      ]
     },
     "execution_count": 55,
     "metadata": {},
     "output_type": "execute_result"
    },
    {
     "data": {
      "text/plain": [
       "<Figure size 432x432 with 0 Axes>"
      ]
     },
     "metadata": {},
     "output_type": "display_data"
    },
    {
     "data": {
      "image/png": "[encoded data removed]",
      "text/plain": [
       "<Figure size 864x432 with 1 Axes>"
      ]
     },
     "metadata": {
      "needs_background": "light"
     },
     "output_type": "display_data"
    }
   ],
   "source": [
    "# 정상 거래 데이터\n",
    "plt.figure(figsize=(6, 6))  \n",
    "sns.displot(cc_non_target_df['gender'], height=6, aspect=2)"
   ]
  },
  {
   "cell_type": "markdown",
   "id": "9af058fb",
   "metadata": {},
   "source": [
    "# 3-8. street,  city, state 컬럼"
   ]
  },
  {
   "cell_type": "code",
   "execution_count": 56,
   "id": "d4ef3433",
   "metadata": {},
   "outputs": [
    {
     "data": {
      "text/plain": [
       "CO    0.000457\n",
       "AZ    0.001029\n",
       "ID    0.001373\n",
       "CA    0.001433\n",
       "MS    0.001832\n",
       "NC    0.001899\n",
       "OH    0.001992\n",
       "LA    0.002060\n",
       "WV    0.002221\n",
       "MI    0.002320\n",
       "WI    0.002327\n",
       "MO    0.002336\n",
       "NY    0.002354\n",
       "IN    0.002418\n",
       "TX    0.002418\n",
       "WA    0.002488\n",
       "CT    0.002510\n",
       "ND    0.002511\n",
       "MT    0.002520\n",
       "PA    0.002542\n",
       "TN    0.002601\n",
       "VA    0.002604\n",
       "MN    0.002613\n",
       "AR    0.002626\n",
       "AL    0.002689\n",
       "UT    0.002736\n",
       "OK    0.002739\n",
       "IL    0.002803\n",
       "KS    0.002913\n",
       "MD    0.002934\n",
       "FL    0.002934\n",
       "NJ    0.002985\n",
       "NM    0.003102\n",
       "SC    0.003175\n",
       "IA    0.003200\n",
       "MA    0.003286\n",
       "NV    0.003420\n",
       "NE    0.003426\n",
       "VT    0.003487\n",
       "GA    0.003566\n",
       "KY    0.003614\n",
       "ME    0.003658\n",
       "WY    0.003843\n",
       "SD    0.004372\n",
       "Name: FN_ratio_state, dtype: float64"
      ]
     },
     "execution_count": 56,
     "metadata": {},
     "output_type": "execute_result"
    }
   ],
   "source": [
    "# 주 별로 이상 거래 발생 비율을 찾아보기로 한다.\n",
    "fraud_states = cc_target_df['state'].value_counts()\n",
    "fraud_states = pd.DataFrame(fraud_states)\n",
    "non_fraud_states = cc_non_target_df['state'].value_counts()\n",
    "non_fraud_states = pd.DataFrame(non_fraud_states)\n",
    "\n",
    "# join 을 사용하여 인덱스 - 주 축약명 - 를 기준으로 inner join 한다.\n",
    "state_joined_df = fraud_states.join(non_fraud_states, lsuffix = '_f', rsuffix = '_n')\n",
    "\n",
    "# 이상 거래 비율을 FN_ratio_state 컬럼에 저장\n",
    "state_joined_df['FN_ratio_state'] = state_joined_df['state_f'] / (state_joined_df['state_f'] + state_joined_df['state_n'])\n",
    "\n",
    "# 이상 거래 비율을 정렬\n",
    "state_joined_df['FN_ratio_state'].sort_values()"
   ]
  },
  {
   "cell_type": "markdown",
   "id": "af45c273",
   "metadata": {},
   "source": [
    "#### Insignt\n",
    "\n",
    "- 콜로라도(CO)가 0.046%로 사기 거래 비율이 가장 적었고, 사우스다코다(SD)의 사기 거래 비율이 0.44%로 가장 높았다.\n",
    "- 주별 사기 거래 비율 FN_ratio 컬럼을 추후 state 컬럼과 join 하여 예측 모델링에 가중치로 활용해보기로 한다."
   ]
  },
  {
   "cell_type": "code",
   "execution_count": 57,
   "id": "fe32cb12",
   "metadata": {},
   "outputs": [
    {
     "data": {
      "text/plain": [
       "0    2.541793\n",
       "1    2.541793\n",
       "2    2.541793\n",
       "3    2.541793\n",
       "4    2.541793\n",
       "Name: FN_ratio_state, dtype: float64"
      ]
     },
     "execution_count": 57,
     "metadata": {},
     "output_type": "execute_result"
    }
   ],
   "source": [
    "# 곱하기 1000 값을 추후 주별 가중치로 활용한다\n",
    "state_joined_df['FN_ratio_state'] = state_joined_df['FN_ratio_state'] * 1000\n",
    "\n",
    "# FN_ratio 컬럼 외 제거\n",
    "state_joined_df = pd.DataFrame(state_joined_df['FN_ratio_state'])\n",
    "\n",
    "# join 을 위한 state 컬럼 재설정\n",
    "state_joined_df.reset_index(inplace = True)\n",
    "state_joined_df = state_joined_df.rename({'index': 'state'}, axis = 1)\n",
    "\n",
    "# merge 를 사용하여 state 를 기준으로 조인\n",
    "cc_target_df = cc_target_df.merge(state_joined_df, on = 'state', how = 'left')\n",
    "cc_non_target_df = cc_non_target_df.merge(state_joined_df, on = 'state', how = 'left')\n",
    "\n",
    "# 확인\n",
    "cc_target_df['FN_ratio_state'].head()"
   ]
  },
  {
   "cell_type": "code",
   "execution_count": 58,
   "id": "2e20040d",
   "metadata": {},
   "outputs": [],
   "source": [
    "# street, city, state 컬럼은 분석에 활용하지 않을 것이므로 삭제하도록 한다.\n",
    "cc_target_df.drop(['street', 'city', 'state'], axis = 1, inplace = True)\n",
    "cc_non_target_df.drop(['street', 'city', 'state'], axis = 1, inplace = True)"
   ]
  },
  {
   "cell_type": "markdown",
   "id": "541b3f78",
   "metadata": {},
   "source": [
    "# 3-9. zip 컬럼"
   ]
  },
  {
   "cell_type": "markdown",
   "id": "e5c6fa15",
   "metadata": {},
   "source": [
    "- zip 컬럼은 앞선 street, city, state 컬럼과 같이 주소와 관련된 우편번호이기 때문에 분석에 활용하지 않을 것이므로 삭제한다."
   ]
  },
  {
   "cell_type": "code",
   "execution_count": 59,
   "id": "6ceea76f",
   "metadata": {},
   "outputs": [],
   "source": [
    "# zip 컬럼 삭제\n",
    "cc_target_df.drop(['zip'], axis = 1, inplace = True)\n",
    "cc_non_target_df.drop(['zip'], axis = 1, inplace = True)"
   ]
  },
  {
   "cell_type": "markdown",
   "id": "2a40d4ec",
   "metadata": {},
   "source": [
    "# 3-10. lat, long 컬럼"
   ]
  },
  {
   "cell_type": "markdown",
   "id": "f7c487a4",
   "metadata": {},
   "source": [
    "- 위도, 경도 데이터 또한 분석에 활용하지 않는다. "
   ]
  },
  {
   "cell_type": "code",
   "execution_count": 60,
   "id": "af261003",
   "metadata": {},
   "outputs": [],
   "source": [
    "# lat, long 컬럼 삭제\n",
    "cc_target_df.drop(['lat', 'long'], axis = 1, inplace = True)\n",
    "cc_non_target_df.drop(['lat', 'long'], axis = 1, inplace = True)"
   ]
  },
  {
   "cell_type": "markdown",
   "id": "6cce796d",
   "metadata": {},
   "source": [
    "# 3-11. city_pop 컬럼"
   ]
  },
  {
   "cell_type": "markdown",
   "id": "22335514",
   "metadata": {},
   "source": [
    "- 인구 데이터 또한 분석에 활용하지 않는다."
   ]
  },
  {
   "cell_type": "code",
   "execution_count": 61,
   "id": "fe311547",
   "metadata": {},
   "outputs": [],
   "source": [
    "# city_pop 컬럼 삭제\n",
    "cc_target_df.drop(['city_pop'], axis = 1, inplace = True)\n",
    "cc_non_target_df.drop(['city_pop'], axis = 1, inplace = True)"
   ]
  },
  {
   "cell_type": "markdown",
   "id": "8c6d875b",
   "metadata": {},
   "source": [
    "# 3-12. job 컬럼"
   ]
  },
  {
   "cell_type": "code",
   "execution_count": 62,
   "id": "0faf6012",
   "metadata": {
    "scrolled": true
   },
   "outputs": [
    {
     "data": {
      "text/plain": [
       "English as a second language teacher     0.000458\n",
       "Contractor                               0.000458\n",
       "Systems developer                        0.000549\n",
       "Radiographer, therapeutic                0.000686\n",
       "Health physicist                         0.000686\n",
       "                                           ...   \n",
       "Race relations officer                   0.004114\n",
       "Secondary school teacher                 0.004367\n",
       "Futures trader                           0.004370\n",
       "Development worker, international aid    0.004372\n",
       "Hospital doctor                          0.004379\n",
       "Name: FN_ratio_job, Length: 108, dtype: float64"
      ]
     },
     "execution_count": 62,
     "metadata": {},
     "output_type": "execute_result"
    }
   ],
   "source": [
    "# 직업별 이상 거래 발생 비율을 찾아보기로 한다.\n",
    "fraud_job = cc_target_df['job'].value_counts()\n",
    "fraud_job = pd.DataFrame(fraud_job)\n",
    "non_fraud_job = cc_non_target_df['job'].value_counts()\n",
    "non_fraud_job = pd.DataFrame(non_fraud_job)\n",
    "\n",
    "# join 을 사용하여 인덱스 job 을 기준으로 inner join 한다.\n",
    "job_joined_df = fraud_job.join(non_fraud_job, lsuffix = '_f', rsuffix = '_n')\n",
    "\n",
    "# 이상 거래 비율을 FN_ratio_job 컬럼에 저장\n",
    "job_joined_df['FN_ratio_job'] = job_joined_df['job_f'] / (job_joined_df['job_f'] + job_joined_df['job_n'])\n",
    "\n",
    "# 이상 거래 비율을 정렬\n",
    "job_joined_df['FN_ratio_job'].sort_values()"
   ]
  },
  {
   "cell_type": "markdown",
   "id": "fc3cf3af",
   "metadata": {},
   "source": [
    "- Insight\n",
    "1. 병원 의사, 개발업 종사자, 선물 트레이더, 고등학교 교사 등이 사기 거래 비율이 높은 반면에 ESL 교사, 하청업자(?), 시스템 개발자, 방사성 촬영 기사 등이 사기 거래 비율이 낮았다.\n",
    "2. FN_ratio_job 컬럼 또한 * 1000 값으로 job 컬럼을 수치형 데이터로 치환하여 사용한다."
   ]
  },
  {
   "cell_type": "code",
   "execution_count": 63,
   "id": "0d49b283",
   "metadata": {},
   "outputs": [
    {
     "data": {
      "text/html": [
       "<div>\n",
       "<style scoped>\n",
       "    .dataframe tbody tr th:only-of-type {\n",
       "        vertical-align: middle;\n",
       "    }\n",
       "\n",
       "    .dataframe tbody tr th {\n",
       "        vertical-align: top;\n",
       "    }\n",
       "\n",
       "    .dataframe thead th {\n",
       "        text-align: right;\n",
       "    }\n",
       "</style>\n",
       "<table border=\"1\" class=\"dataframe\">\n",
       "  <thead>\n",
       "    <tr style=\"text-align: right;\">\n",
       "      <th></th>\n",
       "      <th>cc_num</th>\n",
       "      <th>merchant</th>\n",
       "      <th>category</th>\n",
       "      <th>paid_amount</th>\n",
       "      <th>gender</th>\n",
       "      <th>job</th>\n",
       "      <th>dob</th>\n",
       "      <th>trans_num</th>\n",
       "      <th>unix_time</th>\n",
       "      <th>merch_lat</th>\n",
       "      <th>merch_long</th>\n",
       "      <th>is_fraud</th>\n",
       "      <th>FN_ratio_category</th>\n",
       "      <th>holder_name</th>\n",
       "      <th>FN_ratio_state</th>\n",
       "      <th>FN_ratio_job</th>\n",
       "    </tr>\n",
       "  </thead>\n",
       "  <tbody>\n",
       "    <tr>\n",
       "      <th>0</th>\n",
       "      <td>581686439828</td>\n",
       "      <td>Zieme, Bode and Dooley</td>\n",
       "      <td>gas_transport</td>\n",
       "      <td>11.73</td>\n",
       "      <td>M</td>\n",
       "      <td>Retail merchandiser</td>\n",
       "      <td>1973-07-28</td>\n",
       "      <td>77c44b4cff9a624f54d389887605dbb2</td>\n",
       "      <td>1326329941</td>\n",
       "      <td>41.947427</td>\n",
       "      <td>-79.796264</td>\n",
       "      <td>1</td>\n",
       "      <td>2.194269</td>\n",
       "      <td>Larry House</td>\n",
       "      <td>2.541793</td>\n",
       "      <td>2.737476</td>\n",
       "    </tr>\n",
       "    <tr>\n",
       "      <th>1</th>\n",
       "      <td>581686439828</td>\n",
       "      <td>Koepp-Witting</td>\n",
       "      <td>grocery_pos</td>\n",
       "      <td>328.68</td>\n",
       "      <td>M</td>\n",
       "      <td>Retail merchandiser</td>\n",
       "      <td>1973-07-28</td>\n",
       "      <td>90e7917ee506a5b1ea068bdf2fac064b</td>\n",
       "      <td>1326340087</td>\n",
       "      <td>42.148618</td>\n",
       "      <td>-79.398595</td>\n",
       "      <td>1</td>\n",
       "      <td>5.055943</td>\n",
       "      <td>Larry House</td>\n",
       "      <td>2.541793</td>\n",
       "      <td>2.737476</td>\n",
       "    </tr>\n",
       "    <tr>\n",
       "      <th>2</th>\n",
       "      <td>581686439828</td>\n",
       "      <td>Abernathy and Sons</td>\n",
       "      <td>food_dining</td>\n",
       "      <td>120.58</td>\n",
       "      <td>M</td>\n",
       "      <td>Retail merchandiser</td>\n",
       "      <td>1973-07-28</td>\n",
       "      <td>aaac448ccb3f869994c4f1cad95dba18</td>\n",
       "      <td>1326383170</td>\n",
       "      <td>42.470024</td>\n",
       "      <td>-80.126576</td>\n",
       "      <td>1</td>\n",
       "      <td>1.723180</td>\n",
       "      <td>Larry House</td>\n",
       "      <td>2.541793</td>\n",
       "      <td>2.737476</td>\n",
       "    </tr>\n",
       "    <tr>\n",
       "      <th>3</th>\n",
       "      <td>581686439828</td>\n",
       "      <td>Boyer-Reichert</td>\n",
       "      <td>shopping_net</td>\n",
       "      <td>1081.35</td>\n",
       "      <td>M</td>\n",
       "      <td>Retail merchandiser</td>\n",
       "      <td>1973-07-28</td>\n",
       "      <td>8545f40c91a37f8015749b0f962cff20</td>\n",
       "      <td>1326398039</td>\n",
       "      <td>42.455406</td>\n",
       "      <td>-79.521640</td>\n",
       "      <td>1</td>\n",
       "      <td>6.176778</td>\n",
       "      <td>Larry House</td>\n",
       "      <td>2.541793</td>\n",
       "      <td>2.737476</td>\n",
       "    </tr>\n",
       "    <tr>\n",
       "      <th>4</th>\n",
       "      <td>581686439828</td>\n",
       "      <td>Fisher-Schowalter</td>\n",
       "      <td>shopping_net</td>\n",
       "      <td>776.70</td>\n",
       "      <td>M</td>\n",
       "      <td>Retail merchandiser</td>\n",
       "      <td>1973-07-28</td>\n",
       "      <td>3b6d88a3c7349cb3ee408bce6e4ffac2</td>\n",
       "      <td>1326408245</td>\n",
       "      <td>40.680209</td>\n",
       "      <td>-79.099101</td>\n",
       "      <td>1</td>\n",
       "      <td>6.176778</td>\n",
       "      <td>Larry House</td>\n",
       "      <td>2.541793</td>\n",
       "      <td>2.737476</td>\n",
       "    </tr>\n",
       "  </tbody>\n",
       "</table>\n",
       "</div>"
      ],
      "text/plain": [
       "         cc_num                merchant       category  paid_amount gender  \\\n",
       "0  581686439828  Zieme, Bode and Dooley  gas_transport        11.73      M   \n",
       "1  581686439828           Koepp-Witting    grocery_pos       328.68      M   \n",
       "2  581686439828      Abernathy and Sons    food_dining       120.58      M   \n",
       "3  581686439828          Boyer-Reichert   shopping_net      1081.35      M   \n",
       "4  581686439828       Fisher-Schowalter   shopping_net       776.70      M   \n",
       "\n",
       "                   job         dob                         trans_num  \\\n",
       "0  Retail merchandiser  1973-07-28  77c44b4cff9a624f54d389887605dbb2   \n",
       "1  Retail merchandiser  1973-07-28  90e7917ee506a5b1ea068bdf2fac064b   \n",
       "2  Retail merchandiser  1973-07-28  aaac448ccb3f869994c4f1cad95dba18   \n",
       "3  Retail merchandiser  1973-07-28  8545f40c91a37f8015749b0f962cff20   \n",
       "4  Retail merchandiser  1973-07-28  3b6d88a3c7349cb3ee408bce6e4ffac2   \n",
       "\n",
       "    unix_time  merch_lat  merch_long  is_fraud  FN_ratio_category  \\\n",
       "0  1326329941  41.947427  -79.796264         1           2.194269   \n",
       "1  1326340087  42.148618  -79.398595         1           5.055943   \n",
       "2  1326383170  42.470024  -80.126576         1           1.723180   \n",
       "3  1326398039  42.455406  -79.521640         1           6.176778   \n",
       "4  1326408245  40.680209  -79.099101         1           6.176778   \n",
       "\n",
       "   holder_name  FN_ratio_state  FN_ratio_job  \n",
       "0  Larry House        2.541793      2.737476  \n",
       "1  Larry House        2.541793      2.737476  \n",
       "2  Larry House        2.541793      2.737476  \n",
       "3  Larry House        2.541793      2.737476  \n",
       "4  Larry House        2.541793      2.737476  "
      ]
     },
     "execution_count": 63,
     "metadata": {},
     "output_type": "execute_result"
    }
   ],
   "source": [
    "# 곱하기 1000 값을 추후 주별 가중치로 활용한다\n",
    "job_joined_df['FN_ratio_job'] = job_joined_df['FN_ratio_job'] * 1000\n",
    "\n",
    "# FN_ratio_job 컬럼 외 제거\n",
    "job_joined_df = pd.DataFrame(job_joined_df['FN_ratio_job'])\n",
    "\n",
    "# join 을 위한 job 컬럼 재설정\n",
    "job_joined_df.reset_index(inplace = True)\n",
    "job_joined_df = job_joined_df.rename({'index': 'job'}, axis = 1)\n",
    "\n",
    "# merge 를 사용하여 job 를 기준으로 조인\n",
    "cc_target_df = cc_target_df.merge(job_joined_df, on = 'job', how = 'left')\n",
    "cc_non_target_df = cc_non_target_df.merge(job_joined_df, on = 'job', how = 'left')\n",
    "\n",
    "# 확인\n",
    "cc_target_df.head()"
   ]
  },
  {
   "cell_type": "code",
   "execution_count": 64,
   "id": "83fa402e",
   "metadata": {},
   "outputs": [
    {
     "data": {
      "text/plain": [
       "cc_num               0\n",
       "merchant             0\n",
       "category             0\n",
       "paid_amount          0\n",
       "gender               0\n",
       "job                  0\n",
       "dob                  0\n",
       "trans_num            0\n",
       "unix_time            0\n",
       "merch_lat            0\n",
       "merch_long           0\n",
       "is_fraud             0\n",
       "FN_ratio_category    0\n",
       "holder_name          0\n",
       "FN_ratio_state       0\n",
       "FN_ratio_job         0\n",
       "dtype: int64"
      ]
     },
     "execution_count": 64,
     "metadata": {},
     "output_type": "execute_result"
    }
   ],
   "source": [
    "cc_target_df.isna().sum()"
   ]
  },
  {
   "cell_type": "code",
   "execution_count": 65,
   "id": "e7005ce1",
   "metadata": {},
   "outputs": [
    {
     "data": {
      "text/plain": [
       "cc_num                  0\n",
       "merchant                0\n",
       "category                0\n",
       "paid_amount             0\n",
       "gender                  0\n",
       "job                     0\n",
       "dob                     0\n",
       "trans_num               0\n",
       "unix_time               0\n",
       "merch_lat               0\n",
       "merch_long              0\n",
       "is_fraud                0\n",
       "FN_ratio_category       0\n",
       "holder_name             0\n",
       "FN_ratio_state          0\n",
       "FN_ratio_job         8760\n",
       "dtype: int64"
      ]
     },
     "execution_count": 65,
     "metadata": {},
     "output_type": "execute_result"
    }
   ],
   "source": [
    "cc_non_target_df.isna().sum()"
   ]
  },
  {
   "cell_type": "code",
   "execution_count": 66,
   "id": "96848d91",
   "metadata": {},
   "outputs": [],
   "source": [
    "# job 컬럼 삭제\n",
    "cc_target_df.drop(['job'], axis = 1, inplace = True)\n",
    "cc_non_target_df.drop(['job'], axis = 1, inplace = True)"
   ]
  },
  {
   "cell_type": "markdown",
   "id": "8fed7c0f",
   "metadata": {},
   "source": [
    "# 중간 회고.\n",
    "- cc_non_target_df 컬럼에 매치가 되지 않은 결측치를 PCA 과정에서 발견했다.\n",
    "- 시간이 늦어서 FN_ratio_job 변수는 누락하기로 한다..."
   ]
  },
  {
   "cell_type": "markdown",
   "id": "0de3f7d2",
   "metadata": {},
   "source": [
    "# 3-13. dob 컬럼"
   ]
  },
  {
   "cell_type": "markdown",
   "id": "43a55b67",
   "metadata": {},
   "source": [
    "- 소유자의 나이를 datetime 타입으로 변환 후 현재 시간과의 차이를 연 기준으로 나타낸다.\n",
    "- 나이에 따른 사기 거래 비율을 확인해 본다."
   ]
  },
  {
   "cell_type": "code",
   "execution_count": 67,
   "id": "691c256b",
   "metadata": {
    "scrolled": true
   },
   "outputs": [
    {
     "data": {
      "text/plain": [
       "0       51.0\n",
       "1       51.0\n",
       "2       51.0\n",
       "3       51.0\n",
       "4       51.0\n",
       "        ... \n",
       "1239    52.0\n",
       "1240    52.0\n",
       "1241    52.0\n",
       "1242    52.0\n",
       "1243    52.0\n",
       "Name: age, Length: 1244, dtype: float64"
      ]
     },
     "execution_count": 67,
     "metadata": {},
     "output_type": "execute_result"
    }
   ],
   "source": [
    "from datetime import datetime\n",
    "\n",
    "# datetime 타입으로 전환\n",
    "cc_target_df['dob'] = pd.to_datetime(cc_target_df['dob'], format='%Y-%m-%d')\n",
    "cc_non_target_df['dob'] = pd.to_datetime(cc_non_target_df['dob'], format='%Y-%m-%d')\n",
    "\n",
    "# 현재 시간과 차이 구하기\n",
    "cc_target_df['time_difference'] = datetime.now() - cc_target_df['dob']\n",
    "cc_non_target_df['time_difference'] = datetime.now() - cc_non_target_df['dob']\n",
    "\n",
    "# 365 로 나누어 나이 구하기\n",
    "cc_target_df['age'] = (cc_target_df['time_difference'].dt.days / 365).round()\n",
    "cc_non_target_df['age'] = (cc_non_target_df['time_difference'].dt.days / 365).round()\n",
    "\n",
    "# 확인\n",
    "cc_target_df['age']"
   ]
  },
  {
   "cell_type": "code",
   "execution_count": 68,
   "id": "ba978c8d",
   "metadata": {},
   "outputs": [
    {
     "data": {
      "text/plain": [
       "32.0    0.000748\n",
       "45.0    0.001030\n",
       "20.0    0.001143\n",
       "53.0    0.001583\n",
       "39.0    0.001614\n",
       "41.0    0.001714\n",
       "46.0    0.001948\n",
       "35.0    0.002034\n",
       "48.0    0.002204\n",
       "42.0    0.002302\n",
       "34.0    0.002311\n",
       "50.0    0.002314\n",
       "24.0    0.002417\n",
       "36.0    0.002435\n",
       "47.0    0.002494\n",
       "51.0    0.002589\n",
       "43.0    0.002734\n",
       "29.0    0.002741\n",
       "21.0    0.002745\n",
       "38.0    0.002826\n",
       "52.0    0.002885\n",
       "49.0    0.002929\n",
       "30.0    0.003017\n",
       "40.0    0.003050\n",
       "31.0    0.003080\n",
       "37.0    0.003080\n",
       "44.0    0.003104\n",
       "27.0    0.003174\n",
       "25.0    0.003242\n",
       "28.0    0.003259\n",
       "26.0    0.003423\n",
       "33.0    0.003427\n",
       "19.0    0.004367\n",
       "Name: FN_ratio_age, dtype: float64"
      ]
     },
     "execution_count": 68,
     "metadata": {},
     "output_type": "execute_result"
    }
   ],
   "source": [
    "# 나이별 이상 거래 발생 비율을 찾아보기로 한다.\n",
    "fraud_age = cc_target_df['age'].value_counts()\n",
    "fraud_age = pd.DataFrame(fraud_age)\n",
    "non_fraud_age = cc_non_target_df['age'].value_counts()\n",
    "non_fraud_age = pd.DataFrame(non_fraud_age)\n",
    "\n",
    "# join 을 사용하여 인덱스 age 를 기준으로 inner join 한다.\n",
    "age_joined_df = fraud_age.join(non_fraud_age, lsuffix = '_f', rsuffix = '_n')\n",
    "\n",
    "# 이상 거래 비율을 FN_ratio_age 컬럼에 저장\n",
    "age_joined_df['FN_ratio_age'] = age_joined_df['age_f'] / (age_joined_df['age_f'] + age_joined_df['age_n'])\n",
    "\n",
    "# 이상 거래 비율을 정렬\n",
    "age_joined_df['FN_ratio_age'].sort_values()"
   ]
  },
  {
   "cell_type": "markdown",
   "id": "6bb2c82b",
   "metadata": {},
   "source": [
    "- 결과를 한눈에 보기 어려우므로 시각화하기로 한다."
   ]
  },
  {
   "cell_type": "code",
   "execution_count": 69,
   "id": "c86c9987",
   "metadata": {},
   "outputs": [
    {
     "data": {
      "image/png": "[encoded data removed]",
      "text/plain": [
       "<Figure size 432x288 with 1 Axes>"
      ]
     },
     "metadata": {
      "needs_background": "light"
     },
     "output_type": "display_data"
    }
   ],
   "source": [
    "# 시각화로 확인\n",
    "\n",
    "# 나이에 따른 데이터 정렬\n",
    "his_data = age_joined_df['FN_ratio_age'].reset_index().sort_values(by = 'index')\n",
    "\n",
    "# 선 그리기\n",
    "plt.plot(his_data['index'], his_data['FN_ratio_age'])\n",
    "\n",
    "# 그래프에 제목과 라벨 추가\n",
    "plt.title('Fraud Ratio by Age')\n",
    "plt.xlabel('Age')\n",
    "plt.ylabel('Adjusted_Fraud_Ratio')\n",
    "\n",
    "# 그래프 표시\n",
    "plt.show()"
   ]
  },
  {
   "cell_type": "markdown",
   "id": "038ee4d0",
   "metadata": {},
   "source": [
    "### Insight\n",
    "1. 나이에 따른 사기 비율은 전체적으로 Random 하게 보인다.\n",
    "2. 이는 사기 거래와 나이는 independent 함을 의미한다.\n",
    "3. 그러므로, 이상 거래 예측 모델링에 age 변수는 제거하기로 한다."
   ]
  },
  {
   "cell_type": "code",
   "execution_count": 70,
   "id": "04657692",
   "metadata": {},
   "outputs": [],
   "source": [
    "# age 컬럼 삭제\n",
    "cc_target_df.drop(['age'], axis = 1, inplace = True)\n",
    "cc_non_target_df.drop(['age'], axis = 1, inplace = True)"
   ]
  },
  {
   "cell_type": "markdown",
   "id": "2fc9da6f",
   "metadata": {},
   "source": [
    "# 3-14. trans_num 컬럼"
   ]
  },
  {
   "cell_type": "markdown",
   "id": "bb63ac13",
   "metadata": {},
   "source": [
    "- 거래 고유 ID 이므로 예측 모델링에서는 삭제한다."
   ]
  },
  {
   "cell_type": "code",
   "execution_count": 71,
   "id": "4938f983",
   "metadata": {},
   "outputs": [],
   "source": [
    "# trans_num 컬럼 삭제\n",
    "cc_target_df.drop(['trans_num'], axis = 1, inplace = True)\n",
    "cc_non_target_df.drop(['trans_num'], axis = 1, inplace = True)"
   ]
  },
  {
   "cell_type": "markdown",
   "id": "4b46b84a",
   "metadata": {},
   "source": [
    "# 3-15. unix_time 컬럼"
   ]
  },
  {
   "cell_type": "markdown",
   "id": "23e7dd51",
   "metadata": {},
   "source": [
    "- 시간 흐름에 따른 사기 거래 발생 빈도를 시각화 해본다"
   ]
  },
  {
   "cell_type": "code",
   "execution_count": 72,
   "id": "1e9cc358",
   "metadata": {},
   "outputs": [
    {
     "data": {
      "text/plain": [
       "0       2012-01\n",
       "1       2012-01\n",
       "2       2012-01\n",
       "3       2012-01\n",
       "4       2012-01\n",
       "         ...   \n",
       "1239    2013-12\n",
       "1240    2013-12\n",
       "1241    2013-12\n",
       "1242    2013-12\n",
       "1243    2013-12\n",
       "Name: unix_time, Length: 1244, dtype: object"
      ]
     },
     "execution_count": 72,
     "metadata": {},
     "output_type": "execute_result"
    }
   ],
   "source": [
    "def unix_timestamp_to_year_month(unix_timestamp):\n",
    "    # Unix 시간을 datetime으로 변환\n",
    "    dt_object = datetime.utcfromtimestamp(unix_timestamp)\n",
    "    \n",
    "    # 연월만 포함된 문자열로 변환\n",
    "    year_month_str = dt_object.strftime('%Y-%m')\n",
    "    \n",
    "    return year_month_str\n",
    "\n",
    "# apply 로 위 함수를 데이터 시리즈에 적용, time 컬럼에 저장\n",
    "fruad_time = cc_target_df['unix_time'].apply(unix_timestamp_to_year_month)\n",
    "fruad_time"
   ]
  },
  {
   "cell_type": "code",
   "execution_count": 73,
   "id": "ce06bc20",
   "metadata": {
    "scrolled": false
   },
   "outputs": [
    {
     "data": {
      "text/plain": [
       "<Figure size 864x432 with 0 Axes>"
      ]
     },
     "metadata": {},
     "output_type": "display_data"
    },
    {
     "data": {
      "image/png": "[encoded data removed]",
      "text/plain": [
       "<Figure size 864x432 with 1 Axes>"
      ]
     },
     "metadata": {
      "needs_background": "light"
     },
     "output_type": "display_data"
    }
   ],
   "source": [
    "# 시각화\n",
    "\n",
    "plt.figure(figsize=(12, 6))\n",
    "sns.displot(fruad_time, height=6, aspect=2)\n",
    "\n",
    "# x 축 눈금을 45도로 회전\n",
    "plt.xticks(rotation=45)\n",
    "\n",
    "plt.show()"
   ]
  },
  {
   "cell_type": "markdown",
   "id": "f58f88ac",
   "metadata": {},
   "source": [
    "## Insight\n",
    "1. 사기거래 발생 날짜 또한 계절성이나 패턴이 없이 Random 하게 보인다.\n",
    "2. 따라서 변환한 유닉스 시간 또한 사기 거래 목표값과 독립적이므로 삭제하도록 한다.\n",
    "3. 사실 유닉스 시간이나 앞서 이상 거래 데이터의 trans_date_trans_time 컬럼이나 같은 데이터이므로 그냥 삭제해도 무관하다."
   ]
  },
  {
   "cell_type": "code",
   "execution_count": 74,
   "id": "a08c081b",
   "metadata": {},
   "outputs": [],
   "source": [
    "# unix_time 컬럼 삭제\n",
    "cc_target_df.drop(['unix_time'], axis = 1, inplace = True)\n",
    "cc_non_target_df.drop(['unix_time'], axis = 1, inplace = True)"
   ]
  },
  {
   "cell_type": "markdown",
   "id": "0f48fc15",
   "metadata": {},
   "source": [
    "# 3-16.  merch_lat, merch_long 컬럼"
   ]
  },
  {
   "cell_type": "markdown",
   "id": "6263d5fa",
   "metadata": {},
   "source": [
    "- 거래 대상자의 위도와 경도는 분석에 사용하지 않으므로 삭제한다."
   ]
  },
  {
   "cell_type": "code",
   "execution_count": 75,
   "id": "d89112c0",
   "metadata": {},
   "outputs": [],
   "source": [
    "# merch_lat, merch_long 컬럼 삭제\n",
    "cc_target_df.drop(['merch_lat', 'merch_long'], axis = 1, inplace = True)\n",
    "cc_non_target_df.drop(['merch_lat', 'merch_long'], axis = 1, inplace = True)"
   ]
  },
  {
   "cell_type": "markdown",
   "id": "f0391963",
   "metadata": {},
   "source": [
    "# 4. 로지스틱 회귀 모델링을 위한 전처리"
   ]
  },
  {
   "cell_type": "code",
   "execution_count": 76,
   "id": "fd56526b",
   "metadata": {},
   "outputs": [
    {
     "data": {
      "text/html": [
       "<div>\n",
       "<style scoped>\n",
       "    .dataframe tbody tr th:only-of-type {\n",
       "        vertical-align: middle;\n",
       "    }\n",
       "\n",
       "    .dataframe tbody tr th {\n",
       "        vertical-align: top;\n",
       "    }\n",
       "\n",
       "    .dataframe thead th {\n",
       "        text-align: right;\n",
       "    }\n",
       "</style>\n",
       "<table border=\"1\" class=\"dataframe\">\n",
       "  <thead>\n",
       "    <tr style=\"text-align: right;\">\n",
       "      <th></th>\n",
       "      <th>cc_num</th>\n",
       "      <th>merchant</th>\n",
       "      <th>category</th>\n",
       "      <th>paid_amount</th>\n",
       "      <th>gender</th>\n",
       "      <th>dob</th>\n",
       "      <th>is_fraud</th>\n",
       "      <th>FN_ratio_category</th>\n",
       "      <th>holder_name</th>\n",
       "      <th>FN_ratio_state</th>\n",
       "      <th>FN_ratio_job</th>\n",
       "      <th>time_difference</th>\n",
       "    </tr>\n",
       "  </thead>\n",
       "  <tbody>\n",
       "    <tr>\n",
       "      <th>0</th>\n",
       "      <td>581686439828</td>\n",
       "      <td>Zieme, Bode and Dooley</td>\n",
       "      <td>gas_transport</td>\n",
       "      <td>11.73</td>\n",
       "      <td>M</td>\n",
       "      <td>1973-07-28</td>\n",
       "      <td>1</td>\n",
       "      <td>2.194269</td>\n",
       "      <td>Larry House</td>\n",
       "      <td>2.541793</td>\n",
       "      <td>2.737476</td>\n",
       "      <td>18441 days 17:50:17.996892</td>\n",
       "    </tr>\n",
       "    <tr>\n",
       "      <th>1</th>\n",
       "      <td>581686439828</td>\n",
       "      <td>Koepp-Witting</td>\n",
       "      <td>grocery_pos</td>\n",
       "      <td>328.68</td>\n",
       "      <td>M</td>\n",
       "      <td>1973-07-28</td>\n",
       "      <td>1</td>\n",
       "      <td>5.055943</td>\n",
       "      <td>Larry House</td>\n",
       "      <td>2.541793</td>\n",
       "      <td>2.737476</td>\n",
       "      <td>18441 days 17:50:17.996892</td>\n",
       "    </tr>\n",
       "    <tr>\n",
       "      <th>2</th>\n",
       "      <td>581686439828</td>\n",
       "      <td>Abernathy and Sons</td>\n",
       "      <td>food_dining</td>\n",
       "      <td>120.58</td>\n",
       "      <td>M</td>\n",
       "      <td>1973-07-28</td>\n",
       "      <td>1</td>\n",
       "      <td>1.723180</td>\n",
       "      <td>Larry House</td>\n",
       "      <td>2.541793</td>\n",
       "      <td>2.737476</td>\n",
       "      <td>18441 days 17:50:17.996892</td>\n",
       "    </tr>\n",
       "    <tr>\n",
       "      <th>3</th>\n",
       "      <td>581686439828</td>\n",
       "      <td>Boyer-Reichert</td>\n",
       "      <td>shopping_net</td>\n",
       "      <td>1081.35</td>\n",
       "      <td>M</td>\n",
       "      <td>1973-07-28</td>\n",
       "      <td>1</td>\n",
       "      <td>6.176778</td>\n",
       "      <td>Larry House</td>\n",
       "      <td>2.541793</td>\n",
       "      <td>2.737476</td>\n",
       "      <td>18441 days 17:50:17.996892</td>\n",
       "    </tr>\n",
       "    <tr>\n",
       "      <th>4</th>\n",
       "      <td>581686439828</td>\n",
       "      <td>Fisher-Schowalter</td>\n",
       "      <td>shopping_net</td>\n",
       "      <td>776.70</td>\n",
       "      <td>M</td>\n",
       "      <td>1973-07-28</td>\n",
       "      <td>1</td>\n",
       "      <td>6.176778</td>\n",
       "      <td>Larry House</td>\n",
       "      <td>2.541793</td>\n",
       "      <td>2.737476</td>\n",
       "      <td>18441 days 17:50:17.996892</td>\n",
       "    </tr>\n",
       "  </tbody>\n",
       "</table>\n",
       "</div>"
      ],
      "text/plain": [
       "         cc_num                merchant       category  paid_amount gender  \\\n",
       "0  581686439828  Zieme, Bode and Dooley  gas_transport        11.73      M   \n",
       "1  581686439828           Koepp-Witting    grocery_pos       328.68      M   \n",
       "2  581686439828      Abernathy and Sons    food_dining       120.58      M   \n",
       "3  581686439828          Boyer-Reichert   shopping_net      1081.35      M   \n",
       "4  581686439828       Fisher-Schowalter   shopping_net       776.70      M   \n",
       "\n",
       "         dob  is_fraud  FN_ratio_category  holder_name  FN_ratio_state  \\\n",
       "0 1973-07-28         1           2.194269  Larry House        2.541793   \n",
       "1 1973-07-28         1           5.055943  Larry House        2.541793   \n",
       "2 1973-07-28         1           1.723180  Larry House        2.541793   \n",
       "3 1973-07-28         1           6.176778  Larry House        2.541793   \n",
       "4 1973-07-28         1           6.176778  Larry House        2.541793   \n",
       "\n",
       "   FN_ratio_job            time_difference  \n",
       "0      2.737476 18441 days 17:50:17.996892  \n",
       "1      2.737476 18441 days 17:50:17.996892  \n",
       "2      2.737476 18441 days 17:50:17.996892  \n",
       "3      2.737476 18441 days 17:50:17.996892  \n",
       "4      2.737476 18441 days 17:50:17.996892  "
      ]
     },
     "execution_count": 76,
     "metadata": {},
     "output_type": "execute_result"
    }
   ],
   "source": [
    "cc_target_df.head()"
   ]
  },
  {
   "cell_type": "code",
   "execution_count": 77,
   "id": "dce7dd62",
   "metadata": {},
   "outputs": [
    {
     "name": "stdout",
     "output_type": "stream",
     "text": [
      "<class 'pandas.core.frame.DataFrame'>\n",
      "Int64Index: 1244 entries, 0 to 1243\n",
      "Data columns (total 12 columns):\n",
      " #   Column             Non-Null Count  Dtype          \n",
      "---  ------             --------------  -----          \n",
      " 0   cc_num             1244 non-null   int64          \n",
      " 1   merchant           1244 non-null   object         \n",
      " 2   category           1244 non-null   object         \n",
      " 3   paid_amount        1244 non-null   float64        \n",
      " 4   gender             1244 non-null   object         \n",
      " 5   dob                1244 non-null   datetime64[ns] \n",
      " 6   is_fraud           1244 non-null   int64          \n",
      " 7   FN_ratio_category  1244 non-null   float64        \n",
      " 8   holder_name        1244 non-null   object         \n",
      " 9   FN_ratio_state     1244 non-null   float64        \n",
      " 10  FN_ratio_job       1244 non-null   float64        \n",
      " 11  time_difference    1244 non-null   timedelta64[ns]\n",
      "dtypes: datetime64[ns](1), float64(4), int64(2), object(4), timedelta64[ns](1)\n",
      "memory usage: 126.3+ KB\n"
     ]
    }
   ],
   "source": [
    "cc_target_df.info()"
   ]
  },
  {
   "cell_type": "markdown",
   "id": "441fa929",
   "metadata": {},
   "source": [
    "## 1) 분석에 불필요한 컬럼 제거"
   ]
  },
  {
   "cell_type": "code",
   "execution_count": 78,
   "id": "234c51f4",
   "metadata": {},
   "outputs": [],
   "source": [
    "# cc_num, category, merchant, dob, holder_name, time_difference,  FN_ratio_job컬럼 삭제\n",
    "cc_target_df.drop(['cc_num', 'category', 'merchant', 'dob', \n",
    "                   'holder_name', 'time_difference', 'FN_ratio_job'], axis = 1, inplace = True)\n",
    "cc_non_target_df.drop(['cc_num', 'category', 'merchant', 'dob', \n",
    "                       'holder_name', 'time_difference','FN_ratio_job'], axis = 1, inplace = True)"
   ]
  },
  {
   "cell_type": "code",
   "execution_count": 79,
   "id": "19c287f6",
   "metadata": {},
   "outputs": [
    {
     "data": {
      "text/html": [
       "<div>\n",
       "<style scoped>\n",
       "    .dataframe tbody tr th:only-of-type {\n",
       "        vertical-align: middle;\n",
       "    }\n",
       "\n",
       "    .dataframe tbody tr th {\n",
       "        vertical-align: top;\n",
       "    }\n",
       "\n",
       "    .dataframe thead th {\n",
       "        text-align: right;\n",
       "    }\n",
       "</style>\n",
       "<table border=\"1\" class=\"dataframe\">\n",
       "  <thead>\n",
       "    <tr style=\"text-align: right;\">\n",
       "      <th></th>\n",
       "      <th>paid_amount</th>\n",
       "      <th>gender</th>\n",
       "      <th>is_fraud</th>\n",
       "      <th>FN_ratio_category</th>\n",
       "      <th>FN_ratio_state</th>\n",
       "    </tr>\n",
       "  </thead>\n",
       "  <tbody>\n",
       "    <tr>\n",
       "      <th>0</th>\n",
       "      <td>11.73</td>\n",
       "      <td>M</td>\n",
       "      <td>1</td>\n",
       "      <td>2.194269</td>\n",
       "      <td>2.541793</td>\n",
       "    </tr>\n",
       "    <tr>\n",
       "      <th>1</th>\n",
       "      <td>328.68</td>\n",
       "      <td>M</td>\n",
       "      <td>1</td>\n",
       "      <td>5.055943</td>\n",
       "      <td>2.541793</td>\n",
       "    </tr>\n",
       "    <tr>\n",
       "      <th>2</th>\n",
       "      <td>120.58</td>\n",
       "      <td>M</td>\n",
       "      <td>1</td>\n",
       "      <td>1.723180</td>\n",
       "      <td>2.541793</td>\n",
       "    </tr>\n",
       "    <tr>\n",
       "      <th>3</th>\n",
       "      <td>1081.35</td>\n",
       "      <td>M</td>\n",
       "      <td>1</td>\n",
       "      <td>6.176778</td>\n",
       "      <td>2.541793</td>\n",
       "    </tr>\n",
       "    <tr>\n",
       "      <th>4</th>\n",
       "      <td>776.70</td>\n",
       "      <td>M</td>\n",
       "      <td>1</td>\n",
       "      <td>6.176778</td>\n",
       "      <td>2.541793</td>\n",
       "    </tr>\n",
       "    <tr>\n",
       "      <th>...</th>\n",
       "      <td>...</td>\n",
       "      <td>...</td>\n",
       "      <td>...</td>\n",
       "      <td>...</td>\n",
       "      <td>...</td>\n",
       "    </tr>\n",
       "    <tr>\n",
       "      <th>1239</th>\n",
       "      <td>358.24</td>\n",
       "      <td>F</td>\n",
       "      <td>1</td>\n",
       "      <td>5.055943</td>\n",
       "      <td>2.520046</td>\n",
       "    </tr>\n",
       "    <tr>\n",
       "      <th>1240</th>\n",
       "      <td>859.12</td>\n",
       "      <td>F</td>\n",
       "      <td>1</td>\n",
       "      <td>6.176778</td>\n",
       "      <td>2.520046</td>\n",
       "    </tr>\n",
       "    <tr>\n",
       "      <th>1241</th>\n",
       "      <td>209.84</td>\n",
       "      <td>F</td>\n",
       "      <td>1</td>\n",
       "      <td>1.661283</td>\n",
       "      <td>2.520046</td>\n",
       "    </tr>\n",
       "    <tr>\n",
       "      <th>1242</th>\n",
       "      <td>123.58</td>\n",
       "      <td>F</td>\n",
       "      <td>1</td>\n",
       "      <td>1.723180</td>\n",
       "      <td>2.520046</td>\n",
       "    </tr>\n",
       "    <tr>\n",
       "      <th>1243</th>\n",
       "      <td>219.11</td>\n",
       "      <td>F</td>\n",
       "      <td>1</td>\n",
       "      <td>1.661283</td>\n",
       "      <td>2.520046</td>\n",
       "    </tr>\n",
       "  </tbody>\n",
       "</table>\n",
       "<p>1244 rows × 5 columns</p>\n",
       "</div>"
      ],
      "text/plain": [
       "      paid_amount gender  is_fraud  FN_ratio_category  FN_ratio_state\n",
       "0           11.73      M         1           2.194269        2.541793\n",
       "1          328.68      M         1           5.055943        2.541793\n",
       "2          120.58      M         1           1.723180        2.541793\n",
       "3         1081.35      M         1           6.176778        2.541793\n",
       "4          776.70      M         1           6.176778        2.541793\n",
       "...           ...    ...       ...                ...             ...\n",
       "1239       358.24      F         1           5.055943        2.520046\n",
       "1240       859.12      F         1           6.176778        2.520046\n",
       "1241       209.84      F         1           1.661283        2.520046\n",
       "1242       123.58      F         1           1.723180        2.520046\n",
       "1243       219.11      F         1           1.661283        2.520046\n",
       "\n",
       "[1244 rows x 5 columns]"
      ]
     },
     "execution_count": 79,
     "metadata": {},
     "output_type": "execute_result"
    }
   ],
   "source": [
    "cc_target_df"
   ]
  },
  {
   "cell_type": "code",
   "execution_count": 80,
   "id": "29eb1cb9",
   "metadata": {},
   "outputs": [
    {
     "data": {
      "text/html": [
       "<div>\n",
       "<style scoped>\n",
       "    .dataframe tbody tr th:only-of-type {\n",
       "        vertical-align: middle;\n",
       "    }\n",
       "\n",
       "    .dataframe tbody tr th {\n",
       "        vertical-align: top;\n",
       "    }\n",
       "\n",
       "    .dataframe thead th {\n",
       "        text-align: right;\n",
       "    }\n",
       "</style>\n",
       "<table border=\"1\" class=\"dataframe\">\n",
       "  <thead>\n",
       "    <tr style=\"text-align: right;\">\n",
       "      <th></th>\n",
       "      <th>paid_amount</th>\n",
       "      <th>gender</th>\n",
       "      <th>is_fraud</th>\n",
       "      <th>FN_ratio_category</th>\n",
       "      <th>FN_ratio_state</th>\n",
       "    </tr>\n",
       "  </thead>\n",
       "  <tbody>\n",
       "    <tr>\n",
       "      <th>0</th>\n",
       "      <td>107.23</td>\n",
       "      <td>F</td>\n",
       "      <td>0</td>\n",
       "      <td>5.055943</td>\n",
       "      <td>2.488446</td>\n",
       "    </tr>\n",
       "    <tr>\n",
       "      <th>1</th>\n",
       "      <td>44.71</td>\n",
       "      <td>M</td>\n",
       "      <td>0</td>\n",
       "      <td>5.055943</td>\n",
       "      <td>2.985446</td>\n",
       "    </tr>\n",
       "    <tr>\n",
       "      <th>2</th>\n",
       "      <td>46.28</td>\n",
       "      <td>F</td>\n",
       "      <td>0</td>\n",
       "      <td>0.326717</td>\n",
       "      <td>2.985446</td>\n",
       "    </tr>\n",
       "    <tr>\n",
       "      <th>3</th>\n",
       "      <td>64.09</td>\n",
       "      <td>M</td>\n",
       "      <td>0</td>\n",
       "      <td>5.055943</td>\n",
       "      <td>2.319778</td>\n",
       "    </tr>\n",
       "    <tr>\n",
       "      <th>4</th>\n",
       "      <td>25.58</td>\n",
       "      <td>F</td>\n",
       "      <td>0</td>\n",
       "      <td>1.758662</td>\n",
       "      <td>2.059555</td>\n",
       "    </tr>\n",
       "    <tr>\n",
       "      <th>...</th>\n",
       "      <td>...</td>\n",
       "      <td>...</td>\n",
       "      <td>...</td>\n",
       "      <td>...</td>\n",
       "      <td>...</td>\n",
       "    </tr>\n",
       "    <tr>\n",
       "      <th>489885</th>\n",
       "      <td>134.26</td>\n",
       "      <td>F</td>\n",
       "      <td>0</td>\n",
       "      <td>1.661283</td>\n",
       "      <td>1.899035</td>\n",
       "    </tr>\n",
       "    <tr>\n",
       "      <th>489886</th>\n",
       "      <td>25.49</td>\n",
       "      <td>F</td>\n",
       "      <td>0</td>\n",
       "      <td>2.771745</td>\n",
       "      <td>3.175196</td>\n",
       "    </tr>\n",
       "    <tr>\n",
       "      <th>489887</th>\n",
       "      <td>111.84</td>\n",
       "      <td>M</td>\n",
       "      <td>0</td>\n",
       "      <td>1.687554</td>\n",
       "      <td>2.418331</td>\n",
       "    </tr>\n",
       "    <tr>\n",
       "      <th>489888</th>\n",
       "      <td>86.88</td>\n",
       "      <td>F</td>\n",
       "      <td>0</td>\n",
       "      <td>1.687554</td>\n",
       "      <td>2.488446</td>\n",
       "    </tr>\n",
       "    <tr>\n",
       "      <th>489889</th>\n",
       "      <td>38.13</td>\n",
       "      <td>M</td>\n",
       "      <td>0</td>\n",
       "      <td>1.576489</td>\n",
       "      <td>2.738976</td>\n",
       "    </tr>\n",
       "  </tbody>\n",
       "</table>\n",
       "<p>489890 rows × 5 columns</p>\n",
       "</div>"
      ],
      "text/plain": [
       "        paid_amount gender  is_fraud  FN_ratio_category  FN_ratio_state\n",
       "0            107.23      F         0           5.055943        2.488446\n",
       "1             44.71      M         0           5.055943        2.985446\n",
       "2             46.28      F         0           0.326717        2.985446\n",
       "3             64.09      M         0           5.055943        2.319778\n",
       "4             25.58      F         0           1.758662        2.059555\n",
       "...             ...    ...       ...                ...             ...\n",
       "489885       134.26      F         0           1.661283        1.899035\n",
       "489886        25.49      F         0           2.771745        3.175196\n",
       "489887       111.84      M         0           1.687554        2.418331\n",
       "489888        86.88      F         0           1.687554        2.488446\n",
       "489889        38.13      M         0           1.576489        2.738976\n",
       "\n",
       "[489890 rows x 5 columns]"
      ]
     },
     "execution_count": 80,
     "metadata": {},
     "output_type": "execute_result"
    }
   ],
   "source": [
    "cc_non_target_df"
   ]
  },
  {
   "cell_type": "markdown",
   "id": "a62fcbd3",
   "metadata": {},
   "source": [
    "## 2) 이상 거래 데이터와 정상 거래 데이터 다시 합치기"
   ]
  },
  {
   "cell_type": "code",
   "execution_count": 81,
   "id": "000ec91b",
   "metadata": {},
   "outputs": [
    {
     "data": {
      "text/html": [
       "<div>\n",
       "<style scoped>\n",
       "    .dataframe tbody tr th:only-of-type {\n",
       "        vertical-align: middle;\n",
       "    }\n",
       "\n",
       "    .dataframe tbody tr th {\n",
       "        vertical-align: top;\n",
       "    }\n",
       "\n",
       "    .dataframe thead th {\n",
       "        text-align: right;\n",
       "    }\n",
       "</style>\n",
       "<table border=\"1\" class=\"dataframe\">\n",
       "  <thead>\n",
       "    <tr style=\"text-align: right;\">\n",
       "      <th></th>\n",
       "      <th>paid_amount</th>\n",
       "      <th>gender</th>\n",
       "      <th>is_fraud</th>\n",
       "      <th>FN_ratio_category</th>\n",
       "      <th>FN_ratio_state</th>\n",
       "    </tr>\n",
       "  </thead>\n",
       "  <tbody>\n",
       "    <tr>\n",
       "      <th>0</th>\n",
       "      <td>11.73</td>\n",
       "      <td>M</td>\n",
       "      <td>1</td>\n",
       "      <td>2.194269</td>\n",
       "      <td>2.541793</td>\n",
       "    </tr>\n",
       "    <tr>\n",
       "      <th>1</th>\n",
       "      <td>328.68</td>\n",
       "      <td>M</td>\n",
       "      <td>1</td>\n",
       "      <td>5.055943</td>\n",
       "      <td>2.541793</td>\n",
       "    </tr>\n",
       "    <tr>\n",
       "      <th>2</th>\n",
       "      <td>120.58</td>\n",
       "      <td>M</td>\n",
       "      <td>1</td>\n",
       "      <td>1.723180</td>\n",
       "      <td>2.541793</td>\n",
       "    </tr>\n",
       "    <tr>\n",
       "      <th>3</th>\n",
       "      <td>1081.35</td>\n",
       "      <td>M</td>\n",
       "      <td>1</td>\n",
       "      <td>6.176778</td>\n",
       "      <td>2.541793</td>\n",
       "    </tr>\n",
       "    <tr>\n",
       "      <th>4</th>\n",
       "      <td>776.70</td>\n",
       "      <td>M</td>\n",
       "      <td>1</td>\n",
       "      <td>6.176778</td>\n",
       "      <td>2.541793</td>\n",
       "    </tr>\n",
       "    <tr>\n",
       "      <th>...</th>\n",
       "      <td>...</td>\n",
       "      <td>...</td>\n",
       "      <td>...</td>\n",
       "      <td>...</td>\n",
       "      <td>...</td>\n",
       "    </tr>\n",
       "    <tr>\n",
       "      <th>491129</th>\n",
       "      <td>134.26</td>\n",
       "      <td>F</td>\n",
       "      <td>0</td>\n",
       "      <td>1.661283</td>\n",
       "      <td>1.899035</td>\n",
       "    </tr>\n",
       "    <tr>\n",
       "      <th>491130</th>\n",
       "      <td>25.49</td>\n",
       "      <td>F</td>\n",
       "      <td>0</td>\n",
       "      <td>2.771745</td>\n",
       "      <td>3.175196</td>\n",
       "    </tr>\n",
       "    <tr>\n",
       "      <th>491131</th>\n",
       "      <td>111.84</td>\n",
       "      <td>M</td>\n",
       "      <td>0</td>\n",
       "      <td>1.687554</td>\n",
       "      <td>2.418331</td>\n",
       "    </tr>\n",
       "    <tr>\n",
       "      <th>491132</th>\n",
       "      <td>86.88</td>\n",
       "      <td>F</td>\n",
       "      <td>0</td>\n",
       "      <td>1.687554</td>\n",
       "      <td>2.488446</td>\n",
       "    </tr>\n",
       "    <tr>\n",
       "      <th>491133</th>\n",
       "      <td>38.13</td>\n",
       "      <td>M</td>\n",
       "      <td>0</td>\n",
       "      <td>1.576489</td>\n",
       "      <td>2.738976</td>\n",
       "    </tr>\n",
       "  </tbody>\n",
       "</table>\n",
       "<p>491134 rows × 5 columns</p>\n",
       "</div>"
      ],
      "text/plain": [
       "        paid_amount gender  is_fraud  FN_ratio_category  FN_ratio_state\n",
       "0             11.73      M         1           2.194269        2.541793\n",
       "1            328.68      M         1           5.055943        2.541793\n",
       "2            120.58      M         1           1.723180        2.541793\n",
       "3           1081.35      M         1           6.176778        2.541793\n",
       "4            776.70      M         1           6.176778        2.541793\n",
       "...             ...    ...       ...                ...             ...\n",
       "491129       134.26      F         0           1.661283        1.899035\n",
       "491130        25.49      F         0           2.771745        3.175196\n",
       "491131       111.84      M         0           1.687554        2.418331\n",
       "491132        86.88      F         0           1.687554        2.488446\n",
       "491133        38.13      M         0           1.576489        2.738976\n",
       "\n",
       "[491134 rows x 5 columns]"
      ]
     },
     "execution_count": 81,
     "metadata": {},
     "output_type": "execute_result"
    }
   ],
   "source": [
    "cc_df_ready = pd.concat([cc_target_df, cc_non_target_df]).reset_index(drop = True)\n",
    "cc_df_ready"
   ]
  },
  {
   "cell_type": "markdown",
   "id": "962f2577",
   "metadata": {},
   "source": [
    "## 3) gender 컬럼 원핫인코딩"
   ]
  },
  {
   "cell_type": "code",
   "execution_count": 82,
   "id": "6792e2e8",
   "metadata": {},
   "outputs": [
    {
     "data": {
      "text/html": [
       "<div>\n",
       "<style scoped>\n",
       "    .dataframe tbody tr th:only-of-type {\n",
       "        vertical-align: middle;\n",
       "    }\n",
       "\n",
       "    .dataframe tbody tr th {\n",
       "        vertical-align: top;\n",
       "    }\n",
       "\n",
       "    .dataframe thead th {\n",
       "        text-align: right;\n",
       "    }\n",
       "</style>\n",
       "<table border=\"1\" class=\"dataframe\">\n",
       "  <thead>\n",
       "    <tr style=\"text-align: right;\">\n",
       "      <th></th>\n",
       "      <th>paid_amount</th>\n",
       "      <th>is_fraud</th>\n",
       "      <th>FN_ratio_category</th>\n",
       "      <th>FN_ratio_state</th>\n",
       "      <th>gender_M</th>\n",
       "    </tr>\n",
       "  </thead>\n",
       "  <tbody>\n",
       "    <tr>\n",
       "      <th>0</th>\n",
       "      <td>11.73</td>\n",
       "      <td>1</td>\n",
       "      <td>2.194269</td>\n",
       "      <td>2.541793</td>\n",
       "      <td>1</td>\n",
       "    </tr>\n",
       "    <tr>\n",
       "      <th>1</th>\n",
       "      <td>328.68</td>\n",
       "      <td>1</td>\n",
       "      <td>5.055943</td>\n",
       "      <td>2.541793</td>\n",
       "      <td>1</td>\n",
       "    </tr>\n",
       "    <tr>\n",
       "      <th>2</th>\n",
       "      <td>120.58</td>\n",
       "      <td>1</td>\n",
       "      <td>1.723180</td>\n",
       "      <td>2.541793</td>\n",
       "      <td>1</td>\n",
       "    </tr>\n",
       "    <tr>\n",
       "      <th>3</th>\n",
       "      <td>1081.35</td>\n",
       "      <td>1</td>\n",
       "      <td>6.176778</td>\n",
       "      <td>2.541793</td>\n",
       "      <td>1</td>\n",
       "    </tr>\n",
       "    <tr>\n",
       "      <th>4</th>\n",
       "      <td>776.70</td>\n",
       "      <td>1</td>\n",
       "      <td>6.176778</td>\n",
       "      <td>2.541793</td>\n",
       "      <td>1</td>\n",
       "    </tr>\n",
       "    <tr>\n",
       "      <th>...</th>\n",
       "      <td>...</td>\n",
       "      <td>...</td>\n",
       "      <td>...</td>\n",
       "      <td>...</td>\n",
       "      <td>...</td>\n",
       "    </tr>\n",
       "    <tr>\n",
       "      <th>491129</th>\n",
       "      <td>134.26</td>\n",
       "      <td>0</td>\n",
       "      <td>1.661283</td>\n",
       "      <td>1.899035</td>\n",
       "      <td>0</td>\n",
       "    </tr>\n",
       "    <tr>\n",
       "      <th>491130</th>\n",
       "      <td>25.49</td>\n",
       "      <td>0</td>\n",
       "      <td>2.771745</td>\n",
       "      <td>3.175196</td>\n",
       "      <td>0</td>\n",
       "    </tr>\n",
       "    <tr>\n",
       "      <th>491131</th>\n",
       "      <td>111.84</td>\n",
       "      <td>0</td>\n",
       "      <td>1.687554</td>\n",
       "      <td>2.418331</td>\n",
       "      <td>1</td>\n",
       "    </tr>\n",
       "    <tr>\n",
       "      <th>491132</th>\n",
       "      <td>86.88</td>\n",
       "      <td>0</td>\n",
       "      <td>1.687554</td>\n",
       "      <td>2.488446</td>\n",
       "      <td>0</td>\n",
       "    </tr>\n",
       "    <tr>\n",
       "      <th>491133</th>\n",
       "      <td>38.13</td>\n",
       "      <td>0</td>\n",
       "      <td>1.576489</td>\n",
       "      <td>2.738976</td>\n",
       "      <td>1</td>\n",
       "    </tr>\n",
       "  </tbody>\n",
       "</table>\n",
       "<p>491134 rows × 5 columns</p>\n",
       "</div>"
      ],
      "text/plain": [
       "        paid_amount  is_fraud  FN_ratio_category  FN_ratio_state  gender_M\n",
       "0             11.73         1           2.194269        2.541793         1\n",
       "1            328.68         1           5.055943        2.541793         1\n",
       "2            120.58         1           1.723180        2.541793         1\n",
       "3           1081.35         1           6.176778        2.541793         1\n",
       "4            776.70         1           6.176778        2.541793         1\n",
       "...             ...       ...                ...             ...       ...\n",
       "491129       134.26         0           1.661283        1.899035         0\n",
       "491130        25.49         0           2.771745        3.175196         0\n",
       "491131       111.84         0           1.687554        2.418331         1\n",
       "491132        86.88         0           1.687554        2.488446         0\n",
       "491133        38.13         0           1.576489        2.738976         1\n",
       "\n",
       "[491134 rows x 5 columns]"
      ]
     },
     "execution_count": 82,
     "metadata": {},
     "output_type": "execute_result"
    }
   ],
   "source": [
    "cc_df_ready = pd.get_dummies(cc_df_ready, columns = ['gender'], drop_first = True)\n",
    "cc_df_ready"
   ]
  },
  {
   "cell_type": "markdown",
   "id": "22dd9d17",
   "metadata": {},
   "source": [
    "## 4) 스케일링\n",
    "\n",
    "- paid_amount 단위가 크고, 이상치가 많이 포함되어 있으므로 RobustScaler 를 채택하기로 한다."
   ]
  },
  {
   "cell_type": "code",
   "execution_count": 83,
   "id": "c0e2424f",
   "metadata": {},
   "outputs": [],
   "source": [
    "from sklearn.preprocessing import RobustScaler"
   ]
  },
  {
   "cell_type": "code",
   "execution_count": 84,
   "id": "30180115",
   "metadata": {},
   "outputs": [],
   "source": [
    "rs = RobustScaler()"
   ]
  },
  {
   "cell_type": "code",
   "execution_count": 85,
   "id": "b6ec6938",
   "metadata": {},
   "outputs": [
    {
     "data": {
      "text/plain": [
       "RobustScaler()"
      ]
     },
     "execution_count": 85,
     "metadata": {},
     "output_type": "execute_result"
    }
   ],
   "source": [
    "rs.fit(cc_df_ready)"
   ]
  },
  {
   "cell_type": "code",
   "execution_count": 86,
   "id": "d60614ed",
   "metadata": {},
   "outputs": [
    {
     "data": {
      "text/html": [
       "<div>\n",
       "<style scoped>\n",
       "    .dataframe tbody tr th:only-of-type {\n",
       "        vertical-align: middle;\n",
       "    }\n",
       "\n",
       "    .dataframe tbody tr th {\n",
       "        vertical-align: top;\n",
       "    }\n",
       "\n",
       "    .dataframe thead th {\n",
       "        text-align: right;\n",
       "    }\n",
       "</style>\n",
       "<table border=\"1\" class=\"dataframe\">\n",
       "  <thead>\n",
       "    <tr style=\"text-align: right;\">\n",
       "      <th></th>\n",
       "      <th>paid_amount</th>\n",
       "      <th>is_fraud</th>\n",
       "      <th>FN_ratio_category</th>\n",
       "      <th>FN_ratio_state</th>\n",
       "      <th>gender_M</th>\n",
       "    </tr>\n",
       "  </thead>\n",
       "  <tbody>\n",
       "    <tr>\n",
       "      <th>0</th>\n",
       "      <td>-0.426510</td>\n",
       "      <td>1.0</td>\n",
       "      <td>0.382601</td>\n",
       "      <td>0.089858</td>\n",
       "      <td>1.0</td>\n",
       "    </tr>\n",
       "    <tr>\n",
       "      <th>1</th>\n",
       "      <td>4.014432</td>\n",
       "      <td>1.0</td>\n",
       "      <td>2.896061</td>\n",
       "      <td>0.089858</td>\n",
       "      <td>1.0</td>\n",
       "    </tr>\n",
       "    <tr>\n",
       "      <th>2</th>\n",
       "      <td>1.098641</td>\n",
       "      <td>1.0</td>\n",
       "      <td>-0.031165</td>\n",
       "      <td>0.089858</td>\n",
       "      <td>1.0</td>\n",
       "    </tr>\n",
       "    <tr>\n",
       "      <th>3</th>\n",
       "      <td>14.560460</td>\n",
       "      <td>1.0</td>\n",
       "      <td>3.880510</td>\n",
       "      <td>0.089858</td>\n",
       "      <td>1.0</td>\n",
       "    </tr>\n",
       "    <tr>\n",
       "      <th>4</th>\n",
       "      <td>10.291859</td>\n",
       "      <td>1.0</td>\n",
       "      <td>3.880510</td>\n",
       "      <td>0.089858</td>\n",
       "      <td>1.0</td>\n",
       "    </tr>\n",
       "    <tr>\n",
       "      <th>...</th>\n",
       "      <td>...</td>\n",
       "      <td>...</td>\n",
       "      <td>...</td>\n",
       "      <td>...</td>\n",
       "      <td>...</td>\n",
       "    </tr>\n",
       "    <tr>\n",
       "      <th>491129</th>\n",
       "      <td>1.290318</td>\n",
       "      <td>0.0</td>\n",
       "      <td>-0.085530</td>\n",
       "      <td>-0.992818</td>\n",
       "      <td>0.0</td>\n",
       "    </tr>\n",
       "    <tr>\n",
       "      <th>491130</th>\n",
       "      <td>-0.233712</td>\n",
       "      <td>0.0</td>\n",
       "      <td>0.889808</td>\n",
       "      <td>1.156776</td>\n",
       "      <td>0.0</td>\n",
       "    </tr>\n",
       "    <tr>\n",
       "      <th>491131</th>\n",
       "      <td>0.976180</td>\n",
       "      <td>0.0</td>\n",
       "      <td>-0.062455</td>\n",
       "      <td>-0.118104</td>\n",
       "      <td>1.0</td>\n",
       "    </tr>\n",
       "    <tr>\n",
       "      <th>491132</th>\n",
       "      <td>0.626454</td>\n",
       "      <td>0.0</td>\n",
       "      <td>-0.062455</td>\n",
       "      <td>0.000000</td>\n",
       "      <td>0.0</td>\n",
       "    </tr>\n",
       "    <tr>\n",
       "      <th>491133</th>\n",
       "      <td>-0.056606</td>\n",
       "      <td>0.0</td>\n",
       "      <td>-0.160006</td>\n",
       "      <td>0.421997</td>\n",
       "      <td>1.0</td>\n",
       "    </tr>\n",
       "  </tbody>\n",
       "</table>\n",
       "<p>491134 rows × 5 columns</p>\n",
       "</div>"
      ],
      "text/plain": [
       "        paid_amount  is_fraud  FN_ratio_category  FN_ratio_state  gender_M\n",
       "0         -0.426510       1.0           0.382601        0.089858       1.0\n",
       "1          4.014432       1.0           2.896061        0.089858       1.0\n",
       "2          1.098641       1.0          -0.031165        0.089858       1.0\n",
       "3         14.560460       1.0           3.880510        0.089858       1.0\n",
       "4         10.291859       1.0           3.880510        0.089858       1.0\n",
       "...             ...       ...                ...             ...       ...\n",
       "491129     1.290318       0.0          -0.085530       -0.992818       0.0\n",
       "491130    -0.233712       0.0           0.889808        1.156776       0.0\n",
       "491131     0.976180       0.0          -0.062455       -0.118104       1.0\n",
       "491132     0.626454       0.0          -0.062455        0.000000       0.0\n",
       "491133    -0.056606       0.0          -0.160006        0.421997       1.0\n",
       "\n",
       "[491134 rows x 5 columns]"
      ]
     },
     "execution_count": 86,
     "metadata": {},
     "output_type": "execute_result"
    }
   ],
   "source": [
    "scaled_cc_df = pd.DataFrame(rs.transform(cc_df_ready), columns = cc_df_ready.columns)\n",
    "scaled_cc_df"
   ]
  },
  {
   "cell_type": "code",
   "execution_count": 87,
   "id": "72a5f833",
   "metadata": {},
   "outputs": [
    {
     "data": {
      "text/plain": [
       "paid_amount          0\n",
       "is_fraud             0\n",
       "FN_ratio_category    0\n",
       "FN_ratio_state       0\n",
       "gender_M             0\n",
       "dtype: int64"
      ]
     },
     "execution_count": 87,
     "metadata": {},
     "output_type": "execute_result"
    }
   ],
   "source": [
    "scaled_cc_df.isna().sum()"
   ]
  },
  {
   "cell_type": "markdown",
   "id": "01647842",
   "metadata": {},
   "source": [
    "# 5. 주성분 분석"
   ]
  },
  {
   "cell_type": "code",
   "execution_count": 88,
   "id": "8577d10b",
   "metadata": {},
   "outputs": [],
   "source": [
    "from sklearn.decomposition import PCA"
   ]
  },
  {
   "cell_type": "code",
   "execution_count": 89,
   "id": "75d9e4f6",
   "metadata": {},
   "outputs": [],
   "source": [
    "pca = PCA()"
   ]
  },
  {
   "cell_type": "code",
   "execution_count": 90,
   "id": "5b0b826d",
   "metadata": {},
   "outputs": [
    {
     "data": {
      "text/plain": [
       "PCA()"
      ]
     },
     "execution_count": 90,
     "metadata": {},
     "output_type": "execute_result"
    }
   ],
   "source": [
    "pca.fit(scaled_cc_df)"
   ]
  },
  {
   "cell_type": "code",
   "execution_count": 91,
   "id": "314fb83f",
   "metadata": {},
   "outputs": [
    {
     "data": {
      "text/html": [
       "<div>\n",
       "<style scoped>\n",
       "    .dataframe tbody tr th:only-of-type {\n",
       "        vertical-align: middle;\n",
       "    }\n",
       "\n",
       "    .dataframe tbody tr th {\n",
       "        vertical-align: top;\n",
       "    }\n",
       "\n",
       "    .dataframe thead th {\n",
       "        text-align: right;\n",
       "    }\n",
       "</style>\n",
       "<table border=\"1\" class=\"dataframe\">\n",
       "  <thead>\n",
       "    <tr style=\"text-align: right;\">\n",
       "      <th></th>\n",
       "      <th>0</th>\n",
       "      <th>1</th>\n",
       "      <th>2</th>\n",
       "      <th>3</th>\n",
       "      <th>4</th>\n",
       "    </tr>\n",
       "  </thead>\n",
       "  <tbody>\n",
       "    <tr>\n",
       "      <th>0</th>\n",
       "      <td>-0.831588</td>\n",
       "      <td>0.218530</td>\n",
       "      <td>0.030282</td>\n",
       "      <td>0.710496</td>\n",
       "      <td>-0.999311</td>\n",
       "    </tr>\n",
       "    <tr>\n",
       "      <th>1</th>\n",
       "      <td>3.838328</td>\n",
       "      <td>-1.835868</td>\n",
       "      <td>0.124289</td>\n",
       "      <td>0.752158</td>\n",
       "      <td>-0.984951</td>\n",
       "    </tr>\n",
       "    <tr>\n",
       "      <th>2</th>\n",
       "      <td>0.644121</td>\n",
       "      <td>0.783430</td>\n",
       "      <td>0.049863</td>\n",
       "      <td>0.718049</td>\n",
       "      <td>-0.995243</td>\n",
       "    </tr>\n",
       "    <tr>\n",
       "      <th>3</th>\n",
       "      <td>14.428183</td>\n",
       "      <td>-1.755623</td>\n",
       "      <td>0.297944</td>\n",
       "      <td>0.824728</td>\n",
       "      <td>-0.954220</td>\n",
       "    </tr>\n",
       "    <tr>\n",
       "      <th>4</th>\n",
       "      <td>10.181809</td>\n",
       "      <td>-2.184533</td>\n",
       "      <td>0.231620</td>\n",
       "      <td>0.797462</td>\n",
       "      <td>-0.966389</td>\n",
       "    </tr>\n",
       "    <tr>\n",
       "      <th>...</th>\n",
       "      <td>...</td>\n",
       "      <td>...</td>\n",
       "      <td>...</td>\n",
       "      <td>...</td>\n",
       "      <td>...</td>\n",
       "    </tr>\n",
       "    <tr>\n",
       "      <th>491129</th>\n",
       "      <td>0.851527</td>\n",
       "      <td>0.843376</td>\n",
       "      <td>-1.071803</td>\n",
       "      <td>-0.235662</td>\n",
       "      <td>0.003542</td>\n",
       "    </tr>\n",
       "    <tr>\n",
       "      <th>491130</th>\n",
       "      <td>-0.601475</td>\n",
       "      <td>-0.262623</td>\n",
       "      <td>1.061578</td>\n",
       "      <td>-0.330193</td>\n",
       "      <td>0.001528</td>\n",
       "    </tr>\n",
       "    <tr>\n",
       "      <th>491131</th>\n",
       "      <td>0.519636</td>\n",
       "      <td>0.800939</td>\n",
       "      <td>-0.160961</td>\n",
       "      <td>0.724938</td>\n",
       "      <td>0.004220</td>\n",
       "    </tr>\n",
       "    <tr>\n",
       "      <th>491132</th>\n",
       "      <td>0.177392</td>\n",
       "      <td>0.761794</td>\n",
       "      <td>-0.090103</td>\n",
       "      <td>-0.281328</td>\n",
       "      <td>0.002437</td>\n",
       "    </tr>\n",
       "    <tr>\n",
       "      <th>491133</th>\n",
       "      <td>-0.526285</td>\n",
       "      <td>0.798612</td>\n",
       "      <td>0.361560</td>\n",
       "      <td>0.695223</td>\n",
       "      <td>0.001630</td>\n",
       "    </tr>\n",
       "  </tbody>\n",
       "</table>\n",
       "<p>491134 rows × 5 columns</p>\n",
       "</div>"
      ],
      "text/plain": [
       "                0         1         2         3         4\n",
       "0       -0.831588  0.218530  0.030282  0.710496 -0.999311\n",
       "1        3.838328 -1.835868  0.124289  0.752158 -0.984951\n",
       "2        0.644121  0.783430  0.049863  0.718049 -0.995243\n",
       "3       14.428183 -1.755623  0.297944  0.824728 -0.954220\n",
       "4       10.181809 -2.184533  0.231620  0.797462 -0.966389\n",
       "...           ...       ...       ...       ...       ...\n",
       "491129   0.851527  0.843376 -1.071803 -0.235662  0.003542\n",
       "491130  -0.601475 -0.262623  1.061578 -0.330193  0.001528\n",
       "491131   0.519636  0.800939 -0.160961  0.724938  0.004220\n",
       "491132   0.177392  0.761794 -0.090103 -0.281328  0.002437\n",
       "491133  -0.526285  0.798612  0.361560  0.695223  0.001630\n",
       "\n",
       "[491134 rows x 5 columns]"
      ]
     },
     "execution_count": 91,
     "metadata": {},
     "output_type": "execute_result"
    }
   ],
   "source": [
    "# 결과를 데이터프레임으로\n",
    "pd.DataFrame(pca.transform(scaled_cc_df))"
   ]
  },
  {
   "cell_type": "code",
   "execution_count": 92,
   "id": "9f945e68",
   "metadata": {},
   "outputs": [
    {
     "data": {
      "text/plain": [
       "array([6.27142583e-01, 2.32585287e-01, 1.15143343e-01, 2.48222145e-02,\n",
       "       3.06573502e-04])"
      ]
     },
     "execution_count": 92,
     "metadata": {},
     "output_type": "execute_result"
    }
   ],
   "source": [
    "# 주성분 별 전체 분산을 설명하는 비율 확인\n",
    "pca.explained_variance_ratio_ "
   ]
  },
  {
   "cell_type": "markdown",
   "id": "af91a397",
   "metadata": {},
   "source": [
    "## 해석 1. (2부터는 회고 도중 작성)\n",
    "1. paid_amount 의 원래 값에 극단값이 많이 포함되어 있어 첫번째 주성분이 전체 분산을 설명하는 비율이 높게 나온 듯으로 생각된다.\n",
    "2. 그렇다면 차원축소 이전 예측변수 가운데 반응변수에 대해 유독 강력한 상관관계를 가진 변수가 있을 것이다. 그래서 밑에 상관관계 분석을 시행하여 확인해 보았다."
   ]
  },
  {
   "cell_type": "code",
   "execution_count": 110,
   "id": "10e0f130",
   "metadata": {},
   "outputs": [
    {
     "data": {
      "image/png": "[encoded data removed]",
      "text/plain": [
       "<Figure size 576x432 with 2 Axes>"
      ]
     },
     "metadata": {
      "needs_background": "light"
     },
     "output_type": "display_data"
    }
   ],
   "source": [
    "# 상관관계 분석. 차원축소 하기 전 데이터 cc_df_ready\n",
    "corr = cc_df_ready.corr()\n",
    "\n",
    "mask = np.zeros_like(corr)   \n",
    "mask[np.triu_indices_from(mask, k=1)] = True \n",
    "\n",
    "# 히트맵 그리기\n",
    "plt.figure(figsize=(8, 6))\n",
    "sns.heatmap(corr, mask=mask, cmap='Greys', annot=True, fmt='.2f')\n",
    "plt.show()"
   ]
  },
  {
   "cell_type": "markdown",
   "id": "20c600ae",
   "metadata": {},
   "source": [
    "# 해석 2 (회고 도중 작성)\n",
    "\n",
    "1. 상관관계 분석을 해보니 생각과 다르게 강한 상관관계가 나타나지 않았다...\n",
    "2. 일단 독립 변수들 간에 상관관계가 없는 것은 서로 독립적이라는 긍정인 결과라고 생각한다.\n",
    "3. 개별적으로는 종속변수와 다른 독립변수들 간에 상관관계가 없지만, 이러한 독립변수를 조합했더니 종속변수를 잘 설명해서 예측 퍼포먼스가 높은 것인가?? 이 부분에 대해 질문해보고 싶다."
   ]
  },
  {
   "cell_type": "markdown",
   "id": "080f2f3e",
   "metadata": {},
   "source": [
    "# 6. 로지스틱 회귀 예측 모델링\n",
    "\n",
    "- binary prediction 을 위해 로지스틱 회귀 모델을 사용한다."
   ]
  },
  {
   "cell_type": "code",
   "execution_count": 104,
   "id": "a78c6722",
   "metadata": {},
   "outputs": [],
   "source": [
    "from sklearn.model_selection import train_test_split\n",
    "from sklearn.linear_model import LogisticRegression\n",
    "from sklearn.metrics import accuracy_score, confusion_matrix, classification_report"
   ]
  },
  {
   "cell_type": "code",
   "execution_count": 108,
   "id": "dcd75c64",
   "metadata": {},
   "outputs": [
    {
     "name": "stdout",
     "output_type": "stream",
     "text": [
      "Accuracy: 1.00\n",
      "Confusion Matrix:\n",
      "[[97958     0]\n",
      " [    0   269]]\n",
      "Classification Report:\n",
      "              precision    recall  f1-score   support\n",
      "\n",
      "         0.0       1.00      1.00      1.00     97958\n",
      "         1.0       1.00      1.00      1.00       269\n",
      "\n",
      "    accuracy                           1.00     98227\n",
      "   macro avg       1.00      1.00      1.00     98227\n",
      "weighted avg       1.00      1.00      1.00     98227\n",
      "\n"
     ]
    }
   ],
   "source": [
    "df = pd.DataFrame(data=scaled_cc_df, columns = scaled_cc_df.columns)\n",
    "df['target'] = scaled_cc_df['is_fraud']\n",
    "\n",
    "# 특성과 목표값 나누기\n",
    "X = df.drop('target', axis=1)\n",
    "y = df['target']\n",
    "\n",
    "# 데이터 분할\n",
    "X_train, X_test, y_train, y_test = train_test_split(X, y, test_size=0.2, random_state=42)\n",
    "\n",
    "# 로지스틱 회귀 모델 생성\n",
    "model = LogisticRegression()\n",
    "model.fit(X_train, y_train)\n",
    "\n",
    "# 테스트 데이터에 대한 예측\n",
    "y_pred = model.predict(X_test)\n",
    "\n",
    "# 정확도 평가\n",
    "accuracy = accuracy_score(y_test, y_pred)\n",
    "print(f'Accuracy: {accuracy:.2f}')\n",
    "\n",
    "# 혼동 행렬(confusion matrix) 출력\n",
    "conf_matrix = confusion_matrix(y_test, y_pred)\n",
    "print('Confusion Matrix:')\n",
    "print(conf_matrix)\n",
    "\n",
    "# 분류 보고서 출력\n",
    "class_report = classification_report(y_test, y_pred)\n",
    "print('Classification Report:')\n",
    "print(class_report)"
   ]
  },
  {
   "cell_type": "markdown",
   "id": "21c74eea",
   "metadata": {},
   "source": [
    "# 결론.. 잠깐 이게??\n",
    "\n",
    "1. 솔직히 왜 이렇게 나오는지 잘 모르겠다.. 뭔가 잘못된 것인지.. \n",
    "2. 데이터 갯수가 많아서 과적합될 수 있는 것인지... \n",
    "3. validation 하는 방법도 있는데 잘 기억이 나지 않아서.. 이 부분에 대해서는 질문을 해야 할 것 같다."
   ]
  },
  {
   "cell_type": "markdown",
   "id": "30ba33da",
   "metadata": {},
   "source": [
    "# 회고\n",
    "\n",
    "1. 중간에 다중회귀를 사용했는데 RMSE 가 0 값이 나오고 R square 값이 0.01 이 나와서 의아했다.\n",
    "\n",
    "\n",
    "2. 생각해보니 목표값이 0와 1인 예측 과제를 다중회귀로 모델링하겠다는 착각을 했었다. 바로 로지스틱 회귀로 바꿔서 예측 테스크를 진행했다.\n",
    "\n",
    "\n",
    "3. 데이터 탐색, 전처리 단계에서 데이터에 애정이나 가치를 느끼지 못하면 이 일을 지속할 수 없겠다는 생각이 들었다...\n",
    "\n",
    "\n",
    "4. 데이터를 탐색하는 과정에서 한 사람이 여러 사기 거래를 진행했다는 사실을 알게 되었다. FN_ratio_category, FN_ratio_state, FN_ratio_job(job은 결측치가 발생해서 사용 못했지만...) 과 같이 사기 거래 비율을 반영한 새로운 컬럼들은 사실 한 사람이 여러 번 저지른 사기 거래 정보를 반영한 것이다. 사기 거래 기준을 사건 횟수로 할 것인지 저지른 사람을 기준으로 카운팅할 것인지와 같은 고민을 다른 비슷한 문제를 만나면 해야할 것 같다.\n",
    "\n",
    "\n",
    "5. Fraud Detection 은 관심있는 분야이기도 한데, 이번 프로젝트를 계기로 더 적극적이게 찾아보게 될 것 같다.\n",
    "\n",
    "\n",
    "6. 데이터를 치밀하게 들여다보는 일은 내가 진짜 좋아하고 관심있는 분야라야 제대로할 마음이 생길 것 같다."
   ]
  }
 ],
 "metadata": {
  "kernelspec": {
   "display_name": "Python 3 (ipykernel)",
   "language": "python",
   "name": "python3"
  },
  "language_info": {
   "codemirror_mode": {
    "name": "ipython",
    "version": 3
   },
   "file_extension": ".py",
   "mimetype": "text/x-python",
   "name": "python",
   "nbconvert_exporter": "python",
   "pygments_lexer": "ipython3",
   "version": "3.9.7"
  }
 },
 "nbformat": 4,
 "nbformat_minor": 5
}
