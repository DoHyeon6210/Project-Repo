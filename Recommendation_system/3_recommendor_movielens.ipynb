{
 "cells": [
  {
   "cell_type": "markdown",
   "id": "200b39e6",
   "metadata": {},
   "source": [
    "# 프로젝트 - Movielens 영화 추천 실습\n",
    "\n",
    "이전 스텝에서 배운 MF 모델 학습 방법을 토대로, 내가 좋아할 만한 영화 추천 시스템을 제작해 보겠습니다.\n",
    "\n",
    "이번에 활용할 데이터셋은 추천 시스템의 MNIST라고 부를만한 Movielens 데이터입니다.\n",
    "\n",
    "- 유저가 영화에 대해 평점을 매긴 데이터가 데이터 크기 별로 있습니다. MovieLens 1M Dataset 사용을 권장합니다.\n",
    "- 별점 데이터는 대표적인 explicit 데이터입니다. 하지만 implicit 데이터로 간주하고 테스트해 볼 수 있습니다.\n",
    "- 별점을 시청횟수로 해석해서 생각하겠습니다.\n",
    "- 또한 유저가 3점 미만으로 준 데이터는 선호하지 않는다고 가정하고 제외하겠습니다."
   ]
  },
  {
   "cell_type": "code",
   "execution_count": 1,
   "id": "b97adfe2",
   "metadata": {},
   "outputs": [],
   "source": [
    "# !mkdir -p ~/aiffel/Recommendation_System/2_recommender_process/data/ml-1m\n",
    "# !ln -s ~/data/ml-1m/* ~/aiffel/Recommendation_System/2_recommender_process/data/ml-1m"
   ]
  },
  {
   "cell_type": "code",
   "execution_count": 2,
   "id": "bcee49d5",
   "metadata": {},
   "outputs": [
    {
     "name": "stdout",
     "output_type": "stream",
     "text": [
      "1.21.4\n",
      "1.7.1\n",
      "0.4.8\n"
     ]
    }
   ],
   "source": [
    "import numpy as np\n",
    "import scipy\n",
    "import implicit\n",
    "\n",
    "print(np.__version__)\n",
    "print(scipy.__version__)\n",
    "print(implicit.__version__)"
   ]
  },
  {
   "cell_type": "markdown",
   "id": "3a7f2e53",
   "metadata": {},
   "source": [
    "## 1) 데이터 준비와 전처리\n",
    "\n",
    "Movielens 데이터는 rating.dat 안에 이미 인덱싱까지 완료된 사용자-영화-평점 데이터가 깔끔하게 정리되어 있습니다."
   ]
  },
  {
   "cell_type": "code",
   "execution_count": 3,
   "id": "7eb21882",
   "metadata": {},
   "outputs": [
    {
     "data": {
      "text/html": [
       "<div>\n",
       "<style scoped>\n",
       "    .dataframe tbody tr th:only-of-type {\n",
       "        vertical-align: middle;\n",
       "    }\n",
       "\n",
       "    .dataframe tbody tr th {\n",
       "        vertical-align: top;\n",
       "    }\n",
       "\n",
       "    .dataframe thead th {\n",
       "        text-align: right;\n",
       "    }\n",
       "</style>\n",
       "<table border=\"1\" class=\"dataframe\">\n",
       "  <thead>\n",
       "    <tr style=\"text-align: right;\">\n",
       "      <th></th>\n",
       "      <th>user_id</th>\n",
       "      <th>movie_id</th>\n",
       "      <th>ratings</th>\n",
       "      <th>timestamp</th>\n",
       "    </tr>\n",
       "  </thead>\n",
       "  <tbody>\n",
       "    <tr>\n",
       "      <th>0</th>\n",
       "      <td>1</td>\n",
       "      <td>1193</td>\n",
       "      <td>5</td>\n",
       "      <td>978300760</td>\n",
       "    </tr>\n",
       "    <tr>\n",
       "      <th>1</th>\n",
       "      <td>1</td>\n",
       "      <td>661</td>\n",
       "      <td>3</td>\n",
       "      <td>978302109</td>\n",
       "    </tr>\n",
       "    <tr>\n",
       "      <th>2</th>\n",
       "      <td>1</td>\n",
       "      <td>914</td>\n",
       "      <td>3</td>\n",
       "      <td>978301968</td>\n",
       "    </tr>\n",
       "    <tr>\n",
       "      <th>3</th>\n",
       "      <td>1</td>\n",
       "      <td>3408</td>\n",
       "      <td>4</td>\n",
       "      <td>978300275</td>\n",
       "    </tr>\n",
       "    <tr>\n",
       "      <th>4</th>\n",
       "      <td>1</td>\n",
       "      <td>2355</td>\n",
       "      <td>5</td>\n",
       "      <td>978824291</td>\n",
       "    </tr>\n",
       "    <tr>\n",
       "      <th>...</th>\n",
       "      <td>...</td>\n",
       "      <td>...</td>\n",
       "      <td>...</td>\n",
       "      <td>...</td>\n",
       "    </tr>\n",
       "    <tr>\n",
       "      <th>1000204</th>\n",
       "      <td>6040</td>\n",
       "      <td>1091</td>\n",
       "      <td>1</td>\n",
       "      <td>956716541</td>\n",
       "    </tr>\n",
       "    <tr>\n",
       "      <th>1000205</th>\n",
       "      <td>6040</td>\n",
       "      <td>1094</td>\n",
       "      <td>5</td>\n",
       "      <td>956704887</td>\n",
       "    </tr>\n",
       "    <tr>\n",
       "      <th>1000206</th>\n",
       "      <td>6040</td>\n",
       "      <td>562</td>\n",
       "      <td>5</td>\n",
       "      <td>956704746</td>\n",
       "    </tr>\n",
       "    <tr>\n",
       "      <th>1000207</th>\n",
       "      <td>6040</td>\n",
       "      <td>1096</td>\n",
       "      <td>4</td>\n",
       "      <td>956715648</td>\n",
       "    </tr>\n",
       "    <tr>\n",
       "      <th>1000208</th>\n",
       "      <td>6040</td>\n",
       "      <td>1097</td>\n",
       "      <td>4</td>\n",
       "      <td>956715569</td>\n",
       "    </tr>\n",
       "  </tbody>\n",
       "</table>\n",
       "<p>1000209 rows × 4 columns</p>\n",
       "</div>"
      ],
      "text/plain": [
       "         user_id  movie_id  ratings  timestamp\n",
       "0              1      1193        5  978300760\n",
       "1              1       661        3  978302109\n",
       "2              1       914        3  978301968\n",
       "3              1      3408        4  978300275\n",
       "4              1      2355        5  978824291\n",
       "...          ...       ...      ...        ...\n",
       "1000204     6040      1091        1  956716541\n",
       "1000205     6040      1094        5  956704887\n",
       "1000206     6040       562        5  956704746\n",
       "1000207     6040      1096        4  956715648\n",
       "1000208     6040      1097        4  956715569\n",
       "\n",
       "[1000209 rows x 4 columns]"
      ]
     },
     "execution_count": 3,
     "metadata": {},
     "output_type": "execute_result"
    }
   ],
   "source": [
    "import os\n",
    "import pandas as pd\n",
    "\n",
    "rating_file_path=os.getenv('HOME') + '/aiffel/Recommendation_System/2_recommender_process/data/ml-1m/ratings.dat'\n",
    "ratings_cols = ['user_id', 'movie_id', 'ratings', 'timestamp']\n",
    "ratings = pd.read_csv(rating_file_path, sep='::', names=ratings_cols, engine='python', encoding = \"ISO-8859-1\")\n",
    "orginal_data_size = len(ratings)\n",
    "ratings"
   ]
  },
  {
   "cell_type": "code",
   "execution_count": 4,
   "id": "b043f7ee",
   "metadata": {},
   "outputs": [
    {
     "name": "stdout",
     "output_type": "stream",
     "text": [
      "orginal_data_size: 1000209, filtered_data_size: 836478\n",
      "Ratio of Remaining Data is 83.63%\n"
     ]
    }
   ],
   "source": [
    "# 3점 이상만 남깁니다.\n",
    "ratings = ratings[ratings['ratings']>=3]\n",
    "filtered_data_size = len(ratings)\n",
    "\n",
    "print(f'orginal_data_size: {orginal_data_size}, filtered_data_size: {filtered_data_size}')\n",
    "print(f'Ratio of Remaining Data is {filtered_data_size / orginal_data_size:.2%}')"
   ]
  },
  {
   "cell_type": "code",
   "execution_count": 5,
   "id": "6b13b4bb",
   "metadata": {},
   "outputs": [
    {
     "name": "stderr",
     "output_type": "stream",
     "text": [
      "/opt/conda/lib/python3.9/site-packages/pandas/core/frame.py:5039: SettingWithCopyWarning: \n",
      "A value is trying to be set on a copy of a slice from a DataFrame\n",
      "\n",
      "See the caveats in the documentation: https://pandas.pydata.org/pandas-docs/stable/user_guide/indexing.html#returning-a-view-versus-a-copy\n",
      "  return super().rename(\n"
     ]
    }
   ],
   "source": [
    "# ratings 컬럼의 이름을 counts로 바꿉니다.\n",
    "ratings.rename(columns={'ratings':'counts'}, inplace=True)"
   ]
  },
  {
   "cell_type": "code",
   "execution_count": 6,
   "id": "d43f5f4e",
   "metadata": {},
   "outputs": [
    {
     "data": {
      "text/plain": [
       "0          5\n",
       "1          3\n",
       "2          3\n",
       "3          4\n",
       "4          5\n",
       "          ..\n",
       "1000203    3\n",
       "1000205    5\n",
       "1000206    5\n",
       "1000207    4\n",
       "1000208    4\n",
       "Name: counts, Length: 836478, dtype: int64"
      ]
     },
     "execution_count": 6,
     "metadata": {},
     "output_type": "execute_result"
    }
   ],
   "source": [
    "ratings['counts']"
   ]
  },
  {
   "cell_type": "code",
   "execution_count": 7,
   "id": "656d6586",
   "metadata": {},
   "outputs": [
    {
     "data": {
      "text/html": [
       "<div>\n",
       "<style scoped>\n",
       "    .dataframe tbody tr th:only-of-type {\n",
       "        vertical-align: middle;\n",
       "    }\n",
       "\n",
       "    .dataframe tbody tr th {\n",
       "        vertical-align: top;\n",
       "    }\n",
       "\n",
       "    .dataframe thead th {\n",
       "        text-align: right;\n",
       "    }\n",
       "</style>\n",
       "<table border=\"1\" class=\"dataframe\">\n",
       "  <thead>\n",
       "    <tr style=\"text-align: right;\">\n",
       "      <th></th>\n",
       "      <th>user_id</th>\n",
       "      <th>movie_id</th>\n",
       "      <th>counts</th>\n",
       "    </tr>\n",
       "  </thead>\n",
       "  <tbody>\n",
       "    <tr>\n",
       "      <th>0</th>\n",
       "      <td>1</td>\n",
       "      <td>1193</td>\n",
       "      <td>5</td>\n",
       "    </tr>\n",
       "    <tr>\n",
       "      <th>1</th>\n",
       "      <td>1</td>\n",
       "      <td>661</td>\n",
       "      <td>3</td>\n",
       "    </tr>\n",
       "    <tr>\n",
       "      <th>2</th>\n",
       "      <td>1</td>\n",
       "      <td>914</td>\n",
       "      <td>3</td>\n",
       "    </tr>\n",
       "    <tr>\n",
       "      <th>3</th>\n",
       "      <td>1</td>\n",
       "      <td>3408</td>\n",
       "      <td>4</td>\n",
       "    </tr>\n",
       "    <tr>\n",
       "      <th>4</th>\n",
       "      <td>1</td>\n",
       "      <td>2355</td>\n",
       "      <td>5</td>\n",
       "    </tr>\n",
       "    <tr>\n",
       "      <th>5</th>\n",
       "      <td>1</td>\n",
       "      <td>1197</td>\n",
       "      <td>3</td>\n",
       "    </tr>\n",
       "    <tr>\n",
       "      <th>6</th>\n",
       "      <td>1</td>\n",
       "      <td>1287</td>\n",
       "      <td>5</td>\n",
       "    </tr>\n",
       "    <tr>\n",
       "      <th>7</th>\n",
       "      <td>1</td>\n",
       "      <td>2804</td>\n",
       "      <td>5</td>\n",
       "    </tr>\n",
       "    <tr>\n",
       "      <th>8</th>\n",
       "      <td>1</td>\n",
       "      <td>594</td>\n",
       "      <td>4</td>\n",
       "    </tr>\n",
       "    <tr>\n",
       "      <th>9</th>\n",
       "      <td>1</td>\n",
       "      <td>919</td>\n",
       "      <td>4</td>\n",
       "    </tr>\n",
       "  </tbody>\n",
       "</table>\n",
       "</div>"
      ],
      "text/plain": [
       "   user_id  movie_id  counts\n",
       "0        1      1193       5\n",
       "1        1       661       3\n",
       "2        1       914       3\n",
       "3        1      3408       4\n",
       "4        1      2355       5\n",
       "5        1      1197       3\n",
       "6        1      1287       5\n",
       "7        1      2804       5\n",
       "8        1       594       4\n",
       "9        1       919       4"
      ]
     },
     "execution_count": 7,
     "metadata": {},
     "output_type": "execute_result"
    }
   ],
   "source": [
    "# 사용하는 컬럼만 남겨줍니다.\n",
    "using_cols = ['user_id', 'movie_id', 'counts']\n",
    "ratings = ratings[using_cols]\n",
    "ratings.head(10)"
   ]
  },
  {
   "cell_type": "code",
   "execution_count": 8,
   "id": "ef61ef32",
   "metadata": {},
   "outputs": [
    {
     "data": {
      "text/html": [
       "<div>\n",
       "<style scoped>\n",
       "    .dataframe tbody tr th:only-of-type {\n",
       "        vertical-align: middle;\n",
       "    }\n",
       "\n",
       "    .dataframe tbody tr th {\n",
       "        vertical-align: top;\n",
       "    }\n",
       "\n",
       "    .dataframe thead th {\n",
       "        text-align: right;\n",
       "    }\n",
       "</style>\n",
       "<table border=\"1\" class=\"dataframe\">\n",
       "  <thead>\n",
       "    <tr style=\"text-align: right;\">\n",
       "      <th></th>\n",
       "      <th>movie_id</th>\n",
       "      <th>title</th>\n",
       "      <th>genre</th>\n",
       "    </tr>\n",
       "  </thead>\n",
       "  <tbody>\n",
       "    <tr>\n",
       "      <th>0</th>\n",
       "      <td>1</td>\n",
       "      <td>Toy Story (1995)</td>\n",
       "      <td>Animation|Children's|Comedy</td>\n",
       "    </tr>\n",
       "    <tr>\n",
       "      <th>1</th>\n",
       "      <td>2</td>\n",
       "      <td>Jumanji (1995)</td>\n",
       "      <td>Adventure|Children's|Fantasy</td>\n",
       "    </tr>\n",
       "    <tr>\n",
       "      <th>2</th>\n",
       "      <td>3</td>\n",
       "      <td>Grumpier Old Men (1995)</td>\n",
       "      <td>Comedy|Romance</td>\n",
       "    </tr>\n",
       "    <tr>\n",
       "      <th>3</th>\n",
       "      <td>4</td>\n",
       "      <td>Waiting to Exhale (1995)</td>\n",
       "      <td>Comedy|Drama</td>\n",
       "    </tr>\n",
       "    <tr>\n",
       "      <th>4</th>\n",
       "      <td>5</td>\n",
       "      <td>Father of the Bride Part II (1995)</td>\n",
       "      <td>Comedy</td>\n",
       "    </tr>\n",
       "    <tr>\n",
       "      <th>...</th>\n",
       "      <td>...</td>\n",
       "      <td>...</td>\n",
       "      <td>...</td>\n",
       "    </tr>\n",
       "    <tr>\n",
       "      <th>3878</th>\n",
       "      <td>3948</td>\n",
       "      <td>Meet the Parents (2000)</td>\n",
       "      <td>Comedy</td>\n",
       "    </tr>\n",
       "    <tr>\n",
       "      <th>3879</th>\n",
       "      <td>3949</td>\n",
       "      <td>Requiem for a Dream (2000)</td>\n",
       "      <td>Drama</td>\n",
       "    </tr>\n",
       "    <tr>\n",
       "      <th>3880</th>\n",
       "      <td>3950</td>\n",
       "      <td>Tigerland (2000)</td>\n",
       "      <td>Drama</td>\n",
       "    </tr>\n",
       "    <tr>\n",
       "      <th>3881</th>\n",
       "      <td>3951</td>\n",
       "      <td>Two Family House (2000)</td>\n",
       "      <td>Drama</td>\n",
       "    </tr>\n",
       "    <tr>\n",
       "      <th>3882</th>\n",
       "      <td>3952</td>\n",
       "      <td>Contender, The (2000)</td>\n",
       "      <td>Drama|Thriller</td>\n",
       "    </tr>\n",
       "  </tbody>\n",
       "</table>\n",
       "<p>3883 rows × 3 columns</p>\n",
       "</div>"
      ],
      "text/plain": [
       "      movie_id                               title  \\\n",
       "0            1                    Toy Story (1995)   \n",
       "1            2                      Jumanji (1995)   \n",
       "2            3             Grumpier Old Men (1995)   \n",
       "3            4            Waiting to Exhale (1995)   \n",
       "4            5  Father of the Bride Part II (1995)   \n",
       "...        ...                                 ...   \n",
       "3878      3948             Meet the Parents (2000)   \n",
       "3879      3949          Requiem for a Dream (2000)   \n",
       "3880      3950                    Tigerland (2000)   \n",
       "3881      3951             Two Family House (2000)   \n",
       "3882      3952               Contender, The (2000)   \n",
       "\n",
       "                             genre  \n",
       "0      Animation|Children's|Comedy  \n",
       "1     Adventure|Children's|Fantasy  \n",
       "2                   Comedy|Romance  \n",
       "3                     Comedy|Drama  \n",
       "4                           Comedy  \n",
       "...                            ...  \n",
       "3878                        Comedy  \n",
       "3879                         Drama  \n",
       "3880                         Drama  \n",
       "3881                         Drama  \n",
       "3882                Drama|Thriller  \n",
       "\n",
       "[3883 rows x 3 columns]"
      ]
     },
     "execution_count": 8,
     "metadata": {},
     "output_type": "execute_result"
    }
   ],
   "source": [
    "# 영화 제목을 보기 위해 메타 데이터를 읽어옵니다.\n",
    "movie_file_path=os.getenv('HOME') + '/aiffel/Recommendation_System/2_recommender_process/data/ml-1m/movies.dat'\n",
    "cols = ['movie_id', 'title', 'genre'] \n",
    "movies = pd.read_csv(movie_file_path, sep='::', names=cols, engine='python', encoding='ISO-8859-1')\n",
    "movies"
   ]
  },
  {
   "cell_type": "markdown",
   "id": "730dbf88",
   "metadata": {},
   "source": [
    "여기까지가 전처리입니다. 이후에는 이전 스텝에 소개했던 것과 동일한 방식으로 MF model을 구성하여 내가 좋아할 만한 영화를 추천해 볼 수 있습니다."
   ]
  },
  {
   "cell_type": "markdown",
   "id": "aabafe45",
   "metadata": {},
   "source": [
    "## 2) 분석해 봅시다.\n",
    "\n",
    "- ratings에 있는 유니크한 영화 개수\n",
    "- ratings에 있는 유니크한 사용자 수\n",
    "- 가장 인기 있는 영화 30개(인기순)"
   ]
  },
  {
   "cell_type": "code",
   "execution_count": 9,
   "id": "1bb6cb05",
   "metadata": {},
   "outputs": [
    {
     "data": {
      "text/html": [
       "<div>\n",
       "<style scoped>\n",
       "    .dataframe tbody tr th:only-of-type {\n",
       "        vertical-align: middle;\n",
       "    }\n",
       "\n",
       "    .dataframe tbody tr th {\n",
       "        vertical-align: top;\n",
       "    }\n",
       "\n",
       "    .dataframe thead th {\n",
       "        text-align: right;\n",
       "    }\n",
       "</style>\n",
       "<table border=\"1\" class=\"dataframe\">\n",
       "  <thead>\n",
       "    <tr style=\"text-align: right;\">\n",
       "      <th></th>\n",
       "      <th>user_id</th>\n",
       "      <th>movie_id</th>\n",
       "      <th>counts</th>\n",
       "      <th>title</th>\n",
       "      <th>genre</th>\n",
       "    </tr>\n",
       "  </thead>\n",
       "  <tbody>\n",
       "    <tr>\n",
       "      <th>0</th>\n",
       "      <td>1</td>\n",
       "      <td>1193</td>\n",
       "      <td>5</td>\n",
       "      <td>One Flew Over the Cuckoo's Nest (1975)</td>\n",
       "      <td>Drama</td>\n",
       "    </tr>\n",
       "    <tr>\n",
       "      <th>1</th>\n",
       "      <td>2</td>\n",
       "      <td>1193</td>\n",
       "      <td>5</td>\n",
       "      <td>One Flew Over the Cuckoo's Nest (1975)</td>\n",
       "      <td>Drama</td>\n",
       "    </tr>\n",
       "    <tr>\n",
       "      <th>2</th>\n",
       "      <td>12</td>\n",
       "      <td>1193</td>\n",
       "      <td>4</td>\n",
       "      <td>One Flew Over the Cuckoo's Nest (1975)</td>\n",
       "      <td>Drama</td>\n",
       "    </tr>\n",
       "    <tr>\n",
       "      <th>3</th>\n",
       "      <td>15</td>\n",
       "      <td>1193</td>\n",
       "      <td>4</td>\n",
       "      <td>One Flew Over the Cuckoo's Nest (1975)</td>\n",
       "      <td>Drama</td>\n",
       "    </tr>\n",
       "    <tr>\n",
       "      <th>4</th>\n",
       "      <td>17</td>\n",
       "      <td>1193</td>\n",
       "      <td>5</td>\n",
       "      <td>One Flew Over the Cuckoo's Nest (1975)</td>\n",
       "      <td>Drama</td>\n",
       "    </tr>\n",
       "    <tr>\n",
       "      <th>...</th>\n",
       "      <td>...</td>\n",
       "      <td>...</td>\n",
       "      <td>...</td>\n",
       "      <td>...</td>\n",
       "      <td>...</td>\n",
       "    </tr>\n",
       "    <tr>\n",
       "      <th>836473</th>\n",
       "      <td>5851</td>\n",
       "      <td>3607</td>\n",
       "      <td>5</td>\n",
       "      <td>One Little Indian (1973)</td>\n",
       "      <td>Comedy|Drama|Western</td>\n",
       "    </tr>\n",
       "    <tr>\n",
       "      <th>836474</th>\n",
       "      <td>5854</td>\n",
       "      <td>3026</td>\n",
       "      <td>4</td>\n",
       "      <td>Slaughterhouse (1987)</td>\n",
       "      <td>Horror</td>\n",
       "    </tr>\n",
       "    <tr>\n",
       "      <th>836475</th>\n",
       "      <td>5854</td>\n",
       "      <td>690</td>\n",
       "      <td>3</td>\n",
       "      <td>Promise, The (Versprechen, Das) (1994)</td>\n",
       "      <td>Romance</td>\n",
       "    </tr>\n",
       "    <tr>\n",
       "      <th>836476</th>\n",
       "      <td>5938</td>\n",
       "      <td>2909</td>\n",
       "      <td>4</td>\n",
       "      <td>Five Wives, Three Secretaries and Me (1998)</td>\n",
       "      <td>Documentary</td>\n",
       "    </tr>\n",
       "    <tr>\n",
       "      <th>836477</th>\n",
       "      <td>5948</td>\n",
       "      <td>1360</td>\n",
       "      <td>5</td>\n",
       "      <td>Identification of a Woman (Identificazione di ...</td>\n",
       "      <td>Drama</td>\n",
       "    </tr>\n",
       "  </tbody>\n",
       "</table>\n",
       "<p>836478 rows × 5 columns</p>\n",
       "</div>"
      ],
      "text/plain": [
       "        user_id  movie_id  counts  \\\n",
       "0             1      1193       5   \n",
       "1             2      1193       5   \n",
       "2            12      1193       4   \n",
       "3            15      1193       4   \n",
       "4            17      1193       5   \n",
       "...         ...       ...     ...   \n",
       "836473     5851      3607       5   \n",
       "836474     5854      3026       4   \n",
       "836475     5854       690       3   \n",
       "836476     5938      2909       4   \n",
       "836477     5948      1360       5   \n",
       "\n",
       "                                                    title  \\\n",
       "0                  One Flew Over the Cuckoo's Nest (1975)   \n",
       "1                  One Flew Over the Cuckoo's Nest (1975)   \n",
       "2                  One Flew Over the Cuckoo's Nest (1975)   \n",
       "3                  One Flew Over the Cuckoo's Nest (1975)   \n",
       "4                  One Flew Over the Cuckoo's Nest (1975)   \n",
       "...                                                   ...   \n",
       "836473                           One Little Indian (1973)   \n",
       "836474                              Slaughterhouse (1987)   \n",
       "836475             Promise, The (Versprechen, Das) (1994)   \n",
       "836476        Five Wives, Three Secretaries and Me (1998)   \n",
       "836477  Identification of a Woman (Identificazione di ...   \n",
       "\n",
       "                       genre  \n",
       "0                      Drama  \n",
       "1                      Drama  \n",
       "2                      Drama  \n",
       "3                      Drama  \n",
       "4                      Drama  \n",
       "...                      ...  \n",
       "836473  Comedy|Drama|Western  \n",
       "836474                Horror  \n",
       "836475               Romance  \n",
       "836476           Documentary  \n",
       "836477                 Drama  \n",
       "\n",
       "[836478 rows x 5 columns]"
      ]
     },
     "execution_count": 9,
     "metadata": {},
     "output_type": "execute_result"
    }
   ],
   "source": [
    "merged_df = pd.merge(ratings, movies, on='movie_id')\n",
    "merged_df"
   ]
  },
  {
   "cell_type": "code",
   "execution_count": 10,
   "id": "5fd6ce19",
   "metadata": {},
   "outputs": [
    {
     "data": {
      "text/html": [
       "<div>\n",
       "<style scoped>\n",
       "    .dataframe tbody tr th:only-of-type {\n",
       "        vertical-align: middle;\n",
       "    }\n",
       "\n",
       "    .dataframe tbody tr th {\n",
       "        vertical-align: top;\n",
       "    }\n",
       "\n",
       "    .dataframe thead th {\n",
       "        text-align: right;\n",
       "    }\n",
       "</style>\n",
       "<table border=\"1\" class=\"dataframe\">\n",
       "  <thead>\n",
       "    <tr style=\"text-align: right;\">\n",
       "      <th></th>\n",
       "      <th>user_id</th>\n",
       "      <th>title</th>\n",
       "      <th>counts</th>\n",
       "    </tr>\n",
       "  </thead>\n",
       "  <tbody>\n",
       "    <tr>\n",
       "      <th>0</th>\n",
       "      <td>1</td>\n",
       "      <td>One Flew Over the Cuckoo's Nest (1975)</td>\n",
       "      <td>5</td>\n",
       "    </tr>\n",
       "    <tr>\n",
       "      <th>1</th>\n",
       "      <td>2</td>\n",
       "      <td>One Flew Over the Cuckoo's Nest (1975)</td>\n",
       "      <td>5</td>\n",
       "    </tr>\n",
       "    <tr>\n",
       "      <th>2</th>\n",
       "      <td>12</td>\n",
       "      <td>One Flew Over the Cuckoo's Nest (1975)</td>\n",
       "      <td>4</td>\n",
       "    </tr>\n",
       "    <tr>\n",
       "      <th>3</th>\n",
       "      <td>15</td>\n",
       "      <td>One Flew Over the Cuckoo's Nest (1975)</td>\n",
       "      <td>4</td>\n",
       "    </tr>\n",
       "    <tr>\n",
       "      <th>4</th>\n",
       "      <td>17</td>\n",
       "      <td>One Flew Over the Cuckoo's Nest (1975)</td>\n",
       "      <td>5</td>\n",
       "    </tr>\n",
       "    <tr>\n",
       "      <th>...</th>\n",
       "      <td>...</td>\n",
       "      <td>...</td>\n",
       "      <td>...</td>\n",
       "    </tr>\n",
       "    <tr>\n",
       "      <th>836473</th>\n",
       "      <td>5851</td>\n",
       "      <td>One Little Indian (1973)</td>\n",
       "      <td>5</td>\n",
       "    </tr>\n",
       "    <tr>\n",
       "      <th>836474</th>\n",
       "      <td>5854</td>\n",
       "      <td>Slaughterhouse (1987)</td>\n",
       "      <td>4</td>\n",
       "    </tr>\n",
       "    <tr>\n",
       "      <th>836475</th>\n",
       "      <td>5854</td>\n",
       "      <td>Promise, The (Versprechen, Das) (1994)</td>\n",
       "      <td>3</td>\n",
       "    </tr>\n",
       "    <tr>\n",
       "      <th>836476</th>\n",
       "      <td>5938</td>\n",
       "      <td>Five Wives, Three Secretaries and Me (1998)</td>\n",
       "      <td>4</td>\n",
       "    </tr>\n",
       "    <tr>\n",
       "      <th>836477</th>\n",
       "      <td>5948</td>\n",
       "      <td>Identification of a Woman (Identificazione di ...</td>\n",
       "      <td>5</td>\n",
       "    </tr>\n",
       "  </tbody>\n",
       "</table>\n",
       "<p>836478 rows × 3 columns</p>\n",
       "</div>"
      ],
      "text/plain": [
       "        user_id                                              title  counts\n",
       "0             1             One Flew Over the Cuckoo's Nest (1975)       5\n",
       "1             2             One Flew Over the Cuckoo's Nest (1975)       5\n",
       "2            12             One Flew Over the Cuckoo's Nest (1975)       4\n",
       "3            15             One Flew Over the Cuckoo's Nest (1975)       4\n",
       "4            17             One Flew Over the Cuckoo's Nest (1975)       5\n",
       "...         ...                                                ...     ...\n",
       "836473     5851                           One Little Indian (1973)       5\n",
       "836474     5854                              Slaughterhouse (1987)       4\n",
       "836475     5854             Promise, The (Versprechen, Das) (1994)       3\n",
       "836476     5938        Five Wives, Three Secretaries and Me (1998)       4\n",
       "836477     5948  Identification of a Woman (Identificazione di ...       5\n",
       "\n",
       "[836478 rows x 3 columns]"
      ]
     },
     "execution_count": 10,
     "metadata": {},
     "output_type": "execute_result"
    }
   ],
   "source": [
    "# 사용하는 컬럼만 남겨줍니다.\n",
    "using_cols = ['user_id', 'title', 'counts']\n",
    "merged_df = merged_df[using_cols]\n",
    "merged_df"
   ]
  },
  {
   "cell_type": "code",
   "execution_count": 11,
   "id": "cb3f615c",
   "metadata": {},
   "outputs": [
    {
     "name": "stderr",
     "output_type": "stream",
     "text": [
      "/opt/conda/lib/python3.9/site-packages/pandas/core/frame.py:5039: SettingWithCopyWarning: \n",
      "A value is trying to be set on a copy of a slice from a DataFrame\n",
      "\n",
      "See the caveats in the documentation: https://pandas.pydata.org/pandas-docs/stable/user_guide/indexing.html#returning-a-view-versus-a-copy\n",
      "  return super().rename(\n"
     ]
    }
   ],
   "source": [
    "# title 컬럼의 이름을 movie로 바꿉니다.\n",
    "merged_df.rename(columns={'title':'movie'}, inplace=True)"
   ]
  },
  {
   "cell_type": "code",
   "execution_count": 12,
   "id": "6ca42530",
   "metadata": {},
   "outputs": [
    {
     "data": {
      "text/plain": [
       "6039"
      ]
     },
     "execution_count": 12,
     "metadata": {},
     "output_type": "execute_result"
    }
   ],
   "source": [
    "# 유저 수\n",
    "merged_df['user_id'].nunique()"
   ]
  },
  {
   "cell_type": "code",
   "execution_count": 13,
   "id": "8a925ff6",
   "metadata": {},
   "outputs": [
    {
     "data": {
      "text/plain": [
       "3628"
      ]
     },
     "execution_count": 13,
     "metadata": {},
     "output_type": "execute_result"
    }
   ],
   "source": [
    "# 영화 수\n",
    "merged_df['movie'].nunique()"
   ]
  },
  {
   "cell_type": "code",
   "execution_count": 14,
   "id": "d0e38325",
   "metadata": {},
   "outputs": [
    {
     "data": {
      "text/plain": [
       "movie\n",
       "American Beauty (1999)                                   3211\n",
       "Star Wars: Episode IV - A New Hope (1977)                2910\n",
       "Star Wars: Episode V - The Empire Strikes Back (1980)    2885\n",
       "Star Wars: Episode VI - Return of the Jedi (1983)        2716\n",
       "Saving Private Ryan (1998)                               2561\n",
       "Terminator 2: Judgment Day (1991)                        2509\n",
       "Silence of the Lambs, The (1991)                         2498\n",
       "Raiders of the Lost Ark (1981)                           2473\n",
       "Back to the Future (1985)                                2460\n",
       "Matrix, The (1999)                                       2434\n",
       "Jurassic Park (1993)                                     2413\n",
       "Sixth Sense, The (1999)                                  2385\n",
       "Fargo (1996)                                             2371\n",
       "Braveheart (1995)                                        2314\n",
       "Men in Black (1997)                                      2297\n",
       "Schindler's List (1993)                                  2257\n",
       "Princess Bride, The (1987)                               2252\n",
       "Shakespeare in Love (1998)                               2213\n",
       "L.A. Confidential (1997)                                 2210\n",
       "Shawshank Redemption, The (1994)                         2194\n",
       "Godfather, The (1972)                                    2167\n",
       "Groundhog Day (1993)                                     2121\n",
       "E.T. the Extra-Terrestrial (1982)                        2102\n",
       "Being John Malkovich (1999)                              2066\n",
       "Ghostbusters (1984)                                      2051\n",
       "Pulp Fiction (1994)                                      2030\n",
       "Forrest Gump (1994)                                      2022\n",
       "Terminator, The (1984)                                   2019\n",
       "Toy Story (1995)                                         2000\n",
       "Fugitive, The (1993)                                     1941\n",
       "Name: user_id, dtype: int64"
      ]
     },
     "execution_count": 14,
     "metadata": {},
     "output_type": "execute_result"
    }
   ],
   "source": [
    "# 인기 많은 영화\n",
    "movie_count = merged_df.groupby('movie')['user_id'].count()\n",
    "movie_count.sort_values(ascending=False).head(30)"
   ]
  },
  {
   "cell_type": "code",
   "execution_count": 15,
   "id": "6aafcdc0",
   "metadata": {},
   "outputs": [
    {
     "data": {
      "text/plain": [
       "count    6039.000000\n",
       "mean      138.512668\n",
       "std       156.241599\n",
       "min         1.000000\n",
       "25%        38.000000\n",
       "50%        81.000000\n",
       "75%       177.000000\n",
       "max      1968.000000\n",
       "Name: movie, dtype: float64"
      ]
     },
     "execution_count": 15,
     "metadata": {},
     "output_type": "execute_result"
    }
   ],
   "source": [
    "# 유저별 몇 개의 영화를 봤는지에 대한 통계\n",
    "user_count = merged_df.groupby('user_id')['movie'].count()\n",
    "user_count.describe()"
   ]
  },
  {
   "cell_type": "markdown",
   "id": "4028cccc",
   "metadata": {},
   "source": [
    "## 3) 내가 선호하는 영화를 5가지 골라서 ratings에 추가해 줍시다."
   ]
  },
  {
   "cell_type": "code",
   "execution_count": 16,
   "id": "dcc11399",
   "metadata": {},
   "outputs": [
    {
     "data": {
      "text/plain": [
       "6040"
      ]
     },
     "execution_count": 16,
     "metadata": {},
     "output_type": "execute_result"
    }
   ],
   "source": [
    "merged_df['user_id'].max()"
   ]
  },
  {
   "cell_type": "code",
   "execution_count": 17,
   "id": "84b7b304",
   "metadata": {},
   "outputs": [
    {
     "data": {
      "text/plain": [
       "False"
      ]
     },
     "execution_count": 17,
     "metadata": {},
     "output_type": "execute_result"
    }
   ],
   "source": [
    "merged_df.isin({'user_id': [6210]})['user_id'].any()"
   ]
  },
  {
   "cell_type": "code",
   "execution_count": 18,
   "id": "acc76648",
   "metadata": {},
   "outputs": [
    {
     "data": {
      "text/html": [
       "<div>\n",
       "<style scoped>\n",
       "    .dataframe tbody tr th:only-of-type {\n",
       "        vertical-align: middle;\n",
       "    }\n",
       "\n",
       "    .dataframe tbody tr th {\n",
       "        vertical-align: top;\n",
       "    }\n",
       "\n",
       "    .dataframe thead th {\n",
       "        text-align: right;\n",
       "    }\n",
       "</style>\n",
       "<table border=\"1\" class=\"dataframe\">\n",
       "  <thead>\n",
       "    <tr style=\"text-align: right;\">\n",
       "      <th></th>\n",
       "      <th>user_id</th>\n",
       "      <th>movie</th>\n",
       "      <th>counts</th>\n",
       "    </tr>\n",
       "  </thead>\n",
       "  <tbody>\n",
       "    <tr>\n",
       "      <th>0</th>\n",
       "      <td>1</td>\n",
       "      <td>One Flew Over the Cuckoo's Nest (1975)</td>\n",
       "      <td>5</td>\n",
       "    </tr>\n",
       "    <tr>\n",
       "      <th>1</th>\n",
       "      <td>2</td>\n",
       "      <td>One Flew Over the Cuckoo's Nest (1975)</td>\n",
       "      <td>5</td>\n",
       "    </tr>\n",
       "    <tr>\n",
       "      <th>2</th>\n",
       "      <td>12</td>\n",
       "      <td>One Flew Over the Cuckoo's Nest (1975)</td>\n",
       "      <td>4</td>\n",
       "    </tr>\n",
       "    <tr>\n",
       "      <th>3</th>\n",
       "      <td>15</td>\n",
       "      <td>One Flew Over the Cuckoo's Nest (1975)</td>\n",
       "      <td>4</td>\n",
       "    </tr>\n",
       "    <tr>\n",
       "      <th>4</th>\n",
       "      <td>17</td>\n",
       "      <td>One Flew Over the Cuckoo's Nest (1975)</td>\n",
       "      <td>5</td>\n",
       "    </tr>\n",
       "    <tr>\n",
       "      <th>...</th>\n",
       "      <td>...</td>\n",
       "      <td>...</td>\n",
       "      <td>...</td>\n",
       "    </tr>\n",
       "    <tr>\n",
       "      <th>836473</th>\n",
       "      <td>5851</td>\n",
       "      <td>One Little Indian (1973)</td>\n",
       "      <td>5</td>\n",
       "    </tr>\n",
       "    <tr>\n",
       "      <th>836474</th>\n",
       "      <td>5854</td>\n",
       "      <td>Slaughterhouse (1987)</td>\n",
       "      <td>4</td>\n",
       "    </tr>\n",
       "    <tr>\n",
       "      <th>836475</th>\n",
       "      <td>5854</td>\n",
       "      <td>Promise, The (Versprechen, Das) (1994)</td>\n",
       "      <td>3</td>\n",
       "    </tr>\n",
       "    <tr>\n",
       "      <th>836476</th>\n",
       "      <td>5938</td>\n",
       "      <td>Five Wives, Three Secretaries and Me (1998)</td>\n",
       "      <td>4</td>\n",
       "    </tr>\n",
       "    <tr>\n",
       "      <th>836477</th>\n",
       "      <td>5948</td>\n",
       "      <td>Identification of a Woman (Identificazione di ...</td>\n",
       "      <td>5</td>\n",
       "    </tr>\n",
       "  </tbody>\n",
       "</table>\n",
       "<p>836478 rows × 3 columns</p>\n",
       "</div>"
      ],
      "text/plain": [
       "        user_id                                              movie  counts\n",
       "0             1             One Flew Over the Cuckoo's Nest (1975)       5\n",
       "1             2             One Flew Over the Cuckoo's Nest (1975)       5\n",
       "2            12             One Flew Over the Cuckoo's Nest (1975)       4\n",
       "3            15             One Flew Over the Cuckoo's Nest (1975)       4\n",
       "4            17             One Flew Over the Cuckoo's Nest (1975)       5\n",
       "...         ...                                                ...     ...\n",
       "836473     5851                           One Little Indian (1973)       5\n",
       "836474     5854                              Slaughterhouse (1987)       4\n",
       "836475     5854             Promise, The (Versprechen, Das) (1994)       3\n",
       "836476     5938        Five Wives, Three Secretaries and Me (1998)       4\n",
       "836477     5948  Identification of a Woman (Identificazione di ...       5\n",
       "\n",
       "[836478 rows x 3 columns]"
      ]
     },
     "execution_count": 18,
     "metadata": {},
     "output_type": "execute_result"
    }
   ],
   "source": [
    "merged_df"
   ]
  },
  {
   "cell_type": "code",
   "execution_count": 19,
   "id": "d405d65f",
   "metadata": {},
   "outputs": [
    {
     "data": {
      "text/html": [
       "<div>\n",
       "<style scoped>\n",
       "    .dataframe tbody tr th:only-of-type {\n",
       "        vertical-align: middle;\n",
       "    }\n",
       "\n",
       "    .dataframe tbody tr th {\n",
       "        vertical-align: top;\n",
       "    }\n",
       "\n",
       "    .dataframe thead th {\n",
       "        text-align: right;\n",
       "    }\n",
       "</style>\n",
       "<table border=\"1\" class=\"dataframe\">\n",
       "  <thead>\n",
       "    <tr style=\"text-align: right;\">\n",
       "      <th></th>\n",
       "      <th>user_id</th>\n",
       "      <th>movie</th>\n",
       "      <th>counts</th>\n",
       "    </tr>\n",
       "  </thead>\n",
       "  <tbody>\n",
       "    <tr>\n",
       "      <th>0</th>\n",
       "      <td>6210</td>\n",
       "      <td>Shawshank Redemption, The (1994)</td>\n",
       "      <td>5</td>\n",
       "    </tr>\n",
       "    <tr>\n",
       "      <th>1</th>\n",
       "      <td>6210</td>\n",
       "      <td>Saving Private Ryan (1998)</td>\n",
       "      <td>5</td>\n",
       "    </tr>\n",
       "    <tr>\n",
       "      <th>2</th>\n",
       "      <td>6210</td>\n",
       "      <td>Schindler's List (1993)</td>\n",
       "      <td>5</td>\n",
       "    </tr>\n",
       "    <tr>\n",
       "      <th>3</th>\n",
       "      <td>6210</td>\n",
       "      <td>Psycho (1960)</td>\n",
       "      <td>5</td>\n",
       "    </tr>\n",
       "    <tr>\n",
       "      <th>4</th>\n",
       "      <td>6210</td>\n",
       "      <td>Scarlet Letter, The (1995)</td>\n",
       "      <td>5</td>\n",
       "    </tr>\n",
       "  </tbody>\n",
       "</table>\n",
       "</div>"
      ],
      "text/plain": [
       "   user_id                             movie  counts\n",
       "0     6210  Shawshank Redemption, The (1994)       5\n",
       "1     6210        Saving Private Ryan (1998)       5\n",
       "2     6210           Schindler's List (1993)       5\n",
       "3     6210                     Psycho (1960)       5\n",
       "4     6210        Scarlet Letter, The (1995)       5"
      ]
     },
     "execution_count": 19,
     "metadata": {},
     "output_type": "execute_result"
    }
   ],
   "source": [
    "# 목록에 있는 좋아하는 영화\n",
    "my_favorite = ['Shawshank Redemption, The (1994)' , 'Saving Private Ryan (1998)' ,\n",
    "               \"Schindler's List (1993)\" ,'Psycho (1960)' ,'Scarlet Letter, The (1995)']\n",
    "\n",
    "my_playlist = pd.DataFrame({'user_id': [6210]*5, 'movie': my_favorite, 'counts': [5]*5})\n",
    "\n",
    "if not ratings.isin({'user_id': [6210] })['user_id'].any():  # user_id에 'zimin'이라는 데이터가 없다면\n",
    "    merged_df = pd.concat([merged_df, my_playlist])                            # 위에 임의로 만든 my_playlist 데이터를 추가해 줍니다. \n",
    "\n",
    "merged_df[merged_df['user_id']==6210]       # 잘 추가되었는지 확인해 봅시다."
   ]
  },
  {
   "cell_type": "code",
   "execution_count": 20,
   "id": "292ee07d",
   "metadata": {},
   "outputs": [
    {
     "data": {
      "text/html": [
       "<div>\n",
       "<style scoped>\n",
       "    .dataframe tbody tr th:only-of-type {\n",
       "        vertical-align: middle;\n",
       "    }\n",
       "\n",
       "    .dataframe tbody tr th {\n",
       "        vertical-align: top;\n",
       "    }\n",
       "\n",
       "    .dataframe thead th {\n",
       "        text-align: right;\n",
       "    }\n",
       "</style>\n",
       "<table border=\"1\" class=\"dataframe\">\n",
       "  <thead>\n",
       "    <tr style=\"text-align: right;\">\n",
       "      <th></th>\n",
       "      <th>user_id</th>\n",
       "      <th>movie</th>\n",
       "      <th>counts</th>\n",
       "    </tr>\n",
       "  </thead>\n",
       "  <tbody>\n",
       "    <tr>\n",
       "      <th>836477</th>\n",
       "      <td>5948</td>\n",
       "      <td>Identification of a Woman (Identificazione di ...</td>\n",
       "      <td>5</td>\n",
       "    </tr>\n",
       "    <tr>\n",
       "      <th>0</th>\n",
       "      <td>6210</td>\n",
       "      <td>Shawshank Redemption, The (1994)</td>\n",
       "      <td>5</td>\n",
       "    </tr>\n",
       "    <tr>\n",
       "      <th>1</th>\n",
       "      <td>6210</td>\n",
       "      <td>Saving Private Ryan (1998)</td>\n",
       "      <td>5</td>\n",
       "    </tr>\n",
       "    <tr>\n",
       "      <th>2</th>\n",
       "      <td>6210</td>\n",
       "      <td>Schindler's List (1993)</td>\n",
       "      <td>5</td>\n",
       "    </tr>\n",
       "    <tr>\n",
       "      <th>3</th>\n",
       "      <td>6210</td>\n",
       "      <td>Psycho (1960)</td>\n",
       "      <td>5</td>\n",
       "    </tr>\n",
       "    <tr>\n",
       "      <th>4</th>\n",
       "      <td>6210</td>\n",
       "      <td>Scarlet Letter, The (1995)</td>\n",
       "      <td>5</td>\n",
       "    </tr>\n",
       "  </tbody>\n",
       "</table>\n",
       "</div>"
      ],
      "text/plain": [
       "        user_id                                              movie  counts\n",
       "836477     5948  Identification of a Woman (Identificazione di ...       5\n",
       "0          6210                   Shawshank Redemption, The (1994)       5\n",
       "1          6210                         Saving Private Ryan (1998)       5\n",
       "2          6210                            Schindler's List (1993)       5\n",
       "3          6210                                      Psycho (1960)       5\n",
       "4          6210                         Scarlet Letter, The (1995)       5"
      ]
     },
     "execution_count": 20,
     "metadata": {},
     "output_type": "execute_result"
    }
   ],
   "source": [
    "merged_df.tail(6)"
   ]
  },
  {
   "cell_type": "code",
   "execution_count": 21,
   "id": "d244558d",
   "metadata": {},
   "outputs": [],
   "source": [
    "# 고유한 유저, 영화를 찾아내는 코드\n",
    "user_unique = merged_df['user_id'].unique()\n",
    "movie_unique = merged_df['movie'].unique()\n",
    "\n",
    "# 유저, 영화 indexing 하는 코드 idx는 index의 약자입니다.\n",
    "user_to_idx = {v:k for k,v in enumerate(user_unique)}\n",
    "movie_to_idx = {v:k for k,v in enumerate(movie_unique)}"
   ]
  },
  {
   "cell_type": "code",
   "execution_count": 22,
   "id": "2ab2b6bd",
   "metadata": {},
   "outputs": [
    {
     "name": "stdout",
     "output_type": "stream",
     "text": [
      "6039\n",
      "48\n"
     ]
    }
   ],
   "source": [
    "# 인덱싱이 잘 되었는지 확인해 봅니다. \n",
    "print(user_to_idx[6210])\n",
    "print(movie_to_idx['Saving Private Ryan (1998)'])"
   ]
  },
  {
   "cell_type": "code",
   "execution_count": 23,
   "id": "51e95df1",
   "metadata": {},
   "outputs": [
    {
     "name": "stdout",
     "output_type": "stream",
     "text": [
      "user_id column indexing OK!!\n",
      "movie column indexing OK!!\n"
     ]
    },
    {
     "data": {
      "text/html": [
       "<div>\n",
       "<style scoped>\n",
       "    .dataframe tbody tr th:only-of-type {\n",
       "        vertical-align: middle;\n",
       "    }\n",
       "\n",
       "    .dataframe tbody tr th {\n",
       "        vertical-align: top;\n",
       "    }\n",
       "\n",
       "    .dataframe thead th {\n",
       "        text-align: right;\n",
       "    }\n",
       "</style>\n",
       "<table border=\"1\" class=\"dataframe\">\n",
       "  <thead>\n",
       "    <tr style=\"text-align: right;\">\n",
       "      <th></th>\n",
       "      <th>user_id</th>\n",
       "      <th>movie</th>\n",
       "      <th>counts</th>\n",
       "    </tr>\n",
       "  </thead>\n",
       "  <tbody>\n",
       "    <tr>\n",
       "      <th>0</th>\n",
       "      <td>0</td>\n",
       "      <td>0</td>\n",
       "      <td>5</td>\n",
       "    </tr>\n",
       "    <tr>\n",
       "      <th>1</th>\n",
       "      <td>1</td>\n",
       "      <td>0</td>\n",
       "      <td>5</td>\n",
       "    </tr>\n",
       "    <tr>\n",
       "      <th>2</th>\n",
       "      <td>2</td>\n",
       "      <td>0</td>\n",
       "      <td>4</td>\n",
       "    </tr>\n",
       "    <tr>\n",
       "      <th>3</th>\n",
       "      <td>3</td>\n",
       "      <td>0</td>\n",
       "      <td>4</td>\n",
       "    </tr>\n",
       "    <tr>\n",
       "      <th>4</th>\n",
       "      <td>4</td>\n",
       "      <td>0</td>\n",
       "      <td>5</td>\n",
       "    </tr>\n",
       "    <tr>\n",
       "      <th>...</th>\n",
       "      <td>...</td>\n",
       "      <td>...</td>\n",
       "      <td>...</td>\n",
       "    </tr>\n",
       "    <tr>\n",
       "      <th>0</th>\n",
       "      <td>6039</td>\n",
       "      <td>157</td>\n",
       "      <td>5</td>\n",
       "    </tr>\n",
       "    <tr>\n",
       "      <th>1</th>\n",
       "      <td>6039</td>\n",
       "      <td>48</td>\n",
       "      <td>5</td>\n",
       "    </tr>\n",
       "    <tr>\n",
       "      <th>2</th>\n",
       "      <td>6039</td>\n",
       "      <td>23</td>\n",
       "      <td>5</td>\n",
       "    </tr>\n",
       "    <tr>\n",
       "      <th>3</th>\n",
       "      <td>6039</td>\n",
       "      <td>1028</td>\n",
       "      <td>5</td>\n",
       "    </tr>\n",
       "    <tr>\n",
       "      <th>4</th>\n",
       "      <td>6039</td>\n",
       "      <td>2908</td>\n",
       "      <td>5</td>\n",
       "    </tr>\n",
       "  </tbody>\n",
       "</table>\n",
       "<p>836483 rows × 3 columns</p>\n",
       "</div>"
      ],
      "text/plain": [
       "    user_id  movie  counts\n",
       "0         0      0       5\n",
       "1         1      0       5\n",
       "2         2      0       4\n",
       "3         3      0       4\n",
       "4         4      0       5\n",
       "..      ...    ...     ...\n",
       "0      6039    157       5\n",
       "1      6039     48       5\n",
       "2      6039     23       5\n",
       "3      6039   1028       5\n",
       "4      6039   2908       5\n",
       "\n",
       "[836483 rows x 3 columns]"
      ]
     },
     "execution_count": 23,
     "metadata": {},
     "output_type": "execute_result"
    }
   ],
   "source": [
    "# indexing을 통해 데이터 컬럼 내 값을 바꾸는 코드\n",
    "# dictionary 자료형의 get 함수는 https://wikidocs.net/16 을 참고하세요.\n",
    "\n",
    "# user_to_idx.get을 통해 user_id 컬럼의 모든 값을 인덱싱한 Series를 구해 봅시다. \n",
    "# 혹시 정상적으로 인덱싱되지 않은 row가 있다면 인덱스가 NaN이 될 테니 dropna()로 제거합니다. \n",
    "temp_user_data = merged_df['user_id'].map(user_to_idx.get).dropna()\n",
    "if len(temp_user_data) == len(merged_df):   # 모든 row가 정상적으로 인덱싱되었다면\n",
    "    print('user_id column indexing OK!!')\n",
    "    merged_df['user_id'] = temp_user_data   # data['user_id']을 인덱싱된 Series로 교체해 줍니다. \n",
    "else:\n",
    "    print('user_id column indexing Fail!!')\n",
    "\n",
    "# movie_to_idx을 통해 movie 컬럼도 동일한 방식으로 인덱싱해 줍니다. \n",
    "temp_movie_data = merged_df['movie'].map(movie_to_idx.get).dropna()\n",
    "if len(temp_movie_data) == len(merged_df):\n",
    "    print('movie column indexing OK!!')\n",
    "    merged_df['movie'] = temp_movie_data\n",
    "else:\n",
    "    print('movie column indexing Fail!!')\n",
    "\n",
    "merged_df"
   ]
  },
  {
   "cell_type": "markdown",
   "id": "544683db",
   "metadata": {},
   "source": [
    "## 4) CSR matrix를 직접 만들어 봅시다."
   ]
  },
  {
   "cell_type": "code",
   "execution_count": 24,
   "id": "13c8e6c7",
   "metadata": {},
   "outputs": [
    {
     "data": {
      "text/plain": [
       "<6040x3628 sparse matrix of type '<class 'numpy.int64'>'\n",
       "\twith 836483 stored elements in Compressed Sparse Row format>"
      ]
     },
     "execution_count": 24,
     "metadata": {},
     "output_type": "execute_result"
    }
   ],
   "source": [
    "from scipy.sparse import csr_matrix\n",
    "\n",
    "num_user = merged_df['user_id'].nunique()\n",
    "num_movie = merged_df['movie'].nunique()\n",
    "\n",
    "csr_data = csr_matrix((merged_df.counts, (merged_df.user_id, merged_df.movie)), shape= (num_user, num_movie))\n",
    "csr_data"
   ]
  },
  {
   "cell_type": "markdown",
   "id": "bd0fe5d6",
   "metadata": {},
   "source": [
    "#### ㄴ ( 유저 수 * 영화 수 ) 크기의 rating matrix 생성"
   ]
  },
  {
   "cell_type": "markdown",
   "id": "c685c00c",
   "metadata": {},
   "source": [
    "## 5) als_model = AlternatingLeastSquares 모델을 직접 구성하여 훈련시켜 봅시다."
   ]
  },
  {
   "cell_type": "code",
   "execution_count": 25,
   "id": "ba6eb4d7",
   "metadata": {},
   "outputs": [],
   "source": [
    "from implicit.als import AlternatingLeastSquares\n",
    "import os\n",
    "import numpy as np\n",
    "\n",
    "# implicit 라이브러리에서 권장하고 있는 부분입니다. 학습 내용과는 무관합니다.\n",
    "os.environ['OPENBLAS_NUM_THREADS']='1'\n",
    "os.environ['KMP_DUPLICATE_LIB_OK']='True'\n",
    "os.environ['MKL_NUM_THREADS']='1'"
   ]
  },
  {
   "cell_type": "code",
   "execution_count": 26,
   "id": "69d6db01",
   "metadata": {},
   "outputs": [],
   "source": [
    "# Implicit AlternatingLeastSquares 모델의 선언\n",
    "als_model = AlternatingLeastSquares(factors=100, regularization=0.01, use_gpu=False, iterations=100, dtype=np.float32)"
   ]
  },
  {
   "cell_type": "code",
   "execution_count": 27,
   "id": "3c6f3c4e",
   "metadata": {},
   "outputs": [
    {
     "data": {
      "text/plain": [
       "<3628x6040 sparse matrix of type '<class 'numpy.int64'>'\n",
       "\twith 836483 stored elements in Compressed Sparse Column format>"
      ]
     },
     "execution_count": 27,
     "metadata": {},
     "output_type": "execute_result"
    }
   ],
   "source": [
    "# als 모델은 input으로 (item X user 꼴의 matrix를 받기 때문에 Transpose해줍니다.)\n",
    "csr_data_transpose = csr_data.T\n",
    "csr_data_transpose"
   ]
  },
  {
   "cell_type": "code",
   "execution_count": 28,
   "id": "0a7230e0",
   "metadata": {},
   "outputs": [
    {
     "data": {
      "application/vnd.jupyter.widget-view+json": {
       "model_id": "fe08372864aa469993252c43909177ad",
       "version_major": 2,
       "version_minor": 0
      },
      "text/plain": [
       "  0%|          | 0/100 [00:00<?, ?it/s]"
      ]
     },
     "metadata": {},
     "output_type": "display_data"
    }
   ],
   "source": [
    "# 모델 훈련\n",
    "als_model.fit(csr_data_transpose)"
   ]
  },
  {
   "cell_type": "markdown",
   "id": "984615b5",
   "metadata": {},
   "source": [
    "## 6) 내가 선호하는 5가지 영화 중 하나와 그 외의 영화 하나를 골라 훈련된 모델이 예측한 나의 선호도를 파악해 보세요."
   ]
  },
  {
   "cell_type": "code",
   "execution_count": 29,
   "id": "fad4741d",
   "metadata": {},
   "outputs": [],
   "source": [
    "Me, Ryan = user_to_idx[6210], movie_to_idx['Saving Private Ryan (1998)']\n",
    "My_vector, Ryan_vector = als_model.user_factors[Me], als_model.item_factors[Ryan]"
   ]
  },
  {
   "cell_type": "code",
   "execution_count": 30,
   "id": "9515f6f2",
   "metadata": {},
   "outputs": [
    {
     "data": {
      "text/plain": [
       "array([-0.01736044, -0.02453215, -0.4377755 ,  0.1056853 ,  0.39120364,\n",
       "       -0.26352823, -0.15416017,  0.45508343, -0.2590379 , -0.6399636 ,\n",
       "        0.03669723, -0.05252836, -0.14825116, -0.18333948,  0.4754534 ,\n",
       "       -0.13354337,  0.06597464,  0.01697549, -0.57361007, -0.49338743,\n",
       "        0.4711071 ,  0.02536586,  0.23719501,  0.22791465,  0.18971004,\n",
       "       -0.51568776,  0.1410552 , -0.40574077,  0.10748325, -0.00640422,\n",
       "       -0.01266608,  0.21674286,  0.36524895, -0.04118828,  0.25299078,\n",
       "        0.26781446,  0.07933213,  0.5280063 , -0.20302917, -0.18545401,\n",
       "        0.11961699, -0.30504313,  0.09271952,  0.18687442,  0.13560866,\n",
       "        0.30227965, -0.34219098, -0.0585837 ,  0.21812128,  0.02471867,\n",
       "        0.06219133,  0.52243924, -0.00686734,  0.20043182,  0.3078249 ,\n",
       "        0.19163597, -0.09487867,  0.17058358,  0.25000393, -0.10970465,\n",
       "        0.08067943, -0.09088218, -0.48156616, -0.27723134, -0.25568154,\n",
       "        0.10586345,  0.15525238, -0.2450547 , -0.04386389, -0.01356087,\n",
       "        0.07678212, -0.13679792,  0.18082489,  0.13030705, -0.21683489,\n",
       "        0.31892458,  0.02669046, -0.40442237,  0.2959571 , -0.30504623,\n",
       "       -0.15209639, -0.20398451,  0.24636759,  0.00959533, -0.1589234 ,\n",
       "        0.06673025,  0.4935748 ,  0.52381337, -0.35637763, -0.09544298,\n",
       "        0.18919054, -0.01211704,  0.30341563, -0.5116767 , -0.3245796 ,\n",
       "        0.06135769,  0.08575621, -0.0335774 , -0.09722956,  0.26245496],\n",
       "      dtype=float32)"
      ]
     },
     "execution_count": 30,
     "metadata": {},
     "output_type": "execute_result"
    }
   ],
   "source": [
    "My_vector"
   ]
  },
  {
   "cell_type": "code",
   "execution_count": 31,
   "id": "cc27df81",
   "metadata": {},
   "outputs": [
    {
     "data": {
      "text/plain": [
       "array([-4.38524876e-04,  5.96098490e-02, -6.09527975e-02,  1.39876725e-02,\n",
       "        3.27461846e-02, -2.78714299e-02, -1.80334337e-02,  8.34664777e-02,\n",
       "       -2.31895056e-02, -8.42476338e-02,  7.86486343e-02, -1.78693179e-02,\n",
       "       -3.13214287e-02, -7.19648823e-02,  1.62764452e-02, -2.01775488e-02,\n",
       "        1.58806182e-02, -2.89711095e-02, -6.22656681e-02, -8.06460530e-02,\n",
       "        4.52693142e-02,  6.39439048e-03,  8.36121012e-03, -3.36358324e-02,\n",
       "        6.30651638e-02, -4.18374836e-02,  3.06452662e-02, -3.37465405e-02,\n",
       "       -1.97929144e-02, -2.14257911e-02, -2.15999391e-02, -1.05391315e-03,\n",
       "        4.37632017e-02,  6.02765642e-02,  3.72611061e-02,  3.50774378e-02,\n",
       "        3.51743365e-04,  7.46036321e-02, -2.09564511e-02, -1.42020751e-02,\n",
       "       -8.78029596e-03, -5.50339706e-02,  5.36483452e-02,  1.30857062e-03,\n",
       "        4.56103720e-02, -4.16108267e-03, -3.98270600e-02, -6.24809563e-02,\n",
       "        1.10631054e-02,  1.07169664e-02,  5.07560112e-02,  2.90373527e-02,\n",
       "       -7.01180473e-03,  3.51980440e-02,  6.23119026e-02, -1.94807220e-02,\n",
       "       -2.69693527e-02,  9.28162411e-03,  6.70645013e-02,  3.14703770e-02,\n",
       "        4.80789766e-02,  2.07311381e-02, -3.51848714e-02, -3.12133282e-02,\n",
       "       -7.66601739e-03,  6.09575287e-02,  2.60735415e-02, -4.20723483e-02,\n",
       "       -9.18693934e-03, -6.64682640e-03,  4.75101359e-02, -5.61141223e-02,\n",
       "       -4.92972508e-03, -2.07714234e-02, -7.96491280e-04,  6.78655505e-02,\n",
       "       -7.30442302e-03, -2.23535672e-02,  1.07224053e-02, -4.27513123e-02,\n",
       "       -3.18759233e-02,  1.17212245e-02,  3.86569202e-02,  1.47773642e-02,\n",
       "       -3.53652351e-02,  2.30188780e-02,  2.17753742e-02,  7.72769600e-02,\n",
       "       -1.16270939e-02, -4.69093136e-02,  4.44691832e-05,  3.73526141e-02,\n",
       "        9.38463490e-03, -2.58956756e-02, -4.62587662e-02,  4.04621325e-02,\n",
       "       -2.78863939e-03,  2.72921436e-02,  2.46250685e-02,  1.81995481e-02],\n",
       "      dtype=float32)"
      ]
     },
     "execution_count": 31,
     "metadata": {},
     "output_type": "execute_result"
    }
   ],
   "source": [
    "Ryan_vector"
   ]
  },
  {
   "cell_type": "code",
   "execution_count": 32,
   "id": "b3e3bd84",
   "metadata": {},
   "outputs": [
    {
     "data": {
      "text/plain": [
       "0.7228996"
      ]
     },
     "execution_count": 32,
     "metadata": {},
     "output_type": "execute_result"
    }
   ],
   "source": [
    "# zimin과 black_eyed_peas를 내적하는 코드\n",
    "np.dot(My_vector, Ryan_vector)"
   ]
  },
  {
   "cell_type": "markdown",
   "id": "31759047",
   "metadata": {},
   "source": [
    "#### ㄴ 모델이 예측한 나의 '라이언 일병 구하기' 선호도\n",
    ": '라이언 일병 구하기'는 1에 가까운 유의미한 dot product 결과가 나왔다."
   ]
  },
  {
   "cell_type": "markdown",
   "id": "516876e6",
   "metadata": {},
   "source": [
    "## 7) 내가 좋아하는 영화와 비슷한 영화를 추천받아 봅시다.\n",
    "\n",
    "AlternatingLeastSquares 클래스에 구현되어 있는 similar_items 메서드를 통하여 비슷한 영화를 찾습니다."
   ]
  },
  {
   "cell_type": "code",
   "execution_count": 35,
   "id": "452dc163",
   "metadata": {},
   "outputs": [
    {
     "data": {
      "text/plain": [
       "[(23, 1.0),\n",
       " (157, 0.709825),\n",
       " (48, 0.63776946),\n",
       " (121, 0.54937226),\n",
       " (248, 0.4529315),\n",
       " (51, 0.39929307),\n",
       " (87, 0.39620173),\n",
       " (269, 0.36098868),\n",
       " (222, 0.35442835),\n",
       " (160, 0.35030138),\n",
       " (3517, 0.34223056),\n",
       " (323, 0.3354709),\n",
       " (450, 0.3108138),\n",
       " (3493, 0.30550745),\n",
       " (1370, 0.3041754)]"
      ]
     },
     "execution_count": 35,
     "metadata": {},
     "output_type": "execute_result"
    }
   ],
   "source": [
    "favorite_movie = \"Schindler's List (1993)\"\n",
    "movie_id = movie_to_idx[favorite_movie]\n",
    "similar_movie = als_model.similar_items(movie_id, N=15)\n",
    "similar_movie"
   ]
  },
  {
   "cell_type": "code",
   "execution_count": 36,
   "id": "54ff144e",
   "metadata": {},
   "outputs": [
    {
     "data": {
      "text/plain": [
       "[\"Schindler's List (1993)\",\n",
       " 'Shawshank Redemption, The (1994)',\n",
       " 'Saving Private Ryan (1998)',\n",
       " 'Silence of the Lambs, The (1991)',\n",
       " 'Good Will Hunting (1997)',\n",
       " 'Fargo (1996)',\n",
       " 'Braveheart (1995)',\n",
       " 'GoodFellas (1990)',\n",
       " 'Pulp Fiction (1994)',\n",
       " 'Forrest Gump (1994)',\n",
       " 'Paralyzing Fear: The Story of Polio in America, A (1998)',\n",
       " 'Dead Man Walking (1995)',\n",
       " 'Life Is Beautiful (La Vita è bella) (1997)',\n",
       " 'Held Up (2000)',\n",
       " 'Killing Fields, The (1984)']"
      ]
     },
     "execution_count": 36,
     "metadata": {},
     "output_type": "execute_result"
    }
   ],
   "source": [
    "#movie_to_idx 를 뒤집어, index로부터 movie 이름을 얻는 dict를 생성합니다. \n",
    "idx_to_movie = {v:k for k,v in movie_to_idx.items()}\n",
    "[idx_to_movie[i[0]] for i in similar_movie]"
   ]
  },
  {
   "cell_type": "markdown",
   "id": "3ba02772",
   "metadata": {},
   "source": [
    "몇 번 더 반복해서 확인하기 위해 위의 코드를 함수로 만들고 확인"
   ]
  },
  {
   "cell_type": "code",
   "execution_count": 56,
   "id": "8bc657be",
   "metadata": {},
   "outputs": [],
   "source": [
    "def get_similar_movie(movie_name: str):\n",
    "    movie_id = movie_to_idx[movie_name]\n",
    "    similar_movie_raw = als_model.similar_items(movie_id)\n",
    "    similar_movie = [[idx_to_movie[i[0]],i[1]] for i in similar_movie_raw]\n",
    "    return similar_movie"
   ]
  },
  {
   "cell_type": "code",
   "execution_count": 57,
   "id": "97a8b925",
   "metadata": {},
   "outputs": [
    {
     "data": {
      "text/plain": [
       "[['Shawshank Redemption, The (1994)', 0.99999994],\n",
       " ['Silence of the Lambs, The (1991)', 0.7736896],\n",
       " [\"Schindler's List (1993)\", 0.709825],\n",
       " ['Good Will Hunting (1997)', 0.6697185],\n",
       " ['Pulp Fiction (1994)', 0.6688082],\n",
       " ['Fargo (1996)', 0.6245397],\n",
       " ['GoodFellas (1990)', 0.5744428],\n",
       " ['Saving Private Ryan (1998)', 0.47370625],\n",
       " ['Dead Man Walking (1995)', 0.43419254],\n",
       " ['Usual Suspects, The (1995)', 0.40799075]]"
      ]
     },
     "execution_count": 57,
     "metadata": {},
     "output_type": "execute_result"
    }
   ],
   "source": [
    "get_similar_movie('Shawshank Redemption, The (1994)')"
   ]
  },
  {
   "cell_type": "code",
   "execution_count": 58,
   "id": "f6a58043",
   "metadata": {},
   "outputs": [
    {
     "data": {
      "text/plain": [
       "[['Psycho (1960)', 0.99999994],\n",
       " ['Rear Window (1954)', 0.5963216],\n",
       " ['Birds, The (1963)', 0.5493949],\n",
       " ['Shining, The (1980)', 0.54454446],\n",
       " ['Vertigo (1958)', 0.53614473],\n",
       " ['Exorcist, The (1973)', 0.4939159],\n",
       " [\"Rosemary's Baby (1968)\", 0.4909461],\n",
       " ['Poltergeist (1982)', 0.4751233],\n",
       " ['Omen, The (1976)', 0.4518824],\n",
       " ['Carrie (1976)', 0.43581325]]"
      ]
     },
     "execution_count": 58,
     "metadata": {},
     "output_type": "execute_result"
    }
   ],
   "source": [
    "get_similar_movie(\"Psycho (1960)\")"
   ]
  },
  {
   "cell_type": "markdown",
   "id": "6b76325e",
   "metadata": {},
   "source": [
    "## 8) 내가 가장 좋아할 만한 영화들을 추천받아 봅시다."
   ]
  },
  {
   "cell_type": "code",
   "execution_count": 41,
   "id": "f08f81a0",
   "metadata": {},
   "outputs": [
    {
     "data": {
      "text/plain": [
       "[(121, 0.5371063),\n",
       " (87, 0.4316099),\n",
       " (248, 0.345795),\n",
       " (0, 0.2968178),\n",
       " (51, 0.29553878),\n",
       " (99, 0.2941103),\n",
       " (222, 0.29110637),\n",
       " (269, 0.263489),\n",
       " (120, 0.2283895),\n",
       " (47, 0.22425127),\n",
       " (993, 0.20514062),\n",
       " (487, 0.20124502),\n",
       " (323, 0.18899128),\n",
       " (1194, 0.18671532),\n",
       " (569, 0.18579304),\n",
       " (197, 0.18277457),\n",
       " (472, 0.17369115),\n",
       " (450, 0.17272112),\n",
       " (22, 0.17190285),\n",
       " (432, 0.1697753)]"
      ]
     },
     "execution_count": 41,
     "metadata": {},
     "output_type": "execute_result"
    }
   ],
   "source": [
    "user = user_to_idx[6210]\n",
    "# recommend에서는 user*item CSR Matrix를 받습니다.\n",
    "movie_recommended = als_model.recommend(user, csr_data, N=20, filter_already_liked_items=True)\n",
    "movie_recommended"
   ]
  },
  {
   "cell_type": "code",
   "execution_count": 59,
   "id": "bf712f36",
   "metadata": {},
   "outputs": [
    {
     "data": {
      "text/plain": [
       "[['Silence of the Lambs, The (1991)', 0.5371063],\n",
       " ['Braveheart (1995)', 0.4316099],\n",
       " ['Good Will Hunting (1997)', 0.345795],\n",
       " [\"One Flew Over the Cuckoo's Nest (1975)\", 0.2968178],\n",
       " ['Fargo (1996)', 0.29553878],\n",
       " ['American Beauty (1999)', 0.2941103],\n",
       " ['Pulp Fiction (1994)', 0.29110637],\n",
       " ['GoodFellas (1990)', 0.263489],\n",
       " ['Raiders of the Lost Ark (1981)', 0.2283895],\n",
       " ['To Kill a Mockingbird (1962)', 0.22425127],\n",
       " ['Shining, The (1980)', 0.20514062],\n",
       " ['Boat, The (Das Boot) (1981)', 0.20124502],\n",
       " ['Dead Man Walking (1995)', 0.18899128],\n",
       " ['Fatal Attraction (1987)', 0.18671532],\n",
       " ['Rear Window (1954)', 0.18579304],\n",
       " ['Jaws (1975)', 0.18277457],\n",
       " ['Sling Blade (1996)', 0.17369115],\n",
       " ['Life Is Beautiful (La Vita è bella) (1997)', 0.17272112],\n",
       " ['Back to the Future (1985)', 0.17190285],\n",
       " ['Taxi Driver (1976)', 0.1697753]]"
      ]
     },
     "execution_count": 59,
     "metadata": {},
     "output_type": "execute_result"
    }
   ],
   "source": [
    "[[idx_to_movie[i[0]],i[1]] for i in movie_recommended]"
   ]
  },
  {
   "cell_type": "markdown",
   "id": "e0056950",
   "metadata": {},
   "source": [
    "제 1순위 추천 영화 : 'Silence of the Lambs, The (1991)'\n",
    "\n",
    "AlternatingLeastSquares 클래스에 구현된 explain 메서드를 사용하여 이 추천에 기여한 정도를 확인"
   ]
  },
  {
   "cell_type": "code",
   "execution_count": 60,
   "id": "f26787c4",
   "metadata": {},
   "outputs": [],
   "source": [
    "Lambs = movie_to_idx['Silence of the Lambs, The (1991)']\n",
    "explain = als_model.explain(user, csr_data, itemid=Lambs)"
   ]
  },
  {
   "cell_type": "code",
   "execution_count": 61,
   "id": "9823827f",
   "metadata": {},
   "outputs": [
    {
     "data": {
      "text/plain": [
       "(0.5343719711697028,\n",
       " [(157, 0.2847829554566777),\n",
       "  (23, 0.15410308450130758),\n",
       "  (1028, 0.07749186630170957),\n",
       "  (48, 0.014531075605823231),\n",
       "  (2908, 0.0034629893041847153)],\n",
       " (array([[ 0.99997503,  0.06497513,  0.08020814, ...,  0.10912434,\n",
       "           0.06937606,  0.01918197],\n",
       "         [ 0.0649735 ,  1.04748107,  0.01556786, ...,  0.02886214,\n",
       "           0.03183621,  0.02567027],\n",
       "         [ 0.08020613,  0.02151858,  1.03872904, ...,  0.07111416,\n",
       "           0.12133944,  0.01432407],\n",
       "         ...,\n",
       "         [ 0.10912161,  0.03732292,  0.08307033, ...,  0.96444247,\n",
       "           0.01012547, -0.00234113],\n",
       "         [ 0.06937433,  0.03785555,  0.13209895, ...,  0.06327574,\n",
       "           0.95286104,  0.01269385],\n",
       "         [ 0.01918149,  0.02813547,  0.01681701, ...,  0.0293388 ,\n",
       "           0.07330167,  0.94522823]]),\n",
       "  False))"
      ]
     },
     "execution_count": 61,
     "metadata": {},
     "output_type": "execute_result"
    }
   ],
   "source": [
    "explain"
   ]
  },
  {
   "cell_type": "code",
   "execution_count": 62,
   "id": "c5568c04",
   "metadata": {
    "scrolled": true
   },
   "outputs": [
    {
     "data": {
      "text/plain": [
       "[('Shawshank Redemption, The (1994)', 0.2847829554566777),\n",
       " (\"Schindler's List (1993)\", 0.15410308450130758),\n",
       " ('Psycho (1960)', 0.07749186630170957),\n",
       " ('Saving Private Ryan (1998)', 0.014531075605823231),\n",
       " ('Scarlet Letter, The (1995)', 0.0034629893041847153)]"
      ]
     },
     "execution_count": 62,
     "metadata": {},
     "output_type": "execute_result"
    }
   ],
   "source": [
    "[(idx_to_movie[i[0]], i[1]) for i in explain[1]]"
   ]
  },
  {
   "cell_type": "code",
   "execution_count": 63,
   "id": "b9eddced",
   "metadata": {},
   "outputs": [
    {
     "data": {
      "text/plain": [
       "[['Silence of the Lambs, The (1991)', 1.0000001],\n",
       " ['Shawshank Redemption, The (1994)', 0.7736896],\n",
       " ['Fargo (1996)', 0.75091213],\n",
       " ['Pulp Fiction (1994)', 0.66356075],\n",
       " [\"Schindler's List (1993)\", 0.54937226],\n",
       " ['GoodFellas (1990)', 0.5053628],\n",
       " ['Usual Suspects, The (1995)', 0.47057202],\n",
       " ['Sixth Sense, The (1999)', 0.46859443],\n",
       " ['Good Will Hunting (1997)', 0.44624415],\n",
       " ['Sling Blade (1996)', 0.41415766]]"
      ]
     },
     "execution_count": 63,
     "metadata": {},
     "output_type": "execute_result"
    }
   ],
   "source": [
    "get_similar_movie('Silence of the Lambs, The (1991)')"
   ]
  },
  {
   "cell_type": "markdown",
   "id": "6b974f1b",
   "metadata": {},
   "source": [
    "### MF모델이 예측한 1순위 추천 분석.\n",
    "1. 쇼생크 탈출, 주홍글씨는 소설을 영화화한 것이다. 1순위 추천 영화인 양들의 침묵 또한 소설을 바탕으로 만든 영화이다.\n",
    "2. 영들의 침묵에는 연쇄살인자를 추적하는 스릴러 영화이다. 영화 'Psycho' 또한 연쇄살인마가 나오는 공포 영화라는 점에서 유사성을 찾을 수 있다."
   ]
  },
  {
   "cell_type": "markdown",
   "id": "2c53bb3d",
   "metadata": {},
   "source": [
    "# 회고\n",
    "\n",
    "- 배운 점\n",
    "1. SVD의 원리와 기하학적 의미를 이해할 수 있었다. 고윳값 분해에서는 선형변환 후 크기와 상관없이 방향이 일정한 고유벡터와 그 고윳값을 통하여 행렬의 정보량을 나타내는 벡터를 찾았다. SVD에서는 선형변환 후 직교하는 특이벡터와 그 특이값을 통해 행렬의 정보량을 파악할 수 있었다. 이 때 직교하는 벡터를 찾은 이유는 Orthogonal Matrix의 성질을 활용할 수 있기 때문임을 이해할 수 있었다.\n",
    "2. Matrix Factorization은 데이터로 주어진 rating matrix에 근거하여 latent feature를 gradient decendant 방법에 따라 최적화하여, user matrix와 item matrix의 matrix multiplication을 통해 rating matrix에서 얻지 못한 element의 값을 추정할 수 있는 방법으로 이해하였다. 이번 노드를 공부하면서 이전에 학습하였던 LSA, LDA에 대한 원리 또한 이해하는데 도움이 되었다.\n",
    "\n",
    "- 문제해결을 시도한 점\n",
    "1. CSR matrix를 생성하는 과정에서 ValueError: row index exceeds matrix dimensions가 발생하였다. 원인이 제대로 이해가 되지 않았지만, rating matrix에 속한 user_id와 movie의 인덱스를 최신화하는 과정에서 오류가 발생하지 않게 되었다.\n",
    "\n",
    "- 추가적으로 시도할만 한 것들\n",
    "1. MF 방법은 주어진 데이터에 따라 feature를 얻어내는 self-supervised learning이라는 것을 알 수 있었다. 즉, 사용자의 행동 데이터에 의해 결정된 feature를 rating matrix에 존재하는 데이터와의 Error를 최소화하는 범위에서 최적화하는 것이다. 이로 인해 local minimun에 빠지는 문제가 발생할 수 있는데, '주홍글씨'의 선호도가 낮은 결과가 이에 해당하는 것으로 이해하였다. \n",
    "2. 이는 협업 필터링 방법에서 발생할 수 있는 문제로 확인하였고, 추후 item 정보를 바탕으로 유사도를 측정하는 homogeneous method을 통해 협업 필터링에서 발생하는 문제를 해결할 아이디어를 이해하고자 한다."
   ]
  }
 ],
 "metadata": {
  "kernelspec": {
   "display_name": "Python 3 (ipykernel)",
   "language": "python",
   "name": "python3"
  },
  "language_info": {
   "codemirror_mode": {
    "name": "ipython",
    "version": 3
   },
   "file_extension": ".py",
   "mimetype": "text/x-python",
   "name": "python",
   "nbconvert_exporter": "python",
   "pygments_lexer": "ipython3",
   "version": "3.9.7"
  }
 },
 "nbformat": 4,
 "nbformat_minor": 5
}
